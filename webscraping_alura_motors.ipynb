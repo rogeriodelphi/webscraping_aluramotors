{
  "nbformat": 4,
  "nbformat_minor": 0,
  "metadata": {
    "colab": {
      "name": "webscraping_alura_motors.ipynb",
      "provenance": [],
      "collapsed_sections": [],
      "authorship_tag": "ABX9TyPBMbZhwo5avYSA6vni0iD9",
      "include_colab_link": true
    },
    "kernelspec": {
      "name": "python3",
      "display_name": "Python 3"
    }
  },
  "cells": [
    {
      "cell_type": "markdown",
      "metadata": {
        "id": "view-in-github",
        "colab_type": "text"
      },
      "source": [
        "<a href=\"https://colab.research.google.com/github/rogeriodelphi/webscraping_aluramotors/blob/master/webscraping_alura_motors.ipynb\" target=\"_parent\"><img src=\"https://colab.research.google.com/assets/colab-badge.svg\" alt=\"Open In Colab\"/></a>"
      ]
    },
    {
      "cell_type": "markdown",
      "source": [
        " 1.3. Meu primeiro scraping\n"
      ],
      "metadata": {
        "id": "_9Uxr19-uNlU"
      }
    },
    {
      "cell_type": "code",
      "source": [
        "from urllib.request import urlopen\n",
        "from bs4 import BeautifulSoup\n",
        "\n",
        "url = 'https://alura-site-scraping.herokuapp.com/hello-world.php'\n",
        "\n",
        "response = urlopen(url)\n",
        "html = response.read()\n",
        "\n",
        "soup = BeautifulSoup(html, 'html.parser')\n",
        "print(soup.find('h1', id=\"hello-world\").get_text())\n",
        "print(soup.find('p').get_text())"
      ],
      "metadata": {
        "colab": {
          "base_uri": "https://localhost:8080/"
        },
        "id": "pIDePOmXt8Jt",
        "outputId": "3159a2b3-3352-4c72-9a01-f98261a7d460"
      },
      "execution_count": 2,
      "outputs": [
        {
          "output_type": "stream",
          "name": "stdout",
          "text": [
            "Hello World!!!\n",
            "Web Scraping é o termo utilizado para definir a prática de coletar automaticamente informações na Internet. Isto é feito, geralmente, por meio de programas que simulam a navegação humana na Web.\n"
          ]
        }
      ]
    },
    {
      "cell_type": "markdown",
      "source": [
        "2.2. Obtendo o conteúdo HTML de um site"
      ],
      "metadata": {
        "id": "NsiMQfD8xVrJ"
      }
    },
    {
      "cell_type": "code",
      "source": [
        "from urllib.request import urlopen\n",
        "url = \"https://alura-site-scraping.herokuapp.com/index.php\"\n",
        "response = urlopen(url)\n",
        "html = response.read()\n",
        "html"
      ],
      "metadata": {
        "colab": {
          "base_uri": "https://localhost:8080/"
        },
        "id": "By528Mt_yHUv",
        "outputId": "276618f9-d933-47fa-97e4-09c0e713a872"
      },
      "execution_count": 3,
      "outputs": [
        {
          "output_type": "execute_result",
          "data": {
            "text/plain": [
              "b'<!DOCTYPE html>\\r\\n<html lang=\"pt-br\">\\r\\n<head>\\r\\n    <meta charset=\"utf-8\">\\r\\n    <meta name=\"viewport\" content=\"width=device-width, initial-scale=1, shrink-to-fit=no\">\\r\\n\\r\\n    <title>Alura Motors</title>\\r\\n\\r\\n\\t<style>\\r\\n\\t\\t/*Regra para a animacao*/\\r\\n\\t\\t@keyframes spin {\\r\\n\\t\\t\\t0% { transform: rotate(0deg); }\\r\\n\\t\\t\\t100% { transform: rotate(360deg); }\\r\\n\\t\\t}\\r\\n\\t\\t/*Mudando o tamanho do icone de resposta*/\\r\\n\\t\\tdiv.glyphicon {\\r\\n\\t\\t\\tcolor:#6B8E23;\\r\\n\\t\\t\\tfont-size: 38px;\\r\\n\\t\\t}\\r\\n\\t\\t/*Classe que mostra a animacao \\'spin\\'*/\\r\\n\\t\\t.loader {\\r\\n\\t\\t\\tborder: 16px solid #f3f3f3;\\r\\n\\t\\t\\tborder-radius: 50%;\\r\\n\\t\\t\\tborder-top: 16px solid #3498db;\\r\\n\\t\\t\\twidth: 80px;\\r\\n\\t\\t\\theight: 80px;\\r\\n\\t\\t\\t-webkit-animation: spin 2s linear infinite;\\r\\n\\t\\t\\tanimation: spin 2s linear infinite;\\r\\n\\t\\t}\\r\\n\\t</style>\\r\\n\\t<link rel=\"stylesheet\" href=\"https://maxcdn.bootstrapcdn.com/bootstrap/3.3.7/css/bootstrap.min.css\" integrity=\"sha384-BVYiiSIFeK1dGmJRAkycuHAHRg32OmUcww7on3RYdg4Va+PmSTsz/K68vbdEjh4u\" crossorigin=\"anonymous\">\\r\\n\\t<link rel=\"stylesheet\" href=\"css/styles.css\" media=\"all\">\\r\\n\\r\\n\\t<script src=\"https://code.jquery.com/jquery-1.12.4.js\"></script>\\r\\n\\t<script src=\"https://maxcdn.bootstrapcdn.com/bootstrap/3.3.7/js/bootstrap.min.js\" integrity=\"sha384-Tc5IQib027qvyjSMfHjOMaLkfuWVxZxUPnCJA7l2mCWNIpG9mGCD8wGNIcPD7Txa\" crossorigin=\"anonymous\"></script>\\r\\n\\t<script type=\"text/javascript\" src=\"js/index.js\"></script>\\r\\n\\t<script>\\r\\n\\t\\trequisitar(\"https://alura-scraping.herokuapp.com/produtos?_page=\"+1+\"&_limit=10\")\\r\\n\\t</script>\\r\\n\\r\\n</head>\\r\\n<body cz-shortcut-listen=\"true\">\\r\\n    <noscript>You need to enable JavaScript to run this app.</noscript>\\r\\n\\r\\n\\t<div class=\"modal fade\" data-backdrop=\"static\" id=\"loadingModal\" tabindex=\"-1\" role=\"dialog\" aria-labelledby=\"loadingModal_label\">\\r\\n\\t\\t<div class=\"modal-dialog\" role=\"document\">\\r\\n\\t\\t\\t<div class=\"modal-content\">\\r\\n\\t\\t\\t\\t<div class=\"modal-header\">\\r\\n\\t\\t\\t\\t\\t<h5 class=\"modal-title\" id=\"loadingModal_label\">\\r\\n\\t\\t\\t\\t\\t\\t<span class=\"glyphicon glyphicon-refresh\"></span>Aguarde...\\r\\n\\t\\t\\t\\t\\t</h5>\\r\\n\\t\\t\\t\\t</div>\\r\\n\\t\\t\\t\\t<div class=\"modal-body\">\\r\\n\\t\\t\\t\\t\\t<div class=\\'alert\\' role=\\'alert\\'>\\r\\n\\t\\t\\t\\t\\t\\t<center>\\r\\n\\t\\t\\t\\t\\t\\t\\t<div class=\"loader\" id=\"loader\"></div><br>\\r\\n\\t\\t\\t\\t\\t\\t\\t<h4><b id=\"loadingModal_content\"></b></h4>\\r\\n\\t\\t\\t\\t\\t\\t</center>\\r\\n\\t\\t\\t\\t\\t</div>\\r\\n\\t\\t\\t\\t</div>\\r\\n\\t\\t\\t</div>\\r\\n\\t\\t</div>\\r\\n\\t</div>\\r\\n\\r\\n    <div id=\"root\">\\r\\n\\t\\t<header>\\r\\n\\t\\t\\t<nav class=\"navbar navbar-inverse\" style=\"margin-bottom: 0;\">\\r\\n\\t\\t\\t\\t<div class=\"container\" style=\"margin-bottom: -20px;\">\\r\\n\\t\\t\\t\\t\\t<div class=\"navbar\">\\r\\n\\t\\t\\t\\t\\t\\t<a href=\"./index.php\" class=\"navbar-brand\" title=\"Alura Motors\">\\r\\n\\t\\t\\t\\t\\t\\t\\t<img src=\"img/alura-logo.svg\" class=\"d-inline-block align-top\" alt=\"Alura\">Motors\\r\\n\\t\\t\\t\\t\\t\\t</a>\\r\\n\\t\\t\\t\\t\\t\\t<ul class=\"nav navbar-nav\" style=\"margin-top: 35px;\">\\r\\n\\t\\t\\t\\t\\t\\t\\t<li><a href=\"./hello-world.php\">Hello World</a></li>\\r\\n\\t\\t\\t\\t\\t\\t\\t<li><a href=\"./index.php\">An\\xc3\\xbancios</a></li>\\r\\n\\t\\t\\t\\t\\t\\t</ul>\\r\\n\\t\\t\\t\\t\\t</div>\\r\\n\\t\\t\\t\\t</div>\\r\\n\\t\\t\\t</nav>\\r\\n\\t\\t</header>\\r\\n\\r\\n\\t\\t<div class=\"container\">\\r\\n\\t\\t\\t<h1 class=\"sub-header\">Ve\\xc3\\xadculos de Luxo Novos e Usados - Todas as Marcas</h1>\\r\\n\\t\\t\\t<div class=\"row\">\\r\\n\\t\\t\\t\\t<div class=\"col-md-12\">\\r\\n\\t\\t\\t\\t\\t<div class=\"container\" style=\"width: 100%\">\\r\\n\\t\\t\\t\\t\\t\\t<div class=\"type-select\">246 ve\\xc3\\xadculos encontrados</div>\\r\\n\\t\\t\\t\\t\\t\\t\\t<div class=\"container-pagination\" style=\"float: right\">\\r\\n\\t\\t\\t\\t\\t\\t\\t\\t<span class=\"info-pages\">P\\xc3\\xa1gina 1 de 25</span>\\r\\n\\t\\t\\t\\t\\t\\t\\t</div>\\r\\n\\t\\t\\t\\t\\t\\t</div>\\r\\n\\t\\t\\t\\t\\t\\t<div id=\"container-cards\" style=\"height: 100%\">\\r\\n\\t\\t\\t\\t\\t\\t\\t\\r\\n                <div class=\"well card\">\\r\\n                    <div class=\"col-md-3 image-card\">\\r\\n                        <img width=\"220\" height=\"155\" alt=\"Foto\" src=\"https://caelum-online-public.s3.amazonaws.com/1381-scraping/01/img-cars/lamborghini-aventador/lamborghini-aventador-2932196__340.jpg\">\\r\\n                    </div>\\r\\n                    <div class=\"col-md-6 body-card\">\\r\\n                        <p class=\"txt-name inline\">LAMBORGHINI AVENTADOR</p>\\r\\n                            <p class=\"txt-category badge badge-secondary inline\">USADO</p>\\r\\n                            \\r\\n                        <p class=\"txt-motor\">Motor 1.8 16v</p>\\r\\n                        <p class=\"txt-description\">Ano 1993 - 55.286 km</p>\\r\\n                        <ul class=\"lst-items\">\\r\\n                            <li class=\"txt-items\">\\xe2\\x96\\xba 4 X 4</li>\\r\\n                            <li class=\"txt-items\">\\xe2\\x96\\xba C\\xc3\\xa2mera de estacionamento</li>\\r\\n                            <li class=\"txt-items\">\\xe2\\x96\\xba Controle de tra\\xc3\\xa7\\xc3\\xa3o</li>\\r\\n                            <li class=\"txt-items\">\\xe2\\x96\\xba Sensor de estacionamento</li>\\r\\n                            <li class=\"txt-items\">...</li>\\r\\n                        </ul>\\r\\n                        <p class=\"txt-location\">Belo Horizonte - MG</p>\\r\\n                    </div>\\r\\n                    <div class=\"col-md-3 value-card\">\\r\\n                        <div class=\"value\">\\r\\n                            <p class=\"txt-value\">R$ 338.000</p>\\r\\n                        </div>\\r\\n                    </div>\\r\\n                </div>\\r\\n                <div class=\"well card\">\\r\\n                    <div class=\"col-md-3 image-card\">\\r\\n                        <img width=\"220\" height=\"155\" alt=\"Foto\" src=\"https://caelum-online-public.s3.amazonaws.com/1381-scraping/01/img-cars/bmw-m2/bmw-m2-2970882__340.jpg\">\\r\\n                    </div>\\r\\n                    <div class=\"col-md-6 body-card\">\\r\\n                        <p class=\"txt-name inline\">BMW M2</p>\\r\\n                            <p class=\"txt-category badge badge-secondary inline\">USADO</p>\\r\\n                            \\r\\n                        <p class=\"txt-motor\">Motor 3.0 32v</p>\\r\\n                        <p class=\"txt-description\">Ano 2018 - 83.447 km</p>\\r\\n                        <ul class=\"lst-items\">\\r\\n                            <li class=\"txt-items\">\\xe2\\x96\\xba C\\xc3\\xa2mera de estacionamento</li>\\r\\n                            <li class=\"txt-items\">\\xe2\\x96\\xba Controle de estabilidade</li>\\r\\n                            <li class=\"txt-items\">\\xe2\\x96\\xba Travas el\\xc3\\xa9tricas</li>\\r\\n                            <li class=\"txt-items\">\\xe2\\x96\\xba Freios ABS</li>\\r\\n                            <li class=\"txt-items\">...</li>\\r\\n                        </ul>\\r\\n                        <p class=\"txt-location\">Belo Horizonte - MG</p>\\r\\n                    </div>\\r\\n                    <div class=\"col-md-3 value-card\">\\r\\n                        <div class=\"value\">\\r\\n                            <p class=\"txt-value\">R$ 346.000</p>\\r\\n                        </div>\\r\\n                    </div>\\r\\n                </div>\\r\\n                <div class=\"well card\">\\r\\n                    <div class=\"col-md-3 image-card\">\\r\\n                        <img width=\"220\" height=\"155\" alt=\"Foto\" src=\"https://caelum-online-public.s3.amazonaws.com/1381-scraping/01/img-cars/alfa/alfa-1823056__340.jpg\">\\r\\n                    </div>\\r\\n                    <div class=\"col-md-6 body-card\">\\r\\n                        <p class=\"txt-name inline\">ALFA</p>\\r\\n                            <p class=\"txt-category badge badge-secondary inline\">USADO</p>\\r\\n                            \\r\\n                        <p class=\"txt-motor\">Motor 1.8 16v</p>\\r\\n                        <p class=\"txt-description\">Ano 2004 - 19.722 km</p>\\r\\n                        <ul class=\"lst-items\">\\r\\n                            <li class=\"txt-items\">\\xe2\\x96\\xba Central multim\\xc3\\xaddia</li>\\r\\n                            <li class=\"txt-items\">\\xe2\\x96\\xba Bancos de couro</li>\\r\\n                            <li class=\"txt-items\">\\xe2\\x96\\xba Rodas de liga</li>\\r\\n                            <li class=\"txt-items\">\\xe2\\x96\\xba C\\xc3\\xa2mera de estacionamento</li>\\r\\n                            <li class=\"txt-items\">...</li>\\r\\n                        </ul>\\r\\n                        <p class=\"txt-location\">Rio de Janeiro - RJ</p>\\r\\n                    </div>\\r\\n                    <div class=\"col-md-3 value-card\">\\r\\n                        <div class=\"value\">\\r\\n                            <p class=\"txt-value\">R$ 480.000</p>\\r\\n                        </div>\\r\\n                    </div>\\r\\n                </div>\\r\\n                <div class=\"well card\">\\r\\n                    <div class=\"col-md-3 image-card\">\\r\\n                        <img width=\"220\" height=\"155\" alt=\"Foto\" src=\"https://caelum-online-public.s3.amazonaws.com/1381-scraping/01/img-cars/puech/puech-4055386__340.jpg\">\\r\\n                    </div>\\r\\n                    <div class=\"col-md-6 body-card\">\\r\\n                        <p class=\"txt-name inline\">PUECH</p>\\r\\n                            <p class=\"txt-category badge badge-secondary inline\">USADO</p>\\r\\n                            \\r\\n                        <p class=\"txt-motor\">Motor Diesel V8</p>\\r\\n                        <p class=\"txt-description\">Ano 1992 - 34.335 km</p>\\r\\n                        <ul class=\"lst-items\">\\r\\n                            <li class=\"txt-items\">\\xe2\\x96\\xba Bancos de couro</li>\\r\\n                            <li class=\"txt-items\">\\xe2\\x96\\xba Freios ABS</li>\\r\\n                            <li class=\"txt-items\">\\xe2\\x96\\xba Rodas de liga</li>\\r\\n                            <li class=\"txt-items\">\\xe2\\x96\\xba C\\xc3\\xa2mbio autom\\xc3\\xa1tico</li>\\r\\n                            <li class=\"txt-items\">...</li>\\r\\n                        </ul>\\r\\n                        <p class=\"txt-location\">S\\xc3\\xa3o Paulo - SP</p>\\r\\n                    </div>\\r\\n                    <div class=\"col-md-3 value-card\">\\r\\n                        <div class=\"value\">\\r\\n                            <p class=\"txt-value\">R$ 133.000</p>\\r\\n                        </div>\\r\\n                    </div>\\r\\n                </div>\\r\\n                <div class=\"well card\">\\r\\n                    <div class=\"col-md-3 image-card\">\\r\\n                        <img width=\"220\" height=\"155\" alt=\"Foto\" src=\"https://caelum-online-public.s3.amazonaws.com/1381-scraping/01/img-cars/lamborghini-murcielago/lamborghini-murcielago-2872974__340.jpg\">\\r\\n                    </div>\\r\\n                    <div class=\"col-md-6 body-card\">\\r\\n                        <p class=\"txt-name inline\">LAMBORGHINI MURCIELAGO</p>\\r\\n                            <p class=\"txt-category badge badge-secondary inline\">USADO</p>\\r\\n                            \\r\\n                        <p class=\"txt-motor\">Motor 1.0 8v</p>\\r\\n                        <p class=\"txt-description\">Ano 1991 - 464 km</p>\\r\\n                        <ul class=\"lst-items\">\\r\\n                            <li class=\"txt-items\">\\xe2\\x96\\xba Central multim\\xc3\\xaddia</li>\\r\\n                            <li class=\"txt-items\">\\xe2\\x96\\xba Teto panor\\xc3\\xa2mico</li>\\r\\n                            <li class=\"txt-items\">\\xe2\\x96\\xba Sensor crepuscular</li>\\r\\n                            <li class=\"txt-items\">\\xe2\\x96\\xba Piloto autom\\xc3\\xa1tico</li>\\r\\n                            <li class=\"txt-items\">...</li>\\r\\n                        </ul>\\r\\n                        <p class=\"txt-location\">Belo Horizonte - MG</p>\\r\\n                    </div>\\r\\n                    <div class=\"col-md-3 value-card\">\\r\\n                        <div class=\"value\">\\r\\n                            <p class=\"txt-value\">R$ 175.000</p>\\r\\n                        </div>\\r\\n                    </div>\\r\\n                </div>\\r\\n                <div class=\"well card\">\\r\\n                    <div class=\"col-md-3 image-card\">\\r\\n                        <img width=\"220\" height=\"155\" alt=\"Foto\" src=\"https://caelum-online-public.s3.amazonaws.com/1381-scraping/01/img-cars/aston-martin/aston-martin-2977916__340.jpg\">\\r\\n                    </div>\\r\\n                    <div class=\"col-md-6 body-card\">\\r\\n                        <p class=\"txt-name inline\">ASTON MARTIN</p>\\r\\n                            <p class=\"txt-category badge badge-secondary inline\">USADO</p>\\r\\n                            <p class=\"txt-opportunity badge badge-danger inline\">OPORTUNIDADE</p>\\r\\n                        <p class=\"txt-motor\">Motor Diesel V6</p>\\r\\n                        <p class=\"txt-description\">Ano 2004 - 50.189 km</p>\\r\\n                        <ul class=\"lst-items\">\\r\\n                            <li class=\"txt-items\">\\xe2\\x96\\xba Painel digital</li>\\r\\n                            <li class=\"txt-items\">\\xe2\\x96\\xba Controle de tra\\xc3\\xa7\\xc3\\xa3o</li>\\r\\n                            <li class=\"txt-items\">\\xe2\\x96\\xba Teto panor\\xc3\\xa2mico</li>\\r\\n                            <li class=\"txt-items\">\\xe2\\x96\\xba Central multim\\xc3\\xaddia</li>\\r\\n                            <li class=\"txt-items\">...</li>\\r\\n                        </ul>\\r\\n                        <p class=\"txt-location\">Belo Horizonte - MG</p>\\r\\n                    </div>\\r\\n                    <div class=\"col-md-3 value-card\">\\r\\n                        <div class=\"value\">\\r\\n                            <p class=\"txt-value\">R$ 239.000</p>\\r\\n                        </div>\\r\\n                    </div>\\r\\n                </div>\\r\\n                <div class=\"well card\">\\r\\n                    <div class=\"col-md-3 image-card\">\\r\\n                        <img width=\"220\" height=\"155\" alt=\"Foto\" src=\"https://caelum-online-public.s3.amazonaws.com/1381-scraping/01/img-cars/tvr/tvr-2943925__340.jpg\">\\r\\n                    </div>\\r\\n                    <div class=\"col-md-6 body-card\">\\r\\n                        <p class=\"txt-name inline\">TVR</p>\\r\\n                            <p class=\"txt-category badge badge-secondary inline\">USADO</p>\\r\\n                            \\r\\n                        <p class=\"txt-motor\">Motor 4.0 Turbo</p>\\r\\n                        <p class=\"txt-description\">Ano 2014 - 17.778 km</p>\\r\\n                        <ul class=\"lst-items\">\\r\\n                            <li class=\"txt-items\">\\xe2\\x96\\xba 4 X 4</li>\\r\\n                            <li class=\"txt-items\">\\xe2\\x96\\xba Teto panor\\xc3\\xa2mico</li>\\r\\n                            <li class=\"txt-items\">\\xe2\\x96\\xba Central multim\\xc3\\xaddia</li>\\r\\n                            <li class=\"txt-items\">\\xe2\\x96\\xba Controle de estabilidade</li>\\r\\n                            <li class=\"txt-items\">...</li>\\r\\n                        </ul>\\r\\n                        <p class=\"txt-location\">Belo Horizonte - MG</p>\\r\\n                    </div>\\r\\n                    <div class=\"col-md-3 value-card\">\\r\\n                        <div class=\"value\">\\r\\n                            <p class=\"txt-value\">R$ 115.000</p>\\r\\n                        </div>\\r\\n                    </div>\\r\\n                </div>\\r\\n                <div class=\"well card\">\\r\\n                    <div class=\"col-md-3 image-card\">\\r\\n                        <img width=\"220\" height=\"155\" alt=\"Foto\" src=\"https://caelum-online-public.s3.amazonaws.com/1381-scraping/01/img-cars/excalibur/excalibur-2916730__340.jpg\">\\r\\n                    </div>\\r\\n                    <div class=\"col-md-6 body-card\">\\r\\n                        <p class=\"txt-name inline\">EXCALIBUR</p>\\r\\n                            <p class=\"txt-category badge badge-secondary inline\">USADO</p>\\r\\n                            \\r\\n                        <p class=\"txt-motor\">Motor 3.0 32v</p>\\r\\n                        <p class=\"txt-description\">Ano 2009 - 81.251 km</p>\\r\\n                        <ul class=\"lst-items\">\\r\\n                            <li class=\"txt-items\">\\xe2\\x96\\xba Painel digital</li>\\r\\n                            <li class=\"txt-items\">\\xe2\\x96\\xba C\\xc3\\xa2mbio autom\\xc3\\xa1tico</li>\\r\\n                            <li class=\"txt-items\">\\xe2\\x96\\xba Sensor de chuva</li>\\r\\n                            <li class=\"txt-items\">\\xe2\\x96\\xba Travas el\\xc3\\xa9tricas</li>\\r\\n                            <li class=\"txt-items\">...</li>\\r\\n                        </ul>\\r\\n                        <p class=\"txt-location\">Rio de Janeiro - RJ</p>\\r\\n                    </div>\\r\\n                    <div class=\"col-md-3 value-card\">\\r\\n                        <div class=\"value\">\\r\\n                            <p class=\"txt-value\">R$ 114.000</p>\\r\\n                        </div>\\r\\n                    </div>\\r\\n                </div>\\r\\n                <div class=\"well card\">\\r\\n                    <div class=\"col-md-3 image-card\">\\r\\n                        <img width=\"220\" height=\"155\" alt=\"Foto\" src=\"https://caelum-online-public.s3.amazonaws.com/1381-scraping/01/img-cars/mclaren/mclaren-2855240__340.jpg\">\\r\\n                    </div>\\r\\n                    <div class=\"col-md-6 body-card\">\\r\\n                        <p class=\"txt-name inline\">MCLAREN</p>\\r\\n                            <p class=\"txt-category badge badge-secondary inline\">NOVO</p>\\r\\n                            \\r\\n                        <p class=\"txt-motor\">Motor Diesel</p>\\r\\n                        <p class=\"txt-description\">Ano 2019 - 0 km</p>\\r\\n                        <ul class=\"lst-items\">\\r\\n                            <li class=\"txt-items\">\\xe2\\x96\\xba Central multim\\xc3\\xaddia</li>\\r\\n                            <li class=\"txt-items\">\\xe2\\x96\\xba C\\xc3\\xa2mera de estacionamento</li>\\r\\n                            <li class=\"txt-items\">\\xe2\\x96\\xba C\\xc3\\xa2mbio autom\\xc3\\xa1tico</li>\\r\\n                            <li class=\"txt-items\">\\xe2\\x96\\xba Ar condicionado</li>\\r\\n                            <li class=\"txt-items\">...</li>\\r\\n                        </ul>\\r\\n                        <p class=\"txt-location\">S\\xc3\\xa3o Paulo - SP</p>\\r\\n                    </div>\\r\\n                    <div class=\"col-md-3 value-card\">\\r\\n                        <div class=\"value\">\\r\\n                            <p class=\"txt-value\">R$ 75.000</p>\\r\\n                        </div>\\r\\n                    </div>\\r\\n                </div>\\r\\n                <div class=\"well card\">\\r\\n                    <div class=\"col-md-3 image-card\">\\r\\n                        <img width=\"220\" height=\"155\" alt=\"Foto\" src=\"https://caelum-online-public.s3.amazonaws.com/1381-scraping/01/img-cars/toyota/toyota-3245397__340.jpg\">\\r\\n                    </div>\\r\\n                    <div class=\"col-md-6 body-card\">\\r\\n                        <p class=\"txt-name inline\">TOYOTA</p>\\r\\n                            <p class=\"txt-category badge badge-secondary inline\">USADO</p>\\r\\n                            <p class=\"txt-opportunity badge badge-danger inline\">OPORTUNIDADE</p>\\r\\n                        <p class=\"txt-motor\">Motor 4.0 Turbo</p>\\r\\n                        <p class=\"txt-description\">Ano 1999 - 12.536 km</p>\\r\\n                        <ul class=\"lst-items\">\\r\\n                            <li class=\"txt-items\">\\xe2\\x96\\xba Bancos de couro</li>\\r\\n                            <li class=\"txt-items\">\\xe2\\x96\\xba Freios ABS</li>\\r\\n                            <li class=\"txt-items\">\\xe2\\x96\\xba Piloto autom\\xc3\\xa1tico</li>\\r\\n                            <li class=\"txt-items\">\\xe2\\x96\\xba Controle de estabilidade</li>\\r\\n                            <li class=\"txt-items\">...</li>\\r\\n                        </ul>\\r\\n                        <p class=\"txt-location\">S\\xc3\\xa3o Paulo - SP</p>\\r\\n                    </div>\\r\\n                    <div class=\"col-md-3 value-card\">\\r\\n                        <div class=\"value\">\\r\\n                            <p class=\"txt-value\">R$ 117.000</p>\\r\\n                        </div>\\r\\n                    </div>\\r\\n                </div>\\t\\t\\t\\t\\t\\t</div>\\r\\n\\t\\t\\t\\t\\t\\t<div class=\"type-select\">246 ve\\xc3\\xadculos encontrados</div>\\r\\n\\t\\t\\t\\t\\t\\t\\t<div class=\"container-pagination\" style=\"float: right\">\\r\\n\\t\\t\\t\\t\\t\\t\\t\\t<span class=\"info-pages\">P\\xc3\\xa1gina 1 de 25</span>\\r\\n\\t\\t\\t\\t\\t\\t\\t</div>\\r\\n\\t\\t\\t\\t\\t\\t</div>\\r\\n\\t\\t\\t\\t\\t</div>\\r\\n\\t\\t\\t\\t</div>\\r\\n\\t\\t\\t</div>\\r\\n\\t\\t</div>\\r\\n\\r\\n\\t\\t<footer>\\r\\n\\t\\t\\t<nav class=\"navbar navbar-inverse\">\\r\\n\\t\\t\\t\\t<div class=\"container\" style=\"margin-bottom: 10px;\">\\r\\n\\t\\t\\t\\t\\t<div class=\"navbar\">\\r\\n\\t\\t\\t\\t\\t\\t<a href=\"./index.php\" class=\"navbar-brand\" title=\"Alura Motors\">\\r\\n\\t\\t\\t\\t\\t\\t\\t<img src=\"img/alura-logo.svg\" class=\"d-inline-block align-top\" alt=\"Alura\">Motors\\r\\n\\t\\t\\t\\t\\t\\t</a>\\r\\n\\t\\t\\t\\t\\t\\t<p style=\"color: #fff; text-align: center; margin-top: 40px;\">Aplica\\xc3\\xa7\\xc3\\xa3o para treinamento de web scraping</p>\\r\\n\\t\\t\\t\\t\\t</div>\\r\\n\\t\\t\\t\\t</div>\\r\\n\\t\\t\\t</nav>\\r\\n\\t\\t</footer>\\r\\n\\r\\n\\t</div>\\r\\n\\r\\n</body>\\r\\n</html>\\r\\n'"
            ]
          },
          "metadata": {},
          "execution_count": 3
        }
      ]
    },
    {
      "cell_type": "markdown",
      "source": [
        ""
      ],
      "metadata": {
        "id": "7uJPLyuVdxpr"
      }
    },
    {
      "cell_type": "code",
      "source": [
        "from urllib.request import Request, urlopen\n",
        "from urllib.error import URLError, HTTPError\n",
        "\n",
        "url = 'https://www.alura.com.br'\n",
        "\n",
        "headers = {'User-Agent': 'Mozilla/5.0 (Windows NT 10.0; Win64; x64) AppleWebKit/537.36 (KHTML, like Gecko) Chrome/96.0.4664.110 Safari/537.36'}\n",
        "\n",
        "try:\n",
        "  req = Request(url, headers = headers)\n",
        "  response = urlopen(req)\n",
        "  print(response.read())\n",
        "except HTTPError as e:\n",
        "  print(e.status, e.reason)\n",
        "\n",
        "except URLError as e:\n",
        "  print(e.reason)  \n",
        "\n"
      ],
      "metadata": {
        "colab": {
          "base_uri": "https://localhost:8080/"
        },
        "id": "iCgm_HU9dyX7",
        "outputId": "7ac02664-8555-4c20-c2d5-a07ad75c5140"
      },
      "execution_count": 90,
      "outputs": [
        {
          "output_type": "stream",
          "name": "stdout",
          "text": [
            "b'\\n\\n<!DOCTYPE html><html\\nlang=\"pt-BR\"><head><meta\\ncharset=\"UTF-8\"><meta\\nname=\"viewport\" content=\"width=device-width,initial-scale=1,minimum-scale=1.0\"><title>Alura | Cursos online de Tecnologia</title><meta\\nname=\"description\" content=\"Aprenda Programa\\xc3\\xa7\\xc3\\xa3o, Front-end, Data Science, UX, DevOps, Marketing, Inova\\xc3\\xa7\\xc3\\xa3o e Gest\\xc3\\xa3o na maior plataforma de tecnologia do Brasil\"><link\\nrel=\"canonical\" href=\"https://www.alura.com.br\"><link\\nrel=\"icon\" href=\"/assets/favicon.1636535197.ico\" /><link\\nhref=\"https://fonts.googleapis.com/css?display=swap&family=Inter:wght@400;700;900\" rel=\"stylesheet\" crossorigin><link\\nrel=\"preconnect\" href=\"https://fonts.gstatic.com/\" crossorigin><link\\nrel=\"stylesheet\" href=\"/bundle,base/_reset,base/base,base/buttons,base/colors,base/titulos.1636535197.css\"><link\\nrel=\"stylesheet\" href=\"/bundle,home/homeNova/career-colors,home/homeNova/careers,home/homeNova/companies,home/homeNova/features,home/homeNova/home,home/homeNova/mobile,home/homeNova/testimonies.1638452666.css\"><link\\nrel=\"stylesheet\" href=\"/assets/css/block/elasticMedia.1636535197.css\"><link\\nrel=\"stylesheet\" href=\"/assets/css/block/depoimentos-comunidade.1638241251.css\"><meta\\nproperty=\"og:locale\" content=\"pt_BR\"><meta\\nproperty=\"og:description\" content=\"Aprenda Programa\\xc3\\xa7\\xc3\\xa3o, Front-end, Data Science, UX, DevOps, Marketing, Inova\\xc3\\xa7\\xc3\\xa3o e Gest\\xc3\\xa3o na maior plataforma de tecnologia do Brasil\"><meta\\nproperty=\"og:title\" content=\"Alura | Cursos online de Tecnologia\"><meta\\nproperty=\"og:site_name\" content=\"Alura\"><meta\\nproperty=\"og:url\" content=\"https://www.alura.com.br/\"><meta\\nproperty=\"og:image\" content=\"https://www.alura.com.br/assets/img/alura-share.1636535197.png\"><meta\\nproperty=\"og:image:alt\" content=\"Alura logo\"><meta\\nproperty=\"fb:app_id\" content=\"140078819399376\"><meta\\nproperty=\"og:type\" content=\"website\"><meta\\nname=\"twitter:card\" content=\"summary_large_image\"><meta\\nname=\"theme-color\" content=\"#2A7AE4\"> <script>;(function(w,d,s,l,i){w[l]=w[l]||[];w[l].push({\\'gtm.start\\':\\n                    new Date().getTime(),event:\\'gtm.js\\'});var f=d.getElementsByTagName(s)[0],\\n                j=d.createElement(s),dl=l!=\\'dataLayer\\'?\\'&l=\\'+l:\\'\\';j.async=true;j.src=\\n                \\'https://www.googletagmanager.com/gtm.js?id=\\'+i+dl;f.parentNode.insertBefore(j,f);\\n            })(window,document,\\'script\\',\\'dataLayer\\',\\'GTM-TN542JN\\');</script> </head><body\\nclass=\"dia-do-programador\"> <script src=\"/assets/js/avatarOnError.1636535198.js\"></script> <noscript><iframe\\nsrc=\"https://www.googletagmanager.com/ns.html?id=GTM-TN542JN\" height=\"0\" width=\"0\" style=\"display:none;visibility:hidden\"></iframe></noscript> <script>!function(f,b,e,v,n,t,s) {if(f.fbq)return;n=f.fbq=function(){n.callMethod? n.callMethod.apply(n,arguments):n.queue.push(arguments)}; if(!f._fbq)f._fbq=n;n.push=n;n.loaded=!0;n.version=\\'2.0\\'; n.queue=[];t=b.createElement(e);t.async=!0; t.src=v;s=b.getElementsByTagName(e)[0]; s.parentNode.insertBefore(t,s)}(window, document,\\'script\\', \\'https://connect.facebook.net/en_US/fbevents.js\\'); fbq(\\'init\\', \\'1067810189950610\\'); fbq(\\'track\\', \\'PageView\\');</script> <script src=\"/assets/js/courseIconFallback.1636535198.js\"></script>  <script type=\"application/ld+json\">{\\n      \"@context\": \"http://schema.org\",\\n      \"@type\": \"BreadcrumbList\",\\n\\n      \"itemListElement\": [{\\n        \"@type\": \"ListItem\",\\n        \"position\": 1,\\n        \"item\": {\\n          \"@id\": \"https://www.alura.com.br\",\\n          \"name\": \"Alura\"\\n        }\\n      }   \\n            ]\\n    }</script>  <script type=\"application/ld+json\">{\\n    \"@context\": \"https://schema.org\",\\n    \"@type\": \"WebSite\",\\n    \"url\": \"https://www.alura.com.br\",\\n    \"potentialAction\": {\\n      \"@type\": \"SearchAction\",\\n      \"target\": \"http://www.alura.com.br/busca?query={query}\",\\n      \"query-input\": \"required name=query\"\\n    }\\n}</script> <script>window.dataLayer.push({\\n                event: \\'view_item_list\\',\\n                value: 3540.00,\\n                items: [{\"id\":\"formacao-arquiteto-php\",\"google_business_vertical\":\"education\"},{\"id\":\"formacao-arquitetura-design-projetos-java\",\"google_business_vertical\":\"education\"},{\"id\":\"formacao-dotnet\",\"google_business_vertical\":\"education\"},{\"id\":\"formacao-c-sharp-orientacao-objetos\",\"google_business_vertical\":\"education\"},{\"id\":\"formacao-certificacao-csharp\",\"google_business_vertical\":\"education\"},{\"id\":\"formacao-certificacao-java\",\"google_business_vertical\":\"education\"},{\"id\":\"formacao-clojure\",\"google_business_vertical\":\"education\"},{\"id\":\"formacao-django\",\"google_business_vertical\":\"education\"},{\"id\":\"formacao-django-rest\",\"google_business_vertical\":\"education\"},{\"id\":\"formacao-programacao\",\"google_business_vertical\":\"education\"},{\"id\":\"formacao-integracao-aplicacoes-java\",\"google_business_vertical\":\"education\"},{\"id\":\"formacao-internet-das-coisas-iot\",\"google_business_vertical\":\"education\"},{\"id\":\"formacao-java\",\"google_business_vertical\":\"education\"},{\"id\":\"formacao-js-backend\",\"google_business_vertical\":\"education\"},{\"id\":\"formacao-jogos-unity\",\"google_business_vertical\":\"education\"},{\"id\":\"formacao-kotlin\",\"google_business_vertical\":\"education\"},{\"id\":\"formacao-linguagem-c-plus-plus\",\"google_business_vertical\":\"education\"},{\"id\":\"formacao-microcontroladores-eletronica-aplicada\",\"google_business_vertical\":\"education\"},{\"id\":\"formacao-node-js-12\",\"google_business_vertical\":\"education\"},{\"id\":\"formacao-desenvolvedor-php\",\"google_business_vertical\":\"education\"},{\"id\":\"formacao-Python-linguagem\",\"google_business_vertical\":\"education\"},{\"id\":\"formacao-raspberry-pi\",\"google_business_vertical\":\"education\"},{\"id\":\"formacao-spring-framework\",\"google_business_vertical\":\"education\"},{\"id\":\"formacao-vb-net\",\"google_business_vertical\":\"education\"},{\"id\":\"formacao-windows-forms-csharp\",\"google_business_vertical\":\"education\"},{\"id\":\"formacao-wordpress\",\"google_business_vertical\":\"education\"},{\"id\":\"formacao-acessibilidade-web\",\"google_business_vertical\":\"education\"},{\"id\":\"formacao-angular\",\"google_business_vertical\":\"education\"},{\"id\":\"formacao-front-end\",\"google_business_vertical\":\"education\"},{\"id\":\"formacao-html-e-css\",\"google_business_vertical\":\"education\"},{\"id\":\"formacao-react-js\",\"google_business_vertical\":\"education\"},{\"id\":\"formacao-vuejs\",\"google_business_vertical\":\"education\"},{\"id\":\"formacao-business-intelligence-data-warehouse-pentaho\",\"google_business_vertical\":\"education\"},{\"id\":\"formacao-business-intelligence-data-warehouse\",\"google_business_vertical\":\"education\"},{\"id\":\"formacao-data-analysis-google-sheets\",\"google_business_vertical\":\"education\"},{\"id\":\"formacao-data-science\",\"google_business_vertical\":\"education\"},{\"id\":\"formacao-datomic\",\"google_business_vertical\":\"education\"},{\"id\":\"formacao-deep-learning-pytorch\",\"google_business_vertical\":\"education\"},{\"id\":\"formacao-estatistica-python\",\"google_business_vertical\":\"education\"},{\"id\":\"formacao-estatistica-r\",\"google_business_vertical\":\"education\"},{\"id\":\"formacao-excel-vba\",\"google_business_vertical\":\"education\"},{\"id\":\"formacao-google-bigquery-datastudio\",\"google_business_vertical\":\"education\"},{\"id\":\"formacao-iniciando-engenharia-dados\",\"google_business_vertical\":\"education\"},{\"id\":\"formacao-machine-learning\",\"google_business_vertical\":\"education\"},{\"id\":\"formacao-machine-learning-avancada\",\"google_business_vertical\":\"education\"},{\"id\":\"formacao-machine-learning-negocios-digitais\",\"google_business_vertical\":\"education\"},{\"id\":\"formacao-matematica-programacao-data-science\",\"google_business_vertical\":\"education\"},{\"id\":\"formacao-modelagem-dados\",\"google_business_vertical\":\"education\"},{\"id\":\"formacao-power-bi\",\"google_business_vertical\":\"education\"},{\"id\":\"formacao-python-data-science\",\"google_business_vertical\":\"education\"},{\"id\":\"formacao-oracle-database-sql-plsql\",\"google_business_vertical\":\"education\"},{\"id\":\"formacao-microsoft-sql-server-2017\",\"google_business_vertical\":\"education\"},{\"id\":\"formacao-oracle-mysql\",\"google_business_vertical\":\"education\"},{\"id\":\"formacao-postgresql\",\"google_business_vertical\":\"education\"},{\"id\":\"formacao-redes\",\"google_business_vertical\":\"education\"},{\"id\":\"formacao-amazon-web-services\",\"google_business_vertical\":\"education\"},{\"id\":\"formacao-kafka\",\"google_business_vertical\":\"education\"},{\"id\":\"formacao-aws-certified-cloud-practitioner\",\"google_business_vertical\":\"education\"},{\"id\":\"formacao-aws-certified-solutions-architect-associate\",\"google_business_vertical\":\"education\"},{\"id\":\"formacao-certificacao-az-900-microsoft-azure-fundamentals\",\"google_business_vertical\":\"education\"},{\"id\":\"formacao-docker-dca\",\"google_business_vertical\":\"education\"},{\"id\":\"formacao-certificacao-lpi-linux-essentials\",\"google_business_vertical\":\"education\"},{\"id\":\"formacao-devops\",\"google_business_vertical\":\"education\"},{\"id\":\"formacao-google-certified-associate-cloud-engineer\",\"google_business_vertical\":\"education\"},{\"id\":\"formacao-owasp\",\"google_business_vertical\":\"education\"},{\"id\":\"formacao-seguranca-de-aplicacoes\",\"google_business_vertical\":\"education\"},{\"id\":\"formacao-ui-adobe-xd\",\"google_business_vertical\":\"education\"},{\"id\":\"formacao-blender\",\"google_business_vertical\":\"education\"},{\"id\":\"formacao-desenhohumano-photoshop\",\"google_business_vertical\":\"education\"},{\"id\":\"formacao-desenvolvimento-carreira-ux\",\"google_business_vertical\":\"education\"},{\"id\":\"formacao-design-de-jogos\",\"google_business_vertical\":\"education\"},{\"id\":\"formacao-design-grafico\",\"google_business_vertical\":\"education\"},{\"id\":\"formacao-editor-video\",\"google_business_vertical\":\"education\"},{\"id\":\"formacao-figma\",\"google_business_vertical\":\"education\"},{\"id\":\"formacao-fotografia\",\"google_business_vertical\":\"education\"},{\"id\":\"formacao-hq-narrativa-sequencial\",\"google_business_vertical\":\"education\"},{\"id\":\"formacao-identidadevisual\",\"google_business_vertical\":\"education\"},{\"id\":\"formacao-identidade-visual-softwares-free\",\"google_business_vertical\":\"education\"},{\"id\":\"formacao-ilustra-publicitaria\",\"google_business_vertical\":\"education\"},{\"id\":\"formacao-producao-indesign\",\"google_business_vertical\":\"education\"},{\"id\":\"formacao-motion-design\",\"google_business_vertical\":\"education\"},{\"id\":\"formacao-osteologia\",\"google_business_vertical\":\"education\"},{\"id\":\"formacao-ux-research-qualitativo\",\"google_business_vertical\":\"education\"},{\"id\":\"formacao-pinturadigital-photoshop\",\"google_business_vertical\":\"education\"},{\"id\":\"formacao-producao-com-photoshop\",\"google_business_vertical\":\"education\"},{\"id\":\"formacao-procucao-premiere\",\"google_business_vertical\":\"education\"},{\"id\":\"formacao-grafica-illustrator\",\"google_business_vertical\":\"education\"},{\"id\":\"formacao-produzindo-inkscape\",\"google_business_vertical\":\"education\"},{\"id\":\"formacao-produzindo-krita\",\"google_business_vertical\":\"education\"},{\"id\":\"formacao-props-para-games\",\"google_business_vertical\":\"education\"},{\"id\":\"formacao-ui-sketch\",\"google_business_vertical\":\"education\"},{\"id\":\"formacao-tratamento-de-imagem\",\"google_business_vertical\":\"education\"},{\"id\":\"formacao-unreal-engine\",\"google_business_vertical\":\"education\"},{\"id\":\"formacao-ux\",\"google_business_vertical\":\"education\"},{\"id\":\"formacao-ux-research\",\"google_business_vertical\":\"education\"},{\"id\":\"formacao-estatistica-para-ux-research\",\"google_business_vertical\":\"education\"},{\"id\":\"formacao-android\",\"google_business_vertical\":\"education\"},{\"id\":\"formacao-arquiteto-android\",\"google_business_vertical\":\"education\"},{\"id\":\"formacao-flutter\",\"google_business_vertical\":\"education\"},{\"id\":\"formacao-testes-automatizados-android\",\"google_business_vertical\":\"education\"},{\"id\":\"formacao-aprendizagem\",\"google_business_vertical\":\"education\"},{\"id\":\"formacao-business-agility\",\"google_business_vertical\":\"education\"},{\"id\":\"formacao-certificacao-cobit-5\",\"google_business_vertical\":\"education\"},{\"id\":\"formacao-certificacao-itil-foundation\",\"google_business_vertical\":\"education\"},{\"id\":\"formacao-certificacao-pmp-capm-pmi\",\"google_business_vertical\":\"education\"},{\"id\":\"formacao-comunicacao\",\"google_business_vertical\":\"education\"},{\"id\":\"formacao-comunicacao-lideres\",\"google_business_vertical\":\"education\"},{\"id\":\"formacao-criatividade\",\"google_business_vertical\":\"education\"},{\"id\":\"formacao-digital-e-agile-thinking\",\"google_business_vertical\":\"education\"},{\"id\":\"formacao-e-commerce\",\"google_business_vertical\":\"education\"},{\"id\":\"formacao-empreendedorismo-digital\",\"google_business_vertical\":\"education\"},{\"id\":\"formacao-gerente-agil\",\"google_business_vertical\":\"education\"},{\"id\":\"formacao-certificacao-itil-4-foundation\",\"google_business_vertical\":\"education\"},{\"id\":\"formacao-gestao-qualidade\",\"google_business_vertical\":\"education\"},{\"id\":\"formacao-gestao-aplicacoes-sap\",\"google_business_vertical\":\"education\"},{\"id\":\"formacao-governanca-corporativa\",\"google_business_vertical\":\"education\"},{\"id\":\"formacao-habilidades-comportamento\",\"google_business_vertical\":\"education\"},{\"id\":\"formacao-inovacao-para-lideres\",\"google_business_vertical\":\"education\"},{\"id\":\"formacao-lider-de-si\",\"google_business_vertical\":\"education\"},{\"id\":\"formacao-marketing-digital\",\"google_business_vertical\":\"education\"},{\"id\":\"formacao-minha-carreira\",\"google_business_vertical\":\"education\"},{\"id\":\"formacao-minha-primeira-lideranca\",\"google_business_vertical\":\"education\"},{\"id\":\"formacao-negociacao\",\"google_business_vertical\":\"education\"},{\"id\":\"formacao-pensamento-estrategico\",\"google_business_vertical\":\"education\"},{\"id\":\"formacao-personal-branding\",\"google_business_vertical\":\"education\"},{\"id\":\"formacao-praticas-gestao-waterfall-hibridas\",\"google_business_vertical\":\"education\"},{\"id\":\"formacao-produtividade\",\"google_business_vertical\":\"education\"},{\"id\":\"formacao-rh-4-0-digital-agile-transforming-business-partner\",\"google_business_vertical\":\"education\"},{\"id\":\"formacao-seo\",\"google_business_vertical\":\"education\"},{\"id\":\"formacao-social-media\",\"google_business_vertical\":\"education\"},{\"id\":\"formacao-vendas-de-alta-performance\",\"google_business_vertical\":\"education\"}]});</script> <div\\nclass=\"home\"><div\\nclass=\"home__header\"><ul\\nclass=\"matrix\"><li></li><li></li><li></li><li></li><li></li><li></li><li></li><li></li><li></li><li></li><li></li><li></li><li></li><li></li><li></li><li></li><li></li><li></li><li></li><li></li><li></li><li></li><li></li><li></li><li></li><li></li><li></li><li></li><li></li><li></li><li></li><li></li></ul><link\\nrel=\"stylesheet\" href=\"/assets/css/block/header.1638241251.css\"><link\\nrel=\"stylesheet\" href=\"/assets/css/block/dia-do-programador.1636535197.css\"><link\\nrel=\"stylesheet\" href=\"/assets/css/block/countdown.1636535197.css\"><link\\nrel=\"stylesheet\" href=\"/assets/css/home/matrixAnimation.1640176176.css\"><link\\nrel=\"stylesheet\" href=\"/assets/css/home/matrix.1640208273.css\"><link\\nrel=\"stylesheet\" href=\"/assets/css/block/headerHome.1638241251.css\"><style>@media (min-width: 1100px) {\\n\\t\\t\\t\\t.header-navegacao-cursos-lista {\\n\\t\\t\\t\\t\\tdisplay: none;\\n\\t\\t\\t\\t}\\n\\t\\t\\t\\t.header__nav {\\n\\t\\t\\t\\t\\tborder: none;\\n\\t\\t\\t\\t\\tmargin-top:10px;\\n\\t\\t\\t\\t}\\n\\t\\t\\t\\t.header {\\n\\t\\t\\t\\t\\tpadding-bottom: 0;\\n\\t\\t\\t\\t}\\n\\t\\t\\t}</style><header\\nclass=\"header--home\"><div\\nclass=\"container\"><nav\\nclass=\"header__nav--home\">\\n<a\\nhref=\"/\" class=\"header__nav__link--home header__nav__link--logo\"><div\\nclass=\"stack\" style=\"--stacks: 3;\">\\n<span\\nstyle=\"--index: 0;\">\\n<img\\nclass=\"header__nav__link__logo\" alt=\"Alura\" src=\"/assets/img/home/alura-logo.1638241251.svg\">\\n</span>\\n<span\\nstyle=\"--index: 1;\">\\n<img\\nclass=\"header__nav__link__logo\" alt=\"Alura\" src=\"/assets/img/home/alura-logo.1638241251.svg\">\\n</span>\\n<span\\nstyle=\"--index: 2;\">\\n<img\\nclass=\"header__nav__link__logo\" alt=\"Alura\" src=\"/assets/img/home/alura-logo.1638241251.svg\">\\n</span></div>\\n</a><div\\nclass=\"header__nav__wrapper header__nav__wrapper--ctas\"><div\\nclass=\"header-utilitario-busca header-utilitario-busca--home\" aria-label=\"Busca\">\\n<svg\\nclass=\"header-utilitario-busca-icone--home\" xmlns:xlink=\"http://www.w3.org/1999/xlink\">\\n<use\\nxlink:href=\"/svg,1636535197/header#icon-header-busca-home\"/>\\n</svg></div>\\n<a\\nhref=\"https://cursos.alura.com.br/loginForm?urlAfterLogin=https://cursos.alura.com.br/dashboard\" class=\"header__nav__link header__nav__link--entrar\">Entrar</a>\\n<a\\nhref=\"/planos-cursos-online\" class=\"header__nav__link header__nav__link--cta\">Matricule-se</a></div><div\\nclass=\"header-barraBusca__wrapper\"><div\\nclass=\"header-barraBusca header-barraBusca--home\"><form\\naction=\"/busca\" class=\"header-barraBusca-form\">\\n<label\\nfor=\"header-barraBusca-form-campoBusca\">Qual curso procura?</label>\\n<input\\ntype=\"search\" id=\"header-barraBusca-form-campoBusca\" name=\"query\"\\nclass=\"header-barraBusca-form-serch-input header-barra-busca--home\" placeholder=\"O que voc\\xc3\\xaa quer aprender?\">\\n<button\\nclass=\"header-barraBusca-form-submit\" type=\"submit\"></button></form></div></div><div\\nclass=\"nav__courses__wrapper header__nav__wrapper header__nav__wrapper--menu\">\\n<a\\nhref=\"/formacoes\" class=\"nav__courses__link--home header__menu-options--home\">\\n<span>\\nNossas\\n</span>\\n<span>\\nForma\\xc3\\xa7\\xc3\\xb5es\\n</span>\\n</a>\\n<a\\nhref=\"/empresas\" class=\"nav__courses__link--home header__menu-options--home\">\\n<span>\\nPara\\n</span>\\n<span>\\nEmpresas\\n</span>\\n</a>\\n<a\\nhref=\"/dev-em-t\" class=\"nav__courses__link--home header__menu-options--home\">\\n<span>\\nDev\\n</span>\\n<span>\\nem  &lt;T&gt;\\n</span>\\n</a></div><ul\\nclass=\"header-navegacao-cursos-lista container header__menu-allcourses--home\"><li\\nclass=\"header-cursos-lista-categoria \">\\n<a\\nhref=\"/cursos-online-programacao\" class=\"unlinkify\">\\n<svg\\nclass=\"header-cursos-lista-categoria--icon\" style=\"fill: #ffffff\" xmlns:xlink=\"http://www.w3.org/1999/xlink\">\\n<use\\nxlink:href=\"/svg,1636535197/categorias#icon-categorias-programacao\"/>\\n</svg><div\\nclass=\"header-lista-categoria-nome--home\">\\n<span>Programa\\xc3\\xa7\\xc3\\xa3o</span></div>\\n</a></li><li\\nclass=\"header-cursos-lista-categoria \">\\n<a\\nhref=\"/cursos-online-front-end\" class=\"unlinkify\">\\n<svg\\nclass=\"header-cursos-lista-categoria--icon\" style=\"fill: #ffffff\" xmlns:xlink=\"http://www.w3.org/1999/xlink\">\\n<use\\nxlink:href=\"/svg,1636535197/categorias#icon-categorias-front-end\"/>\\n</svg><div\\nclass=\"header-lista-categoria-nome--home\">\\n<span>Front-end</span></div>\\n</a></li><li\\nclass=\"header-cursos-lista-categoria \">\\n<a\\nhref=\"/cursos-online-data-science\" class=\"unlinkify\">\\n<svg\\nclass=\"header-cursos-lista-categoria--icon\" style=\"fill: #ffffff\" xmlns:xlink=\"http://www.w3.org/1999/xlink\">\\n<use\\nxlink:href=\"/svg,1636535197/categorias#icon-categorias-data-science\"/>\\n</svg><div\\nclass=\"header-lista-categoria-nome--home\">\\n<span>Data Science</span></div>\\n</a></li><li\\nclass=\"header-cursos-lista-categoria \">\\n<a\\nhref=\"/cursos-online-devops\" class=\"unlinkify\">\\n<svg\\nclass=\"header-cursos-lista-categoria--icon\" style=\"fill: #ffffff\" xmlns:xlink=\"http://www.w3.org/1999/xlink\">\\n<use\\nxlink:href=\"/svg,1636535197/categorias#icon-categorias-devops\"/>\\n</svg><div\\nclass=\"header-lista-categoria-nome--home\">\\n<span>DevOps</span></div>\\n</a></li><li\\nclass=\"header-cursos-lista-categoria \">\\n<a\\nhref=\"/cursos-online-design-ux\" class=\"unlinkify\">\\n<svg\\nclass=\"header-cursos-lista-categoria--icon\" style=\"fill: #ffffff\" xmlns:xlink=\"http://www.w3.org/1999/xlink\">\\n<use\\nxlink:href=\"/svg,1636535197/categorias#icon-categorias-design-ux\"/>\\n</svg><div\\nclass=\"header-lista-categoria-nome--home\">\\n<span>UX & Design</span></div>\\n</a></li><li\\nclass=\"header-cursos-lista-categoria \">\\n<a\\nhref=\"/cursos-online-mobile\" class=\"unlinkify\">\\n<svg\\nclass=\"header-cursos-lista-categoria--icon\" style=\"fill: #ffffff\" xmlns:xlink=\"http://www.w3.org/1999/xlink\">\\n<use\\nxlink:href=\"/svg,1636535197/categorias#icon-categorias-mobile\"/>\\n</svg><div\\nclass=\"header-lista-categoria-nome--home\">\\n<span>Mobile</span></div>\\n</a></li><li\\nclass=\"header-cursos-lista-categoria \">\\n<a\\nhref=\"/cursos-online-inovacao-gestao\" class=\"unlinkify\">\\n<svg\\nclass=\"header-cursos-lista-categoria--icon\" style=\"fill: #ffffff\" xmlns:xlink=\"http://www.w3.org/1999/xlink\">\\n<use\\nxlink:href=\"/svg,1636535197/categorias#icon-categorias-inovacao-gestao\"/>\\n</svg><div\\nclass=\"header-lista-categoria-nome--home\">\\n<span>Inova\\xc3\\xa7\\xc3\\xa3o & Gest\\xc3\\xa3o</span></div>\\n</a></li></ul></nav></div></header><div\\nclass=\"container\"><div\\nclass=\"home--background\"><div\\nclass=\"home__titles\"><div\\nclass=\"stack mergulhe\" style=\"--stacks: 3;\">\\n<span\\nstyle=\"--index: 0;\"><h1 class=\"home__titles__main-title\">Mergulhe em Tecnologia!</h1>\\n</span>\\n<span\\nstyle=\"--index: 1;\"><h1 class=\"home__titles__main-title\">Mergulhe em Tecnologia!</h1>\\n</span>\\n<span\\nstyle=\"--index: 2;\"><h1 class=\"home__titles__main-title\">Mergulhe em Tecnologia!</h1>\\n</span></div><p\\nclass=\"home__titles__sub-title\">Voc\\xc3\\xaa vai estudar, praticar, discutir e se aprofundar em uma plataforma que respira tecnologia.</p></div></div><link\\nrel=\"stylesheet\" href=\"/assets/css/block/categories.1636535197.css\"><link\\nrel=\"stylesheet\" href=\"/assets/css/block/navCategoriasHome.1638241251.css\"><link\\nrel=\"stylesheet\" href=\"/assets/css/block/navCategoriasHome.1638241251.css\"> <script>window.dataLayer.push({\\n                event: \\'view_item_list\\',\\n                value: 3540.00,\\n                items: [{\"id\":\"cursos-online-programacao\",\"google_business_vertical\":\"education\"},{\"id\":\"cursos-online-front-end\",\"google_business_vertical\":\"education\"},{\"id\":\"cursos-online-data-science\",\"google_business_vertical\":\"education\"},{\"id\":\"cursos-online-devops\",\"google_business_vertical\":\"education\"},{\"id\":\"cursos-online-design-ux\",\"google_business_vertical\":\"education\"},{\"id\":\"cursos-online-mobile\",\"google_business_vertical\":\"education\"},{\"id\":\"cursos-online-inovacao-gestao\",\"google_business_vertical\":\"education\"}]});</script> <nav\\nclass=\"categories--home\"><div\\nclass=\"categories__elements--home\"><div\\nclass=\"categories__wrapper__links--home --programacao\" style=\"--color-var: #00c86f\">\\n<a\\nclass=\"categories__link--home\" href=\"/escola-programacao\"><div\\nclass=\"categories__link-wrapper--home\"><div\\nclass=\"categories__svg-wrapper--home\" style=\"background:#00c86f52;\">\\n<svg\\nclass=\"pagina-categoria__svg--home categories__svg--home\" style=\"fill:#00c86f\" xmlns:xlink=\"http://www.w3.org/1999/xlink\">\\n<use\\nxlink:href=\"/svg,1636535197/categorias#icon-categorias-programacao\"/>\\n</svg></div><div\\nclass=\"categories__texts\" style=\"color:#00c86f;\">\\n<span\\nclass=\"categories__link__text\">Escola</span><h4 class=\"categories__link__category-name\">Programa\\xc3\\xa7\\xc3\\xa3o</h4></div></div>\\n</a><nav\\nclass=\"categories__calls--home\">\\n<a\\nhref=\"/cursos-online-programacao/logica\"\\nclass=\"categories__calls__description--home\">L\\xc3\\xb3gica</a><span\\nclass=\"categories__calls__description-separator\">, </span>\\n<a\\nhref=\"/cursos-online-programacao/python\"\\nclass=\"categories__calls__description--home\">Python</a><span\\nclass=\"categories__calls__description-separator\">, </span>\\n<a\\nhref=\"/cursos-online-programacao/php\"\\nclass=\"categories__calls__description--home\">PHP</a><span\\nclass=\"categories__calls__description-separator\">, </span>\\n<a\\nhref=\"/cursos-online-programacao/java\"\\nclass=\"categories__calls__description--home\">Java</a><span\\nclass=\"categories__calls__description-separator\">, </span>\\n<a\\nhref=\"/cursos-online-programacao/dotnet\"\\nclass=\"categories__calls__description--home\">.NET</a><span\\nclass=\"categories__calls__description-separator\">, </span>\\n<a\\nhref=\"/cursos-online-programacao/node-js\"\\nclass=\"categories__calls__description--home\">Node JS</a><span\\nclass=\"categories__calls__description-separator\">, </span>\\n<a\\nhref=\"/cursos-online-programacao/linguagem-c\"\\nclass=\"categories__calls__description--home\">C</a><span\\nclass=\"categories__calls__description-separator\">, </span>\\n<a\\nhref=\"/cursos-online-programacao/computacao\"\\nclass=\"categories__calls__description--home\">Computa\\xc3\\xa7\\xc3\\xa3o</a><span\\nclass=\"categories__calls__description-separator\">, </span>\\n<a\\nhref=\"/cursos-online-programacao/jogos\"\\nclass=\"categories__calls__description--home\">Jogos</a><span\\nclass=\"categories__calls__description-separator\">, </span>\\n<a\\nhref=\"/cursos-online-programacao/internet-das-coisas\"\\nclass=\"categories__calls__description--home\">IoT</a><span\\nclass=\"categories__calls__description-separator\"></span>\\n<a\\nhref=\"/cursos-online-programacao\"\\nclass=\"categories__calls__link-see-more--home\">e mais...</a></nav></div><div\\nclass=\"categories__wrapper__links--home --front-end\" style=\"--color-var: #6bd1ff\">\\n<a\\nclass=\"categories__link--home\" href=\"/escola-front-end\"><div\\nclass=\"categories__link-wrapper--home\"><div\\nclass=\"categories__svg-wrapper--home\" style=\"background:#6bd1ff52;\">\\n<svg\\nclass=\"pagina-categoria__svg--home categories__svg--home\" style=\"fill:#6bd1ff\" xmlns:xlink=\"http://www.w3.org/1999/xlink\">\\n<use\\nxlink:href=\"/svg,1636535197/categorias#icon-categorias-front-end\"/>\\n</svg></div><div\\nclass=\"categories__texts\" style=\"color:#6bd1ff;\">\\n<span\\nclass=\"categories__link__text\">Escola</span><h4 class=\"categories__link__category-name\">Front-end</h4></div></div>\\n</a><nav\\nclass=\"categories__calls--home\">\\n<a\\nhref=\"/cursos-online-front-end/front-end\"\\nclass=\"categories__calls__description--home\">HTML, CSS</a><span\\nclass=\"categories__calls__description-separator\">, </span>\\n<a\\nhref=\"/cursos-online-front-end/reactjs\"\\nclass=\"categories__calls__description--home\">React</a><span\\nclass=\"categories__calls__description-separator\">, </span>\\n<a\\nhref=\"/cursos-online-front-end/angular\"\\nclass=\"categories__calls__description--home\">Angular</a><span\\nclass=\"categories__calls__description-separator\">, </span>\\n<a\\nhref=\"/cursos-online-front-end/javascript\"\\nclass=\"categories__calls__description--home\">JavaScript</a><span\\nclass=\"categories__calls__description-separator\">, </span>\\n<a\\nhref=\"/cursos-online-front-end/jquery\"\\nclass=\"categories__calls__description--home\">jQuery</a><span\\nclass=\"categories__calls__description-separator\"></span>\\n<a\\nhref=\"/cursos-online-front-end\"\\nclass=\"categories__calls__link-see-more--home\">e mais...</a></nav></div><div\\nclass=\"categories__wrapper__links--home --data-science\" style=\"--color-var: #9cd33b\">\\n<a\\nclass=\"categories__link--home\" href=\"/escola-data-science\"><div\\nclass=\"categories__link-wrapper--home\"><div\\nclass=\"categories__svg-wrapper--home\" style=\"background:#9cd33b52;\">\\n<svg\\nclass=\"pagina-categoria__svg--home categories__svg--home\" style=\"fill:#9cd33b\" xmlns:xlink=\"http://www.w3.org/1999/xlink\">\\n<use\\nxlink:href=\"/svg,1636535197/categorias#icon-categorias-data-science\"/>\\n</svg></div><div\\nclass=\"categories__texts\" style=\"color:#9cd33b;\">\\n<span\\nclass=\"categories__link__text\">Escola</span><h4 class=\"categories__link__category-name\">Data Science</h4></div></div>\\n</a><nav\\nclass=\"categories__calls--home\">\\n<a\\nhref=\"/cursos-online-data-science/data-science\"\\nclass=\"categories__calls__description--home\">Ci\\xc3\\xaancia de dados</a><span\\nclass=\"categories__calls__description-separator\">, </span>\\n<a\\nhref=\"/cursos-online-data-science/business-intelligence\"\\nclass=\"categories__calls__description--home\">BI</a><span\\nclass=\"categories__calls__description-separator\">, </span>\\n<a\\nhref=\"/cursos-online-data-science/sql\"\\nclass=\"categories__calls__description--home\">SQL e Banco de Dados</a><span\\nclass=\"categories__calls__description-separator\">, </span>\\n<a\\nhref=\"/cursos-online-data-science/excel\"\\nclass=\"categories__calls__description--home\">Excel</a><span\\nclass=\"categories__calls__description-separator\">, </span>\\n<a\\nhref=\"/cursos-online-data-science/machine-learning\"\\nclass=\"categories__calls__description--home\">Machine Learning</a><span\\nclass=\"categories__calls__description-separator\">, </span>\\n<a\\nhref=\"/cursos-online-data-science/nosql\"\\nclass=\"categories__calls__description--home\">NoSQL</a><span\\nclass=\"categories__calls__description-separator\">, </span>\\n<a\\nhref=\"/cursos-online-data-science/estatistica\"\\nclass=\"categories__calls__description--home\">Estat\\xc3\\xadstica</a><span\\nclass=\"categories__calls__description-separator\"></span>\\n<a\\nhref=\"/cursos-online-data-science\"\\nclass=\"categories__calls__link-see-more--home\">e mais...</a></nav></div><div\\nclass=\"categories__wrapper__links--home --devops\" style=\"--color-var: #f16165\">\\n<a\\nclass=\"categories__link--home\" href=\"/escola-devops\"><div\\nclass=\"categories__link-wrapper--home\"><div\\nclass=\"categories__svg-wrapper--home\" style=\"background:#f1616552;\">\\n<svg\\nclass=\"pagina-categoria__svg--home categories__svg--home\" style=\"fill:#f16165\" xmlns:xlink=\"http://www.w3.org/1999/xlink\">\\n<use\\nxlink:href=\"/svg,1636535197/categorias#icon-categorias-devops\"/>\\n</svg></div><div\\nclass=\"categories__texts\" style=\"color:#f16165;\">\\n<span\\nclass=\"categories__link__text\">Escola</span><h4 class=\"categories__link__category-name\">DevOps</h4></div></div>\\n</a><nav\\nclass=\"categories__calls--home\">\\n<a\\nhref=\"/cursos-online-devops/aws\"\\nclass=\"categories__calls__description--home\">AWS</a><span\\nclass=\"categories__calls__description-separator\">, </span>\\n<a\\nhref=\"/cursos-online-devops/azure\"\\nclass=\"categories__calls__description--home\">Azure</a><span\\nclass=\"categories__calls__description-separator\">, </span>\\n<a\\nhref=\"/cursos-online-devops/containers\"\\nclass=\"categories__calls__description--home\">Docker</a><span\\nclass=\"categories__calls__description-separator\">, </span>\\n<a\\nhref=\"/cursos-online-devops/seguranca\"\\nclass=\"categories__calls__description--home\">Seguran\\xc3\\xa7a</a><span\\nclass=\"categories__calls__description-separator\">, </span>\\n<a\\nhref=\"/cursos-online-devops/infraestrutura-como-codigo\"\\nclass=\"categories__calls__description--home\">IaC</a><span\\nclass=\"categories__calls__description-separator\">, </span>\\n<a\\nhref=\"/cursos-online-devops/linux-comandos-e-processos\"\\nclass=\"categories__calls__description--home\">Linux</a><span\\nclass=\"categories__calls__description-separator\"></span>\\n<a\\nhref=\"/cursos-online-devops\"\\nclass=\"categories__calls__link-see-more--home\">e mais...</a></nav></div><div\\nclass=\"categories__wrapper__links--home --design-ux\" style=\"--color-var: #dc6ebe\">\\n<a\\nclass=\"categories__link--home\" href=\"/escola-design-ux\"><div\\nclass=\"categories__link-wrapper--home\"><div\\nclass=\"categories__svg-wrapper--home\" style=\"background:#dc6ebe52;\">\\n<svg\\nclass=\"pagina-categoria__svg--home categories__svg--home\" style=\"fill:#dc6ebe\" xmlns:xlink=\"http://www.w3.org/1999/xlink\">\\n<use\\nxlink:href=\"/svg,1636535197/categorias#icon-categorias-design-ux\"/>\\n</svg></div><div\\nclass=\"categories__texts\" style=\"color:#dc6ebe;\">\\n<span\\nclass=\"categories__link__text\">Escola</span><h4 class=\"categories__link__category-name\">UX & Design</h4></div></div>\\n</a><nav\\nclass=\"categories__calls--home\">\\n<a\\nhref=\"/cursos-online-design-ux/wwww\"\\nclass=\"categories__calls__description--home\">Photoshop e Illustrator</a><span\\nclass=\"categories__calls__description-separator\">, </span>\\n<a\\nhref=\"/cursos-online-design-ux/ux\"\\nclass=\"categories__calls__description--home\">Usabilidade e UX</a><span\\nclass=\"categories__calls__description-separator\">, </span>\\n<a\\nhref=\"/cursos-online-design-ux/video\"\\nclass=\"categories__calls__description--home\">V\\xc3\\xaddeo e Motion</a><span\\nclass=\"categories__calls__description-separator\">, </span>\\n<a\\nhref=\"/cursos-online-design-ux/3d\"\\nclass=\"categories__calls__description--home\">3D</a><span\\nclass=\"categories__calls__description-separator\"></span>\\n<a\\nhref=\"/cursos-online-design-ux\"\\nclass=\"categories__calls__link-see-more--home\">e mais...</a></nav></div><div\\nclass=\"categories__wrapper__links--home --mobile\" style=\"--color-var: #ffba05\">\\n<a\\nclass=\"categories__link--home\" href=\"/escola-mobile\"><div\\nclass=\"categories__link-wrapper--home\"><div\\nclass=\"categories__svg-wrapper--home\" style=\"background:#ffba0552;\">\\n<svg\\nclass=\"pagina-categoria__svg--home categories__svg--home\" style=\"fill:#ffba05\" xmlns:xlink=\"http://www.w3.org/1999/xlink\">\\n<use\\nxlink:href=\"/svg,1636535197/categorias#icon-categorias-mobile\"/>\\n</svg></div><div\\nclass=\"categories__texts\" style=\"color:#ffba05;\">\\n<span\\nclass=\"categories__link__text\">Escola</span><h4 class=\"categories__link__category-name\">Mobile</h4></div></div>\\n</a><nav\\nclass=\"categories__calls--home\">\\n<a\\nhref=\"/cursos-online-mobile/react-native\"\\nclass=\"categories__calls__description--home\">React Native</a><span\\nclass=\"categories__calls__description-separator\">, </span>\\n<a\\nhref=\"/cursos-online-mobile/flutter\"\\nclass=\"categories__calls__description--home\">Flutter</a><span\\nclass=\"categories__calls__description-separator\">, </span>\\n<a\\nhref=\"/cursos-online-mobile/ios\"\\nclass=\"categories__calls__description--home\">iOS e Swift</a><span\\nclass=\"categories__calls__description-separator\">, </span>\\n<a\\nhref=\"/cursos-online-mobile/android\"\\nclass=\"categories__calls__description--home\">Android, Kotlin</a><span\\nclass=\"categories__calls__description-separator\">, </span>\\n<a\\nhref=\"/cursos-online-mobile/jogos\"\\nclass=\"categories__calls__description--home\">Jogos</a><span\\nclass=\"categories__calls__description-separator\"></span>\\n<a\\nhref=\"/cursos-online-mobile\"\\nclass=\"categories__calls__link-see-more--home\">e mais...</a></nav></div><div\\nclass=\"categories__wrapper__links--home --inovacao-gestao\" style=\"--color-var: #ff8c2a\">\\n<a\\nclass=\"categories__link--home\" href=\"/escola-inovacao-gestao\"><div\\nclass=\"categories__link-wrapper--home\"><div\\nclass=\"categories__svg-wrapper--home\" style=\"background:#ff8c2a52;\">\\n<svg\\nclass=\"pagina-categoria__svg--home categories__svg--home\" style=\"fill:#ff8c2a\" xmlns:xlink=\"http://www.w3.org/1999/xlink\">\\n<use\\nxlink:href=\"/svg,1636535197/categorias#icon-categorias-inovacao-gestao\"/>\\n</svg></div><div\\nclass=\"categories__texts\" style=\"color:#ff8c2a;\">\\n<span\\nclass=\"categories__link__text\">Escola</span><h4 class=\"categories__link__category-name\">Inova\\xc3\\xa7\\xc3\\xa3o & Gest\\xc3\\xa3o</h4></div></div>\\n</a><nav\\nclass=\"categories__calls--home\">\\n<a\\nhref=\"/cursos-online-inovacao-gestao/agilidade\"\\nclass=\"categories__calls__description--home\">M\\xc3\\xa9todos \\xc3\\x81geis</a><span\\nclass=\"categories__calls__description-separator\">, </span>\\n<a\\nhref=\"/cursos-online-inovacao-gestao/softskills-carreira\"\\nclass=\"categories__calls__description--home\">Softskills</a><span\\nclass=\"categories__calls__description-separator\">, </span>\\n<a\\nhref=\"/cursos-online-inovacao-gestao/gestao-corporativa\"\\nclass=\"categories__calls__description--home\">Lideran\\xc3\\xa7a e Gest\\xc3\\xa3o</a><span\\nclass=\"categories__calls__description-separator\">, </span>\\n<a\\nhref=\"/cursos-online-inovacao-gestao/startup-empreendedorismo\"\\nclass=\"categories__calls__description--home\">Startups</a><span\\nclass=\"categories__calls__description-separator\">, </span>\\n<a\\nhref=\"/cursos-online-inovacao-gestao/vendas\"\\nclass=\"categories__calls__description--home\">Vendas</a><span\\nclass=\"categories__calls__description-separator\"></span>\\n<a\\nhref=\"/cursos-online-inovacao-gestao\"\\nclass=\"categories__calls__link-see-more--home\">e mais...</a></nav></div></div></nav></div></div></div><main\\nclass=\"home__main-content\"><section\\nclass=\"features container\"><aside\\nclass=\"features__video\"><div\\nclass=\"features__video-wrapper\"><div\\nclass=\"home-diferenciais-video\"><div\\nclass=\"home-diferenciais-video-wrapper\">\\n<iframe\\nwidth=\"100%\" height=\"315\" src=\"https://www.youtube.com/embed/2t8ycK8D4Rk\" title=\"YouTube video player\" frameborder=\"0\" allow=\"accelerometer; autoplay; clipboard-write; encrypted-media; gyroscope; picture-in-picture\" allowfullscreen></iframe></div></div></div>\\n<a\\nclass=\"features__video__link features--desktop\" href=\"/como-funciona\">Veja como funciona</a></aside><aside\\nclass=\"features__info\"><h2 class=\"features__info__title\">A maior plataforma brasileira de cursos de tecnologia.</h2>\\n<span\\nclass=\"features__info__subtitle\">Mergulhe com profundidade e navegue em outras \\xc3\\xa1reas de Tecnologia. Profissional em &lt;T&gt;. </span>\\n<a\\nclass=\"features__video__link features--mobile\" href=\"/como-funciona\">Veja como funciona</a></aside></section><section\\nclass=\"alura-benefits\"><div\\nclass=\"container\"><ul\\nclass=\"alura-benefits-list\"><li>\\n<img\\nsrc=\"/assets/img/home/icon-home-farol.1638241251.svg\" alt=\"\"><h2>Navegue sua carreira</h2><p>S\\xc3\\xa3o <strong>1343 cursos</strong> e novos lan\\xc3\\xa7amentos toda semana, al\\xc3\\xa9m de atualiza\\xc3\\xa7\\xc3\\xb5es e melhorias constantes.</p></li><li>\\n<img\\nsrc=\"/assets/img/home/icon-home-snorkel.1638241251.svg\" alt=\"\"><h2>Aprofunde-se de vez</h2><p>Garantimos conhecimento com profundidade e diversidade, para se tornar um profissional em T!</p></li><li>\\n<img\\nsrc=\"/assets/img/home/icon-home-onda.1638241251.svg\" alt=\"\"><h2>Conte\\xc3\\xbado imersivo</h2><p>Fa\\xc3\\xa7a parte de uma comunidade de apaixonados por tudo que \\xc3\\xa9 digital. Mergulhe na comunidade Alura.</p></li></ul></div></section><section\\nclass=\"degrees-list\"><div\\nclass=\"container --titles\"><h3>Nossas Forma\\xc3\\xa7\\xc3\\xb5es, Seu Guia</h3><h2>Sequ\\xc3\\xaancias de cursos organizados em Forma\\xc3\\xa7\\xc3\\xb5es</h2><p>Forma\\xc3\\xa7\\xc3\\xb5es com conte\\xc3\\xbado do mercado de trabalho: sequ\\xc3\\xaancias de cursos e conte\\xc3\\xbado para voc\\xc3\\xaa se capacitar em tecnologia e neg\\xc3\\xb3cios digitais.</p></div><div\\nclass=\"container --items\"><ul\\nclass=\"careers__list\"><style type=\"text/css\">.career-programacao-title:after {\\n                                background-color:#00c86f;\\n                            }</style><li\\nclass=\"careers__list__item --programacao \" style=\"color:#00c86f;\"><div\\nclass=\"careers__list__item__title-wrapper\"><div\\nclass=\"categories__svg-wrapper\" style=\"background-color:#00c86f52;\">\\n<svg\\nclass=\"pagina-categoria__svg svgFill-programacao categories__svg\" style=\"fill: #00c86f;\" xmlns:xlink=\"http://www.w3.org/1999/xlink\">\\n<use\\nxlink:href=\"/svg,1636535197/categorias#icon-categorias-programacao\"/>\\n</svg></div><h3 class=\"careers__list__item__title\">Programa\\xc3\\xa7\\xc3\\xa3o</h3></div><ul\\nclass=\"careers__list__item__list careers__list__item__list--formacoes\"><li\\nclass=\"careers__list__item__list__item\">\\n<a\\nclass=\"careers__list__item__list__item__link\" href=\"/formacao-arquiteto-php\">\\nArquiteto PHP                                        </a></li><li\\nclass=\"careers__list__item__list__item\">\\n<a\\nclass=\"careers__list__item__list__item__link\" href=\"/formacao-arquitetura-design-projetos-java\">\\nArquitetura e Design de Projetos Java                                        </a></li><li\\nclass=\"careers__list__item__list__item\">\\n<a\\nclass=\"careers__list__item__list__item__link\" href=\"/formacao-dotnet\">\\nASP.NET Core REST APIs                                        </a></li><li\\nclass=\"careers__list__item__list__item\">\\n<a\\nclass=\"careers__list__item__list__item__link\" href=\"/formacao-c-sharp-orientacao-objetos\">\\nC# e orienta\\xc3\\xa7\\xc3\\xa3o a objetos                                        </a></li><li\\nclass=\"careers__list__item__list__item\">\\n<a\\nclass=\"careers__list__item__list__item__link\" href=\"/formacao-certificacao-csharp\">\\nCertifica\\xc3\\xa7\\xc3\\xa3o C# Programming                                        </a></li><li\\nclass=\"careers__list__item__list__item\">\\n<a\\nclass=\"careers__list__item__list__item__link\" href=\"/formacao-certificacao-java\">\\nCertifica\\xc3\\xa7\\xc3\\xa3o Java                                        </a></li><li\\nclass=\"careers__list__item__list__item\">\\n<a\\nclass=\"careers__list__item__list__item__link\" href=\"/formacao-clojure\">\\nClojure                                        </a></li><li\\nclass=\"careers__list__item__list__item\">\\n<a\\nclass=\"careers__list__item__list__item__link\" href=\"/formacao-django\">\\nDjango                                        </a></li><li\\nclass=\"careers__list__item__see-more\">\\n<a\\nhref=\"/escola-programacao\" class=\"careers__list__item__see-more__link\">ver escola</a></li></ul></li><style type=\"text/css\">.career-front-end-title:after {\\n                                background-color:#6bd1ff;\\n                            }</style><li\\nclass=\"careers__list__item --front-end \" style=\"color:#6bd1ff;\"><div\\nclass=\"careers__list__item__title-wrapper\"><div\\nclass=\"categories__svg-wrapper\" style=\"background-color:#6bd1ff52;\">\\n<svg\\nclass=\"pagina-categoria__svg svgFill-front-end categories__svg\" style=\"fill: #6bd1ff;\" xmlns:xlink=\"http://www.w3.org/1999/xlink\">\\n<use\\nxlink:href=\"/svg,1636535197/categorias#icon-categorias-front-end\"/>\\n</svg></div><h3 class=\"careers__list__item__title\">Front-end</h3></div><ul\\nclass=\"careers__list__item__list careers__list__item__list--formacoes\"><li\\nclass=\"careers__list__item__list__item\">\\n<a\\nclass=\"careers__list__item__list__item__link\" href=\"/formacao-acessibilidade-web\">\\nAcessibilidade Web                                        </a></li><li\\nclass=\"careers__list__item__list__item\">\\n<a\\nclass=\"careers__list__item__list__item__link\" href=\"/formacao-angular\">\\nAngular                                        </a></li><li\\nclass=\"careers__list__item__list__item\">\\n<a\\nclass=\"careers__list__item__list__item__link\" href=\"/formacao-front-end\">\\nFront-end                                        </a></li><li\\nclass=\"careers__list__item__list__item\">\\n<a\\nclass=\"careers__list__item__list__item__link\" href=\"/formacao-html-e-css\">\\nHTML e CSS                                        </a></li><li\\nclass=\"careers__list__item__list__item\">\\n<a\\nclass=\"careers__list__item__list__item__link\" href=\"/formacao-react-js\">\\nReact JS                                        </a></li><li\\nclass=\"careers__list__item__list__item\">\\n<a\\nclass=\"careers__list__item__list__item__link\" href=\"/formacao-vuejs\">\\nVue.js                                        </a></li><li\\nclass=\"careers__list__item__see-more\">\\n<a\\nhref=\"/escola-front-end\" class=\"careers__list__item__see-more__link\">ver escola</a></li></ul></li><style type=\"text/css\">.career-data-science-title:after {\\n                                background-color:#9cd33b;\\n                            }</style><li\\nclass=\"careers__list__item --data-science \" style=\"color:#9cd33b;\"><div\\nclass=\"careers__list__item__title-wrapper\"><div\\nclass=\"categories__svg-wrapper\" style=\"background-color:#9cd33b52;\">\\n<svg\\nclass=\"pagina-categoria__svg svgFill-data-science categories__svg\" style=\"fill: #9cd33b;\" xmlns:xlink=\"http://www.w3.org/1999/xlink\">\\n<use\\nxlink:href=\"/svg,1636535197/categorias#icon-categorias-data-science\"/>\\n</svg></div><h3 class=\"careers__list__item__title\">Data Science</h3></div><ul\\nclass=\"careers__list__item__list careers__list__item__list--formacoes\"><li\\nclass=\"careers__list__item__list__item\">\\n<a\\nclass=\"careers__list__item__list__item__link\" href=\"/formacao-business-intelligence-data-warehouse-pentaho\">\\nBI e Data Warehouse com Pentaho                                        </a></li><li\\nclass=\"careers__list__item__list__item\">\\n<a\\nclass=\"careers__list__item__list__item__link\" href=\"/formacao-business-intelligence-data-warehouse\">\\nBI e Data Warehouse com SQL Server e Power BI                                        </a></li><li\\nclass=\"careers__list__item__list__item\">\\n<a\\nclass=\"careers__list__item__list__item__link\" href=\"/formacao-data-analysis-google-sheets\">\\nData Analysis com Google Sheets                                        </a></li><li\\nclass=\"careers__list__item__list__item\">\\n<a\\nclass=\"careers__list__item__list__item__link\" href=\"/formacao-data-science\">\\nData Science                                        </a></li><li\\nclass=\"careers__list__item__list__item\">\\n<a\\nclass=\"careers__list__item__list__item__link\" href=\"/formacao-datomic\">\\nDatomic                                        </a></li><li\\nclass=\"careers__list__item__list__item\">\\n<a\\nclass=\"careers__list__item__list__item__link\" href=\"/formacao-deep-learning-pytorch\">\\nDeep Learning com Pytorch                                        </a></li><li\\nclass=\"careers__list__item__list__item\">\\n<a\\nclass=\"careers__list__item__list__item__link\" href=\"/formacao-estatistica-python\">\\nEstat\\xc3\\xadstica com Python                                        </a></li><li\\nclass=\"careers__list__item__list__item\">\\n<a\\nclass=\"careers__list__item__list__item__link\" href=\"/formacao-estatistica-r\">\\nEstat\\xc3\\xadstica com R                                        </a></li><li\\nclass=\"careers__list__item__see-more\">\\n<a\\nhref=\"/escola-data-science\" class=\"careers__list__item__see-more__link\">ver escola</a></li></ul></li><style type=\"text/css\">.career-devops-title:after {\\n                                background-color:#f16165;\\n                            }</style><li\\nclass=\"careers__list__item --devops \" style=\"color:#f16165;\"><div\\nclass=\"careers__list__item__title-wrapper\"><div\\nclass=\"categories__svg-wrapper\" style=\"background-color:#f1616552;\">\\n<svg\\nclass=\"pagina-categoria__svg svgFill-devops categories__svg\" style=\"fill: #f16165;\" xmlns:xlink=\"http://www.w3.org/1999/xlink\">\\n<use\\nxlink:href=\"/svg,1636535197/categorias#icon-categorias-devops\"/>\\n</svg></div><h3 class=\"careers__list__item__title\">DevOps</h3></div><ul\\nclass=\"careers__list__item__list careers__list__item__list--formacoes\"><li\\nclass=\"careers__list__item__list__item\">\\n<a\\nclass=\"careers__list__item__list__item__link\" href=\"/formacao-redes\">\\nAdministrador de Redes                                        </a></li><li\\nclass=\"careers__list__item__list__item\">\\n<a\\nclass=\"careers__list__item__list__item__link\" href=\"/formacao-amazon-web-services\">\\nAmazon Web Services                                        </a></li><li\\nclass=\"careers__list__item__list__item\">\\n<a\\nclass=\"careers__list__item__list__item__link\" href=\"/formacao-kafka\">\\nApache Kafka                                        </a></li><li\\nclass=\"careers__list__item__list__item\">\\n<a\\nclass=\"careers__list__item__list__item__link\" href=\"/formacao-aws-certified-cloud-practitioner\">\\nAWS Certified Cloud Practitioner                                        </a></li><li\\nclass=\"careers__list__item__list__item\">\\n<a\\nclass=\"careers__list__item__list__item__link\" href=\"/formacao-aws-certified-solutions-architect-associate\">\\nAWS Certified Solutions Architect - Associate                                        </a></li><li\\nclass=\"careers__list__item__list__item\">\\n<a\\nclass=\"careers__list__item__list__item__link\" href=\"/formacao-certificacao-az-900-microsoft-azure-fundamentals\">\\nCertifica\\xc3\\xa7\\xc3\\xa3o AZ-900: Microsoft Azure Fundamentals                                        </a></li><li\\nclass=\"careers__list__item__list__item\">\\n<a\\nclass=\"careers__list__item__list__item__link\" href=\"/formacao-docker-dca\">\\nCertifica\\xc3\\xa7\\xc3\\xa3o Docker DCA                                        </a></li><li\\nclass=\"careers__list__item__list__item\">\\n<a\\nclass=\"careers__list__item__list__item__link\" href=\"/formacao-certificacao-lpi-linux-essentials\">\\nCertifica\\xc3\\xa7\\xc3\\xa3o LPI Linux Essentials                                        </a></li><li\\nclass=\"careers__list__item__see-more\">\\n<a\\nhref=\"/escola-devops\" class=\"careers__list__item__see-more__link\">ver escola</a></li></ul></li><style type=\"text/css\">.career-design-ux-title:after {\\n                                background-color:#dc6ebe;\\n                            }</style><li\\nclass=\"careers__list__item --design-ux \" style=\"color:#dc6ebe;\"><div\\nclass=\"careers__list__item__title-wrapper\"><div\\nclass=\"categories__svg-wrapper\" style=\"background-color:#dc6ebe52;\">\\n<svg\\nclass=\"pagina-categoria__svg svgFill-design-ux categories__svg\" style=\"fill: #dc6ebe;\" xmlns:xlink=\"http://www.w3.org/1999/xlink\">\\n<use\\nxlink:href=\"/svg,1636535197/categorias#icon-categorias-design-ux\"/>\\n</svg></div><h3 class=\"careers__list__item__title\">UX & Design</h3></div><ul\\nclass=\"careers__list__item__list careers__list__item__list--formacoes\"><li\\nclass=\"careers__list__item__list__item\">\\n<a\\nclass=\"careers__list__item__list__item__link\" href=\"/formacao-ui-adobe-xd\">\\nAdobe XD                                        </a></li><li\\nclass=\"careers__list__item__list__item\">\\n<a\\nclass=\"careers__list__item__list__item__link\" href=\"/formacao-blender\">\\nBlender                                        </a></li><li\\nclass=\"careers__list__item__list__item\">\\n<a\\nclass=\"careers__list__item__list__item__link\" href=\"/formacao-desenhohumano-photoshop\">\\nDesenho b\\xc3\\xa1sico                                        </a></li><li\\nclass=\"careers__list__item__list__item\">\\n<a\\nclass=\"careers__list__item__list__item__link\" href=\"/formacao-desenvolvimento-carreira-ux\">\\nDesenvolvimento de Carreira em UX                                        </a></li><li\\nclass=\"careers__list__item__list__item\">\\n<a\\nclass=\"careers__list__item__list__item__link\" href=\"/formacao-design-de-jogos\">\\nDesign de Jogos                                        </a></li><li\\nclass=\"careers__list__item__list__item\">\\n<a\\nclass=\"careers__list__item__list__item__link\" href=\"/formacao-design-grafico\">\\nDesign Gr\\xc3\\xa1fico                                        </a></li><li\\nclass=\"careers__list__item__list__item\">\\n<a\\nclass=\"careers__list__item__list__item__link\" href=\"/formacao-editor-video\">\\nEdi\\xc3\\xa7\\xc3\\xa3o de v\\xc3\\xaddeo                                        </a></li><li\\nclass=\"careers__list__item__list__item\">\\n<a\\nclass=\"careers__list__item__list__item__link\" href=\"/formacao-figma\">\\nFigma                                        </a></li><li\\nclass=\"careers__list__item__see-more\">\\n<a\\nhref=\"/escola-design-ux\" class=\"careers__list__item__see-more__link\">ver escola</a></li></ul></li><style type=\"text/css\">.career-mobile-title:after {\\n                                background-color:#ffba05;\\n                            }</style><li\\nclass=\"careers__list__item --mobile \" style=\"color:#ffba05;\"><div\\nclass=\"careers__list__item__title-wrapper\"><div\\nclass=\"categories__svg-wrapper\" style=\"background-color:#ffba0552;\">\\n<svg\\nclass=\"pagina-categoria__svg svgFill-mobile categories__svg\" style=\"fill: #ffba05;\" xmlns:xlink=\"http://www.w3.org/1999/xlink\">\\n<use\\nxlink:href=\"/svg,1636535197/categorias#icon-categorias-mobile\"/>\\n</svg></div><h3 class=\"careers__list__item__title\">Mobile</h3></div><ul\\nclass=\"careers__list__item__list careers__list__item__list--formacoes\"><li\\nclass=\"careers__list__item__list__item\">\\n<a\\nclass=\"careers__list__item__list__item__link\" href=\"/formacao-android\">\\nAndroid                                        </a></li><li\\nclass=\"careers__list__item__list__item\">\\n<a\\nclass=\"careers__list__item__list__item__link\" href=\"/formacao-arquiteto-android\">\\nArquitetura Android                                        </a></li><li\\nclass=\"careers__list__item__list__item\">\\n<a\\nclass=\"careers__list__item__list__item__link\" href=\"/formacao-flutter\">\\nFlutter                                        </a></li><li\\nclass=\"careers__list__item__list__item\">\\n<a\\nclass=\"careers__list__item__list__item__link\" href=\"/formacao-testes-automatizados-android\">\\nTestes automatizados no Android                                        </a></li><li\\nclass=\"careers__list__item__see-more\">\\n<a\\nhref=\"/escola-mobile\" class=\"careers__list__item__see-more__link\">ver escola</a></li></ul></li><style type=\"text/css\">.career-inovacao-gestao-title:after {\\n                                background-color:#ff8c2a;\\n                            }</style><li\\nclass=\"careers__list__item --inovacao-gestao \" style=\"color:#ff8c2a;\"><div\\nclass=\"careers__list__item__title-wrapper\"><div\\nclass=\"categories__svg-wrapper\" style=\"background-color:#ff8c2a52;\">\\n<svg\\nclass=\"pagina-categoria__svg svgFill-inovacao-gestao categories__svg\" style=\"fill: #ff8c2a;\" xmlns:xlink=\"http://www.w3.org/1999/xlink\">\\n<use\\nxlink:href=\"/svg,1636535197/categorias#icon-categorias-inovacao-gestao\"/>\\n</svg></div><h3 class=\"careers__list__item__title\">Inova\\xc3\\xa7\\xc3\\xa3o & Gest\\xc3\\xa3o</h3></div><ul\\nclass=\"careers__list__item__list careers__list__item__list--formacoes\"><li\\nclass=\"careers__list__item__list__item\">\\n<a\\nclass=\"careers__list__item__list__item__link\" href=\"/formacao-aprendizagem\">\\nAprendizagem                                        </a></li><li\\nclass=\"careers__list__item__list__item\">\\n<a\\nclass=\"careers__list__item__list__item__link\" href=\"/formacao-business-agility\">\\nBusiness Agility                                        </a></li><li\\nclass=\"careers__list__item__list__item\">\\n<a\\nclass=\"careers__list__item__list__item__link\" href=\"/formacao-certificacao-cobit-5\">\\nCertifica\\xc3\\xa7\\xc3\\xa3o Cobit 5                                        </a></li><li\\nclass=\"careers__list__item__list__item\">\\n<a\\nclass=\"careers__list__item__list__item__link\" href=\"/formacao-certificacao-itil-foundation\">\\nCertifica\\xc3\\xa7\\xc3\\xa3o da biblioteca de infraestrutura de tecnologia da informa\\xc3\\xa7\\xc3\\xa3o - Fundamentos v3                                        </a></li><li\\nclass=\"careers__list__item__list__item\">\\n<a\\nclass=\"careers__list__item__list__item__link\" href=\"/formacao-certificacao-pmp-capm-pmi\">\\nCertifica\\xc3\\xa7\\xc3\\xa3o PMP e CAPM do PMI                                        </a></li><li\\nclass=\"careers__list__item__list__item\">\\n<a\\nclass=\"careers__list__item__list__item__link\" href=\"/formacao-comunicacao\">\\nComunica\\xc3\\xa7\\xc3\\xa3o                                        </a></li><li\\nclass=\"careers__list__item__list__item\">\\n<a\\nclass=\"careers__list__item__list__item__link\" href=\"/formacao-comunicacao-lideres\">\\nComunica\\xc3\\xa7\\xc3\\xa3o para l\\xc3\\xadderes                                        </a></li><li\\nclass=\"careers__list__item__list__item\">\\n<a\\nclass=\"careers__list__item__list__item__link\" href=\"/formacao-criatividade\">\\nCriatividade                                        </a></li><li\\nclass=\"careers__list__item__see-more\">\\n<a\\nhref=\"/escola-inovacao-gestao\" class=\"careers__list__item__see-more__link\">ver escola</a></li></ul></li></ul></div></section><link\\nrel=\"stylesheet\" href=\"/assets/css/block/destaqueAlunos.1636535197.css\"><section\\nclass=\"depoimentos-alunos\"><div\\nclass=\"container\"><div\\nclass=\"depoimentos-area\"><div\\nclass=\"titles\"><h3>Nossos mergulhadores</h3><h2>A maior plataforma brasileira de cursos de tecnologia.</h2><p>S\\xc3\\xa3o 1343 cursos, 100% em portugu\\xc3\\xaas. E novos lan\\xc3\\xa7amentos todas as semanas.</p></div><div\\nclass=\"depoimentos-wrapper b2c\"><ul><li>\\n<img\\nsrc=\"/assets/img/aluno-destaque/genilton-souza.1636535197.jpg\"/><p\\nclass=\"depoimento__text\">Se voc\\xc3\\xaa n\\xc3\\xa3o sabe a ordem do que deve aprender e praticar para dominar uma tecnologia, <strong>a forma como os cursos est\\xc3\\xa3o organizados e estruturados na Alura ajuda muito</strong>. Aprendi C# aqui e pago minhas contas com isso hoje em dia.</p><p\\nclass=\"depoimento__author\">Genilton Souza</p></li><li>\\n<img\\nsrc=\"/assets/img/aluno-destaque/leandro-silva.1636535197.jpg\" /><p\\nclass=\"depoimento__text\">Passei dois anos e meio desempregado e foi onde conheci os cursos da Alura. <strong>Consegui fazer uma mudan\\xc3\\xa7a de carreira em uma \\xc3\\xa1rea muito disputada e estou muito feliz</strong>: passei em um processo seletivo como Agente de Inova\\xc3\\xa7\\xc3\\xa3o, e muito do que aprendi tanto para a prova quanto para a etapa presencial foi gra\\xc3\\xa7as a Alura.</p><p\\nclass=\"depoimento__author\">Leandro da Silva</p></li><li>\\n<img\\nsrc=\"/assets/img/aluno-destaque/nadia-oliveira.1636535197.jpg\" /><p\\nclass=\"depoimento__text\">A plataforma \\xc3\\xa9 incr\\xc3\\xadvel. Al\\xc3\\xa9m das metodologias do curso serem de alcance para quem est\\xc3\\xa1 come\\xc3\\xa7ando ou quem j\\xc3\\xa1 est\\xc3\\xa1 avan\\xc3\\xa7ado em alguma tecnologia, no f\\xc3\\xb3rum de d\\xc3\\xbavidas sempre algum instrutor ou aluno te responde em um curto espa\\xc3\\xa7o de tempo. <strong>Na Alura, seu conhecimento \\xc3\\xa9 prioridade</strong>.</p><p\\nclass=\"depoimento__author\">N\\xc3\\xa1dia Oliveira</p></li></ul></div></div></div></section><section\\nclass=\"depoimentos-videos\"><div\\nclass=\"container\"><div\\nclass=\"testimony-container-header\"><h3 class=\"testimony-container-firstTitle\">A Alura vale a pena?</h3><h2 class=\"testimony-container-title\"> Conhe\\xc3\\xa7a os depoimentos e historias de quem estuda com a gente</h2></div><div\\nclass=\"testimony-container-card\"><article\\nclass=\"testimony-student-card --videos\"><div\\nclass=\"testimony-container-box\" style=\"border-top-color:#051933;\"><div\\nclass=\"testimony-container-flex\">\\n<img\\nclass=\"testimony-icon\" src=\"/assets/img/depoimentos/alunos/fiama-de-capua.1636535197.jpeg\" alt=\"Foto de Fiama de C\\xc3\\xa1pua\"><p\\nclass=\"testimony-social-media\" style=\"border-color:#051933; background-color:#051933;\">YouTube</p></div><div\\nclass=\"testimony-container-text-student\"><h3 class=\"testimony-name-student\">Fiama de C\\xc3\\xa1pua</h3><div\\nclass=\"testimony-video-preview\" data-src=\"-80eLO36is0\" style=\"background-image: url(\\'https://i3.ytimg.com/vi/-80eLO36is0/hqdefault.jpg\\')\"></div><p\\nclass=\"testimony-student-details\">Eu consegui mudar de emprego e a quest\\xc3\\xa3o de (aumento da) confian\\xc3\\xa7a ...</p>\\n<a\\nhref=\"https://www.youtube.com/watch?v=-80eLO36is0\" target=\"_blank\" rel=\\xe2\\x80\\x9dnoopener\\xe2\\x80\\x9d class=\"testimony-link-social-media\">Ver depoimento completo no YouTube</a></div></div></article><article\\nclass=\"testimony-student-card --videos\"><div\\nclass=\"testimony-container-box\" style=\"border-top-color:#051933;\"><div\\nclass=\"testimony-container-flex\">\\n<img\\nclass=\"testimony-icon\" src=\"/assets/img/depoimentos/alunos/jennifer-bittencourt.1636535197.jpeg\" alt=\"Foto de Jennifer Bittencourt\"><p\\nclass=\"testimony-social-media\" style=\"border-color:#051933; background-color:#051933;\">YouTube</p></div><div\\nclass=\"testimony-container-text-student\"><h3 class=\"testimony-name-student\">Jennifer Bittencourt</h3><div\\nclass=\"testimony-video-preview\" data-src=\"JPfyh5XOaec\" style=\"background-image: url(\\'https://i3.ytimg.com/vi/JPfyh5XOaec/hqdefault.jpg\\')\"></div><p\\nclass=\"testimony-student-details\">A Quarentena Dev foi o que \\xe2\\x80\\x9cstartou\\xe2\\x80\\x9d a minha carreira como desenvolvedora...</p>\\n<a\\nhref=\"https://www.youtube.com/watch?v=JPfyh5XOaec\" target=\"_blank\" rel=\\xe2\\x80\\x9dnoopener\\xe2\\x80\\x9d class=\"testimony-link-social-media\">Ver depoimento completo no YouTube</a></div></div></article><article\\nclass=\"testimony-student-card --videos\"><div\\nclass=\"testimony-container-box\" style=\"border-top-color:#051933;\"><div\\nclass=\"testimony-container-flex\">\\n<img\\nclass=\"testimony-icon\" src=\"/assets/img/depoimentos/alunos/joao-vitor-perez.1636535197.jpeg\" alt=\"Foto de Jo\\xc3\\xa3o Vitor Perez\"><p\\nclass=\"testimony-social-media\" style=\"border-color:#051933; background-color:#051933;\">YouTube</p></div><div\\nclass=\"testimony-container-text-student\"><h3 class=\"testimony-name-student\">Jo\\xc3\\xa3o Vitor Perez</h3><div\\nclass=\"testimony-video-preview\" data-src=\"BXhtLcHVejI\" style=\"background-image: url(\\'https://i3.ytimg.com/vi/BXhtLcHVejI/hqdefault.jpg\\')\"></div><p\\nclass=\"testimony-student-details\">Fui convidado por um grupo de pesquisa internacional para trabalhar como Cientista de Dados Jr...</p>\\n<a\\nhref=\"https://www.youtube.com/watch?v=BXhtLcHVejI\" target=\"_blank\" rel=\\xe2\\x80\\x9dnoopener\\xe2\\x80\\x9d class=\"testimony-link-social-media\">Ver depoimento completo no YouTube</a></div></div></article></div><div\\nclass=\"testimony-container-card\"><article\\nclass=\"testimony-student-card\"><div\\nclass=\"testimony-container-box\" style=\"border-top-color:#0966c1;\"><div\\nclass=\"testimony-container-flex\">\\n<img\\nclass=\"testimony-icon\" src=\"/assets/img/depoimentos/alunos/laiza-pimentel.1636535197.jpeg\" alt=\"Foto de La\\xc3\\xadza Pimentel\"><p\\nclass=\"testimony-social-media\" style=\"border-color:#0966c1; background-color:#0966c1;\">LinkedIn</p></div><div\\nclass=\"testimony-container-text-student\"><h3 class=\"testimony-name-student\">La\\xc3\\xadza Pimentel</h3><p\\nclass=\"testimony-student-details\">Estou amando a plataforma da Alura, consigo me empenhar e praticar os exerc\\xc3\\xadcios, professor totalmente did\\xc3\\xa1tico e bem explicativo para n\\xc3\\xa3o deixar nenhuma d\\xc3\\xbavida...</p>\\n<a\\nhref=\"https://www.linkedin.com/feed/update/urn:li:activity:6801182949632020480/?actorCompanyId=3824181\" target=\"_blank\" rel=\\xe2\\x80\\x9dnoopener\\xe2\\x80\\x9d class=\"testimony-link-social-media\">Ver depoimento completo no LinkedIn</a></div></div></article><article\\nclass=\"testimony-student-card\"><div\\nclass=\"testimony-container-box\" style=\"border-top-color:#1da1f2;\"><div\\nclass=\"testimony-container-flex\">\\n<img\\nclass=\"testimony-icon\" src=\"/assets/img/depoimentos/alunos/caroline-araujo.1636535197.jpeg\" alt=\"Foto de Caroline Araujo\"><p\\nclass=\"testimony-social-media\" style=\"border-color:#1da1f2; background-color:#1da1f2;\">Twitter</p></div><div\\nclass=\"testimony-container-text-student\"><h3 class=\"testimony-name-student\">Caroline Araujo</h3><p\\nclass=\"testimony-student-details\">Todas as aulas s\\xc3\\xa3o din\\xc3\\xa2micas, os tempos de cada aula s\\xc3\\xa3o de uma dura\\xc3\\xa7\\xc3\\xa3o ideal para vc n\\xc3\\xa3o dispersar...</p>\\n<a\\nhref=\"https://twitter.com/bidungona/status/1305787155713843201\" target=\"_blank\" rel=\\xe2\\x80\\x9dnoopener\\xe2\\x80\\x9d class=\"testimony-link-social-media\">Ver depoimento completo no Twitter</a></div></div></article><article\\nclass=\"testimony-student-card\"><div\\nclass=\"testimony-container-box\" style=\"border-top-color:#0966c1;\"><div\\nclass=\"testimony-container-flex\">\\n<img\\nclass=\"testimony-icon\" src=\"/assets/img/depoimentos/alunos/felipe-lemes-min.1636535197.jpeg\" alt=\"Foto de Felipe Lemes\"><p\\nclass=\"testimony-social-media\" style=\"border-color:#0966c1; background-color:#0966c1;\">LinkedIn</p></div><div\\nclass=\"testimony-container-text-student\"><h3 class=\"testimony-name-student\">Felipe Lemes</h3><p\\nclass=\"testimony-student-details\">Eu automatizei grande parte do meu trabalho como engenheiro ambiental com Python...</p>\\n<a\\nhref=\"https://www.linkedin.com/pulse/como-utilizei-programa%25C3%25A7%25C3%25A3o-para-otimizar-meu-trabalho-engenheiro/\" target=\"_blank\" rel=\\xe2\\x80\\x9dnoopener\\xe2\\x80\\x9d class=\"testimony-link-social-media\">Ver depoimento completo no LinkedIn</a></div></div></article></div></div><div\\nclass=\"planos-depoimentos__lerMais\">\\n<a\\nhref=\"/depoimentos\">Conhe\\xc3\\xa7a mais dezenas de hist\\xc3\\xb3rias de alunos e alunas da Alura!</a></div></section><section\\nclass=\"depoimentos-empresas\"><div\\nclass=\"container\">\\n<img\\nsrc=\"/assets/img/home/alura-para-empresas.1638154756.svg\" class=\"aluracorp-logo\"><div\\nclass=\"depoimentos-empresas__wrapper\"><div\\nclass=\"depoimentos-empressas__header\"><h3>Alura na medida</h3><h2>Para a sua Empresa</h2><p>Capacite suas equipes com forma\\xc3\\xa7\\xc3\\xb5es continuadas, lan\\xc3\\xa7amentos semanais, dashboards e\\nrelat\\xc3\\xb3rios de engajamento al\\xc3\\xa9m de guias de estudos customizados de acordo com sua necessidade.</p><p>Conhe\\xc3\\xa7a nossa proposta para sua empresa:</p>\\n<a\\nhref=\"/empresas\" class=\"depoimentos__buttons --desktop\">Conhe\\xc3\\xa7a os recursos</a></div><div\\nclass=\"depoimentos-wrapper b2b\"><ul><li>\\n<img\\nsrc=\"/assets/img/home/homeNova/testimonies/getninjas.1636535198.png\"/><p\\nclass=\"depoimento__text\">O time conseguiu aprender muito e um dos diferenciais para n\\xc3\\xb3s foi a l\\xc3\\xadngua, com conte\\xc3\\xbado de qualidade em portugu\\xc3\\xaas. Na Alura, a equipe conseguiu estudar pela plataforma online e aplicar tudo de maneira estruturada.</p><p\\nclass=\"depoimento__author\">Lucas Souza <span\\nclass=\"depoimento__company\">- GetNinjas</span></p></li><li>\\n<img\\nsrc=\"/assets/img/home/homeNova/testimonies/grendene.1636535198.png\"/><p\\nclass=\"depoimento__text\">Temos um padr\\xc3\\xa3o m\\xc3\\xadnimo de conhecimento para atuar na empresa. Este padr\\xc3\\xa3o \\xc3\\xa9 garantido aos nossos profissionais pelos cursos de nivelamento que disponibilizamos com a Alura.</p><p\\nclass=\"depoimento__author\">Vladimir Giovani Ferreira <span\\nclass=\"depoimento__company\">- Grendene</span></p></li><li>\\n<img\\nsrc=\"/assets/img/home/homeNova/testimonies/sompo-seguros.1636535198.png\"/><p\\nclass=\"depoimento__text\">A experi\\xc3\\xaancia com a Alura \\xc3\\xa9 muito boa: a equipe consegue estar sempre atualizada sobre as novas tecnologias, agregar conhecimentos e se aperfei\\xc3\\xa7oar. O acompanhamento mensal da equipe ajudou bastante, tanto como os relat\\xc3\\xb3rios gerenciais da plataforma.</p><p\\nclass=\"depoimento__author\">Marcelo Poubel Tatagiba <span\\nclass=\"depoimento__company\">- SOMPO Seguros</span></p></li>\\n<a\\nhref=\"/empresas\" class=\"depoimentos__buttons --mobile\">Conhe\\xc3\\xa7a os recursos</a></ul></div></div></div></section><section\\nclass=\"companies__using-alura\"><div\\nclass=\"container\"><h2 class=\"companies__using-alura__title\">Empresas que j\\xc3\\xa1 contam com a gente</h2><ul\\nclass=\"companies__using-alura__list\"><li\\nclass=\"companies__using-alura__list__item\">\\n<img\\nclass=\"companies__using-alura__list__item__image\"\\nsrc=\"/assets/img/home/homeNova/logo-empresas/logo-sulamerica.1636535198.svg\" alt=\"Amil\"></li><li\\nclass=\"companies__using-alura__list__item\">\\n<img\\nclass=\"companies__using-alura__list__item__image\"\\nsrc=\"/assets/img/home/homeNova/logo-empresas/logo-empresa-samsung.1636535198.svg\" alt=\"Samsung\"></li><li\\nclass=\"companies__using-alura__list__item\">\\n<img\\nclass=\"companies__using-alura__list__item__image\"\\nsrc=\"/assets/img/home/homeNova/logo-empresas/logo-empresa-santander.1636535198.svg\" alt=\"Santander\"></li><li\\nclass=\"companies__using-alura__list__item\">\\n<img\\nclass=\"companies__using-alura__list__item__image\"\\nsrc=\"/assets/img/home/homeNova/logo-empresas/logo-mercadolivre.1636535198.svg\" alt=\"Cielo\"></li><li\\nclass=\"companies__using-alura__list__item\">\\n<img\\nclass=\"companies__using-alura__list__item__image\"\\nsrc=\"/assets/img/home/homeNova/logo-empresas/logo-empresa-algar.1636535198.svg\" alt=\"Algar\"></li><li\\nclass=\"companies__using-alura__list__item\">\\n<img\\nclass=\"companies__using-alura__list__item__image\"\\nsrc=\"/assets/img/home/homeNova/logo-empresas/logo-empresa-caixa.1636535198.svg\" alt=\"Caixa\"></li><li\\nclass=\"companies__using-alura__list__item\">\\n<img\\nclass=\"companies__using-alura__list__item__image\"\\nsrc=\"/assets/img/home/homeNova/logo-empresas/logo-empresa-globo.1636535198.svg\" alt=\"Globo.com\"></li><li\\nclass=\"companies__using-alura__list__item\">\\n<img\\nclass=\"companies__using-alura__list__item__image\"\\nsrc=\"/assets/img/home/homeNova/logo-empresas/logo-nubank.1636535198.png\" alt=\"Nuank\"></li><li\\nclass=\"companies__using-alura__list__item\">\\n<img\\nclass=\"companies__using-alura__list__item__image\"\\nsrc=\"/assets/img/home/homeNova/logo-empresas/logo-totvs.1636535198.png\" alt=\"Totvs\"></li><li\\nclass=\"companies__using-alura__list__item\">\\n<img\\nclass=\"companies__using-alura__list__item__image\"\\nsrc=\"/assets/img/home/homeNova/logo-empresas/logo-tw.1636535198.png\" alt=\"ThoughtWorks\"></li><li\\nclass=\"companies__using-alura__list__item --small-logo\">\\n<img\\nclass=\"companies__using-alura__list__item__image\"\\nsrc=\"/assets/img/home/homeNova/logo-empresas/logo-itau.1636535198.png\" alt=\"Itau\"></li><li\\nclass=\"companies__using-alura__list__item\">\\n<img\\nclass=\"companies__using-alura__list__item__image\"\\nsrc=\"/assets/img/home/homeNova/logo-empresas/logo-porto.1636535198.png\" alt=\"Porto Seguro\"></li><li\\nclass=\"companies__using-alura__list__item --small-logo\">\\n<img\\nclass=\"companies__using-alura__list__item__image\"\\nsrc=\"/assets/img/home/homeNova/logo-empresas/logo-brq.1636535198.png\" alt=\"BRQ Digital Solutions\"></li><li\\nclass=\"companies__using-alura__list__item\">\\n<img\\nclass=\"companies__using-alura__list__item__image\"\\nsrc=\"/assets/img/home/homeNova/logo-empresas/logo-stone.1636535198.png\" alt=\"Stone\"></li></ul>\\n<a\\nhref=\"/empresas\" class=\"companies__using-alura__cta\">Confira o que oferecemos para empresas</a></div></section><section\\nclass=\"mobile\"><div\\nclass=\"container\"><div\\nclass=\"mobile__wrapper-info\"><div\\nclass=\"mobile__info mobile__info--forum\">\\n<img\\nsrc=\"/assets/img/home/icon-home-reload.1638241251.svg\" alt=\"\"/>\\n<strong>1343 cursos</strong><p>com lan\\xc3\\xa7amentos toda semana e atualiza\\xc3\\xa7\\xc3\\xb5es constantes</p></div><div\\nclass=\"mobile__info mobile__info--app\">\\n<img\\nsrc=\"/assets/img/home/icon-home-apps.1638241251.svg\" alt=\"\"/>\\n<strong>Aplicativos</strong><p>para Android e iOS, para voc\\xc3\\xaa baixar e estudar offline.</p></div></div><nav\\nclass=\"mobile__apps-download\">\\n<a\\nhref=\"https://play.google.com/store/apps/details?id=br.com.alura.mobi&hl=pt_BR\"\\nclass=\"mobile__apps-download__item mobile__apps-download__item--google-play\">Google\\nPlay</a>\\n<a\\nhref=\"https://itunes.apple.com/br/app/alura-cursos-online/id1225776635\"\\nclass=\"mobile__apps-download__item mobile__apps-download__item--app-store\">App\\nStore</a></nav></div></section><link\\nrel=\"stylesheet\" href=\"/assets/css/block/planosPagamentoOld.1638990627.css\"><section\\nclass=\"planos-pagamento\" id=\"planos-cursos-online\"><h2 class=\"planos-pagamento__titulo\">\\nSabe quando voc\\xc3\\xaa pode come\\xc3\\xa7ar? <span\\nclass=\"planos-pagamento__titulo--bold\">Agora!</span></h2><div\\nclass=\"container\"><div\\nclass=\"planos-pagamento__planos \"><div\\nclass=\"animation-trigger --animate\"></div><div\\nclass=\"planos-pagamento__plano planos-pagamento__plano--plus \"\\ndata-payment-plan  data-payment-plan-price=\"1.020\"><div\\nclass=\"planos-pagamento__header\"><h4 class=\"planos-pagamento__nome\">Plus</h4></div><ul\\nclass=\"planos-pagamento__vantagens\"><li\\nclass=\"planos-pagamento__vantagem\"><div\\nclass=\"planos-pagamento__wrapper planos-pagamento__wrapper--com-descricao\">\\n<span\\nclass=\"planos-pagamento__label\">Acesso a TODOS os cursos da plataforma</span><div\\nclass=\"planos-pagamento__legenda-tooltip\"><p\\nclass=\"planos-pagamento__legenda-descricao\">Mais de 1200 cursos completamente atualizados, com novos lan\\xc3\\xa7amentos todas as semanas, em\\nPrograma\\xc3\\xa7\\xc3\\xa3o, Front-end, UX & Design, Data Science, Mobile, DevOps e Inova\\xc3\\xa7\\xc3\\xa3o & Gest\\xc3\\xa3o.</p></div></div><div\\nclass=\"planos-pagamento__checkmark planos-pagamento__checkmark--ativo\">\\n<svg><use\\nxlink:href=\"/svg,1638241251/planosPagamento#icon-planosPagamento-checked\" /></svg></div></li><li\\nclass=\"planos-pagamento__vantagem\"><div\\nclass=\"planos-pagamento__wrapper planos-pagamento__wrapper--com-descricao\">\\n<span\\nclass=\"planos-pagamento__label\">Alura Challenges</span><div\\nclass=\"planos-pagamento__legenda-tooltip\"><p\\nclass=\"planos-pagamento__legenda-descricao\">Desafios tem\\xc3\\xa1ticos para voc\\xc3\\xaa turbinar seu portf\\xc3\\xb3lio. Voc\\xc3\\xaa aprende na pr\\xc3\\xa1tica, com exerc\\xc3\\xadcios e projetos que simulam o dia a dia profissional.</p></div></div><div\\nclass=\"planos-pagamento__checkmark planos-pagamento__checkmark--ativo\">\\n<svg><use\\nxlink:href=\"/svg,1638241251/planosPagamento#icon-planosPagamento-checked\" /></svg></div></li><li\\nclass=\"planos-pagamento__vantagem\"><div\\nclass=\"planos-pagamento__wrapper planos-pagamento__wrapper--com-descricao\">\\n<span\\nclass=\"planos-pagamento__label\">Alura Cases</span><div\\nclass=\"planos-pagamento__legenda-tooltip\"><p\\nclass=\"planos-pagamento__legenda-descricao\">Webs\\xc3\\xa9ries exclusivas com discuss\\xc3\\xb5es avan\\xc3\\xa7adas sobre arquitetura de sistemas com  profissionais de grandes corpora\\xc3\\xa7\\xc3\\xb5es e startups.</p></div></div><div\\nclass=\"planos-pagamento__checkmark planos-pagamento__checkmark--ativo\">\\n<svg><use\\nxlink:href=\"/svg,1638241251/planosPagamento#icon-planosPagamento-checked\" /></svg></div></li><li\\nclass=\"planos-pagamento__vantagem\"><div\\nclass=\"planos-pagamento__wrapper planos-pagamento__wrapper--com-descricao\">\\n<span\\nclass=\"planos-pagamento__label\">Certificado</span><div\\nclass=\"planos-pagamento__legenda-tooltip\"><p\\nclass=\"planos-pagamento__legenda-descricao\">Emitimos certificados para atestar que voc\\xc3\\xaa finalizou nossos cursos e forma\\xc3\\xa7\\xc3\\xb5es.</p></div></div><div\\nclass=\"planos-pagamento__checkmark planos-pagamento__checkmark--ativo\">\\n<svg><use\\nxlink:href=\"/svg,1638241251/planosPagamento#icon-planosPagamento-checked\" /></svg></div></li><li\\nclass=\"planos-pagamento__vantagem\"><div\\nclass=\"planos-pagamento__wrapper planos-pagamento__wrapper--com-descricao\">\\n<span\\nclass=\"planos-pagamento__label\">Alura L\\xc3\\xadngua (incluindo curso Ingl\\xc3\\xaas para Devs)</span><div\\nclass=\"planos-pagamento__legenda-tooltip\"><p\\nclass=\"planos-pagamento__legenda-descricao\">Estude a l\\xc3\\xadngua inglesa com um curso 100% focado em tecnologia e expanda seus horizontes profissionais.</p></div></div><div\\nclass=\"planos-pagamento__checkmark \">\\n<svg><use\\nxlink:href=\"/svg,1638241251/planosPagamento#icon-planosPagamento-checked\" /></svg></div></li></ul><div\\nclass=\"planos-pagamento__precos \">\\n<span\\nclass=\"planos-pagamento__numero-parcelas\">\\n12X\\n</span><div\\nclass=\"planos-pagamento__preco-parcela\\n\">\\n<span\\nclass=\"planos-pagamento__valor-parcela\">R$85</span></div><div\\nclass=\"planos-pagamento__preco-vista\">\\n<span\\nclass=\"planos-pagamento__label-vista\">\\xc3\\xa0 vista</span>\\n<span\\nclass=\"planos-pagamento__valor-vista\">R$1.020</span></div></div><a\\nclass=\"planos-pagamento__cta\" href=\"/compra/plus/\">\\nMatricule-se\\n</a></div><div\\nclass=\"planos-pagamento__plano planos-pagamento__plano--pro planos-pagamento__plano--best\"\\ndata-payment-plan  data-payment-plan-price=\"1.440\"><div\\nclass=\"planos-pagamento__header\"><h4 class=\"planos-pagamento__nome\">Pro</h4></div><ul\\nclass=\"planos-pagamento__vantagens\"><li\\nclass=\"planos-pagamento__vantagem\"><div\\nclass=\"planos-pagamento__wrapper planos-pagamento__wrapper--com-descricao\">\\n<span\\nclass=\"planos-pagamento__label\">Acesso a TODOS os cursos da plataforma</span><div\\nclass=\"planos-pagamento__legenda-tooltip\"><p\\nclass=\"planos-pagamento__legenda-descricao\">Mais de 1200 cursos completamente atualizados, com novos lan\\xc3\\xa7amentos todas as semanas, em\\nPrograma\\xc3\\xa7\\xc3\\xa3o, Front-end, UX & Design, Data Science, Mobile, DevOps e Inova\\xc3\\xa7\\xc3\\xa3o & Gest\\xc3\\xa3o.</p></div></div><div\\nclass=\"planos-pagamento__checkmark planos-pagamento__checkmark--ativo\">\\n<svg><use\\nxlink:href=\"/svg,1638241251/planosPagamento#icon-planosPagamento-checked\" /></svg></div></li><li\\nclass=\"planos-pagamento__vantagem\"><div\\nclass=\"planos-pagamento__wrapper planos-pagamento__wrapper--com-descricao\">\\n<span\\nclass=\"planos-pagamento__label\">Alura Challenges</span><div\\nclass=\"planos-pagamento__legenda-tooltip\"><p\\nclass=\"planos-pagamento__legenda-descricao\">Desafios tem\\xc3\\xa1ticos para voc\\xc3\\xaa turbinar seu portf\\xc3\\xb3lio. Voc\\xc3\\xaa aprende na pr\\xc3\\xa1tica, com exerc\\xc3\\xadcios e projetos que simulam o dia a dia profissional.</p></div></div><div\\nclass=\"planos-pagamento__checkmark planos-pagamento__checkmark--ativo\">\\n<svg><use\\nxlink:href=\"/svg,1638241251/planosPagamento#icon-planosPagamento-checked\" /></svg></div></li><li\\nclass=\"planos-pagamento__vantagem\"><div\\nclass=\"planos-pagamento__wrapper planos-pagamento__wrapper--com-descricao\">\\n<span\\nclass=\"planos-pagamento__label\">Alura Cases</span><div\\nclass=\"planos-pagamento__legenda-tooltip\"><p\\nclass=\"planos-pagamento__legenda-descricao\">Webs\\xc3\\xa9ries exclusivas com discuss\\xc3\\xb5es avan\\xc3\\xa7adas sobre arquitetura de sistemas com  profissionais de grandes corpora\\xc3\\xa7\\xc3\\xb5es e startups.</p></div></div><div\\nclass=\"planos-pagamento__checkmark planos-pagamento__checkmark--ativo\">\\n<svg><use\\nxlink:href=\"/svg,1638241251/planosPagamento#icon-planosPagamento-checked\" /></svg></div></li><li\\nclass=\"planos-pagamento__vantagem\"><div\\nclass=\"planos-pagamento__wrapper planos-pagamento__wrapper--com-descricao\">\\n<span\\nclass=\"planos-pagamento__label\">Certificado</span><div\\nclass=\"planos-pagamento__legenda-tooltip\"><p\\nclass=\"planos-pagamento__legenda-descricao\">Emitimos certificados para atestar que voc\\xc3\\xaa finalizou nossos cursos e forma\\xc3\\xa7\\xc3\\xb5es.</p></div></div><div\\nclass=\"planos-pagamento__checkmark planos-pagamento__checkmark--ativo\">\\n<svg><use\\nxlink:href=\"/svg,1638241251/planosPagamento#icon-planosPagamento-checked\" /></svg></div></li><li\\nclass=\"planos-pagamento__vantagem\"><div\\nclass=\"planos-pagamento__wrapper planos-pagamento__wrapper--com-descricao\">\\n<span\\nclass=\"planos-pagamento__label\">Alura L\\xc3\\xadngua (incluindo curso Ingl\\xc3\\xaas para Devs)</span><div\\nclass=\"planos-pagamento__legenda-tooltip\"><p\\nclass=\"planos-pagamento__legenda-descricao\">Estude a l\\xc3\\xadngua inglesa com um curso 100% focado em tecnologia e expanda seus horizontes profissionais.</p></div></div><div\\nclass=\"planos-pagamento__checkmark planos-pagamento__checkmark--ativo\">\\n<svg><use\\nxlink:href=\"/svg,1638241251/planosPagamento#icon-planosPagamento-checked\" /></svg></div></li></ul><div\\nclass=\"planos-pagamento__precos \">\\n<span\\nclass=\"planos-pagamento__numero-parcelas\">\\n12X\\n</span><div\\nclass=\"planos-pagamento__preco-parcela\\n\">\\n<span\\nclass=\"planos-pagamento__valor-parcela\">R$120</span></div><div\\nclass=\"planos-pagamento__preco-vista\">\\n<span\\nclass=\"planos-pagamento__label-vista\">\\xc3\\xa0 vista</span>\\n<span\\nclass=\"planos-pagamento__valor-vista\">R$1.440</span></div></div><a\\nclass=\"planos-pagamento__cta\" href=\"/compra/pro/\">\\nMatricule-se\\n</a></div></div></div><a\\nclass=\"planos-pagamento__b2b\" href=\"/empresas\">\\n<span>Conhe\\xc3\\xa7a os <strong>Planos para Empresas</strong></span>\\n</a><div\\nclass=\"planosPagamento-vantagens\"><div\\nclass=\"container\"><div\\nclass=\"planosPagamento-vantagens-vantagem acesso\">\\n<img\\nsrc=\"/assets/img/home/icon-plan-calendar.1638241251.svg\"><p>Acesso completo <br\\n/> durante 1 ano</p></div><div\\nclass=\"planosPagamento-vantagens-vantagem horas\">\\n<img\\nsrc=\"/assets/img/home/icon-plan-moon.1638241251.svg\"><p>Estude 24h/dia <br\\n/> onde e quando quiser</p></div><div\\nclass=\"planosPagamento-vantagens-vantagem novos\">\\n<img\\nsrc=\"/assets/img/home/icon-plan-reload.1638241251.svg\"><p>Novos cursos <br\\n/> todas as semanas</p></div></div></div></section> <script src=\"/assets/js/planosPagamentoOld.1636535198.js\"></script> </main><div\\nid=\"videoModalWindow\"><div\\nclass=\"closeModal\"></div>\\n<iframe\\nid=\"videoIframe\" width=\"100%\" height=\"400\" src=\"\" title=\"YouTube video player\" frameborder=\"0\" allow=\"accelerometer; autoplay; clipboard-write; encrypted-media; gyroscope; picture-in-picture\" allow=\"autoplay; encrypted-media\" allowfullscreen></iframe></div><link\\nrel=\"stylesheet\" href=\"/assets/css/block/footer.1638241251.css\"><footer\\nclass=\"footer\"><div\\nclass=\"container\"><div\\nclass=\"footer-navegue\"><h2 class=\"footer-navegacao-titulo\">Navega\\xc3\\xa7\\xc3\\xa3o</h2><ul\\nclass=\"footer-navegue-lista\"><li\\nclass=\"footer-navegue-lista-link\"><a\\nhref=\"/planos-cursos-online\" gtm-data=\\'footer_primeira_secao_053\\'>Planos</a></li><li\\nclass=\"footer-navegue-lista-link\"><a\\nhref=\"/cursos-online-tecnologia\" gtm-data=\\'footer_primeira_secao_054\\'>Todos os cursos</a></li><li\\nclass=\"footer-navegue-lista-link\"><a\\nhref=\"/cases\">Alura Cases</a></li><li\\nclass=\"footer-navegue-lista-link\"><a\\nhref=\"/guias\">Guia de carreira</a></li><li\\nclass=\"footer-navegue-lista-link\"><a\\nhref=\"/instrutores\" gtm-data=\\'footer_primeira_secao_056\\'>Instrutores</a></li><li\\nclass=\"footer-navegue-lista-link\"><a\\nhref=\"https://grupoalura.gupy.io\">Trabalhe conosco</a></li><li\\nclass=\"footer-navegue-lista-link\"><a\\nhref=\"/quero-ser-instrutor\" gtm-data=\\'footer_primeira_secao_057\\'>Como virar instrutor</a></li><li\\nclass=\"footer-navegue-lista-link\"><a\\nhref=\"/artigos\" gtm-data=\\'footer_primeira_secao_058\\'>Artigos</a></li><li\\nclass=\"footer-navegue-lista-link\"><a\\nhref=\"/escolas\">Para Escolas</a></li><li\\nclass=\"footer-navegue-lista-link\"><a\\nhref=\"/podcasts\">Podcasts</a></li><li\\nclass=\"footer-navegue-lista-link\"><a\\nhref=\"/politica-de-privacidade\" gtm-data=\\'footer_primeira_secao_061\\'>Pol\\xc3\\xadtica de Privacidade</a></li><li\\nclass=\"footer-navegue-lista-link\"><a\\nhref=\"/termos-de-uso\" gtm-data=\\'footer_primeira_secao_062\\'>Termos de Uso</a></li><li\\nclass=\"footer-navegue-lista-link\"><a\\nhref=\"/sobre\" gtm-data=\\'footer_primeira_secao_063\\'>Sobre n\\xc3\\xb3s</a></li><li\\nclass=\"footer-navegue-lista-link\"><a\\nhref=\"/como-funciona\" gtm-data=\\'footer_primeira_secao_064\\'>Como Funciona</a></li><li\\nclass=\"footer-navegue-lista-link\"><a\\nhref=\"/dev-em-t\" gtm-data=\\'footer_primeira_secao_065\\'>Dev em &lt;T&gt;</a></li><li\\nclass=\"footer-navegue-lista-link\"><a\\nhref=\"https://suporte.alura.com.br/\" gtm-data=\\'footer_primeira_secao_066\\'>Perguntas frequentes</a></li><li\\nclass=\"footer-navegue-lista-link\"><a\\nhref=\"https://status.alura.com.br/\">Status</a></li></ul><h2 class=\"footer-navegacao-titulo\">Fale com a gente</h2><ul\\nclass=\"footer-navegue-lista\"><li\\nclass=\"footer-navegue-lista-link whatsapp-icon\"><a\\nhref=\"https://api.whatsapp.com/send?phone=5511984510286\">Whatsapp</a></li><li\\nclass=\"footer-navegue-lista-link\"><a\\nhref=\"https://www.alura.com.br/contato\">Email e telefone</a></li></ul><h2 class=\"footer-navegacao-titulo\">Blog</h2><ul\\nclass=\"footer-navegue-lista\"><li\\nclass=\"footer-navegue-lista-link\">\\n<a\\nhref=\"/artigos/programacao\">\\nPrograma\\xc3\\xa7\\xc3\\xa3o\\t\\t\\t\\t\\t\\t\\t</a></li><li\\nclass=\"footer-navegue-lista-link\">\\n<a\\nhref=\"/artigos/front-end\">\\nFront-end\\t\\t\\t\\t\\t\\t\\t</a></li><li\\nclass=\"footer-navegue-lista-link\">\\n<a\\nhref=\"/artigos/data-science\">\\nData Science\\t\\t\\t\\t\\t\\t\\t</a></li><li\\nclass=\"footer-navegue-lista-link\">\\n<a\\nhref=\"/artigos/devops\">\\nDevOps\\t\\t\\t\\t\\t\\t\\t</a></li><li\\nclass=\"footer-navegue-lista-link\">\\n<a\\nhref=\"/artigos/design-ux\">\\nUX & Design\\t\\t\\t\\t\\t\\t\\t</a></li><li\\nclass=\"footer-navegue-lista-link\">\\n<a\\nhref=\"/artigos/mobile\">\\nMobile\\t\\t\\t\\t\\t\\t\\t</a></li><li\\nclass=\"footer-navegue-lista-link\">\\n<a\\nhref=\"/artigos/inovacao-gestao\">\\nInova\\xc3\\xa7\\xc3\\xa3o & Gest\\xc3\\xa3o\\t\\t\\t\\t\\t\\t\\t</a></li></ul></div><div\\nclass=\"footer-card-hotLinks social-mobile\"><p\\nclass=\"footer-navegue-lista-link --description\">\\n<span\\nclass=\"footer-empresa-item\">AOVS Sistemas de Inform\\xc3\\xa1tica S.A</span>\\n<span\\nclass=\"footer-empresa-item\">CNPJ 05.555.382/0001-33</span></p><h2 class=\"footer-card-hotLinks-titulo\">Nossas redes e apps</h2><div\\nclass=\"footer-card-hotLinks-info footer-card-redes\">\\n<a\\nhref=\"https://www.youtube.com/alura\" gtm-data=\\'footer_primeira_secao_065\\' class=\"footer-card-hotLinks-link\" target=\"_blank\" rel=\"noopener\" title=\"YouTube da Alura\">\\n<svg\\nclass=\"footer-card-hotLinks-icon footer-card-hotLinks-youtube\"><use\\nxlink:href=\"/svg,1636535197/footer#icon-footer-youtube\"/></svg>\\n<span>YouTube</span>\\n</a>\\n<a\\nhref=\"https://www.facebook.com/AluraCursosOnline/\" gtm-data=\\'footer_primeira_secao_066\\' class=\"footer-card-hotLinks-link\" target=\"_blank\" rel=\"noopener\" title=\"Facebook da Alura\">\\n<svg\\nclass=\"footer-card-hotLinks-icon footer-card-hotLinks-facebook\"><use\\nxlink:href=\"/svg,1636535197/footer#icon-footer-facebook\"/></svg>\\n<span>Facebook</span>\\n</a>\\n<a\\nhref=\"https://twitter.com/aluraonline\" gtm-data=\\'footer_primeira_secao_067\\' class=\"footer-card-hotLinks-link\" target=\"_blank\" rel=\"noopener\" title=\"Twitter da Alura\">\\n<svg\\nclass=\"footer-card-hotLinks-icon footer-card-hotLinks-twitter\"><use\\nxlink:href=\"/svg,1636535197/footer#icon-footer-twitter\"/></svg>\\n<span>Twitter</span>\\n</a>\\n<a\\nhref=\"https://instagram.com/aluraonline\" class=\"footer-card-hotLinks-link\" gtm-data=\\'footer_primeira_secao_073\\' target=\"_blank\" rel=\"noopener\" title=\"Instagram da Alura\">\\n<svg\\nclass=\"footer-card-hotLinks-icon footer-card-hotLinks-instagram\"><use\\nxlink:href=\"/svg,1636535197/footer#icon-footer-instagram\"/></svg>\\n<span>Instagram</span>\\n</a></div><div\\nclass=\"footer-card-hotLinks-info footer-card-mobile\">\\n<a\\nhref=\"https://play.google.com/store/apps/details?id=br.com.alura.mobi&hl=pt_BR\" gtm-data=\\'footer_primeira_secao_069\\' class=\"footer-card-hotLinks-link\" target=\"_blank\" rel=\"noopener\" title=\"Baixar na Google Play Store\">\\n<svg\\nclass=\"footer-card-hotLinks-icon footer-card-hotLinks-mobile\"><use\\nxlink:href=\"/svg,1636535197/footer#icon-footer-googleplay\"/></svg>\\n<span>Google Play Store</span>\\n</a>\\n<a\\nhref=\"https://itunes.apple.com/br/app/alura-cursos-online/id1225776635\" gtm-data=\\'footer_primeira_secao_070\\' class=\"footer-card-hotLinks-link\" target=\"_blank\" rel=\"noopener\" title=\"Baixar na AppStore\">\\n<svg\\nclass=\"footer-card-hotLinks-icon footer-card-hotLinks-mobile\"><use\\nxlink:href=\"/svg,1636535197/footer#icon-footer-appstore\"/></svg>\\n<span>AppStore</span>\\n</a></div></div><div\\nclass=\"footer-column footer-column-cards\"><link\\nrel=\"stylesheet\" href=\"/assets/css/block/activeCampaignNewsletterForm.1636535197.css\"><div\\nclass=\"newsletter\"><h2 class=\"newsletter-titulo\">Novidades e Lan\\xc3\\xa7amentos</h2><form\\nid=\"newsletter-form__activecampaign\" class=\"newsletter-form\" action=\"/api/activecampaign\" method=\"POST\"><input\\ntype=\"hidden\" name=\"list\" value=\"14\">\\n<input\\ntype=\"hidden\" name=\"retorno\" value=\"/newsletter-cadastrado\"><label\\nfor=\"email-newsletter\">Email</label>\\n<input\\ntype=\"email\" name=\"email\" class=\"newsletter-input\" placeholder=\"Seu e-mail\" id=\"email-newsletter\"><button\\ntype=\"submit\" class=\"newsletter-button buttonForm\">Receber</button>\\n<span\\nclass=\"newsletter-message-error newsletter-message-error--disabled\">N\\xc3\\xa3o foi poss\\xc3\\xadvel assinar a newsletter</span></form></div> <script>(function() {\\n            function criaCampo(nome, valor, form) {\\n                if (valor === null) return;\\n\\n                var input = document.createElement(\\'input\\');\\n                input.type = \\'hidden\\';\\n                input.name = nome;\\n                input.value = valor;\\n\\n                form.appendChild(input);\\n            }\\n\\n            function param(name) {\\n                var url = location.href;\\n                name = name.replace(/[\\\\[]/,\"\\\\\\\\\\\\[\").replace(/[\\\\]]/,\"\\\\\\\\\\\\]\");\\n                var regexS = \"[\\\\\\\\?&]\"+name+\"=([^&#]*)\";\\n                var regex = new RegExp( regexS );\\n                var results = regex.exec( url );\\n                return results == null ? null : results[1];\\n            }\\n\\n            function showNewsletterError() {\\n                document.querySelector(\\'.newsletter-message-error\\').classList.remove(\\'newsletter-message-error--disabled\\');\\n            }\\n\\n            function valida() {\\n                var isValid = true;\\n                var inputList = document.querySelector(\\'#newsletter-form__activecampaign\\')[\\'list\\'];\\n                var inputEmail = document.querySelector(\\'#newsletter-form__activecampaign\\')[\\'email\\'];\\n\\n                isValid = validaEmail(inputEmail.value) && validaList(inputList.value);\\n\\n                if(!isValid) {\\n                    showNewsletterError();\\n                }\\n\\n                return isValid;\\n            }\\n\\n            function validaList(list) {\\n                return list != \\'-1\\';\\n            }\\n\\n            function validaEmail(email) {\\n                var re = /^(([^<>()\\\\[\\\\]\\\\\\\\.,;:\\\\s@\"]+(\\\\.[^<>()\\\\[\\\\]\\\\\\\\.,;:\\\\s@\"]+)*)|(\".+\"))@((\\\\[[0-9]{1,3}\\\\.[0-9]{1,3}\\\\.[0-9]{1,3}\\\\.[0-9]{1,3}])|(([a-zA-Z\\\\-0-9]+\\\\.)+[a-zA-Z]{2,}))$/;\\n                return re.test(email);\\n            }\\n\\n            var form = document.querySelector(\\'#newsletter-form__activecampaign\\');\\n            if(!form) return;\\n\\n            criaCampo(\\'utm_source\\', param(\\'utm_source\\'), form);\\n            criaCampo(\\'utm_campaign\\', param(\\'utm_campaign\\'), form);\\n            criaCampo(\\'utm_medium\\', param(\\'utm_medium\\'), form);\\n            criaCampo(\\'utm_term\\', param(\\'utm_term\\'), form);\\n            criaCampo(\\'utm_content\\', param(\\'utm_content\\'), form);\\n            criaCampo(\\'full_url\\', location.href, form);\\n            criaCampo(\\'user_agent\\', navigator.userAgent, form);\\n            criaCampo(\\'referral\\', document.referrer, form);\\n\\n            form.onsubmit = valida;\\n\\n        })();</script> <div\\nclass=\"footer-navegue empresa-governo\"><h2 class=\"footer-navegacao-titulo\">Alura na sua empresa</h2><ul\\nclass=\"footer-navegue-lista\"><li\\nclass=\"footer-navegue-lista-link --description\">Desenvolva seu time com apoio da nossa solu\\xc3\\xa7\\xc3\\xa3o</li><li\\nclass=\"footer-navegue-lista-link\"><a\\nhref=\"/empresas/cases\">Cases</a></li><li\\nclass=\"footer-navegue-lista-link\"><a\\nhref=\"/empresas/comunidade\">Comunidade</a></li><li\\nclass=\"footer-navegue-lista-link\"><a\\nhref=\"/empresas/guias-de-carreira\">Guia de Carreira</a></li><li\\nclass=\"footer-navegue-lista-link\"><a\\nhref=\"/empresas/na-midia\">Na M\\xc3\\xaddia</a></li><li\\nclass=\"footer-navegue-lista-link --description\"><a\\nhref=\"https://www.alura.com.br/empresas\">Conhe\\xc3\\xa7a mais</a></li></ul><h2 class=\"footer-navegacao-titulo\">Comunidade</h2><ul\\nclass=\"footer-navegue-lista\"><li\\nclass=\"footer-navegue-lista-link\"><a\\nhref=\"https://www.scuba.dev.br/\" gtm-data=\"footer_primeira_secao_067\">Scuba Dev</a></li><li\\nclass=\"footer-navegue-lista-link\"><a\\nhref=\"/imersao\" gtm-data=\"footer_primeira_secao_068\">Imers\\xc3\\xb5es</a></li><li\\nclass=\"footer-navegue-lista-link\"><a\\nhref=\"/depoimentos\" gtm-data=\"footer_primeira_secao_069\">Depoimentos</a></li><li\\nclass=\"footer-navegue-lista-link\"><a\\nhref=\"/instrutores\" gtm-data=\"footer_primeira_secao_061\">Nossos Instrutores</a></li></ul><h2 class=\"footer-navegacao-titulo\">Parceiros</h2><ul\\nclass=\"footer-navegue-lista\"><li\\nclass=\"footer-navegue-lista-link --description\">\\n<img\\nsrc=\"/assets/img/footer/scale-up-endeavor.1636535197.png\" alt=\"Programa de acelera\\xc3\\xa7\\xc3\\xa3o Scale-Up Endeavor\" class=\"footer-navegue-lista__image\" loading=\"lazy\"></li><li\\nclass=\"footer-navegue-lista-link --description --partners\">\\nN\\xc3\\xb3s, da Alura, somos uma das Scale-Ups selecionadas pela Endeavor, programa de acelera\\xc3\\xa7\\xc3\\xa3o das empresas que mais crescem no pa\\xc3\\xads.</li><li\\nclass=\"footer-navegue-lista-link --description\">\\n<img\\nsrc=\"/assets/img/footer/google-alumni-2021.1636535197.png\" alt=\"Growth Academy 2021 do Google For Startups\" class=\"footer-navegue-lista__image\" loading=\"lazy\"></li><li\\nclass=\"footer-navegue-lista-link --description --partners\">\\nFomos uma das 7 startups selecionadas pelo Google For Startups a participar do programa Growth Academy em 2021.</li></ul></div></div><div\\nclass=\"footer-info\"><div\\nclass=\"footer-logos\">\\n<a\\nclass=\"footer-logos-home\" gtm-data=\\'footer_primeira_secao_050\\' href=\"/\">\\n<img\\nsrc=\"/assets/img/home/alura-logo.1638241251.svg\" alt=\"Alura\" class=\"footer-logo\" loading=\"lazy\">\\n</a></div><div\\nclass=\"footer-card-hotLinks social-desktop\"><p\\nclass=\"footer-navegue-lista-link --description\">\\n<span\\nclass=\"footer-empresa-item\">AOVS Sistemas de Inform\\xc3\\xa1tica S.A</span>\\n<span\\nclass=\"footer-empresa-item\">CNPJ 05.555.382/0001-33</span></p><h2 class=\"footer-card-hotLinks-titulo\">Nossas redes e apps</h2><div\\nclass=\"footer-card-hotLinks-info footer-card-redes\">\\n<a\\nhref=\"https://www.youtube.com/alura\" gtm-data=\\'footer_primeira_secao_065\\' class=\"footer-card-hotLinks-link\" target=\"_blank\" rel=\"noopener\" title=\"YouTube da Alura\">\\n<svg\\nclass=\"footer-card-hotLinks-icon footer-card-hotLinks-youtube\"><use\\nxlink:href=\"/svg,1636535197/footer#icon-footer-youtube\"/></svg>\\n<span>YouTube</span>\\n</a>\\n<a\\nhref=\"https://www.facebook.com/AluraCursosOnline/\" gtm-data=\\'footer_primeira_secao_066\\' class=\"footer-card-hotLinks-link\" target=\"_blank\" rel=\"noopener\" title=\"Facebook da Alura\">\\n<svg\\nclass=\"footer-card-hotLinks-icon footer-card-hotLinks-facebook\"><use\\nxlink:href=\"/svg,1636535197/footer#icon-footer-facebook\"/></svg>\\n<span>Facebook</span>\\n</a>\\n<a\\nhref=\"https://twitter.com/aluraonline\" gtm-data=\\'footer_primeira_secao_067\\' class=\"footer-card-hotLinks-link\" target=\"_blank\" rel=\"noopener\" title=\"Twitter da Alura\">\\n<svg\\nclass=\"footer-card-hotLinks-icon footer-card-hotLinks-twitter\"><use\\nxlink:href=\"/svg,1636535197/footer#icon-footer-twitter\"/></svg>\\n<span>Twitter</span>\\n</a>\\n<a\\nhref=\"https://instagram.com/aluraonline\" class=\"footer-card-hotLinks-link\" gtm-data=\\'footer_primeira_secao_073\\' target=\"_blank\" rel=\"noopener\" title=\"Instagram da Alura\">\\n<svg\\nclass=\"footer-card-hotLinks-icon footer-card-hotLinks-instagram\"><use\\nxlink:href=\"/svg,1636535197/footer#icon-footer-instagram\"/></svg>\\n<span>Instagram</span>\\n</a></div><div\\nclass=\"footer-card-hotLinks-info footer-card-mobile\">\\n<a\\nhref=\"https://play.google.com/store/apps/details?id=br.com.alura.mobi&hl=pt_BR\" gtm-data=\\'footer_primeira_secao_069\\' class=\"footer-card-hotLinks-link\" target=\"_blank\" rel=\"noopener\" title=\"Baixar na Google Play Store\">\\n<svg\\nclass=\"footer-card-hotLinks-icon footer-card-hotLinks-mobile\"><use\\nxlink:href=\"/svg,1636535197/footer#icon-footer-googleplay\"/></svg>\\n<span>Google Play Store</span>\\n</a>\\n<a\\nhref=\"https://itunes.apple.com/br/app/alura-cursos-online/id1225776635\" gtm-data=\\'footer_primeira_secao_070\\' class=\"footer-card-hotLinks-link\" target=\"_blank\" rel=\"noopener\" title=\"Baixar na AppStore\">\\n<svg\\nclass=\"footer-card-hotLinks-icon footer-card-hotLinks-mobile\"><use\\nxlink:href=\"/svg,1636535197/footer#icon-footer-appstore\"/></svg>\\n<span>AppStore</span>\\n</a></div></div></div></div></footer><section\\nclass=\"footer_categorias-formacoes\"><div\\nclass=\"container\"><div\\nclass=\"footer_categorias_wrapper\"><h2 class=\"footer_categorias_title\">Cursos</h2><div\\nclass=\"footer_categorias_categorias footer-navegue-lista-link\"><div\\nclass=\"footer_categorias_categoria\">\\n<a\\nhref=\"/cursos-online-programacao\">Cursos de Programa\\xc3\\xa7\\xc3\\xa3o</a><div\\nclass=\"footer_categorias_subcategorias\">\\n<a\\nhref=\"/cursos-online-programacao/logica\">\\nL\\xc3\\xb3gica\\t\\t\\t\\t\\t\\t\\t\\t\\t\\t</a>\\n|\\t\\t\\t\\t\\t\\t\\t\\t\\t\\t\\t\\t\\t\\t\\t\\t\\t\\t\\t<a\\nhref=\"/cursos-online-programacao/python\">\\nPython\\t\\t\\t\\t\\t\\t\\t\\t\\t\\t</a>\\n|\\t\\t\\t\\t\\t\\t\\t\\t\\t\\t\\t\\t\\t\\t\\t\\t\\t\\t\\t<a\\nhref=\"/cursos-online-programacao/php\">\\nPHP\\t\\t\\t\\t\\t\\t\\t\\t\\t\\t</a>\\n|\\t\\t\\t\\t\\t\\t\\t\\t\\t\\t\\t\\t\\t\\t\\t\\t\\t\\t\\t<a\\nhref=\"/cursos-online-programacao/java\">\\nJava\\t\\t\\t\\t\\t\\t\\t\\t\\t\\t</a>\\n|\\t\\t\\t\\t\\t\\t\\t\\t\\t\\t\\t\\t\\t\\t\\t\\t\\t\\t\\t<a\\nhref=\"/cursos-online-programacao/dotnet\">\\n.NET\\t\\t\\t\\t\\t\\t\\t\\t\\t\\t</a>\\n|\\t\\t\\t\\t\\t\\t\\t\\t\\t\\t\\t\\t\\t\\t\\t\\t\\t\\t\\t<a\\nhref=\"/cursos-online-programacao/node-js\">\\nNode JS\\t\\t\\t\\t\\t\\t\\t\\t\\t\\t</a>\\n|\\t\\t\\t\\t\\t\\t\\t\\t\\t\\t\\t\\t\\t\\t\\t\\t\\t\\t\\t<a\\nhref=\"/cursos-online-programacao/linguagem-c\">\\nC\\t\\t\\t\\t\\t\\t\\t\\t\\t\\t</a>\\n|\\t\\t\\t\\t\\t\\t\\t\\t\\t\\t\\t\\t\\t\\t\\t\\t\\t\\t\\t<a\\nhref=\"/cursos-online-programacao/computacao\">\\nComputa\\xc3\\xa7\\xc3\\xa3o\\t\\t\\t\\t\\t\\t\\t\\t\\t\\t</a>\\n|\\t\\t\\t\\t\\t\\t\\t\\t\\t\\t\\t\\t\\t\\t\\t\\t\\t\\t\\t<a\\nhref=\"/cursos-online-programacao/jogos\">\\nJogos\\t\\t\\t\\t\\t\\t\\t\\t\\t\\t</a>\\n|\\t\\t\\t\\t\\t\\t\\t\\t\\t\\t\\t\\t\\t\\t\\t\\t\\t\\t\\t<a\\nhref=\"/cursos-online-programacao/internet-das-coisas\">\\nIoT\\t\\t\\t\\t\\t\\t\\t\\t\\t\\t</a></div></div><div\\nclass=\"footer_categorias_categoria\">\\n<a\\nhref=\"/cursos-online-front-end\">Cursos de Front-end</a><div\\nclass=\"footer_categorias_subcategorias\">\\n<a\\nhref=\"/cursos-online-front-end/front-end\">\\nHTML, CSS\\t\\t\\t\\t\\t\\t\\t\\t\\t\\t</a>\\n|\\t\\t\\t\\t\\t\\t\\t\\t\\t\\t\\t\\t\\t\\t\\t\\t\\t\\t\\t<a\\nhref=\"/cursos-online-front-end/reactjs\">\\nReact\\t\\t\\t\\t\\t\\t\\t\\t\\t\\t</a>\\n|\\t\\t\\t\\t\\t\\t\\t\\t\\t\\t\\t\\t\\t\\t\\t\\t\\t\\t\\t<a\\nhref=\"/cursos-online-front-end/angular\">\\nAngular\\t\\t\\t\\t\\t\\t\\t\\t\\t\\t</a>\\n|\\t\\t\\t\\t\\t\\t\\t\\t\\t\\t\\t\\t\\t\\t\\t\\t\\t\\t\\t<a\\nhref=\"/cursos-online-front-end/javascript\">\\nJavaScript\\t\\t\\t\\t\\t\\t\\t\\t\\t\\t</a>\\n|\\t\\t\\t\\t\\t\\t\\t\\t\\t\\t\\t\\t\\t\\t\\t\\t\\t\\t\\t<a\\nhref=\"/cursos-online-front-end/jquery\">\\njQuery\\t\\t\\t\\t\\t\\t\\t\\t\\t\\t</a></div></div><div\\nclass=\"footer_categorias_categoria\">\\n<a\\nhref=\"/cursos-online-data-science\">Cursos de Data Science</a><div\\nclass=\"footer_categorias_subcategorias\">\\n<a\\nhref=\"/cursos-online-data-science/data-science\">\\nCi\\xc3\\xaancia de dados\\t\\t\\t\\t\\t\\t\\t\\t\\t\\t</a>\\n|\\t\\t\\t\\t\\t\\t\\t\\t\\t\\t\\t\\t\\t\\t\\t\\t\\t\\t\\t<a\\nhref=\"/cursos-online-data-science/business-intelligence\">\\nBI\\t\\t\\t\\t\\t\\t\\t\\t\\t\\t</a>\\n|\\t\\t\\t\\t\\t\\t\\t\\t\\t\\t\\t\\t\\t\\t\\t\\t\\t\\t\\t<a\\nhref=\"/cursos-online-data-science/sql\">\\nSQL e Banco de Dados\\t\\t\\t\\t\\t\\t\\t\\t\\t\\t</a>\\n|\\t\\t\\t\\t\\t\\t\\t\\t\\t\\t\\t\\t\\t\\t\\t\\t\\t\\t\\t<a\\nhref=\"/cursos-online-data-science/excel\">\\nExcel\\t\\t\\t\\t\\t\\t\\t\\t\\t\\t</a>\\n|\\t\\t\\t\\t\\t\\t\\t\\t\\t\\t\\t\\t\\t\\t\\t\\t\\t\\t\\t<a\\nhref=\"/cursos-online-data-science/machine-learning\">\\nMachine Learning\\t\\t\\t\\t\\t\\t\\t\\t\\t\\t</a>\\n|\\t\\t\\t\\t\\t\\t\\t\\t\\t\\t\\t\\t\\t\\t\\t\\t\\t\\t\\t<a\\nhref=\"/cursos-online-data-science/nosql\">\\nNoSQL\\t\\t\\t\\t\\t\\t\\t\\t\\t\\t</a>\\n|\\t\\t\\t\\t\\t\\t\\t\\t\\t\\t\\t\\t\\t\\t\\t\\t\\t\\t\\t<a\\nhref=\"/cursos-online-data-science/estatistica\">\\nEstat\\xc3\\xadstica\\t\\t\\t\\t\\t\\t\\t\\t\\t\\t</a></div></div><div\\nclass=\"footer_categorias_categoria\">\\n<a\\nhref=\"/cursos-online-devops\">Cursos de DevOps</a><div\\nclass=\"footer_categorias_subcategorias\">\\n<a\\nhref=\"/cursos-online-devops/aws\">\\nAWS\\t\\t\\t\\t\\t\\t\\t\\t\\t\\t</a>\\n|\\t\\t\\t\\t\\t\\t\\t\\t\\t\\t\\t\\t\\t\\t\\t\\t\\t\\t\\t<a\\nhref=\"/cursos-online-devops/azure\">\\nAzure\\t\\t\\t\\t\\t\\t\\t\\t\\t\\t</a>\\n|\\t\\t\\t\\t\\t\\t\\t\\t\\t\\t\\t\\t\\t\\t\\t\\t\\t\\t\\t<a\\nhref=\"/cursos-online-devops/containers\">\\nDocker\\t\\t\\t\\t\\t\\t\\t\\t\\t\\t</a>\\n|\\t\\t\\t\\t\\t\\t\\t\\t\\t\\t\\t\\t\\t\\t\\t\\t\\t\\t\\t<a\\nhref=\"/cursos-online-devops/seguranca\">\\nSeguran\\xc3\\xa7a\\t\\t\\t\\t\\t\\t\\t\\t\\t\\t</a>\\n|\\t\\t\\t\\t\\t\\t\\t\\t\\t\\t\\t\\t\\t\\t\\t\\t\\t\\t\\t<a\\nhref=\"/cursos-online-devops/infraestrutura-como-codigo\">\\nIaC\\t\\t\\t\\t\\t\\t\\t\\t\\t\\t</a>\\n|\\t\\t\\t\\t\\t\\t\\t\\t\\t\\t\\t\\t\\t\\t\\t\\t\\t\\t\\t<a\\nhref=\"/cursos-online-devops/linux-comandos-e-processos\">\\nLinux\\t\\t\\t\\t\\t\\t\\t\\t\\t\\t</a></div></div><div\\nclass=\"footer_categorias_categoria\">\\n<a\\nhref=\"/cursos-online-design-ux\">Cursos de UX & Design</a><div\\nclass=\"footer_categorias_subcategorias\">\\n<a\\nhref=\"/cursos-online-design-ux/wwww\">\\nPhotoshop e Illustrator\\t\\t\\t\\t\\t\\t\\t\\t\\t\\t</a>\\n|\\t\\t\\t\\t\\t\\t\\t\\t\\t\\t\\t\\t\\t\\t\\t\\t\\t\\t\\t<a\\nhref=\"/cursos-online-design-ux/ux\">\\nUsabilidade e UX\\t\\t\\t\\t\\t\\t\\t\\t\\t\\t</a>\\n|\\t\\t\\t\\t\\t\\t\\t\\t\\t\\t\\t\\t\\t\\t\\t\\t\\t\\t\\t<a\\nhref=\"/cursos-online-design-ux/video\">\\nV\\xc3\\xaddeo e Motion\\t\\t\\t\\t\\t\\t\\t\\t\\t\\t</a>\\n|\\t\\t\\t\\t\\t\\t\\t\\t\\t\\t\\t\\t\\t\\t\\t\\t\\t\\t\\t<a\\nhref=\"/cursos-online-design-ux/3d\">\\n3D\\t\\t\\t\\t\\t\\t\\t\\t\\t\\t</a></div></div><div\\nclass=\"footer_categorias_categoria\">\\n<a\\nhref=\"/cursos-online-mobile\">Cursos de Mobile</a><div\\nclass=\"footer_categorias_subcategorias\">\\n<a\\nhref=\"/cursos-online-mobile/react-native\">\\nReact Native\\t\\t\\t\\t\\t\\t\\t\\t\\t\\t</a>\\n|\\t\\t\\t\\t\\t\\t\\t\\t\\t\\t\\t\\t\\t\\t\\t\\t\\t\\t\\t<a\\nhref=\"/cursos-online-mobile/flutter\">\\nFlutter\\t\\t\\t\\t\\t\\t\\t\\t\\t\\t</a>\\n|\\t\\t\\t\\t\\t\\t\\t\\t\\t\\t\\t\\t\\t\\t\\t\\t\\t\\t\\t<a\\nhref=\"/cursos-online-mobile/ios\">\\niOS e Swift\\t\\t\\t\\t\\t\\t\\t\\t\\t\\t</a>\\n|\\t\\t\\t\\t\\t\\t\\t\\t\\t\\t\\t\\t\\t\\t\\t\\t\\t\\t\\t<a\\nhref=\"/cursos-online-mobile/android\">\\nAndroid, Kotlin\\t\\t\\t\\t\\t\\t\\t\\t\\t\\t</a>\\n|\\t\\t\\t\\t\\t\\t\\t\\t\\t\\t\\t\\t\\t\\t\\t\\t\\t\\t\\t<a\\nhref=\"/cursos-online-mobile/jogos\">\\nJogos\\t\\t\\t\\t\\t\\t\\t\\t\\t\\t</a></div></div><div\\nclass=\"footer_categorias_categoria\">\\n<a\\nhref=\"/cursos-online-inovacao-gestao\">Cursos de Inova\\xc3\\xa7\\xc3\\xa3o & Gest\\xc3\\xa3o</a><div\\nclass=\"footer_categorias_subcategorias\">\\n<a\\nhref=\"/cursos-online-inovacao-gestao/agilidade\">\\nM\\xc3\\xa9todos \\xc3\\x81geis\\t\\t\\t\\t\\t\\t\\t\\t\\t\\t</a>\\n|\\t\\t\\t\\t\\t\\t\\t\\t\\t\\t\\t\\t\\t\\t\\t\\t\\t\\t\\t<a\\nhref=\"/cursos-online-inovacao-gestao/softskills-carreira\">\\nSoftskills\\t\\t\\t\\t\\t\\t\\t\\t\\t\\t</a>\\n|\\t\\t\\t\\t\\t\\t\\t\\t\\t\\t\\t\\t\\t\\t\\t\\t\\t\\t\\t<a\\nhref=\"/cursos-online-inovacao-gestao/gestao-corporativa\">\\nLideran\\xc3\\xa7a e Gest\\xc3\\xa3o\\t\\t\\t\\t\\t\\t\\t\\t\\t\\t</a>\\n|\\t\\t\\t\\t\\t\\t\\t\\t\\t\\t\\t\\t\\t\\t\\t\\t\\t\\t\\t<a\\nhref=\"/cursos-online-inovacao-gestao/startup-empreendedorismo\">\\nStartups\\t\\t\\t\\t\\t\\t\\t\\t\\t\\t</a>\\n|\\t\\t\\t\\t\\t\\t\\t\\t\\t\\t\\t\\t\\t\\t\\t\\t\\t\\t\\t<a\\nhref=\"/cursos-online-inovacao-gestao/vendas\">\\nVendas\\t\\t\\t\\t\\t\\t\\t\\t\\t\\t</a></div></div></div></div></div></section><style>@media not all and (min-width: 1000px){\\n\\t\\t.grupoCaelum{\\n\\t\\t\\tdisplay: none;\\n\\t\\t}\\n\\t}\\n\\n\\t.grupoCaelum{\\n\\t\\tbackground: #fff;\\n\\t\\theight: 400px;\\n\\t\\tborder-top: 1px solid #EBEBEE;\\n\\t}\\n\\n\\t.grupoCaelum .container{\\n\\t\\tdisplay: flex;\\n\\t\\tjustify-content: space-between;\\n\\t\\talign-items: flex-start;\\n\\t\\tpadding-top: 0;\\n\\t\\tpadding-bottom: 0;\\n\\t\\theight: 100%;\\n\\t}\\n\\n\\t\\t.grupoCaelum-list{\\n\\t\\t\\tdisplay: flex;\\n\\t\\t\\tlist-style: none;\\n\\t\\t\\twidth: 60%;\\n\\t\\t\\tjustify-content: space-between;\\n\\t\\t\\talign-items: flex-start;\\n\\t\\t\\tmargin-top: 20px;\\n\\t\\t}\\n\\n\\t\\t.grupoCaelum-title{\\n\\t\\t\\twidth: 20%;\\n\\t\\t}\\n\\n\\t\\t.grupoCaelum-column {\\n\\t\\t\\tdisplay: inline-block;\\n\\t\\t\\tpadding-left: 19px;\\n\\t\\t\\twidth: 240px;\\n\\t\\t\\theight: 350px;\\n\\t\\t\\tmin-width: 160px;\\n\\t\\t}\\n\\t\\t\\t.grupoCaelum-column-title {\\n\\t\\t\\t\\tfont-size: 10px;\\n\\t\\t\\t\\tcolor: #d7e0e5;\\n\\t\\t\\t\\ttext-transform: uppercase;\\n\\t\\t\\t\\tfont-weight: 600;\\n\\t\\t\\t\\tmargin-bottom: 19px;\\n\\t\\t\\t}\\n\\n\\t\\t\\t.grupoCaelum-column-list {\\n\\t\\t\\t\\tlist-style: none;\\n\\t\\t\\t}\\n\\n\\t\\t\\t.column-item-title {\\n\\t\\t\\t\\tfont-size: 11px;\\n\\t\\t\\t\\ttext-align: center;\\n\\t\\t\\t\\tvertical-align: middle;\\n\\t\\t\\t\\tdisplay: inline-block;\\n\\t\\t\\t\\tmargin-left: 6.5px;\\n\\t\\t\\t}\\n\\n\\t\\t.grupoCaelum-column:not(:first-child) {\\n\\t\\t\\tborder-left: solid 1px #e3e9ed;\\n\\t\\t}\\n\\n\\t\\t.grupoCaelum-title {\\n\\t\\t\\tdisplay: inline-block;\\n\\t\\t\\ttext-decoration: none;\\n\\t\\t\\tcolor: #657176;\\n\\t\\t\\tletter-spacing: normal;\\n\\t\\t\\tfont-size: 18px;\\n\\t\\t\\tmargin-top: 54px;\\n\\t\\t}\\n\\n\\t.column-item-logo {\\n\\t\\twidth: 30px;\\n\\t\\theight: 30px;\\n\\t\\tvertical-align: middle;\\n\\t\\tdisplay: inline-block;\\n\\t}\\n\\n\\t.column-item {\\n\\t\\tmargin-bottom: 17px;\\n\\t}\\n\\n\\t.column-item a{\\n\\t\\ttext-decoration: none;\\n\\t\\tcolor: #657176;\\n\\t}</style><footer\\nclass=\"caelum-footer\"><div\\nclass=\"grupoCaelum\"><div\\nclass=\"container\"><p\\nclass=\"grupoCaelum-title\">Grupo Alura</p><ul\\nclass=\"grupoCaelum-list\"><li\\nclass=\"grupoCaelum-column\"><p\\nclass=\"grupoCaelum-column-title\">Educa\\xc3\\xa7\\xc3\\xa3o</p><ul\\nclass=\"grupoCaelum-column-list\"><li\\nclass=\"column-item\">\\n<a\\ntarget=\"_blank\" href=\"https://www.caelum.com.br\">\\n<svg\\nclass=\"column-item-logo\">\\n<use\\nxlink:href=\"/svg,1636535197/caelumFooter#icon-caelumFooter-novo-logo-caelum\">\\n<span\\nclass=\"column-item-title\">Caelum</span>\\n</svg>\\n</a></li><li\\nclass=\"column-item\">\\n<a\\ntarget=\"_blank\" href=\"https://www.casadocodigo.com.br\">\\n<svg\\nclass=\"column-item-logo\"><use\\nxlink:href=\"/svg,1636535197/caelumFooter#icon-caelumFooter-cdc\"><span\\nclass=\"column-item-title\">Casa do C\\xc3\\xb3digo</span></svg>\\n</a></li></ul></li><li\\nclass=\"grupoCaelum-column\"><p\\nclass=\"grupoCaelum-column-title\">Educa\\xc3\\xa7\\xc3\\xa3o Online</p><ul\\nclass=\"grupoCaelum-column-list\"><li\\nclass=\"column-item\">\\n<a\\ntarget=\"_blank\" href=\"https://www.alura.com.br\">\\n<svg\\nclass=\"column-item-logo\"><use\\nxlink:href=\"/svg,1636535197/caelumFooter#icon-caelumFooter-alura\"><span\\nclass=\"column-item-title\">Alura</span></svg>\\n</a></li><li\\nclass=\"column-item\">\\n<a\\ntarget=\"_blank\" href=\"https://www.alura.com.br/empresas\">\\n<svg\\nclass=\"column-item-logo\" style=\"fill: white;\"><use\\nxlink:href=\"/svg,1636535197/caelumFooter#icon-caelumFooter-alura\"><span\\nclass=\"column-item-title\">Alura Para Empresas</span></svg>\\n</a></li><li\\nclass=\"column-item\">\\n<a\\ntarget=\"_blank\" href=\"https://www.aluracursos.com\">\\n<svg\\nclass=\"column-item-logo\"><use\\nxlink:href=\"/svg,1636535197/caelumFooter#icon-caelumFooter-alura\"><span\\nclass=\"column-item-title\">Alura LATAM</span></svg>\\n</a></li><li\\nclass=\"column-item\">\\n<a\\ntarget=\"_blank\" href=\"https://www.alurastart.com.br\">\\n<svg\\nclass=\"column-item-logo\"><use\\nxlink:href=\"/svg,1636535197/caelumFooter#icon-caelumFooter-alurastart\"><span\\nclass=\"column-item-title\">Alura Start</span></svg>\\n</a></li><li\\nclass=\"column-item\">\\n<a\\ntarget=\"_blank\" href=\"https://www.musicdot.com.br\">\\n<svg\\nclass=\"column-item-logo\"><use\\nxlink:href=\"/svg,1636535197/caelumFooter#icon-caelumFooter-musicdot\"><span\\nclass=\"column-item-title\">MusicDot</span></svg>\\n</a></li><li\\nclass=\"column-item\">\\n<a\\ntarget=\"_blank\" href=\"https://www.aluralingua.com.br\">\\n<svg\\nclass=\"column-item-logo\"><use\\nxlink:href=\"/svg,1636535197/caelumFooter#icon-caelumFooter-aluralingua\"><span\\nclass=\"column-item-title\">Alura L\\xc3\\xadngua</span></svg>\\n</a></li><li\\nclass=\"column-item\">\\n<a\\ntarget=\"_blank\" style=\"fill: #657176\" href=\"https://www.cursospm3.com.br/\">\\n<svg\\nclass=\"column-item-logo\"><use\\nxlink:href=\"/svg,1636535197/caelumFooter#icon-caelumFooter-pm3\"><span\\nclass=\"column-item-title\">PM3 - Cursos de Produto</span></svg>\\n</a></li></ul></li><li\\nclass=\"grupoCaelum-column\"><p\\nclass=\"grupoCaelum-column-title\">Comunidade</p><ul\\nclass=\"grupoCaelum-column-list\"><li\\nclass=\"column-item\">\\n<a\\ntarget=\"_blank\" href=\"https://hipsters.tech\">\\n<svg\\nclass=\"column-item-logo\"><use\\nxlink:href=\"/svg,1636535197/caelumFooter#icon-caelumFooter-hipsterstech\"><span\\nclass=\"column-item-title\">Hipsters ponto Tech</span></svg>\\n</a></li><li\\nclass=\"column-item\">\\n<a\\ntarget=\"_blank\" href=\"https://scuba.dev.br\">\\n<svg\\nclass=\"column-item-logo\" style=\"fill: #657176\"><use\\nxlink:href=\"/svg,1636535197/caelumFooter#icon-caelumFooter-scubadev\"><span\\nclass=\"column-item-title\">Scuba Dev</span></svg>\\n</a></li><li\\nclass=\"column-item\">\\n<a\\ntarget=\"_blank\" href=\"https://layerspontotech.com.br\">\\n<svg\\nclass=\"column-item-logo\"><use\\nxlink:href=\"/svg,1636535197/caelumFooter#icon-caelumFooter-layerstech\"><span\\nclass=\"column-item-title\">Layers ponto Tech</span></svg>\\n</a></li><li\\nclass=\"column-item\">\\n<a\\ntarget=\"_blank\" href=\"https://likeaboss.com.br\">\\n<svg\\nclass=\"column-item-logo\" style=\"fill: #657176\"><use\\nxlink:href=\"/svg,1636535197/caelumFooter#icon-caelumFooter-likeaboss\"><span\\nclass=\"column-item-title\">Like a Boss</span></svg>\\n</a></li><li\\nclass=\"column-item\">\\n<a\\ntarget=\"_blank\" href=\"https://www.carreirasemfronteiras.com.br\">\\n<svg\\nclass=\"column-item-logo\" style=\"fill: #657176\"><use\\nxlink:href=\"/svg,1636535197/caelumFooter#icon-caelumFooter-carreira-sem-fronteiras\"><span\\nclass=\"column-item-title\">Carreira sem Fronteiras</span></svg>\\n</a></li><li\\nclass=\"column-item\">\\n<a\\ntarget=\"_blank\" href=\"https://hipsters.jobs\">\\n<svg\\nclass=\"column-item-logo\"><use\\nxlink:href=\"/svg,1636535197/caelumFooter#icon-caelumFooter-hipstersjobs\"><span\\nclass=\"column-item-title\">Hipsters ponto Jobs</span></svg>\\n</a></li><li\\nclass=\"column-item\">\\n<a\\ntarget=\"_blank\" href=\"https://www.guj.com.br\">\\n<svg\\nclass=\"column-item-logo\"><use\\nxlink:href=\"/svg,1636535197/caelumFooter#icon-caelumFooter-guj\"><span\\nclass=\"column-item-title\">GUJ</span></svg>\\n</a></li></ul></li></ul></div></div></footer> <script>(function(){\\n    var match = location.pathname.match(/\\\\/(bf-|black-?friday\\\\/)([^\\\\/]+)/);\\n    if (match != null) {\\n        var links = document.querySelectorAll(\\'a[href]\\');\\n        for (var i = 0; i < links.length; i++) {\\n            var href = links[i].getAttribute(\\'href\\');\\n            if (href[0] === \\'/\\') {\\n                links[i].setAttribute(\\'href\\', \\'/bf-\\' + match[2] + href);\\n            }\\n        }\\n    }\\n})();</script> <script src=\"https://ajax.googleapis.com/ajax/libs/jquery/3.6.0/jquery.min.js\"></script> <script src=\"/assets/js/lib/svg4everybody.min.1636535198.js\" async></script> <script src=\"/assets/js/header/menu.1636535198.js\" async></script> <script src=\"/assets/js/header/busca.1636535198.js\" async></script> <script src=\"/assets/js/header/cursos.1636535198.js\" async></script> <script src=\"/assets/js/detect.1636535198.js\" async></script> <script src=\"/assets/js/video.1636535198.js\" async></script> <script src=\"/assets/js/Countdown.1636535198.js\" async></script> <script>var userId = (document.cookie.match(\\'alura.userId=([^;]+)\\')||[null,null])[1];\\n  window.ga=window.ga||function(){(ga.q=ga.q||[]).push(arguments)};ga.l=+new Date;\\n\\n  \\tga(\\'create\\', \\'UA-42101548-1\\', \\'alura.com.br\\', \\'tracker0\\', {\\'siteSpeedSampleRate\\': 50});\\n\\n\\tif (userId) ga(\\'tracker0.set\\', \\'userId\\', userId);\\n\\n\\tga(\\'tracker0.require\\', \\'displayfeatures\\');\\n\\tga(\\'tracker0.send\\', \\'pageview\\');\\n  \\tga(\\'create\\', \\'UA-42101548-9\\', \\'alura.com.br\\', \\'tracker1\\', {\\'siteSpeedSampleRate\\': 50});\\n\\n\\tif (userId) ga(\\'tracker1.set\\', \\'userId\\', userId);\\n\\n\\tga(\\'tracker1.require\\', \\'displayfeatures\\');\\n\\tga(\\'tracker1.send\\', \\'pageview\\');</script> <script async src=\\'//www.google-analytics.com/analytics.js\\'></script> <script src=\"/assets/js/footer/footer.1636535198.js\" async></script> <script src=\"//cdnjs.cloudflare.com/ajax/libs/highlight.js/10.4.0/highlight.min.js\"></script> <script>hljs.initHighlightingOnLoad();</script> <script src=\"https://static.criteo.net/js/ld/ld.js\" async></script> <script>function criteoPush(event, data){\\n\\t\\tvar isAluno = document.cookie.match(\\'alura.userId=([^;]+)\\') != null;\\n\\t\\tif(isAluno) return;\\n\\n\\t\\twindow.criteo_q = window.criteo_q || [];\\n\\t\\t\\n\\t\\tif (event == \\'viewHome\\')\\n\\t\\t\\tvar dt = { event: event}\\n\\t\\telse\\n\\t\\t\\tvar dt = { event: event, item: data};\\n\\n\\t\\twindow.criteo_q.push(\\n\\t\\t\\t{ event: \"setAccount\", account: 28037 },\\n\\t\\t\\t{ event: \"setEmail\", email: \"\" },\\n\\t\\t\\t{ event: \"setSiteType\", type: (/iPad/.test(navigator.userAgent) ? \"t\" : (/Mobile|iP(hone|od)|Android|BlackBerry|IEMobile/.test(navigator.userAgent) ? \"m\" : \"d\")) },\\n\\t\\t\\tdt\\n\\t\\t);\\t\\n\\t};\\n\\n\\t\\t\\tcriteoPush(\"viewHome\", \"\");\\n\\t\\t\\n\\t\\tvar criteoIdEl = document.querySelector(\\'[data-criteo-id]\\');\\n\\tif (criteoIdEl) {\\n        var products = JSON.parse(criteoIdEl.dataset.criteoId);\\n        var planos = document.querySelectorAll(\\'[data-payment-plan]\\');\\n\\n        planos.forEach(function (plano) {\\n            plano.addEventListener(\\'click\\', function (event) {\\n\\t\\t\\t\\tvar price = plano.dataset.paymentPlanPrice;\\n                var totalProducts = products.length;\\n\\t\\t\\t\\tvar productIds = \\'\\';\\n\\n                for(var i = 0; i < totalProducts; i++){\\n                    products[i][\\'price\\'] = price;\\n                    products[i][\\'quantity\\'] = 1;\\n\\t\\t\\t\\t\\tproductIds += \\',\\' + products[i][\\'id\\'];\\n                }\\n\\n\\t\\t\\t\\tproductIds = productIds.substr(1);\\n\\n\\t\\t\\t\\t// monta cookie pro Cart indicando quais cursos foram clicados\\n        \\t\\tdocument.cookie = \"criteo.productIds=\" + productIds + \"; path=/; domain=.alura.com.br\";\\n\\n\\t\\t\\t\\t// manda pro criteo\\n                criteoPush(\"viewBasket\", products);\\n            });\\n        });\\n\\n\\n\\t}</script> <script>(function(h,o,t,j,a,r){\\n        h.hj=h.hj||function(){(h.hj.q=h.hj.q||[]).push(arguments)};\\n        h._hjSettings={hjid:1029027,hjsv:6};\\n        a=o.getElementsByTagName(\\'head\\')[0];\\n        r=o.createElement(\\'script\\');r.async=1;\\n        r.src=t+h._hjSettings.hjid+j+h._hjSettings.hjsv;\\n        a.appendChild(r);\\n    })(window,document,\\'https://static.hotjar.com/c/hotjar-\\',\\'.js?sv=\\');</script> <script type=\"text/javascript\">_linkedin_partner_id = \"465017\";\\n\\t\\t\\twindow._linkedin_data_partner_ids = window._linkedin_data_partner_ids || [];\\n\\t\\t\\twindow._linkedin_data_partner_ids.push(_linkedin_partner_id);</script> <script type=\"text/javascript\">(function(){var s = document.getElementsByTagName(\"script\")[0];\\n\\t\\t\\tvar b = document.createElement(\"script\");\\n\\t\\t\\tb.type = \"text/javascript\";b.async = true;\\n\\t\\t\\tb.src = \"https://snap.licdn.com/li.lms-analytics/insight.min.js\";\\n\\t\\t\\ts.parentNode.insertBefore(b, s);})();</script> <noscript>\\n<img\\nheight=\"1\" width=\"1\" style=\"display:none;\" alt=\"\"\\nsrc=\"https://dc.ads.linkedin.com/collect/?pid=465017&fmt=gif\" />\\n</noscript> <script src=\"/assets/js/home/animations.js\" async></script> <script src=\"/assets/js/comunidade/depoimentos.1636535198.js\" async></script> </body></html>'\n"
          ]
        }
      ]
    },
    {
      "cell_type": "markdown",
      "source": [
        "## **Tratamento de strings**"
      ],
      "metadata": {
        "id": "VjX77hvIi_oX"
      }
    },
    {
      "cell_type": "code",
      "source": [
        "from urllib.request import urlopen\n",
        "\n",
        "url = 'https://alura-site-scraping.herokuapp.com/index.php'\n",
        "\n",
        "response = urlopen(url)\n",
        "html = response.read()\n",
        "html\n"
      ],
      "metadata": {
        "colab": {
          "base_uri": "https://localhost:8080/"
        },
        "id": "JSK45bq1jGSn",
        "outputId": "7bd35a3e-dc42-458c-bd0a-db77d4b52485"
      },
      "execution_count": 5,
      "outputs": [
        {
          "output_type": "execute_result",
          "data": {
            "text/plain": [
              "b'<!DOCTYPE html>\\r\\n<html lang=\"pt-br\">\\r\\n<head>\\r\\n    <meta charset=\"utf-8\">\\r\\n    <meta name=\"viewport\" content=\"width=device-width, initial-scale=1, shrink-to-fit=no\">\\r\\n\\r\\n    <title>Alura Motors</title>\\r\\n\\r\\n\\t<style>\\r\\n\\t\\t/*Regra para a animacao*/\\r\\n\\t\\t@keyframes spin {\\r\\n\\t\\t\\t0% { transform: rotate(0deg); }\\r\\n\\t\\t\\t100% { transform: rotate(360deg); }\\r\\n\\t\\t}\\r\\n\\t\\t/*Mudando o tamanho do icone de resposta*/\\r\\n\\t\\tdiv.glyphicon {\\r\\n\\t\\t\\tcolor:#6B8E23;\\r\\n\\t\\t\\tfont-size: 38px;\\r\\n\\t\\t}\\r\\n\\t\\t/*Classe que mostra a animacao \\'spin\\'*/\\r\\n\\t\\t.loader {\\r\\n\\t\\t\\tborder: 16px solid #f3f3f3;\\r\\n\\t\\t\\tborder-radius: 50%;\\r\\n\\t\\t\\tborder-top: 16px solid #3498db;\\r\\n\\t\\t\\twidth: 80px;\\r\\n\\t\\t\\theight: 80px;\\r\\n\\t\\t\\t-webkit-animation: spin 2s linear infinite;\\r\\n\\t\\t\\tanimation: spin 2s linear infinite;\\r\\n\\t\\t}\\r\\n\\t</style>\\r\\n\\t<link rel=\"stylesheet\" href=\"https://maxcdn.bootstrapcdn.com/bootstrap/3.3.7/css/bootstrap.min.css\" integrity=\"sha384-BVYiiSIFeK1dGmJRAkycuHAHRg32OmUcww7on3RYdg4Va+PmSTsz/K68vbdEjh4u\" crossorigin=\"anonymous\">\\r\\n\\t<link rel=\"stylesheet\" href=\"css/styles.css\" media=\"all\">\\r\\n\\r\\n\\t<script src=\"https://code.jquery.com/jquery-1.12.4.js\"></script>\\r\\n\\t<script src=\"https://maxcdn.bootstrapcdn.com/bootstrap/3.3.7/js/bootstrap.min.js\" integrity=\"sha384-Tc5IQib027qvyjSMfHjOMaLkfuWVxZxUPnCJA7l2mCWNIpG9mGCD8wGNIcPD7Txa\" crossorigin=\"anonymous\"></script>\\r\\n\\t<script type=\"text/javascript\" src=\"js/index.js\"></script>\\r\\n\\t<script>\\r\\n\\t\\trequisitar(\"https://alura-scraping.herokuapp.com/produtos?_page=\"+1+\"&_limit=10\")\\r\\n\\t</script>\\r\\n\\r\\n</head>\\r\\n<body cz-shortcut-listen=\"true\">\\r\\n    <noscript>You need to enable JavaScript to run this app.</noscript>\\r\\n\\r\\n\\t<div class=\"modal fade\" data-backdrop=\"static\" id=\"loadingModal\" tabindex=\"-1\" role=\"dialog\" aria-labelledby=\"loadingModal_label\">\\r\\n\\t\\t<div class=\"modal-dialog\" role=\"document\">\\r\\n\\t\\t\\t<div class=\"modal-content\">\\r\\n\\t\\t\\t\\t<div class=\"modal-header\">\\r\\n\\t\\t\\t\\t\\t<h5 class=\"modal-title\" id=\"loadingModal_label\">\\r\\n\\t\\t\\t\\t\\t\\t<span class=\"glyphicon glyphicon-refresh\"></span>Aguarde...\\r\\n\\t\\t\\t\\t\\t</h5>\\r\\n\\t\\t\\t\\t</div>\\r\\n\\t\\t\\t\\t<div class=\"modal-body\">\\r\\n\\t\\t\\t\\t\\t<div class=\\'alert\\' role=\\'alert\\'>\\r\\n\\t\\t\\t\\t\\t\\t<center>\\r\\n\\t\\t\\t\\t\\t\\t\\t<div class=\"loader\" id=\"loader\"></div><br>\\r\\n\\t\\t\\t\\t\\t\\t\\t<h4><b id=\"loadingModal_content\"></b></h4>\\r\\n\\t\\t\\t\\t\\t\\t</center>\\r\\n\\t\\t\\t\\t\\t</div>\\r\\n\\t\\t\\t\\t</div>\\r\\n\\t\\t\\t</div>\\r\\n\\t\\t</div>\\r\\n\\t</div>\\r\\n\\r\\n    <div id=\"root\">\\r\\n\\t\\t<header>\\r\\n\\t\\t\\t<nav class=\"navbar navbar-inverse\" style=\"margin-bottom: 0;\">\\r\\n\\t\\t\\t\\t<div class=\"container\" style=\"margin-bottom: -20px;\">\\r\\n\\t\\t\\t\\t\\t<div class=\"navbar\">\\r\\n\\t\\t\\t\\t\\t\\t<a href=\"./index.php\" class=\"navbar-brand\" title=\"Alura Motors\">\\r\\n\\t\\t\\t\\t\\t\\t\\t<img src=\"img/alura-logo.svg\" class=\"d-inline-block align-top\" alt=\"Alura\">Motors\\r\\n\\t\\t\\t\\t\\t\\t</a>\\r\\n\\t\\t\\t\\t\\t\\t<ul class=\"nav navbar-nav\" style=\"margin-top: 35px;\">\\r\\n\\t\\t\\t\\t\\t\\t\\t<li><a href=\"./hello-world.php\">Hello World</a></li>\\r\\n\\t\\t\\t\\t\\t\\t\\t<li><a href=\"./index.php\">An\\xc3\\xbancios</a></li>\\r\\n\\t\\t\\t\\t\\t\\t</ul>\\r\\n\\t\\t\\t\\t\\t</div>\\r\\n\\t\\t\\t\\t</div>\\r\\n\\t\\t\\t</nav>\\r\\n\\t\\t</header>\\r\\n\\r\\n\\t\\t<div class=\"container\">\\r\\n\\t\\t\\t<h1 class=\"sub-header\">Ve\\xc3\\xadculos de Luxo Novos e Usados - Todas as Marcas</h1>\\r\\n\\t\\t\\t<div class=\"row\">\\r\\n\\t\\t\\t\\t<div class=\"col-md-12\">\\r\\n\\t\\t\\t\\t\\t<div class=\"container\" style=\"width: 100%\">\\r\\n\\t\\t\\t\\t\\t\\t<div class=\"type-select\">246 ve\\xc3\\xadculos encontrados</div>\\r\\n\\t\\t\\t\\t\\t\\t\\t<div class=\"container-pagination\" style=\"float: right\">\\r\\n\\t\\t\\t\\t\\t\\t\\t\\t<span class=\"info-pages\">P\\xc3\\xa1gina 1 de 25</span>\\r\\n\\t\\t\\t\\t\\t\\t\\t</div>\\r\\n\\t\\t\\t\\t\\t\\t</div>\\r\\n\\t\\t\\t\\t\\t\\t<div id=\"container-cards\" style=\"height: 100%\">\\r\\n\\t\\t\\t\\t\\t\\t\\t\\r\\n                <div class=\"well card\">\\r\\n                    <div class=\"col-md-3 image-card\">\\r\\n                        <img width=\"220\" height=\"155\" alt=\"Foto\" src=\"https://caelum-online-public.s3.amazonaws.com/1381-scraping/01/img-cars/lamborghini-aventador/lamborghini-aventador-2932196__340.jpg\">\\r\\n                    </div>\\r\\n                    <div class=\"col-md-6 body-card\">\\r\\n                        <p class=\"txt-name inline\">LAMBORGHINI AVENTADOR</p>\\r\\n                            <p class=\"txt-category badge badge-secondary inline\">USADO</p>\\r\\n                            \\r\\n                        <p class=\"txt-motor\">Motor 1.8 16v</p>\\r\\n                        <p class=\"txt-description\">Ano 1993 - 55.286 km</p>\\r\\n                        <ul class=\"lst-items\">\\r\\n                            <li class=\"txt-items\">\\xe2\\x96\\xba 4 X 4</li>\\r\\n                            <li class=\"txt-items\">\\xe2\\x96\\xba C\\xc3\\xa2mera de estacionamento</li>\\r\\n                            <li class=\"txt-items\">\\xe2\\x96\\xba Controle de tra\\xc3\\xa7\\xc3\\xa3o</li>\\r\\n                            <li class=\"txt-items\">\\xe2\\x96\\xba Sensor de estacionamento</li>\\r\\n                            <li class=\"txt-items\">...</li>\\r\\n                        </ul>\\r\\n                        <p class=\"txt-location\">Belo Horizonte - MG</p>\\r\\n                    </div>\\r\\n                    <div class=\"col-md-3 value-card\">\\r\\n                        <div class=\"value\">\\r\\n                            <p class=\"txt-value\">R$ 338.000</p>\\r\\n                        </div>\\r\\n                    </div>\\r\\n                </div>\\r\\n                <div class=\"well card\">\\r\\n                    <div class=\"col-md-3 image-card\">\\r\\n                        <img width=\"220\" height=\"155\" alt=\"Foto\" src=\"https://caelum-online-public.s3.amazonaws.com/1381-scraping/01/img-cars/bmw-m2/bmw-m2-2970882__340.jpg\">\\r\\n                    </div>\\r\\n                    <div class=\"col-md-6 body-card\">\\r\\n                        <p class=\"txt-name inline\">BMW M2</p>\\r\\n                            <p class=\"txt-category badge badge-secondary inline\">USADO</p>\\r\\n                            \\r\\n                        <p class=\"txt-motor\">Motor 3.0 32v</p>\\r\\n                        <p class=\"txt-description\">Ano 2018 - 83.447 km</p>\\r\\n                        <ul class=\"lst-items\">\\r\\n                            <li class=\"txt-items\">\\xe2\\x96\\xba C\\xc3\\xa2mera de estacionamento</li>\\r\\n                            <li class=\"txt-items\">\\xe2\\x96\\xba Controle de estabilidade</li>\\r\\n                            <li class=\"txt-items\">\\xe2\\x96\\xba Travas el\\xc3\\xa9tricas</li>\\r\\n                            <li class=\"txt-items\">\\xe2\\x96\\xba Freios ABS</li>\\r\\n                            <li class=\"txt-items\">...</li>\\r\\n                        </ul>\\r\\n                        <p class=\"txt-location\">Belo Horizonte - MG</p>\\r\\n                    </div>\\r\\n                    <div class=\"col-md-3 value-card\">\\r\\n                        <div class=\"value\">\\r\\n                            <p class=\"txt-value\">R$ 346.000</p>\\r\\n                        </div>\\r\\n                    </div>\\r\\n                </div>\\r\\n                <div class=\"well card\">\\r\\n                    <div class=\"col-md-3 image-card\">\\r\\n                        <img width=\"220\" height=\"155\" alt=\"Foto\" src=\"https://caelum-online-public.s3.amazonaws.com/1381-scraping/01/img-cars/alfa/alfa-1823056__340.jpg\">\\r\\n                    </div>\\r\\n                    <div class=\"col-md-6 body-card\">\\r\\n                        <p class=\"txt-name inline\">ALFA</p>\\r\\n                            <p class=\"txt-category badge badge-secondary inline\">USADO</p>\\r\\n                            \\r\\n                        <p class=\"txt-motor\">Motor 1.8 16v</p>\\r\\n                        <p class=\"txt-description\">Ano 2004 - 19.722 km</p>\\r\\n                        <ul class=\"lst-items\">\\r\\n                            <li class=\"txt-items\">\\xe2\\x96\\xba Central multim\\xc3\\xaddia</li>\\r\\n                            <li class=\"txt-items\">\\xe2\\x96\\xba Bancos de couro</li>\\r\\n                            <li class=\"txt-items\">\\xe2\\x96\\xba Rodas de liga</li>\\r\\n                            <li class=\"txt-items\">\\xe2\\x96\\xba C\\xc3\\xa2mera de estacionamento</li>\\r\\n                            <li class=\"txt-items\">...</li>\\r\\n                        </ul>\\r\\n                        <p class=\"txt-location\">Rio de Janeiro - RJ</p>\\r\\n                    </div>\\r\\n                    <div class=\"col-md-3 value-card\">\\r\\n                        <div class=\"value\">\\r\\n                            <p class=\"txt-value\">R$ 480.000</p>\\r\\n                        </div>\\r\\n                    </div>\\r\\n                </div>\\r\\n                <div class=\"well card\">\\r\\n                    <div class=\"col-md-3 image-card\">\\r\\n                        <img width=\"220\" height=\"155\" alt=\"Foto\" src=\"https://caelum-online-public.s3.amazonaws.com/1381-scraping/01/img-cars/puech/puech-4055386__340.jpg\">\\r\\n                    </div>\\r\\n                    <div class=\"col-md-6 body-card\">\\r\\n                        <p class=\"txt-name inline\">PUECH</p>\\r\\n                            <p class=\"txt-category badge badge-secondary inline\">USADO</p>\\r\\n                            \\r\\n                        <p class=\"txt-motor\">Motor Diesel V8</p>\\r\\n                        <p class=\"txt-description\">Ano 1992 - 34.335 km</p>\\r\\n                        <ul class=\"lst-items\">\\r\\n                            <li class=\"txt-items\">\\xe2\\x96\\xba Bancos de couro</li>\\r\\n                            <li class=\"txt-items\">\\xe2\\x96\\xba Freios ABS</li>\\r\\n                            <li class=\"txt-items\">\\xe2\\x96\\xba Rodas de liga</li>\\r\\n                            <li class=\"txt-items\">\\xe2\\x96\\xba C\\xc3\\xa2mbio autom\\xc3\\xa1tico</li>\\r\\n                            <li class=\"txt-items\">...</li>\\r\\n                        </ul>\\r\\n                        <p class=\"txt-location\">S\\xc3\\xa3o Paulo - SP</p>\\r\\n                    </div>\\r\\n                    <div class=\"col-md-3 value-card\">\\r\\n                        <div class=\"value\">\\r\\n                            <p class=\"txt-value\">R$ 133.000</p>\\r\\n                        </div>\\r\\n                    </div>\\r\\n                </div>\\r\\n                <div class=\"well card\">\\r\\n                    <div class=\"col-md-3 image-card\">\\r\\n                        <img width=\"220\" height=\"155\" alt=\"Foto\" src=\"https://caelum-online-public.s3.amazonaws.com/1381-scraping/01/img-cars/lamborghini-murcielago/lamborghini-murcielago-2872974__340.jpg\">\\r\\n                    </div>\\r\\n                    <div class=\"col-md-6 body-card\">\\r\\n                        <p class=\"txt-name inline\">LAMBORGHINI MURCIELAGO</p>\\r\\n                            <p class=\"txt-category badge badge-secondary inline\">USADO</p>\\r\\n                            \\r\\n                        <p class=\"txt-motor\">Motor 1.0 8v</p>\\r\\n                        <p class=\"txt-description\">Ano 1991 - 464 km</p>\\r\\n                        <ul class=\"lst-items\">\\r\\n                            <li class=\"txt-items\">\\xe2\\x96\\xba Central multim\\xc3\\xaddia</li>\\r\\n                            <li class=\"txt-items\">\\xe2\\x96\\xba Teto panor\\xc3\\xa2mico</li>\\r\\n                            <li class=\"txt-items\">\\xe2\\x96\\xba Sensor crepuscular</li>\\r\\n                            <li class=\"txt-items\">\\xe2\\x96\\xba Piloto autom\\xc3\\xa1tico</li>\\r\\n                            <li class=\"txt-items\">...</li>\\r\\n                        </ul>\\r\\n                        <p class=\"txt-location\">Belo Horizonte - MG</p>\\r\\n                    </div>\\r\\n                    <div class=\"col-md-3 value-card\">\\r\\n                        <div class=\"value\">\\r\\n                            <p class=\"txt-value\">R$ 175.000</p>\\r\\n                        </div>\\r\\n                    </div>\\r\\n                </div>\\r\\n                <div class=\"well card\">\\r\\n                    <div class=\"col-md-3 image-card\">\\r\\n                        <img width=\"220\" height=\"155\" alt=\"Foto\" src=\"https://caelum-online-public.s3.amazonaws.com/1381-scraping/01/img-cars/aston-martin/aston-martin-2977916__340.jpg\">\\r\\n                    </div>\\r\\n                    <div class=\"col-md-6 body-card\">\\r\\n                        <p class=\"txt-name inline\">ASTON MARTIN</p>\\r\\n                            <p class=\"txt-category badge badge-secondary inline\">USADO</p>\\r\\n                            <p class=\"txt-opportunity badge badge-danger inline\">OPORTUNIDADE</p>\\r\\n                        <p class=\"txt-motor\">Motor Diesel V6</p>\\r\\n                        <p class=\"txt-description\">Ano 2004 - 50.189 km</p>\\r\\n                        <ul class=\"lst-items\">\\r\\n                            <li class=\"txt-items\">\\xe2\\x96\\xba Painel digital</li>\\r\\n                            <li class=\"txt-items\">\\xe2\\x96\\xba Controle de tra\\xc3\\xa7\\xc3\\xa3o</li>\\r\\n                            <li class=\"txt-items\">\\xe2\\x96\\xba Teto panor\\xc3\\xa2mico</li>\\r\\n                            <li class=\"txt-items\">\\xe2\\x96\\xba Central multim\\xc3\\xaddia</li>\\r\\n                            <li class=\"txt-items\">...</li>\\r\\n                        </ul>\\r\\n                        <p class=\"txt-location\">Belo Horizonte - MG</p>\\r\\n                    </div>\\r\\n                    <div class=\"col-md-3 value-card\">\\r\\n                        <div class=\"value\">\\r\\n                            <p class=\"txt-value\">R$ 239.000</p>\\r\\n                        </div>\\r\\n                    </div>\\r\\n                </div>\\r\\n                <div class=\"well card\">\\r\\n                    <div class=\"col-md-3 image-card\">\\r\\n                        <img width=\"220\" height=\"155\" alt=\"Foto\" src=\"https://caelum-online-public.s3.amazonaws.com/1381-scraping/01/img-cars/tvr/tvr-2943925__340.jpg\">\\r\\n                    </div>\\r\\n                    <div class=\"col-md-6 body-card\">\\r\\n                        <p class=\"txt-name inline\">TVR</p>\\r\\n                            <p class=\"txt-category badge badge-secondary inline\">USADO</p>\\r\\n                            \\r\\n                        <p class=\"txt-motor\">Motor 4.0 Turbo</p>\\r\\n                        <p class=\"txt-description\">Ano 2014 - 17.778 km</p>\\r\\n                        <ul class=\"lst-items\">\\r\\n                            <li class=\"txt-items\">\\xe2\\x96\\xba 4 X 4</li>\\r\\n                            <li class=\"txt-items\">\\xe2\\x96\\xba Teto panor\\xc3\\xa2mico</li>\\r\\n                            <li class=\"txt-items\">\\xe2\\x96\\xba Central multim\\xc3\\xaddia</li>\\r\\n                            <li class=\"txt-items\">\\xe2\\x96\\xba Controle de estabilidade</li>\\r\\n                            <li class=\"txt-items\">...</li>\\r\\n                        </ul>\\r\\n                        <p class=\"txt-location\">Belo Horizonte - MG</p>\\r\\n                    </div>\\r\\n                    <div class=\"col-md-3 value-card\">\\r\\n                        <div class=\"value\">\\r\\n                            <p class=\"txt-value\">R$ 115.000</p>\\r\\n                        </div>\\r\\n                    </div>\\r\\n                </div>\\r\\n                <div class=\"well card\">\\r\\n                    <div class=\"col-md-3 image-card\">\\r\\n                        <img width=\"220\" height=\"155\" alt=\"Foto\" src=\"https://caelum-online-public.s3.amazonaws.com/1381-scraping/01/img-cars/excalibur/excalibur-2916730__340.jpg\">\\r\\n                    </div>\\r\\n                    <div class=\"col-md-6 body-card\">\\r\\n                        <p class=\"txt-name inline\">EXCALIBUR</p>\\r\\n                            <p class=\"txt-category badge badge-secondary inline\">USADO</p>\\r\\n                            \\r\\n                        <p class=\"txt-motor\">Motor 3.0 32v</p>\\r\\n                        <p class=\"txt-description\">Ano 2009 - 81.251 km</p>\\r\\n                        <ul class=\"lst-items\">\\r\\n                            <li class=\"txt-items\">\\xe2\\x96\\xba Painel digital</li>\\r\\n                            <li class=\"txt-items\">\\xe2\\x96\\xba C\\xc3\\xa2mbio autom\\xc3\\xa1tico</li>\\r\\n                            <li class=\"txt-items\">\\xe2\\x96\\xba Sensor de chuva</li>\\r\\n                            <li class=\"txt-items\">\\xe2\\x96\\xba Travas el\\xc3\\xa9tricas</li>\\r\\n                            <li class=\"txt-items\">...</li>\\r\\n                        </ul>\\r\\n                        <p class=\"txt-location\">Rio de Janeiro - RJ</p>\\r\\n                    </div>\\r\\n                    <div class=\"col-md-3 value-card\">\\r\\n                        <div class=\"value\">\\r\\n                            <p class=\"txt-value\">R$ 114.000</p>\\r\\n                        </div>\\r\\n                    </div>\\r\\n                </div>\\r\\n                <div class=\"well card\">\\r\\n                    <div class=\"col-md-3 image-card\">\\r\\n                        <img width=\"220\" height=\"155\" alt=\"Foto\" src=\"https://caelum-online-public.s3.amazonaws.com/1381-scraping/01/img-cars/mclaren/mclaren-2855240__340.jpg\">\\r\\n                    </div>\\r\\n                    <div class=\"col-md-6 body-card\">\\r\\n                        <p class=\"txt-name inline\">MCLAREN</p>\\r\\n                            <p class=\"txt-category badge badge-secondary inline\">NOVO</p>\\r\\n                            \\r\\n                        <p class=\"txt-motor\">Motor Diesel</p>\\r\\n                        <p class=\"txt-description\">Ano 2019 - 0 km</p>\\r\\n                        <ul class=\"lst-items\">\\r\\n                            <li class=\"txt-items\">\\xe2\\x96\\xba Central multim\\xc3\\xaddia</li>\\r\\n                            <li class=\"txt-items\">\\xe2\\x96\\xba C\\xc3\\xa2mera de estacionamento</li>\\r\\n                            <li class=\"txt-items\">\\xe2\\x96\\xba C\\xc3\\xa2mbio autom\\xc3\\xa1tico</li>\\r\\n                            <li class=\"txt-items\">\\xe2\\x96\\xba Ar condicionado</li>\\r\\n                            <li class=\"txt-items\">...</li>\\r\\n                        </ul>\\r\\n                        <p class=\"txt-location\">S\\xc3\\xa3o Paulo - SP</p>\\r\\n                    </div>\\r\\n                    <div class=\"col-md-3 value-card\">\\r\\n                        <div class=\"value\">\\r\\n                            <p class=\"txt-value\">R$ 75.000</p>\\r\\n                        </div>\\r\\n                    </div>\\r\\n                </div>\\r\\n                <div class=\"well card\">\\r\\n                    <div class=\"col-md-3 image-card\">\\r\\n                        <img width=\"220\" height=\"155\" alt=\"Foto\" src=\"https://caelum-online-public.s3.amazonaws.com/1381-scraping/01/img-cars/toyota/toyota-3245397__340.jpg\">\\r\\n                    </div>\\r\\n                    <div class=\"col-md-6 body-card\">\\r\\n                        <p class=\"txt-name inline\">TOYOTA</p>\\r\\n                            <p class=\"txt-category badge badge-secondary inline\">USADO</p>\\r\\n                            <p class=\"txt-opportunity badge badge-danger inline\">OPORTUNIDADE</p>\\r\\n                        <p class=\"txt-motor\">Motor 4.0 Turbo</p>\\r\\n                        <p class=\"txt-description\">Ano 1999 - 12.536 km</p>\\r\\n                        <ul class=\"lst-items\">\\r\\n                            <li class=\"txt-items\">\\xe2\\x96\\xba Bancos de couro</li>\\r\\n                            <li class=\"txt-items\">\\xe2\\x96\\xba Freios ABS</li>\\r\\n                            <li class=\"txt-items\">\\xe2\\x96\\xba Piloto autom\\xc3\\xa1tico</li>\\r\\n                            <li class=\"txt-items\">\\xe2\\x96\\xba Controle de estabilidade</li>\\r\\n                            <li class=\"txt-items\">...</li>\\r\\n                        </ul>\\r\\n                        <p class=\"txt-location\">S\\xc3\\xa3o Paulo - SP</p>\\r\\n                    </div>\\r\\n                    <div class=\"col-md-3 value-card\">\\r\\n                        <div class=\"value\">\\r\\n                            <p class=\"txt-value\">R$ 117.000</p>\\r\\n                        </div>\\r\\n                    </div>\\r\\n                </div>\\t\\t\\t\\t\\t\\t</div>\\r\\n\\t\\t\\t\\t\\t\\t<div class=\"type-select\">246 ve\\xc3\\xadculos encontrados</div>\\r\\n\\t\\t\\t\\t\\t\\t\\t<div class=\"container-pagination\" style=\"float: right\">\\r\\n\\t\\t\\t\\t\\t\\t\\t\\t<span class=\"info-pages\">P\\xc3\\xa1gina 1 de 25</span>\\r\\n\\t\\t\\t\\t\\t\\t\\t</div>\\r\\n\\t\\t\\t\\t\\t\\t</div>\\r\\n\\t\\t\\t\\t\\t</div>\\r\\n\\t\\t\\t\\t</div>\\r\\n\\t\\t\\t</div>\\r\\n\\t\\t</div>\\r\\n\\r\\n\\t\\t<footer>\\r\\n\\t\\t\\t<nav class=\"navbar navbar-inverse\">\\r\\n\\t\\t\\t\\t<div class=\"container\" style=\"margin-bottom: 10px;\">\\r\\n\\t\\t\\t\\t\\t<div class=\"navbar\">\\r\\n\\t\\t\\t\\t\\t\\t<a href=\"./index.php\" class=\"navbar-brand\" title=\"Alura Motors\">\\r\\n\\t\\t\\t\\t\\t\\t\\t<img src=\"img/alura-logo.svg\" class=\"d-inline-block align-top\" alt=\"Alura\">Motors\\r\\n\\t\\t\\t\\t\\t\\t</a>\\r\\n\\t\\t\\t\\t\\t\\t<p style=\"color: #fff; text-align: center; margin-top: 40px;\">Aplica\\xc3\\xa7\\xc3\\xa3o para treinamento de web scraping</p>\\r\\n\\t\\t\\t\\t\\t</div>\\r\\n\\t\\t\\t\\t</div>\\r\\n\\t\\t\\t</nav>\\r\\n\\t\\t</footer>\\r\\n\\r\\n\\t</div>\\r\\n\\r\\n</body>\\r\\n</html>\\r\\n'"
            ]
          },
          "metadata": {},
          "execution_count": 5
        }
      ]
    },
    {
      "cell_type": "markdown",
      "source": [
        "## **Convertendo o Tipo bytes para string**"
      ],
      "metadata": {
        "id": "tZpDlt2PuAyR"
      }
    },
    {
      "cell_type": "code",
      "source": [
        "type(html)"
      ],
      "metadata": {
        "colab": {
          "base_uri": "https://localhost:8080/"
        },
        "id": "fm7jiThQuB6W",
        "outputId": "6406c8f9-b0e5-4b31-b26a-b0897b8ab520"
      },
      "execution_count": 6,
      "outputs": [
        {
          "output_type": "execute_result",
          "data": {
            "text/plain": [
              "bytes"
            ]
          },
          "metadata": {},
          "execution_count": 6
        }
      ]
    },
    {
      "cell_type": "code",
      "source": [
        "html = html.decode('utf-8')"
      ],
      "metadata": {
        "id": "SzjFTEb0u5-m"
      },
      "execution_count": 7,
      "outputs": []
    },
    {
      "cell_type": "code",
      "source": [
        "type(html)"
      ],
      "metadata": {
        "colab": {
          "base_uri": "https://localhost:8080/"
        },
        "id": "XcTzdPOBvhme",
        "outputId": "f15ae2e7-1b52-4e60-88d5-8ffa7772299c"
      },
      "execution_count": 8,
      "outputs": [
        {
          "output_type": "execute_result",
          "data": {
            "text/plain": [
              "str"
            ]
          },
          "metadata": {},
          "execution_count": 8
        }
      ]
    },
    {
      "cell_type": "code",
      "source": [
        "html"
      ],
      "metadata": {
        "colab": {
          "base_uri": "https://localhost:8080/",
          "height": 122
        },
        "id": "Bi8OKGRPv4zV",
        "outputId": "ded0ba61-ae84-4cf2-e69a-6fc75aa9fa8a"
      },
      "execution_count": 9,
      "outputs": [
        {
          "output_type": "execute_result",
          "data": {
            "application/vnd.google.colaboratory.intrinsic+json": {
              "type": "string"
            },
            "text/plain": [
              "'<!DOCTYPE html>\\r\\n<html lang=\"pt-br\">\\r\\n<head>\\r\\n    <meta charset=\"utf-8\">\\r\\n    <meta name=\"viewport\" content=\"width=device-width, initial-scale=1, shrink-to-fit=no\">\\r\\n\\r\\n    <title>Alura Motors</title>\\r\\n\\r\\n\\t<style>\\r\\n\\t\\t/*Regra para a animacao*/\\r\\n\\t\\t@keyframes spin {\\r\\n\\t\\t\\t0% { transform: rotate(0deg); }\\r\\n\\t\\t\\t100% { transform: rotate(360deg); }\\r\\n\\t\\t}\\r\\n\\t\\t/*Mudando o tamanho do icone de resposta*/\\r\\n\\t\\tdiv.glyphicon {\\r\\n\\t\\t\\tcolor:#6B8E23;\\r\\n\\t\\t\\tfont-size: 38px;\\r\\n\\t\\t}\\r\\n\\t\\t/*Classe que mostra a animacao \\'spin\\'*/\\r\\n\\t\\t.loader {\\r\\n\\t\\t\\tborder: 16px solid #f3f3f3;\\r\\n\\t\\t\\tborder-radius: 50%;\\r\\n\\t\\t\\tborder-top: 16px solid #3498db;\\r\\n\\t\\t\\twidth: 80px;\\r\\n\\t\\t\\theight: 80px;\\r\\n\\t\\t\\t-webkit-animation: spin 2s linear infinite;\\r\\n\\t\\t\\tanimation: spin 2s linear infinite;\\r\\n\\t\\t}\\r\\n\\t</style>\\r\\n\\t<link rel=\"stylesheet\" href=\"https://maxcdn.bootstrapcdn.com/bootstrap/3.3.7/css/bootstrap.min.css\" integrity=\"sha384-BVYiiSIFeK1dGmJRAkycuHAHRg32OmUcww7on3RYdg4Va+PmSTsz/K68vbdEjh4u\" crossorigin=\"anonymous\">\\r\\n\\t<link rel=\"stylesheet\" href=\"css/styles.css\" media=\"all\">\\r\\n\\r\\n\\t<script src=\"https://code.jquery.com/jquery-1.12.4.js\"></script>\\r\\n\\t<script src=\"https://maxcdn.bootstrapcdn.com/bootstrap/3.3.7/js/bootstrap.min.js\" integrity=\"sha384-Tc5IQib027qvyjSMfHjOMaLkfuWVxZxUPnCJA7l2mCWNIpG9mGCD8wGNIcPD7Txa\" crossorigin=\"anonymous\"></script>\\r\\n\\t<script type=\"text/javascript\" src=\"js/index.js\"></script>\\r\\n\\t<script>\\r\\n\\t\\trequisitar(\"https://alura-scraping.herokuapp.com/produtos?_page=\"+1+\"&_limit=10\")\\r\\n\\t</script>\\r\\n\\r\\n</head>\\r\\n<body cz-shortcut-listen=\"true\">\\r\\n    <noscript>You need to enable JavaScript to run this app.</noscript>\\r\\n\\r\\n\\t<div class=\"modal fade\" data-backdrop=\"static\" id=\"loadingModal\" tabindex=\"-1\" role=\"dialog\" aria-labelledby=\"loadingModal_label\">\\r\\n\\t\\t<div class=\"modal-dialog\" role=\"document\">\\r\\n\\t\\t\\t<div class=\"modal-content\">\\r\\n\\t\\t\\t\\t<div class=\"modal-header\">\\r\\n\\t\\t\\t\\t\\t<h5 class=\"modal-title\" id=\"loadingModal_label\">\\r\\n\\t\\t\\t\\t\\t\\t<span class=\"glyphicon glyphicon-refresh\"></span>Aguarde...\\r\\n\\t\\t\\t\\t\\t</h5>\\r\\n\\t\\t\\t\\t</div>\\r\\n\\t\\t\\t\\t<div class=\"modal-body\">\\r\\n\\t\\t\\t\\t\\t<div class=\\'alert\\' role=\\'alert\\'>\\r\\n\\t\\t\\t\\t\\t\\t<center>\\r\\n\\t\\t\\t\\t\\t\\t\\t<div class=\"loader\" id=\"loader\"></div><br>\\r\\n\\t\\t\\t\\t\\t\\t\\t<h4><b id=\"loadingModal_content\"></b></h4>\\r\\n\\t\\t\\t\\t\\t\\t</center>\\r\\n\\t\\t\\t\\t\\t</div>\\r\\n\\t\\t\\t\\t</div>\\r\\n\\t\\t\\t</div>\\r\\n\\t\\t</div>\\r\\n\\t</div>\\r\\n\\r\\n    <div id=\"root\">\\r\\n\\t\\t<header>\\r\\n\\t\\t\\t<nav class=\"navbar navbar-inverse\" style=\"margin-bottom: 0;\">\\r\\n\\t\\t\\t\\t<div class=\"container\" style=\"margin-bottom: -20px;\">\\r\\n\\t\\t\\t\\t\\t<div class=\"navbar\">\\r\\n\\t\\t\\t\\t\\t\\t<a href=\"./index.php\" class=\"navbar-brand\" title=\"Alura Motors\">\\r\\n\\t\\t\\t\\t\\t\\t\\t<img src=\"img/alura-logo.svg\" class=\"d-inline-block align-top\" alt=\"Alura\">Motors\\r\\n\\t\\t\\t\\t\\t\\t</a>\\r\\n\\t\\t\\t\\t\\t\\t<ul class=\"nav navbar-nav\" style=\"margin-top: 35px;\">\\r\\n\\t\\t\\t\\t\\t\\t\\t<li><a href=\"./hello-world.php\">Hello World</a></li>\\r\\n\\t\\t\\t\\t\\t\\t\\t<li><a href=\"./index.php\">Anúncios</a></li>\\r\\n\\t\\t\\t\\t\\t\\t</ul>\\r\\n\\t\\t\\t\\t\\t</div>\\r\\n\\t\\t\\t\\t</div>\\r\\n\\t\\t\\t</nav>\\r\\n\\t\\t</header>\\r\\n\\r\\n\\t\\t<div class=\"container\">\\r\\n\\t\\t\\t<h1 class=\"sub-header\">Veículos de Luxo Novos e Usados - Todas as Marcas</h1>\\r\\n\\t\\t\\t<div class=\"row\">\\r\\n\\t\\t\\t\\t<div class=\"col-md-12\">\\r\\n\\t\\t\\t\\t\\t<div class=\"container\" style=\"width: 100%\">\\r\\n\\t\\t\\t\\t\\t\\t<div class=\"type-select\">246 veículos encontrados</div>\\r\\n\\t\\t\\t\\t\\t\\t\\t<div class=\"container-pagination\" style=\"float: right\">\\r\\n\\t\\t\\t\\t\\t\\t\\t\\t<span class=\"info-pages\">Página 1 de 25</span>\\r\\n\\t\\t\\t\\t\\t\\t\\t</div>\\r\\n\\t\\t\\t\\t\\t\\t</div>\\r\\n\\t\\t\\t\\t\\t\\t<div id=\"container-cards\" style=\"height: 100%\">\\r\\n\\t\\t\\t\\t\\t\\t\\t\\r\\n                <div class=\"well card\">\\r\\n                    <div class=\"col-md-3 image-card\">\\r\\n                        <img width=\"220\" height=\"155\" alt=\"Foto\" src=\"https://caelum-online-public.s3.amazonaws.com/1381-scraping/01/img-cars/lamborghini-aventador/lamborghini-aventador-2932196__340.jpg\">\\r\\n                    </div>\\r\\n                    <div class=\"col-md-6 body-card\">\\r\\n                        <p class=\"txt-name inline\">LAMBORGHINI AVENTADOR</p>\\r\\n                            <p class=\"txt-category badge badge-secondary inline\">USADO</p>\\r\\n                            \\r\\n                        <p class=\"txt-motor\">Motor 1.8 16v</p>\\r\\n                        <p class=\"txt-description\">Ano 1993 - 55.286 km</p>\\r\\n                        <ul class=\"lst-items\">\\r\\n                            <li class=\"txt-items\">► 4 X 4</li>\\r\\n                            <li class=\"txt-items\">► Câmera de estacionamento</li>\\r\\n                            <li class=\"txt-items\">► Controle de tração</li>\\r\\n                            <li class=\"txt-items\">► Sensor de estacionamento</li>\\r\\n                            <li class=\"txt-items\">...</li>\\r\\n                        </ul>\\r\\n                        <p class=\"txt-location\">Belo Horizonte - MG</p>\\r\\n                    </div>\\r\\n                    <div class=\"col-md-3 value-card\">\\r\\n                        <div class=\"value\">\\r\\n                            <p class=\"txt-value\">R$ 338.000</p>\\r\\n                        </div>\\r\\n                    </div>\\r\\n                </div>\\r\\n                <div class=\"well card\">\\r\\n                    <div class=\"col-md-3 image-card\">\\r\\n                        <img width=\"220\" height=\"155\" alt=\"Foto\" src=\"https://caelum-online-public.s3.amazonaws.com/1381-scraping/01/img-cars/bmw-m2/bmw-m2-2970882__340.jpg\">\\r\\n                    </div>\\r\\n                    <div class=\"col-md-6 body-card\">\\r\\n                        <p class=\"txt-name inline\">BMW M2</p>\\r\\n                            <p class=\"txt-category badge badge-secondary inline\">USADO</p>\\r\\n                            \\r\\n                        <p class=\"txt-motor\">Motor 3.0 32v</p>\\r\\n                        <p class=\"txt-description\">Ano 2018 - 83.447 km</p>\\r\\n                        <ul class=\"lst-items\">\\r\\n                            <li class=\"txt-items\">► Câmera de estacionamento</li>\\r\\n                            <li class=\"txt-items\">► Controle de estabilidade</li>\\r\\n                            <li class=\"txt-items\">► Travas elétricas</li>\\r\\n                            <li class=\"txt-items\">► Freios ABS</li>\\r\\n                            <li class=\"txt-items\">...</li>\\r\\n                        </ul>\\r\\n                        <p class=\"txt-location\">Belo Horizonte - MG</p>\\r\\n                    </div>\\r\\n                    <div class=\"col-md-3 value-card\">\\r\\n                        <div class=\"value\">\\r\\n                            <p class=\"txt-value\">R$ 346.000</p>\\r\\n                        </div>\\r\\n                    </div>\\r\\n                </div>\\r\\n                <div class=\"well card\">\\r\\n                    <div class=\"col-md-3 image-card\">\\r\\n                        <img width=\"220\" height=\"155\" alt=\"Foto\" src=\"https://caelum-online-public.s3.amazonaws.com/1381-scraping/01/img-cars/alfa/alfa-1823056__340.jpg\">\\r\\n                    </div>\\r\\n                    <div class=\"col-md-6 body-card\">\\r\\n                        <p class=\"txt-name inline\">ALFA</p>\\r\\n                            <p class=\"txt-category badge badge-secondary inline\">USADO</p>\\r\\n                            \\r\\n                        <p class=\"txt-motor\">Motor 1.8 16v</p>\\r\\n                        <p class=\"txt-description\">Ano 2004 - 19.722 km</p>\\r\\n                        <ul class=\"lst-items\">\\r\\n                            <li class=\"txt-items\">► Central multimídia</li>\\r\\n                            <li class=\"txt-items\">► Bancos de couro</li>\\r\\n                            <li class=\"txt-items\">► Rodas de liga</li>\\r\\n                            <li class=\"txt-items\">► Câmera de estacionamento</li>\\r\\n                            <li class=\"txt-items\">...</li>\\r\\n                        </ul>\\r\\n                        <p class=\"txt-location\">Rio de Janeiro - RJ</p>\\r\\n                    </div>\\r\\n                    <div class=\"col-md-3 value-card\">\\r\\n                        <div class=\"value\">\\r\\n                            <p class=\"txt-value\">R$ 480.000</p>\\r\\n                        </div>\\r\\n                    </div>\\r\\n                </div>\\r\\n                <div class=\"well card\">\\r\\n                    <div class=\"col-md-3 image-card\">\\r\\n                        <img width=\"220\" height=\"155\" alt=\"Foto\" src=\"https://caelum-online-public.s3.amazonaws.com/1381-scraping/01/img-cars/puech/puech-4055386__340.jpg\">\\r\\n                    </div>\\r\\n                    <div class=\"col-md-6 body-card\">\\r\\n                        <p class=\"txt-name inline\">PUECH</p>\\r\\n                            <p class=\"txt-category badge badge-secondary inline\">USADO</p>\\r\\n                            \\r\\n                        <p class=\"txt-motor\">Motor Diesel V8</p>\\r\\n                        <p class=\"txt-description\">Ano 1992 - 34.335 km</p>\\r\\n                        <ul class=\"lst-items\">\\r\\n                            <li class=\"txt-items\">► Bancos de couro</li>\\r\\n                            <li class=\"txt-items\">► Freios ABS</li>\\r\\n                            <li class=\"txt-items\">► Rodas de liga</li>\\r\\n                            <li class=\"txt-items\">► Câmbio automático</li>\\r\\n                            <li class=\"txt-items\">...</li>\\r\\n                        </ul>\\r\\n                        <p class=\"txt-location\">São Paulo - SP</p>\\r\\n                    </div>\\r\\n                    <div class=\"col-md-3 value-card\">\\r\\n                        <div class=\"value\">\\r\\n                            <p class=\"txt-value\">R$ 133.000</p>\\r\\n                        </div>\\r\\n                    </div>\\r\\n                </div>\\r\\n                <div class=\"well card\">\\r\\n                    <div class=\"col-md-3 image-card\">\\r\\n                        <img width=\"220\" height=\"155\" alt=\"Foto\" src=\"https://caelum-online-public.s3.amazonaws.com/1381-scraping/01/img-cars/lamborghini-murcielago/lamborghini-murcielago-2872974__340.jpg\">\\r\\n                    </div>\\r\\n                    <div class=\"col-md-6 body-card\">\\r\\n                        <p class=\"txt-name inline\">LAMBORGHINI MURCIELAGO</p>\\r\\n                            <p class=\"txt-category badge badge-secondary inline\">USADO</p>\\r\\n                            \\r\\n                        <p class=\"txt-motor\">Motor 1.0 8v</p>\\r\\n                        <p class=\"txt-description\">Ano 1991 - 464 km</p>\\r\\n                        <ul class=\"lst-items\">\\r\\n                            <li class=\"txt-items\">► Central multimídia</li>\\r\\n                            <li class=\"txt-items\">► Teto panorâmico</li>\\r\\n                            <li class=\"txt-items\">► Sensor crepuscular</li>\\r\\n                            <li class=\"txt-items\">► Piloto automático</li>\\r\\n                            <li class=\"txt-items\">...</li>\\r\\n                        </ul>\\r\\n                        <p class=\"txt-location\">Belo Horizonte - MG</p>\\r\\n                    </div>\\r\\n                    <div class=\"col-md-3 value-card\">\\r\\n                        <div class=\"value\">\\r\\n                            <p class=\"txt-value\">R$ 175.000</p>\\r\\n                        </div>\\r\\n                    </div>\\r\\n                </div>\\r\\n                <div class=\"well card\">\\r\\n                    <div class=\"col-md-3 image-card\">\\r\\n                        <img width=\"220\" height=\"155\" alt=\"Foto\" src=\"https://caelum-online-public.s3.amazonaws.com/1381-scraping/01/img-cars/aston-martin/aston-martin-2977916__340.jpg\">\\r\\n                    </div>\\r\\n                    <div class=\"col-md-6 body-card\">\\r\\n                        <p class=\"txt-name inline\">ASTON MARTIN</p>\\r\\n                            <p class=\"txt-category badge badge-secondary inline\">USADO</p>\\r\\n                            <p class=\"txt-opportunity badge badge-danger inline\">OPORTUNIDADE</p>\\r\\n                        <p class=\"txt-motor\">Motor Diesel V6</p>\\r\\n                        <p class=\"txt-description\">Ano 2004 - 50.189 km</p>\\r\\n                        <ul class=\"lst-items\">\\r\\n                            <li class=\"txt-items\">► Painel digital</li>\\r\\n                            <li class=\"txt-items\">► Controle de tração</li>\\r\\n                            <li class=\"txt-items\">► Teto panorâmico</li>\\r\\n                            <li class=\"txt-items\">► Central multimídia</li>\\r\\n                            <li class=\"txt-items\">...</li>\\r\\n                        </ul>\\r\\n                        <p class=\"txt-location\">Belo Horizonte - MG</p>\\r\\n                    </div>\\r\\n                    <div class=\"col-md-3 value-card\">\\r\\n                        <div class=\"value\">\\r\\n                            <p class=\"txt-value\">R$ 239.000</p>\\r\\n                        </div>\\r\\n                    </div>\\r\\n                </div>\\r\\n                <div class=\"well card\">\\r\\n                    <div class=\"col-md-3 image-card\">\\r\\n                        <img width=\"220\" height=\"155\" alt=\"Foto\" src=\"https://caelum-online-public.s3.amazonaws.com/1381-scraping/01/img-cars/tvr/tvr-2943925__340.jpg\">\\r\\n                    </div>\\r\\n                    <div class=\"col-md-6 body-card\">\\r\\n                        <p class=\"txt-name inline\">TVR</p>\\r\\n                            <p class=\"txt-category badge badge-secondary inline\">USADO</p>\\r\\n                            \\r\\n                        <p class=\"txt-motor\">Motor 4.0 Turbo</p>\\r\\n                        <p class=\"txt-description\">Ano 2014 - 17.778 km</p>\\r\\n                        <ul class=\"lst-items\">\\r\\n                            <li class=\"txt-items\">► 4 X 4</li>\\r\\n                            <li class=\"txt-items\">► Teto panorâmico</li>\\r\\n                            <li class=\"txt-items\">► Central multimídia</li>\\r\\n                            <li class=\"txt-items\">► Controle de estabilidade</li>\\r\\n                            <li class=\"txt-items\">...</li>\\r\\n                        </ul>\\r\\n                        <p class=\"txt-location\">Belo Horizonte - MG</p>\\r\\n                    </div>\\r\\n                    <div class=\"col-md-3 value-card\">\\r\\n                        <div class=\"value\">\\r\\n                            <p class=\"txt-value\">R$ 115.000</p>\\r\\n                        </div>\\r\\n                    </div>\\r\\n                </div>\\r\\n                <div class=\"well card\">\\r\\n                    <div class=\"col-md-3 image-card\">\\r\\n                        <img width=\"220\" height=\"155\" alt=\"Foto\" src=\"https://caelum-online-public.s3.amazonaws.com/1381-scraping/01/img-cars/excalibur/excalibur-2916730__340.jpg\">\\r\\n                    </div>\\r\\n                    <div class=\"col-md-6 body-card\">\\r\\n                        <p class=\"txt-name inline\">EXCALIBUR</p>\\r\\n                            <p class=\"txt-category badge badge-secondary inline\">USADO</p>\\r\\n                            \\r\\n                        <p class=\"txt-motor\">Motor 3.0 32v</p>\\r\\n                        <p class=\"txt-description\">Ano 2009 - 81.251 km</p>\\r\\n                        <ul class=\"lst-items\">\\r\\n                            <li class=\"txt-items\">► Painel digital</li>\\r\\n                            <li class=\"txt-items\">► Câmbio automático</li>\\r\\n                            <li class=\"txt-items\">► Sensor de chuva</li>\\r\\n                            <li class=\"txt-items\">► Travas elétricas</li>\\r\\n                            <li class=\"txt-items\">...</li>\\r\\n                        </ul>\\r\\n                        <p class=\"txt-location\">Rio de Janeiro - RJ</p>\\r\\n                    </div>\\r\\n                    <div class=\"col-md-3 value-card\">\\r\\n                        <div class=\"value\">\\r\\n                            <p class=\"txt-value\">R$ 114.000</p>\\r\\n                        </div>\\r\\n                    </div>\\r\\n                </div>\\r\\n                <div class=\"well card\">\\r\\n                    <div class=\"col-md-3 image-card\">\\r\\n                        <img width=\"220\" height=\"155\" alt=\"Foto\" src=\"https://caelum-online-public.s3.amazonaws.com/1381-scraping/01/img-cars/mclaren/mclaren-2855240__340.jpg\">\\r\\n                    </div>\\r\\n                    <div class=\"col-md-6 body-card\">\\r\\n                        <p class=\"txt-name inline\">MCLAREN</p>\\r\\n                            <p class=\"txt-category badge badge-secondary inline\">NOVO</p>\\r\\n                            \\r\\n                        <p class=\"txt-motor\">Motor Diesel</p>\\r\\n                        <p class=\"txt-description\">Ano 2019 - 0 km</p>\\r\\n                        <ul class=\"lst-items\">\\r\\n                            <li class=\"txt-items\">► Central multimídia</li>\\r\\n                            <li class=\"txt-items\">► Câmera de estacionamento</li>\\r\\n                            <li class=\"txt-items\">► Câmbio automático</li>\\r\\n                            <li class=\"txt-items\">► Ar condicionado</li>\\r\\n                            <li class=\"txt-items\">...</li>\\r\\n                        </ul>\\r\\n                        <p class=\"txt-location\">São Paulo - SP</p>\\r\\n                    </div>\\r\\n                    <div class=\"col-md-3 value-card\">\\r\\n                        <div class=\"value\">\\r\\n                            <p class=\"txt-value\">R$ 75.000</p>\\r\\n                        </div>\\r\\n                    </div>\\r\\n                </div>\\r\\n                <div class=\"well card\">\\r\\n                    <div class=\"col-md-3 image-card\">\\r\\n                        <img width=\"220\" height=\"155\" alt=\"Foto\" src=\"https://caelum-online-public.s3.amazonaws.com/1381-scraping/01/img-cars/toyota/toyota-3245397__340.jpg\">\\r\\n                    </div>\\r\\n                    <div class=\"col-md-6 body-card\">\\r\\n                        <p class=\"txt-name inline\">TOYOTA</p>\\r\\n                            <p class=\"txt-category badge badge-secondary inline\">USADO</p>\\r\\n                            <p class=\"txt-opportunity badge badge-danger inline\">OPORTUNIDADE</p>\\r\\n                        <p class=\"txt-motor\">Motor 4.0 Turbo</p>\\r\\n                        <p class=\"txt-description\">Ano 1999 - 12.536 km</p>\\r\\n                        <ul class=\"lst-items\">\\r\\n                            <li class=\"txt-items\">► Bancos de couro</li>\\r\\n                            <li class=\"txt-items\">► Freios ABS</li>\\r\\n                            <li class=\"txt-items\">► Piloto automático</li>\\r\\n                            <li class=\"txt-items\">► Controle de estabilidade</li>\\r\\n                            <li class=\"txt-items\">...</li>\\r\\n                        </ul>\\r\\n                        <p class=\"txt-location\">São Paulo - SP</p>\\r\\n                    </div>\\r\\n                    <div class=\"col-md-3 value-card\">\\r\\n                        <div class=\"value\">\\r\\n                            <p class=\"txt-value\">R$ 117.000</p>\\r\\n                        </div>\\r\\n                    </div>\\r\\n                </div>\\t\\t\\t\\t\\t\\t</div>\\r\\n\\t\\t\\t\\t\\t\\t<div class=\"type-select\">246 veículos encontrados</div>\\r\\n\\t\\t\\t\\t\\t\\t\\t<div class=\"container-pagination\" style=\"float: right\">\\r\\n\\t\\t\\t\\t\\t\\t\\t\\t<span class=\"info-pages\">Página 1 de 25</span>\\r\\n\\t\\t\\t\\t\\t\\t\\t</div>\\r\\n\\t\\t\\t\\t\\t\\t</div>\\r\\n\\t\\t\\t\\t\\t</div>\\r\\n\\t\\t\\t\\t</div>\\r\\n\\t\\t\\t</div>\\r\\n\\t\\t</div>\\r\\n\\r\\n\\t\\t<footer>\\r\\n\\t\\t\\t<nav class=\"navbar navbar-inverse\">\\r\\n\\t\\t\\t\\t<div class=\"container\" style=\"margin-bottom: 10px;\">\\r\\n\\t\\t\\t\\t\\t<div class=\"navbar\">\\r\\n\\t\\t\\t\\t\\t\\t<a href=\"./index.php\" class=\"navbar-brand\" title=\"Alura Motors\">\\r\\n\\t\\t\\t\\t\\t\\t\\t<img src=\"img/alura-logo.svg\" class=\"d-inline-block align-top\" alt=\"Alura\">Motors\\r\\n\\t\\t\\t\\t\\t\\t</a>\\r\\n\\t\\t\\t\\t\\t\\t<p style=\"color: #fff; text-align: center; margin-top: 40px;\">Aplicação para treinamento de web scraping</p>\\r\\n\\t\\t\\t\\t\\t</div>\\r\\n\\t\\t\\t\\t</div>\\r\\n\\t\\t\\t</nav>\\r\\n\\t\\t</footer>\\r\\n\\r\\n\\t</div>\\r\\n\\r\\n</body>\\r\\n</html>\\r\\n'"
            ]
          },
          "metadata": {},
          "execution_count": 9
        }
      ]
    },
    {
      "cell_type": "markdown",
      "source": [
        "## **Eliminando os caracteres de Tabulação, quebra de linha etc.**"
      ],
      "metadata": {
        "id": "Di1ovl_vwEz-"
      }
    },
    {
      "cell_type": "code",
      "source": [
        "html.split()"
      ],
      "metadata": {
        "colab": {
          "base_uri": "https://localhost:8080/"
        },
        "id": "B19XyupkwOhk",
        "outputId": "00c74bb5-fee9-417c-8159-e685d0c6798b"
      },
      "execution_count": 10,
      "outputs": [
        {
          "output_type": "execute_result",
          "data": {
            "text/plain": [
              "['<!DOCTYPE',\n",
              " 'html>',\n",
              " '<html',\n",
              " 'lang=\"pt-br\">',\n",
              " '<head>',\n",
              " '<meta',\n",
              " 'charset=\"utf-8\">',\n",
              " '<meta',\n",
              " 'name=\"viewport\"',\n",
              " 'content=\"width=device-width,',\n",
              " 'initial-scale=1,',\n",
              " 'shrink-to-fit=no\">',\n",
              " '<title>Alura',\n",
              " 'Motors</title>',\n",
              " '<style>',\n",
              " '/*Regra',\n",
              " 'para',\n",
              " 'a',\n",
              " 'animacao*/',\n",
              " '@keyframes',\n",
              " 'spin',\n",
              " '{',\n",
              " '0%',\n",
              " '{',\n",
              " 'transform:',\n",
              " 'rotate(0deg);',\n",
              " '}',\n",
              " '100%',\n",
              " '{',\n",
              " 'transform:',\n",
              " 'rotate(360deg);',\n",
              " '}',\n",
              " '}',\n",
              " '/*Mudando',\n",
              " 'o',\n",
              " 'tamanho',\n",
              " 'do',\n",
              " 'icone',\n",
              " 'de',\n",
              " 'resposta*/',\n",
              " 'div.glyphicon',\n",
              " '{',\n",
              " 'color:#6B8E23;',\n",
              " 'font-size:',\n",
              " '38px;',\n",
              " '}',\n",
              " '/*Classe',\n",
              " 'que',\n",
              " 'mostra',\n",
              " 'a',\n",
              " 'animacao',\n",
              " \"'spin'*/\",\n",
              " '.loader',\n",
              " '{',\n",
              " 'border:',\n",
              " '16px',\n",
              " 'solid',\n",
              " '#f3f3f3;',\n",
              " 'border-radius:',\n",
              " '50%;',\n",
              " 'border-top:',\n",
              " '16px',\n",
              " 'solid',\n",
              " '#3498db;',\n",
              " 'width:',\n",
              " '80px;',\n",
              " 'height:',\n",
              " '80px;',\n",
              " '-webkit-animation:',\n",
              " 'spin',\n",
              " '2s',\n",
              " 'linear',\n",
              " 'infinite;',\n",
              " 'animation:',\n",
              " 'spin',\n",
              " '2s',\n",
              " 'linear',\n",
              " 'infinite;',\n",
              " '}',\n",
              " '</style>',\n",
              " '<link',\n",
              " 'rel=\"stylesheet\"',\n",
              " 'href=\"https://maxcdn.bootstrapcdn.com/bootstrap/3.3.7/css/bootstrap.min.css\"',\n",
              " 'integrity=\"sha384-BVYiiSIFeK1dGmJRAkycuHAHRg32OmUcww7on3RYdg4Va+PmSTsz/K68vbdEjh4u\"',\n",
              " 'crossorigin=\"anonymous\">',\n",
              " '<link',\n",
              " 'rel=\"stylesheet\"',\n",
              " 'href=\"css/styles.css\"',\n",
              " 'media=\"all\">',\n",
              " '<script',\n",
              " 'src=\"https://code.jquery.com/jquery-1.12.4.js\"></script>',\n",
              " '<script',\n",
              " 'src=\"https://maxcdn.bootstrapcdn.com/bootstrap/3.3.7/js/bootstrap.min.js\"',\n",
              " 'integrity=\"sha384-Tc5IQib027qvyjSMfHjOMaLkfuWVxZxUPnCJA7l2mCWNIpG9mGCD8wGNIcPD7Txa\"',\n",
              " 'crossorigin=\"anonymous\"></script>',\n",
              " '<script',\n",
              " 'type=\"text/javascript\"',\n",
              " 'src=\"js/index.js\"></script>',\n",
              " '<script>',\n",
              " 'requisitar(\"https://alura-scraping.herokuapp.com/produtos?_page=\"+1+\"&_limit=10\")',\n",
              " '</script>',\n",
              " '</head>',\n",
              " '<body',\n",
              " 'cz-shortcut-listen=\"true\">',\n",
              " '<noscript>You',\n",
              " 'need',\n",
              " 'to',\n",
              " 'enable',\n",
              " 'JavaScript',\n",
              " 'to',\n",
              " 'run',\n",
              " 'this',\n",
              " 'app.</noscript>',\n",
              " '<div',\n",
              " 'class=\"modal',\n",
              " 'fade\"',\n",
              " 'data-backdrop=\"static\"',\n",
              " 'id=\"loadingModal\"',\n",
              " 'tabindex=\"-1\"',\n",
              " 'role=\"dialog\"',\n",
              " 'aria-labelledby=\"loadingModal_label\">',\n",
              " '<div',\n",
              " 'class=\"modal-dialog\"',\n",
              " 'role=\"document\">',\n",
              " '<div',\n",
              " 'class=\"modal-content\">',\n",
              " '<div',\n",
              " 'class=\"modal-header\">',\n",
              " '<h5',\n",
              " 'class=\"modal-title\"',\n",
              " 'id=\"loadingModal_label\">',\n",
              " '<span',\n",
              " 'class=\"glyphicon',\n",
              " 'glyphicon-refresh\"></span>Aguarde...',\n",
              " '</h5>',\n",
              " '</div>',\n",
              " '<div',\n",
              " 'class=\"modal-body\">',\n",
              " '<div',\n",
              " \"class='alert'\",\n",
              " \"role='alert'>\",\n",
              " '<center>',\n",
              " '<div',\n",
              " 'class=\"loader\"',\n",
              " 'id=\"loader\"></div><br>',\n",
              " '<h4><b',\n",
              " 'id=\"loadingModal_content\"></b></h4>',\n",
              " '</center>',\n",
              " '</div>',\n",
              " '</div>',\n",
              " '</div>',\n",
              " '</div>',\n",
              " '</div>',\n",
              " '<div',\n",
              " 'id=\"root\">',\n",
              " '<header>',\n",
              " '<nav',\n",
              " 'class=\"navbar',\n",
              " 'navbar-inverse\"',\n",
              " 'style=\"margin-bottom:',\n",
              " '0;\">',\n",
              " '<div',\n",
              " 'class=\"container\"',\n",
              " 'style=\"margin-bottom:',\n",
              " '-20px;\">',\n",
              " '<div',\n",
              " 'class=\"navbar\">',\n",
              " '<a',\n",
              " 'href=\"./index.php\"',\n",
              " 'class=\"navbar-brand\"',\n",
              " 'title=\"Alura',\n",
              " 'Motors\">',\n",
              " '<img',\n",
              " 'src=\"img/alura-logo.svg\"',\n",
              " 'class=\"d-inline-block',\n",
              " 'align-top\"',\n",
              " 'alt=\"Alura\">Motors',\n",
              " '</a>',\n",
              " '<ul',\n",
              " 'class=\"nav',\n",
              " 'navbar-nav\"',\n",
              " 'style=\"margin-top:',\n",
              " '35px;\">',\n",
              " '<li><a',\n",
              " 'href=\"./hello-world.php\">Hello',\n",
              " 'World</a></li>',\n",
              " '<li><a',\n",
              " 'href=\"./index.php\">Anúncios</a></li>',\n",
              " '</ul>',\n",
              " '</div>',\n",
              " '</div>',\n",
              " '</nav>',\n",
              " '</header>',\n",
              " '<div',\n",
              " 'class=\"container\">',\n",
              " '<h1',\n",
              " 'class=\"sub-header\">Veículos',\n",
              " 'de',\n",
              " 'Luxo',\n",
              " 'Novos',\n",
              " 'e',\n",
              " 'Usados',\n",
              " '-',\n",
              " 'Todas',\n",
              " 'as',\n",
              " 'Marcas</h1>',\n",
              " '<div',\n",
              " 'class=\"row\">',\n",
              " '<div',\n",
              " 'class=\"col-md-12\">',\n",
              " '<div',\n",
              " 'class=\"container\"',\n",
              " 'style=\"width:',\n",
              " '100%\">',\n",
              " '<div',\n",
              " 'class=\"type-select\">246',\n",
              " 'veículos',\n",
              " 'encontrados</div>',\n",
              " '<div',\n",
              " 'class=\"container-pagination\"',\n",
              " 'style=\"float:',\n",
              " 'right\">',\n",
              " '<span',\n",
              " 'class=\"info-pages\">Página',\n",
              " '1',\n",
              " 'de',\n",
              " '25</span>',\n",
              " '</div>',\n",
              " '</div>',\n",
              " '<div',\n",
              " 'id=\"container-cards\"',\n",
              " 'style=\"height:',\n",
              " '100%\">',\n",
              " '<div',\n",
              " 'class=\"well',\n",
              " 'card\">',\n",
              " '<div',\n",
              " 'class=\"col-md-3',\n",
              " 'image-card\">',\n",
              " '<img',\n",
              " 'width=\"220\"',\n",
              " 'height=\"155\"',\n",
              " 'alt=\"Foto\"',\n",
              " 'src=\"https://caelum-online-public.s3.amazonaws.com/1381-scraping/01/img-cars/lamborghini-aventador/lamborghini-aventador-2932196__340.jpg\">',\n",
              " '</div>',\n",
              " '<div',\n",
              " 'class=\"col-md-6',\n",
              " 'body-card\">',\n",
              " '<p',\n",
              " 'class=\"txt-name',\n",
              " 'inline\">LAMBORGHINI',\n",
              " 'AVENTADOR</p>',\n",
              " '<p',\n",
              " 'class=\"txt-category',\n",
              " 'badge',\n",
              " 'badge-secondary',\n",
              " 'inline\">USADO</p>',\n",
              " '<p',\n",
              " 'class=\"txt-motor\">Motor',\n",
              " '1.8',\n",
              " '16v</p>',\n",
              " '<p',\n",
              " 'class=\"txt-description\">Ano',\n",
              " '1993',\n",
              " '-',\n",
              " '55.286',\n",
              " 'km</p>',\n",
              " '<ul',\n",
              " 'class=\"lst-items\">',\n",
              " '<li',\n",
              " 'class=\"txt-items\">►',\n",
              " '4',\n",
              " 'X',\n",
              " '4</li>',\n",
              " '<li',\n",
              " 'class=\"txt-items\">►',\n",
              " 'Câmera',\n",
              " 'de',\n",
              " 'estacionamento</li>',\n",
              " '<li',\n",
              " 'class=\"txt-items\">►',\n",
              " 'Controle',\n",
              " 'de',\n",
              " 'tração</li>',\n",
              " '<li',\n",
              " 'class=\"txt-items\">►',\n",
              " 'Sensor',\n",
              " 'de',\n",
              " 'estacionamento</li>',\n",
              " '<li',\n",
              " 'class=\"txt-items\">...</li>',\n",
              " '</ul>',\n",
              " '<p',\n",
              " 'class=\"txt-location\">Belo',\n",
              " 'Horizonte',\n",
              " '-',\n",
              " 'MG</p>',\n",
              " '</div>',\n",
              " '<div',\n",
              " 'class=\"col-md-3',\n",
              " 'value-card\">',\n",
              " '<div',\n",
              " 'class=\"value\">',\n",
              " '<p',\n",
              " 'class=\"txt-value\">R$',\n",
              " '338.000</p>',\n",
              " '</div>',\n",
              " '</div>',\n",
              " '</div>',\n",
              " '<div',\n",
              " 'class=\"well',\n",
              " 'card\">',\n",
              " '<div',\n",
              " 'class=\"col-md-3',\n",
              " 'image-card\">',\n",
              " '<img',\n",
              " 'width=\"220\"',\n",
              " 'height=\"155\"',\n",
              " 'alt=\"Foto\"',\n",
              " 'src=\"https://caelum-online-public.s3.amazonaws.com/1381-scraping/01/img-cars/bmw-m2/bmw-m2-2970882__340.jpg\">',\n",
              " '</div>',\n",
              " '<div',\n",
              " 'class=\"col-md-6',\n",
              " 'body-card\">',\n",
              " '<p',\n",
              " 'class=\"txt-name',\n",
              " 'inline\">BMW',\n",
              " 'M2</p>',\n",
              " '<p',\n",
              " 'class=\"txt-category',\n",
              " 'badge',\n",
              " 'badge-secondary',\n",
              " 'inline\">USADO</p>',\n",
              " '<p',\n",
              " 'class=\"txt-motor\">Motor',\n",
              " '3.0',\n",
              " '32v</p>',\n",
              " '<p',\n",
              " 'class=\"txt-description\">Ano',\n",
              " '2018',\n",
              " '-',\n",
              " '83.447',\n",
              " 'km</p>',\n",
              " '<ul',\n",
              " 'class=\"lst-items\">',\n",
              " '<li',\n",
              " 'class=\"txt-items\">►',\n",
              " 'Câmera',\n",
              " 'de',\n",
              " 'estacionamento</li>',\n",
              " '<li',\n",
              " 'class=\"txt-items\">►',\n",
              " 'Controle',\n",
              " 'de',\n",
              " 'estabilidade</li>',\n",
              " '<li',\n",
              " 'class=\"txt-items\">►',\n",
              " 'Travas',\n",
              " 'elétricas</li>',\n",
              " '<li',\n",
              " 'class=\"txt-items\">►',\n",
              " 'Freios',\n",
              " 'ABS</li>',\n",
              " '<li',\n",
              " 'class=\"txt-items\">...</li>',\n",
              " '</ul>',\n",
              " '<p',\n",
              " 'class=\"txt-location\">Belo',\n",
              " 'Horizonte',\n",
              " '-',\n",
              " 'MG</p>',\n",
              " '</div>',\n",
              " '<div',\n",
              " 'class=\"col-md-3',\n",
              " 'value-card\">',\n",
              " '<div',\n",
              " 'class=\"value\">',\n",
              " '<p',\n",
              " 'class=\"txt-value\">R$',\n",
              " '346.000</p>',\n",
              " '</div>',\n",
              " '</div>',\n",
              " '</div>',\n",
              " '<div',\n",
              " 'class=\"well',\n",
              " 'card\">',\n",
              " '<div',\n",
              " 'class=\"col-md-3',\n",
              " 'image-card\">',\n",
              " '<img',\n",
              " 'width=\"220\"',\n",
              " 'height=\"155\"',\n",
              " 'alt=\"Foto\"',\n",
              " 'src=\"https://caelum-online-public.s3.amazonaws.com/1381-scraping/01/img-cars/alfa/alfa-1823056__340.jpg\">',\n",
              " '</div>',\n",
              " '<div',\n",
              " 'class=\"col-md-6',\n",
              " 'body-card\">',\n",
              " '<p',\n",
              " 'class=\"txt-name',\n",
              " 'inline\">ALFA</p>',\n",
              " '<p',\n",
              " 'class=\"txt-category',\n",
              " 'badge',\n",
              " 'badge-secondary',\n",
              " 'inline\">USADO</p>',\n",
              " '<p',\n",
              " 'class=\"txt-motor\">Motor',\n",
              " '1.8',\n",
              " '16v</p>',\n",
              " '<p',\n",
              " 'class=\"txt-description\">Ano',\n",
              " '2004',\n",
              " '-',\n",
              " '19.722',\n",
              " 'km</p>',\n",
              " '<ul',\n",
              " 'class=\"lst-items\">',\n",
              " '<li',\n",
              " 'class=\"txt-items\">►',\n",
              " 'Central',\n",
              " 'multimídia</li>',\n",
              " '<li',\n",
              " 'class=\"txt-items\">►',\n",
              " 'Bancos',\n",
              " 'de',\n",
              " 'couro</li>',\n",
              " '<li',\n",
              " 'class=\"txt-items\">►',\n",
              " 'Rodas',\n",
              " 'de',\n",
              " 'liga</li>',\n",
              " '<li',\n",
              " 'class=\"txt-items\">►',\n",
              " 'Câmera',\n",
              " 'de',\n",
              " 'estacionamento</li>',\n",
              " '<li',\n",
              " 'class=\"txt-items\">...</li>',\n",
              " '</ul>',\n",
              " '<p',\n",
              " 'class=\"txt-location\">Rio',\n",
              " 'de',\n",
              " 'Janeiro',\n",
              " '-',\n",
              " 'RJ</p>',\n",
              " '</div>',\n",
              " '<div',\n",
              " 'class=\"col-md-3',\n",
              " 'value-card\">',\n",
              " '<div',\n",
              " 'class=\"value\">',\n",
              " '<p',\n",
              " 'class=\"txt-value\">R$',\n",
              " '480.000</p>',\n",
              " '</div>',\n",
              " '</div>',\n",
              " '</div>',\n",
              " '<div',\n",
              " 'class=\"well',\n",
              " 'card\">',\n",
              " '<div',\n",
              " 'class=\"col-md-3',\n",
              " 'image-card\">',\n",
              " '<img',\n",
              " 'width=\"220\"',\n",
              " 'height=\"155\"',\n",
              " 'alt=\"Foto\"',\n",
              " 'src=\"https://caelum-online-public.s3.amazonaws.com/1381-scraping/01/img-cars/puech/puech-4055386__340.jpg\">',\n",
              " '</div>',\n",
              " '<div',\n",
              " 'class=\"col-md-6',\n",
              " 'body-card\">',\n",
              " '<p',\n",
              " 'class=\"txt-name',\n",
              " 'inline\">PUECH</p>',\n",
              " '<p',\n",
              " 'class=\"txt-category',\n",
              " 'badge',\n",
              " 'badge-secondary',\n",
              " 'inline\">USADO</p>',\n",
              " '<p',\n",
              " 'class=\"txt-motor\">Motor',\n",
              " 'Diesel',\n",
              " 'V8</p>',\n",
              " '<p',\n",
              " 'class=\"txt-description\">Ano',\n",
              " '1992',\n",
              " '-',\n",
              " '34.335',\n",
              " 'km</p>',\n",
              " '<ul',\n",
              " 'class=\"lst-items\">',\n",
              " '<li',\n",
              " 'class=\"txt-items\">►',\n",
              " 'Bancos',\n",
              " 'de',\n",
              " 'couro</li>',\n",
              " '<li',\n",
              " 'class=\"txt-items\">►',\n",
              " 'Freios',\n",
              " 'ABS</li>',\n",
              " '<li',\n",
              " 'class=\"txt-items\">►',\n",
              " 'Rodas',\n",
              " 'de',\n",
              " 'liga</li>',\n",
              " '<li',\n",
              " 'class=\"txt-items\">►',\n",
              " 'Câmbio',\n",
              " 'automático</li>',\n",
              " '<li',\n",
              " 'class=\"txt-items\">...</li>',\n",
              " '</ul>',\n",
              " '<p',\n",
              " 'class=\"txt-location\">São',\n",
              " 'Paulo',\n",
              " '-',\n",
              " 'SP</p>',\n",
              " '</div>',\n",
              " '<div',\n",
              " 'class=\"col-md-3',\n",
              " 'value-card\">',\n",
              " '<div',\n",
              " 'class=\"value\">',\n",
              " '<p',\n",
              " 'class=\"txt-value\">R$',\n",
              " '133.000</p>',\n",
              " '</div>',\n",
              " '</div>',\n",
              " '</div>',\n",
              " '<div',\n",
              " 'class=\"well',\n",
              " 'card\">',\n",
              " '<div',\n",
              " 'class=\"col-md-3',\n",
              " 'image-card\">',\n",
              " '<img',\n",
              " 'width=\"220\"',\n",
              " 'height=\"155\"',\n",
              " 'alt=\"Foto\"',\n",
              " 'src=\"https://caelum-online-public.s3.amazonaws.com/1381-scraping/01/img-cars/lamborghini-murcielago/lamborghini-murcielago-2872974__340.jpg\">',\n",
              " '</div>',\n",
              " '<div',\n",
              " 'class=\"col-md-6',\n",
              " 'body-card\">',\n",
              " '<p',\n",
              " 'class=\"txt-name',\n",
              " 'inline\">LAMBORGHINI',\n",
              " 'MURCIELAGO</p>',\n",
              " '<p',\n",
              " 'class=\"txt-category',\n",
              " 'badge',\n",
              " 'badge-secondary',\n",
              " 'inline\">USADO</p>',\n",
              " '<p',\n",
              " 'class=\"txt-motor\">Motor',\n",
              " '1.0',\n",
              " '8v</p>',\n",
              " '<p',\n",
              " 'class=\"txt-description\">Ano',\n",
              " '1991',\n",
              " '-',\n",
              " '464',\n",
              " 'km</p>',\n",
              " '<ul',\n",
              " 'class=\"lst-items\">',\n",
              " '<li',\n",
              " 'class=\"txt-items\">►',\n",
              " 'Central',\n",
              " 'multimídia</li>',\n",
              " '<li',\n",
              " 'class=\"txt-items\">►',\n",
              " 'Teto',\n",
              " 'panorâmico</li>',\n",
              " '<li',\n",
              " 'class=\"txt-items\">►',\n",
              " 'Sensor',\n",
              " 'crepuscular</li>',\n",
              " '<li',\n",
              " 'class=\"txt-items\">►',\n",
              " 'Piloto',\n",
              " 'automático</li>',\n",
              " '<li',\n",
              " 'class=\"txt-items\">...</li>',\n",
              " '</ul>',\n",
              " '<p',\n",
              " 'class=\"txt-location\">Belo',\n",
              " 'Horizonte',\n",
              " '-',\n",
              " 'MG</p>',\n",
              " '</div>',\n",
              " '<div',\n",
              " 'class=\"col-md-3',\n",
              " 'value-card\">',\n",
              " '<div',\n",
              " 'class=\"value\">',\n",
              " '<p',\n",
              " 'class=\"txt-value\">R$',\n",
              " '175.000</p>',\n",
              " '</div>',\n",
              " '</div>',\n",
              " '</div>',\n",
              " '<div',\n",
              " 'class=\"well',\n",
              " 'card\">',\n",
              " '<div',\n",
              " 'class=\"col-md-3',\n",
              " 'image-card\">',\n",
              " '<img',\n",
              " 'width=\"220\"',\n",
              " 'height=\"155\"',\n",
              " 'alt=\"Foto\"',\n",
              " 'src=\"https://caelum-online-public.s3.amazonaws.com/1381-scraping/01/img-cars/aston-martin/aston-martin-2977916__340.jpg\">',\n",
              " '</div>',\n",
              " '<div',\n",
              " 'class=\"col-md-6',\n",
              " 'body-card\">',\n",
              " '<p',\n",
              " 'class=\"txt-name',\n",
              " 'inline\">ASTON',\n",
              " 'MARTIN</p>',\n",
              " '<p',\n",
              " 'class=\"txt-category',\n",
              " 'badge',\n",
              " 'badge-secondary',\n",
              " 'inline\">USADO</p>',\n",
              " '<p',\n",
              " 'class=\"txt-opportunity',\n",
              " 'badge',\n",
              " 'badge-danger',\n",
              " 'inline\">OPORTUNIDADE</p>',\n",
              " '<p',\n",
              " 'class=\"txt-motor\">Motor',\n",
              " 'Diesel',\n",
              " 'V6</p>',\n",
              " '<p',\n",
              " 'class=\"txt-description\">Ano',\n",
              " '2004',\n",
              " '-',\n",
              " '50.189',\n",
              " 'km</p>',\n",
              " '<ul',\n",
              " 'class=\"lst-items\">',\n",
              " '<li',\n",
              " 'class=\"txt-items\">►',\n",
              " 'Painel',\n",
              " 'digital</li>',\n",
              " '<li',\n",
              " 'class=\"txt-items\">►',\n",
              " 'Controle',\n",
              " 'de',\n",
              " 'tração</li>',\n",
              " '<li',\n",
              " 'class=\"txt-items\">►',\n",
              " 'Teto',\n",
              " 'panorâmico</li>',\n",
              " '<li',\n",
              " 'class=\"txt-items\">►',\n",
              " 'Central',\n",
              " 'multimídia</li>',\n",
              " '<li',\n",
              " 'class=\"txt-items\">...</li>',\n",
              " '</ul>',\n",
              " '<p',\n",
              " 'class=\"txt-location\">Belo',\n",
              " 'Horizonte',\n",
              " '-',\n",
              " 'MG</p>',\n",
              " '</div>',\n",
              " '<div',\n",
              " 'class=\"col-md-3',\n",
              " 'value-card\">',\n",
              " '<div',\n",
              " 'class=\"value\">',\n",
              " '<p',\n",
              " 'class=\"txt-value\">R$',\n",
              " '239.000</p>',\n",
              " '</div>',\n",
              " '</div>',\n",
              " '</div>',\n",
              " '<div',\n",
              " 'class=\"well',\n",
              " 'card\">',\n",
              " '<div',\n",
              " 'class=\"col-md-3',\n",
              " 'image-card\">',\n",
              " '<img',\n",
              " 'width=\"220\"',\n",
              " 'height=\"155\"',\n",
              " 'alt=\"Foto\"',\n",
              " 'src=\"https://caelum-online-public.s3.amazonaws.com/1381-scraping/01/img-cars/tvr/tvr-2943925__340.jpg\">',\n",
              " '</div>',\n",
              " '<div',\n",
              " 'class=\"col-md-6',\n",
              " 'body-card\">',\n",
              " '<p',\n",
              " 'class=\"txt-name',\n",
              " 'inline\">TVR</p>',\n",
              " '<p',\n",
              " 'class=\"txt-category',\n",
              " 'badge',\n",
              " 'badge-secondary',\n",
              " 'inline\">USADO</p>',\n",
              " '<p',\n",
              " 'class=\"txt-motor\">Motor',\n",
              " '4.0',\n",
              " 'Turbo</p>',\n",
              " '<p',\n",
              " 'class=\"txt-description\">Ano',\n",
              " '2014',\n",
              " '-',\n",
              " '17.778',\n",
              " 'km</p>',\n",
              " '<ul',\n",
              " 'class=\"lst-items\">',\n",
              " '<li',\n",
              " 'class=\"txt-items\">►',\n",
              " '4',\n",
              " 'X',\n",
              " '4</li>',\n",
              " '<li',\n",
              " 'class=\"txt-items\">►',\n",
              " 'Teto',\n",
              " 'panorâmico</li>',\n",
              " '<li',\n",
              " 'class=\"txt-items\">►',\n",
              " 'Central',\n",
              " 'multimídia</li>',\n",
              " '<li',\n",
              " 'class=\"txt-items\">►',\n",
              " 'Controle',\n",
              " 'de',\n",
              " 'estabilidade</li>',\n",
              " '<li',\n",
              " 'class=\"txt-items\">...</li>',\n",
              " '</ul>',\n",
              " '<p',\n",
              " 'class=\"txt-location\">Belo',\n",
              " 'Horizonte',\n",
              " '-',\n",
              " 'MG</p>',\n",
              " '</div>',\n",
              " '<div',\n",
              " 'class=\"col-md-3',\n",
              " 'value-card\">',\n",
              " '<div',\n",
              " 'class=\"value\">',\n",
              " '<p',\n",
              " 'class=\"txt-value\">R$',\n",
              " '115.000</p>',\n",
              " '</div>',\n",
              " '</div>',\n",
              " '</div>',\n",
              " '<div',\n",
              " 'class=\"well',\n",
              " 'card\">',\n",
              " '<div',\n",
              " 'class=\"col-md-3',\n",
              " 'image-card\">',\n",
              " '<img',\n",
              " 'width=\"220\"',\n",
              " 'height=\"155\"',\n",
              " 'alt=\"Foto\"',\n",
              " 'src=\"https://caelum-online-public.s3.amazonaws.com/1381-scraping/01/img-cars/excalibur/excalibur-2916730__340.jpg\">',\n",
              " '</div>',\n",
              " '<div',\n",
              " 'class=\"col-md-6',\n",
              " 'body-card\">',\n",
              " '<p',\n",
              " 'class=\"txt-name',\n",
              " 'inline\">EXCALIBUR</p>',\n",
              " '<p',\n",
              " 'class=\"txt-category',\n",
              " 'badge',\n",
              " 'badge-secondary',\n",
              " 'inline\">USADO</p>',\n",
              " '<p',\n",
              " 'class=\"txt-motor\">Motor',\n",
              " '3.0',\n",
              " '32v</p>',\n",
              " '<p',\n",
              " 'class=\"txt-description\">Ano',\n",
              " '2009',\n",
              " '-',\n",
              " '81.251',\n",
              " 'km</p>',\n",
              " '<ul',\n",
              " 'class=\"lst-items\">',\n",
              " '<li',\n",
              " 'class=\"txt-items\">►',\n",
              " 'Painel',\n",
              " 'digital</li>',\n",
              " '<li',\n",
              " 'class=\"txt-items\">►',\n",
              " 'Câmbio',\n",
              " 'automático</li>',\n",
              " '<li',\n",
              " 'class=\"txt-items\">►',\n",
              " 'Sensor',\n",
              " 'de',\n",
              " 'chuva</li>',\n",
              " '<li',\n",
              " 'class=\"txt-items\">►',\n",
              " 'Travas',\n",
              " 'elétricas</li>',\n",
              " '<li',\n",
              " 'class=\"txt-items\">...</li>',\n",
              " '</ul>',\n",
              " '<p',\n",
              " 'class=\"txt-location\">Rio',\n",
              " 'de',\n",
              " 'Janeiro',\n",
              " '-',\n",
              " 'RJ</p>',\n",
              " '</div>',\n",
              " '<div',\n",
              " 'class=\"col-md-3',\n",
              " 'value-card\">',\n",
              " '<div',\n",
              " 'class=\"value\">',\n",
              " '<p',\n",
              " 'class=\"txt-value\">R$',\n",
              " '114.000</p>',\n",
              " '</div>',\n",
              " '</div>',\n",
              " '</div>',\n",
              " '<div',\n",
              " 'class=\"well',\n",
              " 'card\">',\n",
              " '<div',\n",
              " 'class=\"col-md-3',\n",
              " 'image-card\">',\n",
              " '<img',\n",
              " 'width=\"220\"',\n",
              " 'height=\"155\"',\n",
              " 'alt=\"Foto\"',\n",
              " 'src=\"https://caelum-online-public.s3.amazonaws.com/1381-scraping/01/img-cars/mclaren/mclaren-2855240__340.jpg\">',\n",
              " '</div>',\n",
              " '<div',\n",
              " 'class=\"col-md-6',\n",
              " 'body-card\">',\n",
              " '<p',\n",
              " 'class=\"txt-name',\n",
              " 'inline\">MCLAREN</p>',\n",
              " '<p',\n",
              " 'class=\"txt-category',\n",
              " 'badge',\n",
              " 'badge-secondary',\n",
              " 'inline\">NOVO</p>',\n",
              " '<p',\n",
              " 'class=\"txt-motor\">Motor',\n",
              " 'Diesel</p>',\n",
              " '<p',\n",
              " 'class=\"txt-description\">Ano',\n",
              " '2019',\n",
              " '-',\n",
              " '0',\n",
              " 'km</p>',\n",
              " '<ul',\n",
              " 'class=\"lst-items\">',\n",
              " '<li',\n",
              " 'class=\"txt-items\">►',\n",
              " 'Central',\n",
              " 'multimídia</li>',\n",
              " '<li',\n",
              " 'class=\"txt-items\">►',\n",
              " 'Câmera',\n",
              " 'de',\n",
              " 'estacionamento</li>',\n",
              " '<li',\n",
              " 'class=\"txt-items\">►',\n",
              " 'Câmbio',\n",
              " 'automático</li>',\n",
              " '<li',\n",
              " 'class=\"txt-items\">►',\n",
              " 'Ar',\n",
              " 'condicionado</li>',\n",
              " '<li',\n",
              " 'class=\"txt-items\">...</li>',\n",
              " '</ul>',\n",
              " '<p',\n",
              " 'class=\"txt-location\">São',\n",
              " 'Paulo',\n",
              " '-',\n",
              " 'SP</p>',\n",
              " '</div>',\n",
              " '<div',\n",
              " 'class=\"col-md-3',\n",
              " 'value-card\">',\n",
              " '<div',\n",
              " 'class=\"value\">',\n",
              " '<p',\n",
              " 'class=\"txt-value\">R$',\n",
              " '75.000</p>',\n",
              " '</div>',\n",
              " '</div>',\n",
              " '</div>',\n",
              " '<div',\n",
              " 'class=\"well',\n",
              " 'card\">',\n",
              " '<div',\n",
              " 'class=\"col-md-3',\n",
              " 'image-card\">',\n",
              " '<img',\n",
              " 'width=\"220\"',\n",
              " 'height=\"155\"',\n",
              " 'alt=\"Foto\"',\n",
              " 'src=\"https://caelum-online-public.s3.amazonaws.com/1381-scraping/01/img-cars/toyota/toyota-3245397__340.jpg\">',\n",
              " '</div>',\n",
              " '<div',\n",
              " 'class=\"col-md-6',\n",
              " 'body-card\">',\n",
              " '<p',\n",
              " 'class=\"txt-name',\n",
              " 'inline\">TOYOTA</p>',\n",
              " '<p',\n",
              " 'class=\"txt-category',\n",
              " 'badge',\n",
              " 'badge-secondary',\n",
              " 'inline\">USADO</p>',\n",
              " '<p',\n",
              " 'class=\"txt-opportunity',\n",
              " 'badge',\n",
              " 'badge-danger',\n",
              " 'inline\">OPORTUNIDADE</p>',\n",
              " '<p',\n",
              " 'class=\"txt-motor\">Motor',\n",
              " '4.0',\n",
              " 'Turbo</p>',\n",
              " '<p',\n",
              " 'class=\"txt-description\">Ano',\n",
              " '1999',\n",
              " '-',\n",
              " '12.536',\n",
              " 'km</p>',\n",
              " '<ul',\n",
              " 'class=\"lst-items\">',\n",
              " '<li',\n",
              " 'class=\"txt-items\">►',\n",
              " 'Bancos',\n",
              " 'de',\n",
              " 'couro</li>',\n",
              " '<li',\n",
              " 'class=\"txt-items\">►',\n",
              " 'Freios',\n",
              " 'ABS</li>',\n",
              " '<li',\n",
              " 'class=\"txt-items\">►',\n",
              " 'Piloto',\n",
              " 'automático</li>',\n",
              " '<li',\n",
              " 'class=\"txt-items\">►',\n",
              " 'Controle',\n",
              " 'de',\n",
              " 'estabilidade</li>',\n",
              " '<li',\n",
              " 'class=\"txt-items\">...</li>',\n",
              " '</ul>',\n",
              " '<p',\n",
              " 'class=\"txt-location\">São',\n",
              " 'Paulo',\n",
              " '-',\n",
              " 'SP</p>',\n",
              " '</div>',\n",
              " '<div',\n",
              " 'class=\"col-md-3',\n",
              " 'value-card\">',\n",
              " '<div',\n",
              " 'class=\"value\">',\n",
              " '<p',\n",
              " 'class=\"txt-value\">R$',\n",
              " '117.000</p>',\n",
              " '</div>',\n",
              " '</div>',\n",
              " '</div>',\n",
              " '</div>',\n",
              " '<div',\n",
              " 'class=\"type-select\">246',\n",
              " 'veículos',\n",
              " 'encontrados</div>',\n",
              " '<div',\n",
              " 'class=\"container-pagination\"',\n",
              " 'style=\"float:',\n",
              " 'right\">',\n",
              " '<span',\n",
              " 'class=\"info-pages\">Página',\n",
              " '1',\n",
              " 'de',\n",
              " '25</span>',\n",
              " '</div>',\n",
              " '</div>',\n",
              " '</div>',\n",
              " '</div>',\n",
              " '</div>',\n",
              " '</div>',\n",
              " '<footer>',\n",
              " '<nav',\n",
              " 'class=\"navbar',\n",
              " 'navbar-inverse\">',\n",
              " ...]"
            ]
          },
          "metadata": {},
          "execution_count": 10
        }
      ]
    },
    {
      "cell_type": "code",
      "source": [
        "\" \".join(html.split())"
      ],
      "metadata": {
        "colab": {
          "base_uri": "https://localhost:8080/",
          "height": 122
        },
        "id": "ur0E05fjwOIW",
        "outputId": "2a7a2a33-300f-453f-dc04-499bb9299492"
      },
      "execution_count": 11,
      "outputs": [
        {
          "output_type": "execute_result",
          "data": {
            "application/vnd.google.colaboratory.intrinsic+json": {
              "type": "string"
            },
            "text/plain": [
              "'<!DOCTYPE html> <html lang=\"pt-br\"> <head> <meta charset=\"utf-8\"> <meta name=\"viewport\" content=\"width=device-width, initial-scale=1, shrink-to-fit=no\"> <title>Alura Motors</title> <style> /*Regra para a animacao*/ @keyframes spin { 0% { transform: rotate(0deg); } 100% { transform: rotate(360deg); } } /*Mudando o tamanho do icone de resposta*/ div.glyphicon { color:#6B8E23; font-size: 38px; } /*Classe que mostra a animacao \\'spin\\'*/ .loader { border: 16px solid #f3f3f3; border-radius: 50%; border-top: 16px solid #3498db; width: 80px; height: 80px; -webkit-animation: spin 2s linear infinite; animation: spin 2s linear infinite; } </style> <link rel=\"stylesheet\" href=\"https://maxcdn.bootstrapcdn.com/bootstrap/3.3.7/css/bootstrap.min.css\" integrity=\"sha384-BVYiiSIFeK1dGmJRAkycuHAHRg32OmUcww7on3RYdg4Va+PmSTsz/K68vbdEjh4u\" crossorigin=\"anonymous\"> <link rel=\"stylesheet\" href=\"css/styles.css\" media=\"all\"> <script src=\"https://code.jquery.com/jquery-1.12.4.js\"></script> <script src=\"https://maxcdn.bootstrapcdn.com/bootstrap/3.3.7/js/bootstrap.min.js\" integrity=\"sha384-Tc5IQib027qvyjSMfHjOMaLkfuWVxZxUPnCJA7l2mCWNIpG9mGCD8wGNIcPD7Txa\" crossorigin=\"anonymous\"></script> <script type=\"text/javascript\" src=\"js/index.js\"></script> <script> requisitar(\"https://alura-scraping.herokuapp.com/produtos?_page=\"+1+\"&_limit=10\") </script> </head> <body cz-shortcut-listen=\"true\"> <noscript>You need to enable JavaScript to run this app.</noscript> <div class=\"modal fade\" data-backdrop=\"static\" id=\"loadingModal\" tabindex=\"-1\" role=\"dialog\" aria-labelledby=\"loadingModal_label\"> <div class=\"modal-dialog\" role=\"document\"> <div class=\"modal-content\"> <div class=\"modal-header\"> <h5 class=\"modal-title\" id=\"loadingModal_label\"> <span class=\"glyphicon glyphicon-refresh\"></span>Aguarde... </h5> </div> <div class=\"modal-body\"> <div class=\\'alert\\' role=\\'alert\\'> <center> <div class=\"loader\" id=\"loader\"></div><br> <h4><b id=\"loadingModal_content\"></b></h4> </center> </div> </div> </div> </div> </div> <div id=\"root\"> <header> <nav class=\"navbar navbar-inverse\" style=\"margin-bottom: 0;\"> <div class=\"container\" style=\"margin-bottom: -20px;\"> <div class=\"navbar\"> <a href=\"./index.php\" class=\"navbar-brand\" title=\"Alura Motors\"> <img src=\"img/alura-logo.svg\" class=\"d-inline-block align-top\" alt=\"Alura\">Motors </a> <ul class=\"nav navbar-nav\" style=\"margin-top: 35px;\"> <li><a href=\"./hello-world.php\">Hello World</a></li> <li><a href=\"./index.php\">Anúncios</a></li> </ul> </div> </div> </nav> </header> <div class=\"container\"> <h1 class=\"sub-header\">Veículos de Luxo Novos e Usados - Todas as Marcas</h1> <div class=\"row\"> <div class=\"col-md-12\"> <div class=\"container\" style=\"width: 100%\"> <div class=\"type-select\">246 veículos encontrados</div> <div class=\"container-pagination\" style=\"float: right\"> <span class=\"info-pages\">Página 1 de 25</span> </div> </div> <div id=\"container-cards\" style=\"height: 100%\"> <div class=\"well card\"> <div class=\"col-md-3 image-card\"> <img width=\"220\" height=\"155\" alt=\"Foto\" src=\"https://caelum-online-public.s3.amazonaws.com/1381-scraping/01/img-cars/lamborghini-aventador/lamborghini-aventador-2932196__340.jpg\"> </div> <div class=\"col-md-6 body-card\"> <p class=\"txt-name inline\">LAMBORGHINI AVENTADOR</p> <p class=\"txt-category badge badge-secondary inline\">USADO</p> <p class=\"txt-motor\">Motor 1.8 16v</p> <p class=\"txt-description\">Ano 1993 - 55.286 km</p> <ul class=\"lst-items\"> <li class=\"txt-items\">► 4 X 4</li> <li class=\"txt-items\">► Câmera de estacionamento</li> <li class=\"txt-items\">► Controle de tração</li> <li class=\"txt-items\">► Sensor de estacionamento</li> <li class=\"txt-items\">...</li> </ul> <p class=\"txt-location\">Belo Horizonte - MG</p> </div> <div class=\"col-md-3 value-card\"> <div class=\"value\"> <p class=\"txt-value\">R$ 338.000</p> </div> </div> </div> <div class=\"well card\"> <div class=\"col-md-3 image-card\"> <img width=\"220\" height=\"155\" alt=\"Foto\" src=\"https://caelum-online-public.s3.amazonaws.com/1381-scraping/01/img-cars/bmw-m2/bmw-m2-2970882__340.jpg\"> </div> <div class=\"col-md-6 body-card\"> <p class=\"txt-name inline\">BMW M2</p> <p class=\"txt-category badge badge-secondary inline\">USADO</p> <p class=\"txt-motor\">Motor 3.0 32v</p> <p class=\"txt-description\">Ano 2018 - 83.447 km</p> <ul class=\"lst-items\"> <li class=\"txt-items\">► Câmera de estacionamento</li> <li class=\"txt-items\">► Controle de estabilidade</li> <li class=\"txt-items\">► Travas elétricas</li> <li class=\"txt-items\">► Freios ABS</li> <li class=\"txt-items\">...</li> </ul> <p class=\"txt-location\">Belo Horizonte - MG</p> </div> <div class=\"col-md-3 value-card\"> <div class=\"value\"> <p class=\"txt-value\">R$ 346.000</p> </div> </div> </div> <div class=\"well card\"> <div class=\"col-md-3 image-card\"> <img width=\"220\" height=\"155\" alt=\"Foto\" src=\"https://caelum-online-public.s3.amazonaws.com/1381-scraping/01/img-cars/alfa/alfa-1823056__340.jpg\"> </div> <div class=\"col-md-6 body-card\"> <p class=\"txt-name inline\">ALFA</p> <p class=\"txt-category badge badge-secondary inline\">USADO</p> <p class=\"txt-motor\">Motor 1.8 16v</p> <p class=\"txt-description\">Ano 2004 - 19.722 km</p> <ul class=\"lst-items\"> <li class=\"txt-items\">► Central multimídia</li> <li class=\"txt-items\">► Bancos de couro</li> <li class=\"txt-items\">► Rodas de liga</li> <li class=\"txt-items\">► Câmera de estacionamento</li> <li class=\"txt-items\">...</li> </ul> <p class=\"txt-location\">Rio de Janeiro - RJ</p> </div> <div class=\"col-md-3 value-card\"> <div class=\"value\"> <p class=\"txt-value\">R$ 480.000</p> </div> </div> </div> <div class=\"well card\"> <div class=\"col-md-3 image-card\"> <img width=\"220\" height=\"155\" alt=\"Foto\" src=\"https://caelum-online-public.s3.amazonaws.com/1381-scraping/01/img-cars/puech/puech-4055386__340.jpg\"> </div> <div class=\"col-md-6 body-card\"> <p class=\"txt-name inline\">PUECH</p> <p class=\"txt-category badge badge-secondary inline\">USADO</p> <p class=\"txt-motor\">Motor Diesel V8</p> <p class=\"txt-description\">Ano 1992 - 34.335 km</p> <ul class=\"lst-items\"> <li class=\"txt-items\">► Bancos de couro</li> <li class=\"txt-items\">► Freios ABS</li> <li class=\"txt-items\">► Rodas de liga</li> <li class=\"txt-items\">► Câmbio automático</li> <li class=\"txt-items\">...</li> </ul> <p class=\"txt-location\">São Paulo - SP</p> </div> <div class=\"col-md-3 value-card\"> <div class=\"value\"> <p class=\"txt-value\">R$ 133.000</p> </div> </div> </div> <div class=\"well card\"> <div class=\"col-md-3 image-card\"> <img width=\"220\" height=\"155\" alt=\"Foto\" src=\"https://caelum-online-public.s3.amazonaws.com/1381-scraping/01/img-cars/lamborghini-murcielago/lamborghini-murcielago-2872974__340.jpg\"> </div> <div class=\"col-md-6 body-card\"> <p class=\"txt-name inline\">LAMBORGHINI MURCIELAGO</p> <p class=\"txt-category badge badge-secondary inline\">USADO</p> <p class=\"txt-motor\">Motor 1.0 8v</p> <p class=\"txt-description\">Ano 1991 - 464 km</p> <ul class=\"lst-items\"> <li class=\"txt-items\">► Central multimídia</li> <li class=\"txt-items\">► Teto panorâmico</li> <li class=\"txt-items\">► Sensor crepuscular</li> <li class=\"txt-items\">► Piloto automático</li> <li class=\"txt-items\">...</li> </ul> <p class=\"txt-location\">Belo Horizonte - MG</p> </div> <div class=\"col-md-3 value-card\"> <div class=\"value\"> <p class=\"txt-value\">R$ 175.000</p> </div> </div> </div> <div class=\"well card\"> <div class=\"col-md-3 image-card\"> <img width=\"220\" height=\"155\" alt=\"Foto\" src=\"https://caelum-online-public.s3.amazonaws.com/1381-scraping/01/img-cars/aston-martin/aston-martin-2977916__340.jpg\"> </div> <div class=\"col-md-6 body-card\"> <p class=\"txt-name inline\">ASTON MARTIN</p> <p class=\"txt-category badge badge-secondary inline\">USADO</p> <p class=\"txt-opportunity badge badge-danger inline\">OPORTUNIDADE</p> <p class=\"txt-motor\">Motor Diesel V6</p> <p class=\"txt-description\">Ano 2004 - 50.189 km</p> <ul class=\"lst-items\"> <li class=\"txt-items\">► Painel digital</li> <li class=\"txt-items\">► Controle de tração</li> <li class=\"txt-items\">► Teto panorâmico</li> <li class=\"txt-items\">► Central multimídia</li> <li class=\"txt-items\">...</li> </ul> <p class=\"txt-location\">Belo Horizonte - MG</p> </div> <div class=\"col-md-3 value-card\"> <div class=\"value\"> <p class=\"txt-value\">R$ 239.000</p> </div> </div> </div> <div class=\"well card\"> <div class=\"col-md-3 image-card\"> <img width=\"220\" height=\"155\" alt=\"Foto\" src=\"https://caelum-online-public.s3.amazonaws.com/1381-scraping/01/img-cars/tvr/tvr-2943925__340.jpg\"> </div> <div class=\"col-md-6 body-card\"> <p class=\"txt-name inline\">TVR</p> <p class=\"txt-category badge badge-secondary inline\">USADO</p> <p class=\"txt-motor\">Motor 4.0 Turbo</p> <p class=\"txt-description\">Ano 2014 - 17.778 km</p> <ul class=\"lst-items\"> <li class=\"txt-items\">► 4 X 4</li> <li class=\"txt-items\">► Teto panorâmico</li> <li class=\"txt-items\">► Central multimídia</li> <li class=\"txt-items\">► Controle de estabilidade</li> <li class=\"txt-items\">...</li> </ul> <p class=\"txt-location\">Belo Horizonte - MG</p> </div> <div class=\"col-md-3 value-card\"> <div class=\"value\"> <p class=\"txt-value\">R$ 115.000</p> </div> </div> </div> <div class=\"well card\"> <div class=\"col-md-3 image-card\"> <img width=\"220\" height=\"155\" alt=\"Foto\" src=\"https://caelum-online-public.s3.amazonaws.com/1381-scraping/01/img-cars/excalibur/excalibur-2916730__340.jpg\"> </div> <div class=\"col-md-6 body-card\"> <p class=\"txt-name inline\">EXCALIBUR</p> <p class=\"txt-category badge badge-secondary inline\">USADO</p> <p class=\"txt-motor\">Motor 3.0 32v</p> <p class=\"txt-description\">Ano 2009 - 81.251 km</p> <ul class=\"lst-items\"> <li class=\"txt-items\">► Painel digital</li> <li class=\"txt-items\">► Câmbio automático</li> <li class=\"txt-items\">► Sensor de chuva</li> <li class=\"txt-items\">► Travas elétricas</li> <li class=\"txt-items\">...</li> </ul> <p class=\"txt-location\">Rio de Janeiro - RJ</p> </div> <div class=\"col-md-3 value-card\"> <div class=\"value\"> <p class=\"txt-value\">R$ 114.000</p> </div> </div> </div> <div class=\"well card\"> <div class=\"col-md-3 image-card\"> <img width=\"220\" height=\"155\" alt=\"Foto\" src=\"https://caelum-online-public.s3.amazonaws.com/1381-scraping/01/img-cars/mclaren/mclaren-2855240__340.jpg\"> </div> <div class=\"col-md-6 body-card\"> <p class=\"txt-name inline\">MCLAREN</p> <p class=\"txt-category badge badge-secondary inline\">NOVO</p> <p class=\"txt-motor\">Motor Diesel</p> <p class=\"txt-description\">Ano 2019 - 0 km</p> <ul class=\"lst-items\"> <li class=\"txt-items\">► Central multimídia</li> <li class=\"txt-items\">► Câmera de estacionamento</li> <li class=\"txt-items\">► Câmbio automático</li> <li class=\"txt-items\">► Ar condicionado</li> <li class=\"txt-items\">...</li> </ul> <p class=\"txt-location\">São Paulo - SP</p> </div> <div class=\"col-md-3 value-card\"> <div class=\"value\"> <p class=\"txt-value\">R$ 75.000</p> </div> </div> </div> <div class=\"well card\"> <div class=\"col-md-3 image-card\"> <img width=\"220\" height=\"155\" alt=\"Foto\" src=\"https://caelum-online-public.s3.amazonaws.com/1381-scraping/01/img-cars/toyota/toyota-3245397__340.jpg\"> </div> <div class=\"col-md-6 body-card\"> <p class=\"txt-name inline\">TOYOTA</p> <p class=\"txt-category badge badge-secondary inline\">USADO</p> <p class=\"txt-opportunity badge badge-danger inline\">OPORTUNIDADE</p> <p class=\"txt-motor\">Motor 4.0 Turbo</p> <p class=\"txt-description\">Ano 1999 - 12.536 km</p> <ul class=\"lst-items\"> <li class=\"txt-items\">► Bancos de couro</li> <li class=\"txt-items\">► Freios ABS</li> <li class=\"txt-items\">► Piloto automático</li> <li class=\"txt-items\">► Controle de estabilidade</li> <li class=\"txt-items\">...</li> </ul> <p class=\"txt-location\">São Paulo - SP</p> </div> <div class=\"col-md-3 value-card\"> <div class=\"value\"> <p class=\"txt-value\">R$ 117.000</p> </div> </div> </div> </div> <div class=\"type-select\">246 veículos encontrados</div> <div class=\"container-pagination\" style=\"float: right\"> <span class=\"info-pages\">Página 1 de 25</span> </div> </div> </div> </div> </div> </div> <footer> <nav class=\"navbar navbar-inverse\"> <div class=\"container\" style=\"margin-bottom: 10px;\"> <div class=\"navbar\"> <a href=\"./index.php\" class=\"navbar-brand\" title=\"Alura Motors\"> <img src=\"img/alura-logo.svg\" class=\"d-inline-block align-top\" alt=\"Alura\">Motors </a> <p style=\"color: #fff; text-align: center; margin-top: 40px;\">Aplicação para treinamento de web scraping</p> </div> </div> </nav> </footer> </div> </body> </html>'"
            ]
          },
          "metadata": {},
          "execution_count": 11
        }
      ]
    },
    {
      "cell_type": "markdown",
      "source": [
        "## **Eliminando os espaçoes em branco entre as TAGS**"
      ],
      "metadata": {
        "id": "XBnzZ8ffw0We"
      }
    },
    {
      "cell_type": "code",
      "source": [
        "\" \".join(html.split()).replace('> <', '><')"
      ],
      "metadata": {
        "colab": {
          "base_uri": "https://localhost:8080/",
          "height": 122
        },
        "id": "s0dPylcMxChV",
        "outputId": "d81b5543-2e03-4a86-e781-f215a9c4a53e"
      },
      "execution_count": 12,
      "outputs": [
        {
          "output_type": "execute_result",
          "data": {
            "application/vnd.google.colaboratory.intrinsic+json": {
              "type": "string"
            },
            "text/plain": [
              "'<!DOCTYPE html><html lang=\"pt-br\"><head><meta charset=\"utf-8\"><meta name=\"viewport\" content=\"width=device-width, initial-scale=1, shrink-to-fit=no\"><title>Alura Motors</title><style> /*Regra para a animacao*/ @keyframes spin { 0% { transform: rotate(0deg); } 100% { transform: rotate(360deg); } } /*Mudando o tamanho do icone de resposta*/ div.glyphicon { color:#6B8E23; font-size: 38px; } /*Classe que mostra a animacao \\'spin\\'*/ .loader { border: 16px solid #f3f3f3; border-radius: 50%; border-top: 16px solid #3498db; width: 80px; height: 80px; -webkit-animation: spin 2s linear infinite; animation: spin 2s linear infinite; } </style><link rel=\"stylesheet\" href=\"https://maxcdn.bootstrapcdn.com/bootstrap/3.3.7/css/bootstrap.min.css\" integrity=\"sha384-BVYiiSIFeK1dGmJRAkycuHAHRg32OmUcww7on3RYdg4Va+PmSTsz/K68vbdEjh4u\" crossorigin=\"anonymous\"><link rel=\"stylesheet\" href=\"css/styles.css\" media=\"all\"><script src=\"https://code.jquery.com/jquery-1.12.4.js\"></script><script src=\"https://maxcdn.bootstrapcdn.com/bootstrap/3.3.7/js/bootstrap.min.js\" integrity=\"sha384-Tc5IQib027qvyjSMfHjOMaLkfuWVxZxUPnCJA7l2mCWNIpG9mGCD8wGNIcPD7Txa\" crossorigin=\"anonymous\"></script><script type=\"text/javascript\" src=\"js/index.js\"></script><script> requisitar(\"https://alura-scraping.herokuapp.com/produtos?_page=\"+1+\"&_limit=10\") </script></head><body cz-shortcut-listen=\"true\"><noscript>You need to enable JavaScript to run this app.</noscript><div class=\"modal fade\" data-backdrop=\"static\" id=\"loadingModal\" tabindex=\"-1\" role=\"dialog\" aria-labelledby=\"loadingModal_label\"><div class=\"modal-dialog\" role=\"document\"><div class=\"modal-content\"><div class=\"modal-header\"><h5 class=\"modal-title\" id=\"loadingModal_label\"><span class=\"glyphicon glyphicon-refresh\"></span>Aguarde... </h5></div><div class=\"modal-body\"><div class=\\'alert\\' role=\\'alert\\'><center><div class=\"loader\" id=\"loader\"></div><br><h4><b id=\"loadingModal_content\"></b></h4></center></div></div></div></div></div><div id=\"root\"><header><nav class=\"navbar navbar-inverse\" style=\"margin-bottom: 0;\"><div class=\"container\" style=\"margin-bottom: -20px;\"><div class=\"navbar\"><a href=\"./index.php\" class=\"navbar-brand\" title=\"Alura Motors\"><img src=\"img/alura-logo.svg\" class=\"d-inline-block align-top\" alt=\"Alura\">Motors </a><ul class=\"nav navbar-nav\" style=\"margin-top: 35px;\"><li><a href=\"./hello-world.php\">Hello World</a></li><li><a href=\"./index.php\">Anúncios</a></li></ul></div></div></nav></header><div class=\"container\"><h1 class=\"sub-header\">Veículos de Luxo Novos e Usados - Todas as Marcas</h1><div class=\"row\"><div class=\"col-md-12\"><div class=\"container\" style=\"width: 100%\"><div class=\"type-select\">246 veículos encontrados</div><div class=\"container-pagination\" style=\"float: right\"><span class=\"info-pages\">Página 1 de 25</span></div></div><div id=\"container-cards\" style=\"height: 100%\"><div class=\"well card\"><div class=\"col-md-3 image-card\"><img width=\"220\" height=\"155\" alt=\"Foto\" src=\"https://caelum-online-public.s3.amazonaws.com/1381-scraping/01/img-cars/lamborghini-aventador/lamborghini-aventador-2932196__340.jpg\"></div><div class=\"col-md-6 body-card\"><p class=\"txt-name inline\">LAMBORGHINI AVENTADOR</p><p class=\"txt-category badge badge-secondary inline\">USADO</p><p class=\"txt-motor\">Motor 1.8 16v</p><p class=\"txt-description\">Ano 1993 - 55.286 km</p><ul class=\"lst-items\"><li class=\"txt-items\">► 4 X 4</li><li class=\"txt-items\">► Câmera de estacionamento</li><li class=\"txt-items\">► Controle de tração</li><li class=\"txt-items\">► Sensor de estacionamento</li><li class=\"txt-items\">...</li></ul><p class=\"txt-location\">Belo Horizonte - MG</p></div><div class=\"col-md-3 value-card\"><div class=\"value\"><p class=\"txt-value\">R$ 338.000</p></div></div></div><div class=\"well card\"><div class=\"col-md-3 image-card\"><img width=\"220\" height=\"155\" alt=\"Foto\" src=\"https://caelum-online-public.s3.amazonaws.com/1381-scraping/01/img-cars/bmw-m2/bmw-m2-2970882__340.jpg\"></div><div class=\"col-md-6 body-card\"><p class=\"txt-name inline\">BMW M2</p><p class=\"txt-category badge badge-secondary inline\">USADO</p><p class=\"txt-motor\">Motor 3.0 32v</p><p class=\"txt-description\">Ano 2018 - 83.447 km</p><ul class=\"lst-items\"><li class=\"txt-items\">► Câmera de estacionamento</li><li class=\"txt-items\">► Controle de estabilidade</li><li class=\"txt-items\">► Travas elétricas</li><li class=\"txt-items\">► Freios ABS</li><li class=\"txt-items\">...</li></ul><p class=\"txt-location\">Belo Horizonte - MG</p></div><div class=\"col-md-3 value-card\"><div class=\"value\"><p class=\"txt-value\">R$ 346.000</p></div></div></div><div class=\"well card\"><div class=\"col-md-3 image-card\"><img width=\"220\" height=\"155\" alt=\"Foto\" src=\"https://caelum-online-public.s3.amazonaws.com/1381-scraping/01/img-cars/alfa/alfa-1823056__340.jpg\"></div><div class=\"col-md-6 body-card\"><p class=\"txt-name inline\">ALFA</p><p class=\"txt-category badge badge-secondary inline\">USADO</p><p class=\"txt-motor\">Motor 1.8 16v</p><p class=\"txt-description\">Ano 2004 - 19.722 km</p><ul class=\"lst-items\"><li class=\"txt-items\">► Central multimídia</li><li class=\"txt-items\">► Bancos de couro</li><li class=\"txt-items\">► Rodas de liga</li><li class=\"txt-items\">► Câmera de estacionamento</li><li class=\"txt-items\">...</li></ul><p class=\"txt-location\">Rio de Janeiro - RJ</p></div><div class=\"col-md-3 value-card\"><div class=\"value\"><p class=\"txt-value\">R$ 480.000</p></div></div></div><div class=\"well card\"><div class=\"col-md-3 image-card\"><img width=\"220\" height=\"155\" alt=\"Foto\" src=\"https://caelum-online-public.s3.amazonaws.com/1381-scraping/01/img-cars/puech/puech-4055386__340.jpg\"></div><div class=\"col-md-6 body-card\"><p class=\"txt-name inline\">PUECH</p><p class=\"txt-category badge badge-secondary inline\">USADO</p><p class=\"txt-motor\">Motor Diesel V8</p><p class=\"txt-description\">Ano 1992 - 34.335 km</p><ul class=\"lst-items\"><li class=\"txt-items\">► Bancos de couro</li><li class=\"txt-items\">► Freios ABS</li><li class=\"txt-items\">► Rodas de liga</li><li class=\"txt-items\">► Câmbio automático</li><li class=\"txt-items\">...</li></ul><p class=\"txt-location\">São Paulo - SP</p></div><div class=\"col-md-3 value-card\"><div class=\"value\"><p class=\"txt-value\">R$ 133.000</p></div></div></div><div class=\"well card\"><div class=\"col-md-3 image-card\"><img width=\"220\" height=\"155\" alt=\"Foto\" src=\"https://caelum-online-public.s3.amazonaws.com/1381-scraping/01/img-cars/lamborghini-murcielago/lamborghini-murcielago-2872974__340.jpg\"></div><div class=\"col-md-6 body-card\"><p class=\"txt-name inline\">LAMBORGHINI MURCIELAGO</p><p class=\"txt-category badge badge-secondary inline\">USADO</p><p class=\"txt-motor\">Motor 1.0 8v</p><p class=\"txt-description\">Ano 1991 - 464 km</p><ul class=\"lst-items\"><li class=\"txt-items\">► Central multimídia</li><li class=\"txt-items\">► Teto panorâmico</li><li class=\"txt-items\">► Sensor crepuscular</li><li class=\"txt-items\">► Piloto automático</li><li class=\"txt-items\">...</li></ul><p class=\"txt-location\">Belo Horizonte - MG</p></div><div class=\"col-md-3 value-card\"><div class=\"value\"><p class=\"txt-value\">R$ 175.000</p></div></div></div><div class=\"well card\"><div class=\"col-md-3 image-card\"><img width=\"220\" height=\"155\" alt=\"Foto\" src=\"https://caelum-online-public.s3.amazonaws.com/1381-scraping/01/img-cars/aston-martin/aston-martin-2977916__340.jpg\"></div><div class=\"col-md-6 body-card\"><p class=\"txt-name inline\">ASTON MARTIN</p><p class=\"txt-category badge badge-secondary inline\">USADO</p><p class=\"txt-opportunity badge badge-danger inline\">OPORTUNIDADE</p><p class=\"txt-motor\">Motor Diesel V6</p><p class=\"txt-description\">Ano 2004 - 50.189 km</p><ul class=\"lst-items\"><li class=\"txt-items\">► Painel digital</li><li class=\"txt-items\">► Controle de tração</li><li class=\"txt-items\">► Teto panorâmico</li><li class=\"txt-items\">► Central multimídia</li><li class=\"txt-items\">...</li></ul><p class=\"txt-location\">Belo Horizonte - MG</p></div><div class=\"col-md-3 value-card\"><div class=\"value\"><p class=\"txt-value\">R$ 239.000</p></div></div></div><div class=\"well card\"><div class=\"col-md-3 image-card\"><img width=\"220\" height=\"155\" alt=\"Foto\" src=\"https://caelum-online-public.s3.amazonaws.com/1381-scraping/01/img-cars/tvr/tvr-2943925__340.jpg\"></div><div class=\"col-md-6 body-card\"><p class=\"txt-name inline\">TVR</p><p class=\"txt-category badge badge-secondary inline\">USADO</p><p class=\"txt-motor\">Motor 4.0 Turbo</p><p class=\"txt-description\">Ano 2014 - 17.778 km</p><ul class=\"lst-items\"><li class=\"txt-items\">► 4 X 4</li><li class=\"txt-items\">► Teto panorâmico</li><li class=\"txt-items\">► Central multimídia</li><li class=\"txt-items\">► Controle de estabilidade</li><li class=\"txt-items\">...</li></ul><p class=\"txt-location\">Belo Horizonte - MG</p></div><div class=\"col-md-3 value-card\"><div class=\"value\"><p class=\"txt-value\">R$ 115.000</p></div></div></div><div class=\"well card\"><div class=\"col-md-3 image-card\"><img width=\"220\" height=\"155\" alt=\"Foto\" src=\"https://caelum-online-public.s3.amazonaws.com/1381-scraping/01/img-cars/excalibur/excalibur-2916730__340.jpg\"></div><div class=\"col-md-6 body-card\"><p class=\"txt-name inline\">EXCALIBUR</p><p class=\"txt-category badge badge-secondary inline\">USADO</p><p class=\"txt-motor\">Motor 3.0 32v</p><p class=\"txt-description\">Ano 2009 - 81.251 km</p><ul class=\"lst-items\"><li class=\"txt-items\">► Painel digital</li><li class=\"txt-items\">► Câmbio automático</li><li class=\"txt-items\">► Sensor de chuva</li><li class=\"txt-items\">► Travas elétricas</li><li class=\"txt-items\">...</li></ul><p class=\"txt-location\">Rio de Janeiro - RJ</p></div><div class=\"col-md-3 value-card\"><div class=\"value\"><p class=\"txt-value\">R$ 114.000</p></div></div></div><div class=\"well card\"><div class=\"col-md-3 image-card\"><img width=\"220\" height=\"155\" alt=\"Foto\" src=\"https://caelum-online-public.s3.amazonaws.com/1381-scraping/01/img-cars/mclaren/mclaren-2855240__340.jpg\"></div><div class=\"col-md-6 body-card\"><p class=\"txt-name inline\">MCLAREN</p><p class=\"txt-category badge badge-secondary inline\">NOVO</p><p class=\"txt-motor\">Motor Diesel</p><p class=\"txt-description\">Ano 2019 - 0 km</p><ul class=\"lst-items\"><li class=\"txt-items\">► Central multimídia</li><li class=\"txt-items\">► Câmera de estacionamento</li><li class=\"txt-items\">► Câmbio automático</li><li class=\"txt-items\">► Ar condicionado</li><li class=\"txt-items\">...</li></ul><p class=\"txt-location\">São Paulo - SP</p></div><div class=\"col-md-3 value-card\"><div class=\"value\"><p class=\"txt-value\">R$ 75.000</p></div></div></div><div class=\"well card\"><div class=\"col-md-3 image-card\"><img width=\"220\" height=\"155\" alt=\"Foto\" src=\"https://caelum-online-public.s3.amazonaws.com/1381-scraping/01/img-cars/toyota/toyota-3245397__340.jpg\"></div><div class=\"col-md-6 body-card\"><p class=\"txt-name inline\">TOYOTA</p><p class=\"txt-category badge badge-secondary inline\">USADO</p><p class=\"txt-opportunity badge badge-danger inline\">OPORTUNIDADE</p><p class=\"txt-motor\">Motor 4.0 Turbo</p><p class=\"txt-description\">Ano 1999 - 12.536 km</p><ul class=\"lst-items\"><li class=\"txt-items\">► Bancos de couro</li><li class=\"txt-items\">► Freios ABS</li><li class=\"txt-items\">► Piloto automático</li><li class=\"txt-items\">► Controle de estabilidade</li><li class=\"txt-items\">...</li></ul><p class=\"txt-location\">São Paulo - SP</p></div><div class=\"col-md-3 value-card\"><div class=\"value\"><p class=\"txt-value\">R$ 117.000</p></div></div></div></div><div class=\"type-select\">246 veículos encontrados</div><div class=\"container-pagination\" style=\"float: right\"><span class=\"info-pages\">Página 1 de 25</span></div></div></div></div></div></div><footer><nav class=\"navbar navbar-inverse\"><div class=\"container\" style=\"margin-bottom: 10px;\"><div class=\"navbar\"><a href=\"./index.php\" class=\"navbar-brand\" title=\"Alura Motors\"><img src=\"img/alura-logo.svg\" class=\"d-inline-block align-top\" alt=\"Alura\">Motors </a><p style=\"color: #fff; text-align: center; margin-top: 40px;\">Aplicação para treinamento de web scraping</p></div></div></nav></footer></div></body></html>'"
            ]
          },
          "metadata": {},
          "execution_count": 12
        }
      ]
    },
    {
      "cell_type": "markdown",
      "source": [
        "### **Função de tratamento de Strings**"
      ],
      "metadata": {
        "id": "cAzqE5_ozzUJ"
      }
    },
    {
      "cell_type": "code",
      "source": [
        "def trata_html(input):\n",
        "    return \" \".join(input.split()).replace('> <', '><')"
      ],
      "metadata": {
        "id": "rP-eIDVfxb2k"
      },
      "execution_count": 13,
      "outputs": []
    },
    {
      "cell_type": "code",
      "source": [
        "html = trata_html(html)\n",
        "html"
      ],
      "metadata": {
        "colab": {
          "base_uri": "https://localhost:8080/",
          "height": 122
        },
        "id": "XzgNW7gsxozc",
        "outputId": "8c7afc4f-dced-453a-c87c-15bd65c226ea"
      },
      "execution_count": 14,
      "outputs": [
        {
          "output_type": "execute_result",
          "data": {
            "application/vnd.google.colaboratory.intrinsic+json": {
              "type": "string"
            },
            "text/plain": [
              "'<!DOCTYPE html><html lang=\"pt-br\"><head><meta charset=\"utf-8\"><meta name=\"viewport\" content=\"width=device-width, initial-scale=1, shrink-to-fit=no\"><title>Alura Motors</title><style> /*Regra para a animacao*/ @keyframes spin { 0% { transform: rotate(0deg); } 100% { transform: rotate(360deg); } } /*Mudando o tamanho do icone de resposta*/ div.glyphicon { color:#6B8E23; font-size: 38px; } /*Classe que mostra a animacao \\'spin\\'*/ .loader { border: 16px solid #f3f3f3; border-radius: 50%; border-top: 16px solid #3498db; width: 80px; height: 80px; -webkit-animation: spin 2s linear infinite; animation: spin 2s linear infinite; } </style><link rel=\"stylesheet\" href=\"https://maxcdn.bootstrapcdn.com/bootstrap/3.3.7/css/bootstrap.min.css\" integrity=\"sha384-BVYiiSIFeK1dGmJRAkycuHAHRg32OmUcww7on3RYdg4Va+PmSTsz/K68vbdEjh4u\" crossorigin=\"anonymous\"><link rel=\"stylesheet\" href=\"css/styles.css\" media=\"all\"><script src=\"https://code.jquery.com/jquery-1.12.4.js\"></script><script src=\"https://maxcdn.bootstrapcdn.com/bootstrap/3.3.7/js/bootstrap.min.js\" integrity=\"sha384-Tc5IQib027qvyjSMfHjOMaLkfuWVxZxUPnCJA7l2mCWNIpG9mGCD8wGNIcPD7Txa\" crossorigin=\"anonymous\"></script><script type=\"text/javascript\" src=\"js/index.js\"></script><script> requisitar(\"https://alura-scraping.herokuapp.com/produtos?_page=\"+1+\"&_limit=10\") </script></head><body cz-shortcut-listen=\"true\"><noscript>You need to enable JavaScript to run this app.</noscript><div class=\"modal fade\" data-backdrop=\"static\" id=\"loadingModal\" tabindex=\"-1\" role=\"dialog\" aria-labelledby=\"loadingModal_label\"><div class=\"modal-dialog\" role=\"document\"><div class=\"modal-content\"><div class=\"modal-header\"><h5 class=\"modal-title\" id=\"loadingModal_label\"><span class=\"glyphicon glyphicon-refresh\"></span>Aguarde... </h5></div><div class=\"modal-body\"><div class=\\'alert\\' role=\\'alert\\'><center><div class=\"loader\" id=\"loader\"></div><br><h4><b id=\"loadingModal_content\"></b></h4></center></div></div></div></div></div><div id=\"root\"><header><nav class=\"navbar navbar-inverse\" style=\"margin-bottom: 0;\"><div class=\"container\" style=\"margin-bottom: -20px;\"><div class=\"navbar\"><a href=\"./index.php\" class=\"navbar-brand\" title=\"Alura Motors\"><img src=\"img/alura-logo.svg\" class=\"d-inline-block align-top\" alt=\"Alura\">Motors </a><ul class=\"nav navbar-nav\" style=\"margin-top: 35px;\"><li><a href=\"./hello-world.php\">Hello World</a></li><li><a href=\"./index.php\">Anúncios</a></li></ul></div></div></nav></header><div class=\"container\"><h1 class=\"sub-header\">Veículos de Luxo Novos e Usados - Todas as Marcas</h1><div class=\"row\"><div class=\"col-md-12\"><div class=\"container\" style=\"width: 100%\"><div class=\"type-select\">246 veículos encontrados</div><div class=\"container-pagination\" style=\"float: right\"><span class=\"info-pages\">Página 1 de 25</span></div></div><div id=\"container-cards\" style=\"height: 100%\"><div class=\"well card\"><div class=\"col-md-3 image-card\"><img width=\"220\" height=\"155\" alt=\"Foto\" src=\"https://caelum-online-public.s3.amazonaws.com/1381-scraping/01/img-cars/lamborghini-aventador/lamborghini-aventador-2932196__340.jpg\"></div><div class=\"col-md-6 body-card\"><p class=\"txt-name inline\">LAMBORGHINI AVENTADOR</p><p class=\"txt-category badge badge-secondary inline\">USADO</p><p class=\"txt-motor\">Motor 1.8 16v</p><p class=\"txt-description\">Ano 1993 - 55.286 km</p><ul class=\"lst-items\"><li class=\"txt-items\">► 4 X 4</li><li class=\"txt-items\">► Câmera de estacionamento</li><li class=\"txt-items\">► Controle de tração</li><li class=\"txt-items\">► Sensor de estacionamento</li><li class=\"txt-items\">...</li></ul><p class=\"txt-location\">Belo Horizonte - MG</p></div><div class=\"col-md-3 value-card\"><div class=\"value\"><p class=\"txt-value\">R$ 338.000</p></div></div></div><div class=\"well card\"><div class=\"col-md-3 image-card\"><img width=\"220\" height=\"155\" alt=\"Foto\" src=\"https://caelum-online-public.s3.amazonaws.com/1381-scraping/01/img-cars/bmw-m2/bmw-m2-2970882__340.jpg\"></div><div class=\"col-md-6 body-card\"><p class=\"txt-name inline\">BMW M2</p><p class=\"txt-category badge badge-secondary inline\">USADO</p><p class=\"txt-motor\">Motor 3.0 32v</p><p class=\"txt-description\">Ano 2018 - 83.447 km</p><ul class=\"lst-items\"><li class=\"txt-items\">► Câmera de estacionamento</li><li class=\"txt-items\">► Controle de estabilidade</li><li class=\"txt-items\">► Travas elétricas</li><li class=\"txt-items\">► Freios ABS</li><li class=\"txt-items\">...</li></ul><p class=\"txt-location\">Belo Horizonte - MG</p></div><div class=\"col-md-3 value-card\"><div class=\"value\"><p class=\"txt-value\">R$ 346.000</p></div></div></div><div class=\"well card\"><div class=\"col-md-3 image-card\"><img width=\"220\" height=\"155\" alt=\"Foto\" src=\"https://caelum-online-public.s3.amazonaws.com/1381-scraping/01/img-cars/alfa/alfa-1823056__340.jpg\"></div><div class=\"col-md-6 body-card\"><p class=\"txt-name inline\">ALFA</p><p class=\"txt-category badge badge-secondary inline\">USADO</p><p class=\"txt-motor\">Motor 1.8 16v</p><p class=\"txt-description\">Ano 2004 - 19.722 km</p><ul class=\"lst-items\"><li class=\"txt-items\">► Central multimídia</li><li class=\"txt-items\">► Bancos de couro</li><li class=\"txt-items\">► Rodas de liga</li><li class=\"txt-items\">► Câmera de estacionamento</li><li class=\"txt-items\">...</li></ul><p class=\"txt-location\">Rio de Janeiro - RJ</p></div><div class=\"col-md-3 value-card\"><div class=\"value\"><p class=\"txt-value\">R$ 480.000</p></div></div></div><div class=\"well card\"><div class=\"col-md-3 image-card\"><img width=\"220\" height=\"155\" alt=\"Foto\" src=\"https://caelum-online-public.s3.amazonaws.com/1381-scraping/01/img-cars/puech/puech-4055386__340.jpg\"></div><div class=\"col-md-6 body-card\"><p class=\"txt-name inline\">PUECH</p><p class=\"txt-category badge badge-secondary inline\">USADO</p><p class=\"txt-motor\">Motor Diesel V8</p><p class=\"txt-description\">Ano 1992 - 34.335 km</p><ul class=\"lst-items\"><li class=\"txt-items\">► Bancos de couro</li><li class=\"txt-items\">► Freios ABS</li><li class=\"txt-items\">► Rodas de liga</li><li class=\"txt-items\">► Câmbio automático</li><li class=\"txt-items\">...</li></ul><p class=\"txt-location\">São Paulo - SP</p></div><div class=\"col-md-3 value-card\"><div class=\"value\"><p class=\"txt-value\">R$ 133.000</p></div></div></div><div class=\"well card\"><div class=\"col-md-3 image-card\"><img width=\"220\" height=\"155\" alt=\"Foto\" src=\"https://caelum-online-public.s3.amazonaws.com/1381-scraping/01/img-cars/lamborghini-murcielago/lamborghini-murcielago-2872974__340.jpg\"></div><div class=\"col-md-6 body-card\"><p class=\"txt-name inline\">LAMBORGHINI MURCIELAGO</p><p class=\"txt-category badge badge-secondary inline\">USADO</p><p class=\"txt-motor\">Motor 1.0 8v</p><p class=\"txt-description\">Ano 1991 - 464 km</p><ul class=\"lst-items\"><li class=\"txt-items\">► Central multimídia</li><li class=\"txt-items\">► Teto panorâmico</li><li class=\"txt-items\">► Sensor crepuscular</li><li class=\"txt-items\">► Piloto automático</li><li class=\"txt-items\">...</li></ul><p class=\"txt-location\">Belo Horizonte - MG</p></div><div class=\"col-md-3 value-card\"><div class=\"value\"><p class=\"txt-value\">R$ 175.000</p></div></div></div><div class=\"well card\"><div class=\"col-md-3 image-card\"><img width=\"220\" height=\"155\" alt=\"Foto\" src=\"https://caelum-online-public.s3.amazonaws.com/1381-scraping/01/img-cars/aston-martin/aston-martin-2977916__340.jpg\"></div><div class=\"col-md-6 body-card\"><p class=\"txt-name inline\">ASTON MARTIN</p><p class=\"txt-category badge badge-secondary inline\">USADO</p><p class=\"txt-opportunity badge badge-danger inline\">OPORTUNIDADE</p><p class=\"txt-motor\">Motor Diesel V6</p><p class=\"txt-description\">Ano 2004 - 50.189 km</p><ul class=\"lst-items\"><li class=\"txt-items\">► Painel digital</li><li class=\"txt-items\">► Controle de tração</li><li class=\"txt-items\">► Teto panorâmico</li><li class=\"txt-items\">► Central multimídia</li><li class=\"txt-items\">...</li></ul><p class=\"txt-location\">Belo Horizonte - MG</p></div><div class=\"col-md-3 value-card\"><div class=\"value\"><p class=\"txt-value\">R$ 239.000</p></div></div></div><div class=\"well card\"><div class=\"col-md-3 image-card\"><img width=\"220\" height=\"155\" alt=\"Foto\" src=\"https://caelum-online-public.s3.amazonaws.com/1381-scraping/01/img-cars/tvr/tvr-2943925__340.jpg\"></div><div class=\"col-md-6 body-card\"><p class=\"txt-name inline\">TVR</p><p class=\"txt-category badge badge-secondary inline\">USADO</p><p class=\"txt-motor\">Motor 4.0 Turbo</p><p class=\"txt-description\">Ano 2014 - 17.778 km</p><ul class=\"lst-items\"><li class=\"txt-items\">► 4 X 4</li><li class=\"txt-items\">► Teto panorâmico</li><li class=\"txt-items\">► Central multimídia</li><li class=\"txt-items\">► Controle de estabilidade</li><li class=\"txt-items\">...</li></ul><p class=\"txt-location\">Belo Horizonte - MG</p></div><div class=\"col-md-3 value-card\"><div class=\"value\"><p class=\"txt-value\">R$ 115.000</p></div></div></div><div class=\"well card\"><div class=\"col-md-3 image-card\"><img width=\"220\" height=\"155\" alt=\"Foto\" src=\"https://caelum-online-public.s3.amazonaws.com/1381-scraping/01/img-cars/excalibur/excalibur-2916730__340.jpg\"></div><div class=\"col-md-6 body-card\"><p class=\"txt-name inline\">EXCALIBUR</p><p class=\"txt-category badge badge-secondary inline\">USADO</p><p class=\"txt-motor\">Motor 3.0 32v</p><p class=\"txt-description\">Ano 2009 - 81.251 km</p><ul class=\"lst-items\"><li class=\"txt-items\">► Painel digital</li><li class=\"txt-items\">► Câmbio automático</li><li class=\"txt-items\">► Sensor de chuva</li><li class=\"txt-items\">► Travas elétricas</li><li class=\"txt-items\">...</li></ul><p class=\"txt-location\">Rio de Janeiro - RJ</p></div><div class=\"col-md-3 value-card\"><div class=\"value\"><p class=\"txt-value\">R$ 114.000</p></div></div></div><div class=\"well card\"><div class=\"col-md-3 image-card\"><img width=\"220\" height=\"155\" alt=\"Foto\" src=\"https://caelum-online-public.s3.amazonaws.com/1381-scraping/01/img-cars/mclaren/mclaren-2855240__340.jpg\"></div><div class=\"col-md-6 body-card\"><p class=\"txt-name inline\">MCLAREN</p><p class=\"txt-category badge badge-secondary inline\">NOVO</p><p class=\"txt-motor\">Motor Diesel</p><p class=\"txt-description\">Ano 2019 - 0 km</p><ul class=\"lst-items\"><li class=\"txt-items\">► Central multimídia</li><li class=\"txt-items\">► Câmera de estacionamento</li><li class=\"txt-items\">► Câmbio automático</li><li class=\"txt-items\">► Ar condicionado</li><li class=\"txt-items\">...</li></ul><p class=\"txt-location\">São Paulo - SP</p></div><div class=\"col-md-3 value-card\"><div class=\"value\"><p class=\"txt-value\">R$ 75.000</p></div></div></div><div class=\"well card\"><div class=\"col-md-3 image-card\"><img width=\"220\" height=\"155\" alt=\"Foto\" src=\"https://caelum-online-public.s3.amazonaws.com/1381-scraping/01/img-cars/toyota/toyota-3245397__340.jpg\"></div><div class=\"col-md-6 body-card\"><p class=\"txt-name inline\">TOYOTA</p><p class=\"txt-category badge badge-secondary inline\">USADO</p><p class=\"txt-opportunity badge badge-danger inline\">OPORTUNIDADE</p><p class=\"txt-motor\">Motor 4.0 Turbo</p><p class=\"txt-description\">Ano 1999 - 12.536 km</p><ul class=\"lst-items\"><li class=\"txt-items\">► Bancos de couro</li><li class=\"txt-items\">► Freios ABS</li><li class=\"txt-items\">► Piloto automático</li><li class=\"txt-items\">► Controle de estabilidade</li><li class=\"txt-items\">...</li></ul><p class=\"txt-location\">São Paulo - SP</p></div><div class=\"col-md-3 value-card\"><div class=\"value\"><p class=\"txt-value\">R$ 117.000</p></div></div></div></div><div class=\"type-select\">246 veículos encontrados</div><div class=\"container-pagination\" style=\"float: right\"><span class=\"info-pages\">Página 1 de 25</span></div></div></div></div></div></div><footer><nav class=\"navbar navbar-inverse\"><div class=\"container\" style=\"margin-bottom: 10px;\"><div class=\"navbar\"><a href=\"./index.php\" class=\"navbar-brand\" title=\"Alura Motors\"><img src=\"img/alura-logo.svg\" class=\"d-inline-block align-top\" alt=\"Alura\">Motors </a><p style=\"color: #fff; text-align: center; margin-top: 40px;\">Aplicação para treinamento de web scraping</p></div></div></nav></footer></div></body></html>'"
            ]
          },
          "metadata": {},
          "execution_count": 14
        }
      ]
    },
    {
      "cell_type": "code",
      "source": [
        "#Exemplo com uma frase qualquer\n",
        "\n",
        "html_sapo = 'O\\ns@po\\nn#o\\tl@v@\\to\\npé'\n",
        "\n",
        "def trata_sapo(string):\n",
        "  return \" \".join(string.split()).replace('@', 'a').replace('#', 'ã')\n",
        "\n",
        "html_sapo = trata_sapo(html_sapo)\n",
        "html_sapo"
      ],
      "metadata": {
        "colab": {
          "base_uri": "https://localhost:8080/",
          "height": 35
        },
        "id": "xcP6srutyGWU",
        "outputId": "88478ea5-ac63-42cc-eaf2-8abc8b17b0b0"
      },
      "execution_count": 15,
      "outputs": [
        {
          "output_type": "execute_result",
          "data": {
            "application/vnd.google.colaboratory.intrinsic+json": {
              "type": "string"
            },
            "text/plain": [
              "'O sapo não lava o pé'"
            ]
          },
          "metadata": {},
          "execution_count": 15
        }
      ]
    },
    {
      "cell_type": "markdown",
      "source": [
        ""
      ],
      "metadata": {
        "id": "kWFCvI85yBl9"
      }
    },
    {
      "cell_type": "markdown",
      "source": [
        "## **3.1. Criando um objeto Beautifulsoup**"
      ],
      "metadata": {
        "id": "O8O8KG1H2L72"
      }
    },
    {
      "cell_type": "code",
      "source": [
        "from bs4 import BeautifulSoup\n",
        "\n",
        "soup = BeautifulSoup(html, 'html.parser')\n",
        "\n",
        "print(soup.prettify())"
      ],
      "metadata": {
        "colab": {
          "base_uri": "https://localhost:8080/"
        },
        "id": "-bcmJgs_2T43",
        "outputId": "b6de23d7-6b19-47a5-e8a2-9a29187d0980"
      },
      "execution_count": 16,
      "outputs": [
        {
          "output_type": "stream",
          "name": "stdout",
          "text": [
            "<!DOCTYPE html>\n",
            "<html lang=\"pt-br\">\n",
            " <head>\n",
            "  <meta charset=\"utf-8\"/>\n",
            "  <meta content=\"width=device-width, initial-scale=1, shrink-to-fit=no\" name=\"viewport\"/>\n",
            "  <title>\n",
            "   Alura Motors\n",
            "  </title>\n",
            "  <style>\n",
            "   /*Regra para a animacao*/ @keyframes spin { 0% { transform: rotate(0deg); } 100% { transform: rotate(360deg); } } /*Mudando o tamanho do icone de resposta*/ div.glyphicon { color:#6B8E23; font-size: 38px; } /*Classe que mostra a animacao 'spin'*/ .loader { border: 16px solid #f3f3f3; border-radius: 50%; border-top: 16px solid #3498db; width: 80px; height: 80px; -webkit-animation: spin 2s linear infinite; animation: spin 2s linear infinite; }\n",
            "  </style>\n",
            "  <link crossorigin=\"anonymous\" href=\"https://maxcdn.bootstrapcdn.com/bootstrap/3.3.7/css/bootstrap.min.css\" integrity=\"sha384-BVYiiSIFeK1dGmJRAkycuHAHRg32OmUcww7on3RYdg4Va+PmSTsz/K68vbdEjh4u\" rel=\"stylesheet\"/>\n",
            "  <link href=\"css/styles.css\" media=\"all\" rel=\"stylesheet\"/>\n",
            "  <script src=\"https://code.jquery.com/jquery-1.12.4.js\">\n",
            "  </script>\n",
            "  <script crossorigin=\"anonymous\" integrity=\"sha384-Tc5IQib027qvyjSMfHjOMaLkfuWVxZxUPnCJA7l2mCWNIpG9mGCD8wGNIcPD7Txa\" src=\"https://maxcdn.bootstrapcdn.com/bootstrap/3.3.7/js/bootstrap.min.js\">\n",
            "  </script>\n",
            "  <script src=\"js/index.js\" type=\"text/javascript\">\n",
            "  </script>\n",
            "  <script>\n",
            "   requisitar(\"https://alura-scraping.herokuapp.com/produtos?_page=\"+1+\"&_limit=10\")\n",
            "  </script>\n",
            " </head>\n",
            " <body cz-shortcut-listen=\"true\">\n",
            "  <noscript>\n",
            "   You need to enable JavaScript to run this app.\n",
            "  </noscript>\n",
            "  <div aria-labelledby=\"loadingModal_label\" class=\"modal fade\" data-backdrop=\"static\" id=\"loadingModal\" role=\"dialog\" tabindex=\"-1\">\n",
            "   <div class=\"modal-dialog\" role=\"document\">\n",
            "    <div class=\"modal-content\">\n",
            "     <div class=\"modal-header\">\n",
            "      <h5 class=\"modal-title\" id=\"loadingModal_label\">\n",
            "       <span class=\"glyphicon glyphicon-refresh\">\n",
            "       </span>\n",
            "       Aguarde...\n",
            "      </h5>\n",
            "     </div>\n",
            "     <div class=\"modal-body\">\n",
            "      <div class=\"alert\" role=\"alert\">\n",
            "       <center>\n",
            "        <div class=\"loader\" id=\"loader\">\n",
            "        </div>\n",
            "        <br/>\n",
            "        <h4>\n",
            "         <b id=\"loadingModal_content\">\n",
            "         </b>\n",
            "        </h4>\n",
            "       </center>\n",
            "      </div>\n",
            "     </div>\n",
            "    </div>\n",
            "   </div>\n",
            "  </div>\n",
            "  <div id=\"root\">\n",
            "   <header>\n",
            "    <nav class=\"navbar navbar-inverse\" style=\"margin-bottom: 0;\">\n",
            "     <div class=\"container\" style=\"margin-bottom: -20px;\">\n",
            "      <div class=\"navbar\">\n",
            "       <a class=\"navbar-brand\" href=\"./index.php\" title=\"Alura Motors\">\n",
            "        <img alt=\"Alura\" class=\"d-inline-block align-top\" src=\"img/alura-logo.svg\"/>\n",
            "        Motors\n",
            "       </a>\n",
            "       <ul class=\"nav navbar-nav\" style=\"margin-top: 35px;\">\n",
            "        <li>\n",
            "         <a href=\"./hello-world.php\">\n",
            "          Hello World\n",
            "         </a>\n",
            "        </li>\n",
            "        <li>\n",
            "         <a href=\"./index.php\">\n",
            "          Anúncios\n",
            "         </a>\n",
            "        </li>\n",
            "       </ul>\n",
            "      </div>\n",
            "     </div>\n",
            "    </nav>\n",
            "   </header>\n",
            "   <div class=\"container\">\n",
            "    <h1 class=\"sub-header\">\n",
            "     Veículos de Luxo Novos e Usados - Todas as Marcas\n",
            "    </h1>\n",
            "    <div class=\"row\">\n",
            "     <div class=\"col-md-12\">\n",
            "      <div class=\"container\" style=\"width: 100%\">\n",
            "       <div class=\"type-select\">\n",
            "        246 veículos encontrados\n",
            "       </div>\n",
            "       <div class=\"container-pagination\" style=\"float: right\">\n",
            "        <span class=\"info-pages\">\n",
            "         Página 1 de 25\n",
            "        </span>\n",
            "       </div>\n",
            "      </div>\n",
            "      <div id=\"container-cards\" style=\"height: 100%\">\n",
            "       <div class=\"well card\">\n",
            "        <div class=\"col-md-3 image-card\">\n",
            "         <img alt=\"Foto\" height=\"155\" src=\"https://caelum-online-public.s3.amazonaws.com/1381-scraping/01/img-cars/lamborghini-aventador/lamborghini-aventador-2932196__340.jpg\" width=\"220\"/>\n",
            "        </div>\n",
            "        <div class=\"col-md-6 body-card\">\n",
            "         <p class=\"txt-name inline\">\n",
            "          LAMBORGHINI AVENTADOR\n",
            "         </p>\n",
            "         <p class=\"txt-category badge badge-secondary inline\">\n",
            "          USADO\n",
            "         </p>\n",
            "         <p class=\"txt-motor\">\n",
            "          Motor 1.8 16v\n",
            "         </p>\n",
            "         <p class=\"txt-description\">\n",
            "          Ano 1993 - 55.286 km\n",
            "         </p>\n",
            "         <ul class=\"lst-items\">\n",
            "          <li class=\"txt-items\">\n",
            "           ► 4 X 4\n",
            "          </li>\n",
            "          <li class=\"txt-items\">\n",
            "           ► Câmera de estacionamento\n",
            "          </li>\n",
            "          <li class=\"txt-items\">\n",
            "           ► Controle de tração\n",
            "          </li>\n",
            "          <li class=\"txt-items\">\n",
            "           ► Sensor de estacionamento\n",
            "          </li>\n",
            "          <li class=\"txt-items\">\n",
            "           ...\n",
            "          </li>\n",
            "         </ul>\n",
            "         <p class=\"txt-location\">\n",
            "          Belo Horizonte - MG\n",
            "         </p>\n",
            "        </div>\n",
            "        <div class=\"col-md-3 value-card\">\n",
            "         <div class=\"value\">\n",
            "          <p class=\"txt-value\">\n",
            "           R$ 338.000\n",
            "          </p>\n",
            "         </div>\n",
            "        </div>\n",
            "       </div>\n",
            "       <div class=\"well card\">\n",
            "        <div class=\"col-md-3 image-card\">\n",
            "         <img alt=\"Foto\" height=\"155\" src=\"https://caelum-online-public.s3.amazonaws.com/1381-scraping/01/img-cars/bmw-m2/bmw-m2-2970882__340.jpg\" width=\"220\"/>\n",
            "        </div>\n",
            "        <div class=\"col-md-6 body-card\">\n",
            "         <p class=\"txt-name inline\">\n",
            "          BMW M2\n",
            "         </p>\n",
            "         <p class=\"txt-category badge badge-secondary inline\">\n",
            "          USADO\n",
            "         </p>\n",
            "         <p class=\"txt-motor\">\n",
            "          Motor 3.0 32v\n",
            "         </p>\n",
            "         <p class=\"txt-description\">\n",
            "          Ano 2018 - 83.447 km\n",
            "         </p>\n",
            "         <ul class=\"lst-items\">\n",
            "          <li class=\"txt-items\">\n",
            "           ► Câmera de estacionamento\n",
            "          </li>\n",
            "          <li class=\"txt-items\">\n",
            "           ► Controle de estabilidade\n",
            "          </li>\n",
            "          <li class=\"txt-items\">\n",
            "           ► Travas elétricas\n",
            "          </li>\n",
            "          <li class=\"txt-items\">\n",
            "           ► Freios ABS\n",
            "          </li>\n",
            "          <li class=\"txt-items\">\n",
            "           ...\n",
            "          </li>\n",
            "         </ul>\n",
            "         <p class=\"txt-location\">\n",
            "          Belo Horizonte - MG\n",
            "         </p>\n",
            "        </div>\n",
            "        <div class=\"col-md-3 value-card\">\n",
            "         <div class=\"value\">\n",
            "          <p class=\"txt-value\">\n",
            "           R$ 346.000\n",
            "          </p>\n",
            "         </div>\n",
            "        </div>\n",
            "       </div>\n",
            "       <div class=\"well card\">\n",
            "        <div class=\"col-md-3 image-card\">\n",
            "         <img alt=\"Foto\" height=\"155\" src=\"https://caelum-online-public.s3.amazonaws.com/1381-scraping/01/img-cars/alfa/alfa-1823056__340.jpg\" width=\"220\"/>\n",
            "        </div>\n",
            "        <div class=\"col-md-6 body-card\">\n",
            "         <p class=\"txt-name inline\">\n",
            "          ALFA\n",
            "         </p>\n",
            "         <p class=\"txt-category badge badge-secondary inline\">\n",
            "          USADO\n",
            "         </p>\n",
            "         <p class=\"txt-motor\">\n",
            "          Motor 1.8 16v\n",
            "         </p>\n",
            "         <p class=\"txt-description\">\n",
            "          Ano 2004 - 19.722 km\n",
            "         </p>\n",
            "         <ul class=\"lst-items\">\n",
            "          <li class=\"txt-items\">\n",
            "           ► Central multimídia\n",
            "          </li>\n",
            "          <li class=\"txt-items\">\n",
            "           ► Bancos de couro\n",
            "          </li>\n",
            "          <li class=\"txt-items\">\n",
            "           ► Rodas de liga\n",
            "          </li>\n",
            "          <li class=\"txt-items\">\n",
            "           ► Câmera de estacionamento\n",
            "          </li>\n",
            "          <li class=\"txt-items\">\n",
            "           ...\n",
            "          </li>\n",
            "         </ul>\n",
            "         <p class=\"txt-location\">\n",
            "          Rio de Janeiro - RJ\n",
            "         </p>\n",
            "        </div>\n",
            "        <div class=\"col-md-3 value-card\">\n",
            "         <div class=\"value\">\n",
            "          <p class=\"txt-value\">\n",
            "           R$ 480.000\n",
            "          </p>\n",
            "         </div>\n",
            "        </div>\n",
            "       </div>\n",
            "       <div class=\"well card\">\n",
            "        <div class=\"col-md-3 image-card\">\n",
            "         <img alt=\"Foto\" height=\"155\" src=\"https://caelum-online-public.s3.amazonaws.com/1381-scraping/01/img-cars/puech/puech-4055386__340.jpg\" width=\"220\"/>\n",
            "        </div>\n",
            "        <div class=\"col-md-6 body-card\">\n",
            "         <p class=\"txt-name inline\">\n",
            "          PUECH\n",
            "         </p>\n",
            "         <p class=\"txt-category badge badge-secondary inline\">\n",
            "          USADO\n",
            "         </p>\n",
            "         <p class=\"txt-motor\">\n",
            "          Motor Diesel V8\n",
            "         </p>\n",
            "         <p class=\"txt-description\">\n",
            "          Ano 1992 - 34.335 km\n",
            "         </p>\n",
            "         <ul class=\"lst-items\">\n",
            "          <li class=\"txt-items\">\n",
            "           ► Bancos de couro\n",
            "          </li>\n",
            "          <li class=\"txt-items\">\n",
            "           ► Freios ABS\n",
            "          </li>\n",
            "          <li class=\"txt-items\">\n",
            "           ► Rodas de liga\n",
            "          </li>\n",
            "          <li class=\"txt-items\">\n",
            "           ► Câmbio automático\n",
            "          </li>\n",
            "          <li class=\"txt-items\">\n",
            "           ...\n",
            "          </li>\n",
            "         </ul>\n",
            "         <p class=\"txt-location\">\n",
            "          São Paulo - SP\n",
            "         </p>\n",
            "        </div>\n",
            "        <div class=\"col-md-3 value-card\">\n",
            "         <div class=\"value\">\n",
            "          <p class=\"txt-value\">\n",
            "           R$ 133.000\n",
            "          </p>\n",
            "         </div>\n",
            "        </div>\n",
            "       </div>\n",
            "       <div class=\"well card\">\n",
            "        <div class=\"col-md-3 image-card\">\n",
            "         <img alt=\"Foto\" height=\"155\" src=\"https://caelum-online-public.s3.amazonaws.com/1381-scraping/01/img-cars/lamborghini-murcielago/lamborghini-murcielago-2872974__340.jpg\" width=\"220\"/>\n",
            "        </div>\n",
            "        <div class=\"col-md-6 body-card\">\n",
            "         <p class=\"txt-name inline\">\n",
            "          LAMBORGHINI MURCIELAGO\n",
            "         </p>\n",
            "         <p class=\"txt-category badge badge-secondary inline\">\n",
            "          USADO\n",
            "         </p>\n",
            "         <p class=\"txt-motor\">\n",
            "          Motor 1.0 8v\n",
            "         </p>\n",
            "         <p class=\"txt-description\">\n",
            "          Ano 1991 - 464 km\n",
            "         </p>\n",
            "         <ul class=\"lst-items\">\n",
            "          <li class=\"txt-items\">\n",
            "           ► Central multimídia\n",
            "          </li>\n",
            "          <li class=\"txt-items\">\n",
            "           ► Teto panorâmico\n",
            "          </li>\n",
            "          <li class=\"txt-items\">\n",
            "           ► Sensor crepuscular\n",
            "          </li>\n",
            "          <li class=\"txt-items\">\n",
            "           ► Piloto automático\n",
            "          </li>\n",
            "          <li class=\"txt-items\">\n",
            "           ...\n",
            "          </li>\n",
            "         </ul>\n",
            "         <p class=\"txt-location\">\n",
            "          Belo Horizonte - MG\n",
            "         </p>\n",
            "        </div>\n",
            "        <div class=\"col-md-3 value-card\">\n",
            "         <div class=\"value\">\n",
            "          <p class=\"txt-value\">\n",
            "           R$ 175.000\n",
            "          </p>\n",
            "         </div>\n",
            "        </div>\n",
            "       </div>\n",
            "       <div class=\"well card\">\n",
            "        <div class=\"col-md-3 image-card\">\n",
            "         <img alt=\"Foto\" height=\"155\" src=\"https://caelum-online-public.s3.amazonaws.com/1381-scraping/01/img-cars/aston-martin/aston-martin-2977916__340.jpg\" width=\"220\"/>\n",
            "        </div>\n",
            "        <div class=\"col-md-6 body-card\">\n",
            "         <p class=\"txt-name inline\">\n",
            "          ASTON MARTIN\n",
            "         </p>\n",
            "         <p class=\"txt-category badge badge-secondary inline\">\n",
            "          USADO\n",
            "         </p>\n",
            "         <p class=\"txt-opportunity badge badge-danger inline\">\n",
            "          OPORTUNIDADE\n",
            "         </p>\n",
            "         <p class=\"txt-motor\">\n",
            "          Motor Diesel V6\n",
            "         </p>\n",
            "         <p class=\"txt-description\">\n",
            "          Ano 2004 - 50.189 km\n",
            "         </p>\n",
            "         <ul class=\"lst-items\">\n",
            "          <li class=\"txt-items\">\n",
            "           ► Painel digital\n",
            "          </li>\n",
            "          <li class=\"txt-items\">\n",
            "           ► Controle de tração\n",
            "          </li>\n",
            "          <li class=\"txt-items\">\n",
            "           ► Teto panorâmico\n",
            "          </li>\n",
            "          <li class=\"txt-items\">\n",
            "           ► Central multimídia\n",
            "          </li>\n",
            "          <li class=\"txt-items\">\n",
            "           ...\n",
            "          </li>\n",
            "         </ul>\n",
            "         <p class=\"txt-location\">\n",
            "          Belo Horizonte - MG\n",
            "         </p>\n",
            "        </div>\n",
            "        <div class=\"col-md-3 value-card\">\n",
            "         <div class=\"value\">\n",
            "          <p class=\"txt-value\">\n",
            "           R$ 239.000\n",
            "          </p>\n",
            "         </div>\n",
            "        </div>\n",
            "       </div>\n",
            "       <div class=\"well card\">\n",
            "        <div class=\"col-md-3 image-card\">\n",
            "         <img alt=\"Foto\" height=\"155\" src=\"https://caelum-online-public.s3.amazonaws.com/1381-scraping/01/img-cars/tvr/tvr-2943925__340.jpg\" width=\"220\"/>\n",
            "        </div>\n",
            "        <div class=\"col-md-6 body-card\">\n",
            "         <p class=\"txt-name inline\">\n",
            "          TVR\n",
            "         </p>\n",
            "         <p class=\"txt-category badge badge-secondary inline\">\n",
            "          USADO\n",
            "         </p>\n",
            "         <p class=\"txt-motor\">\n",
            "          Motor 4.0 Turbo\n",
            "         </p>\n",
            "         <p class=\"txt-description\">\n",
            "          Ano 2014 - 17.778 km\n",
            "         </p>\n",
            "         <ul class=\"lst-items\">\n",
            "          <li class=\"txt-items\">\n",
            "           ► 4 X 4\n",
            "          </li>\n",
            "          <li class=\"txt-items\">\n",
            "           ► Teto panorâmico\n",
            "          </li>\n",
            "          <li class=\"txt-items\">\n",
            "           ► Central multimídia\n",
            "          </li>\n",
            "          <li class=\"txt-items\">\n",
            "           ► Controle de estabilidade\n",
            "          </li>\n",
            "          <li class=\"txt-items\">\n",
            "           ...\n",
            "          </li>\n",
            "         </ul>\n",
            "         <p class=\"txt-location\">\n",
            "          Belo Horizonte - MG\n",
            "         </p>\n",
            "        </div>\n",
            "        <div class=\"col-md-3 value-card\">\n",
            "         <div class=\"value\">\n",
            "          <p class=\"txt-value\">\n",
            "           R$ 115.000\n",
            "          </p>\n",
            "         </div>\n",
            "        </div>\n",
            "       </div>\n",
            "       <div class=\"well card\">\n",
            "        <div class=\"col-md-3 image-card\">\n",
            "         <img alt=\"Foto\" height=\"155\" src=\"https://caelum-online-public.s3.amazonaws.com/1381-scraping/01/img-cars/excalibur/excalibur-2916730__340.jpg\" width=\"220\"/>\n",
            "        </div>\n",
            "        <div class=\"col-md-6 body-card\">\n",
            "         <p class=\"txt-name inline\">\n",
            "          EXCALIBUR\n",
            "         </p>\n",
            "         <p class=\"txt-category badge badge-secondary inline\">\n",
            "          USADO\n",
            "         </p>\n",
            "         <p class=\"txt-motor\">\n",
            "          Motor 3.0 32v\n",
            "         </p>\n",
            "         <p class=\"txt-description\">\n",
            "          Ano 2009 - 81.251 km\n",
            "         </p>\n",
            "         <ul class=\"lst-items\">\n",
            "          <li class=\"txt-items\">\n",
            "           ► Painel digital\n",
            "          </li>\n",
            "          <li class=\"txt-items\">\n",
            "           ► Câmbio automático\n",
            "          </li>\n",
            "          <li class=\"txt-items\">\n",
            "           ► Sensor de chuva\n",
            "          </li>\n",
            "          <li class=\"txt-items\">\n",
            "           ► Travas elétricas\n",
            "          </li>\n",
            "          <li class=\"txt-items\">\n",
            "           ...\n",
            "          </li>\n",
            "         </ul>\n",
            "         <p class=\"txt-location\">\n",
            "          Rio de Janeiro - RJ\n",
            "         </p>\n",
            "        </div>\n",
            "        <div class=\"col-md-3 value-card\">\n",
            "         <div class=\"value\">\n",
            "          <p class=\"txt-value\">\n",
            "           R$ 114.000\n",
            "          </p>\n",
            "         </div>\n",
            "        </div>\n",
            "       </div>\n",
            "       <div class=\"well card\">\n",
            "        <div class=\"col-md-3 image-card\">\n",
            "         <img alt=\"Foto\" height=\"155\" src=\"https://caelum-online-public.s3.amazonaws.com/1381-scraping/01/img-cars/mclaren/mclaren-2855240__340.jpg\" width=\"220\"/>\n",
            "        </div>\n",
            "        <div class=\"col-md-6 body-card\">\n",
            "         <p class=\"txt-name inline\">\n",
            "          MCLAREN\n",
            "         </p>\n",
            "         <p class=\"txt-category badge badge-secondary inline\">\n",
            "          NOVO\n",
            "         </p>\n",
            "         <p class=\"txt-motor\">\n",
            "          Motor Diesel\n",
            "         </p>\n",
            "         <p class=\"txt-description\">\n",
            "          Ano 2019 - 0 km\n",
            "         </p>\n",
            "         <ul class=\"lst-items\">\n",
            "          <li class=\"txt-items\">\n",
            "           ► Central multimídia\n",
            "          </li>\n",
            "          <li class=\"txt-items\">\n",
            "           ► Câmera de estacionamento\n",
            "          </li>\n",
            "          <li class=\"txt-items\">\n",
            "           ► Câmbio automático\n",
            "          </li>\n",
            "          <li class=\"txt-items\">\n",
            "           ► Ar condicionado\n",
            "          </li>\n",
            "          <li class=\"txt-items\">\n",
            "           ...\n",
            "          </li>\n",
            "         </ul>\n",
            "         <p class=\"txt-location\">\n",
            "          São Paulo - SP\n",
            "         </p>\n",
            "        </div>\n",
            "        <div class=\"col-md-3 value-card\">\n",
            "         <div class=\"value\">\n",
            "          <p class=\"txt-value\">\n",
            "           R$ 75.000\n",
            "          </p>\n",
            "         </div>\n",
            "        </div>\n",
            "       </div>\n",
            "       <div class=\"well card\">\n",
            "        <div class=\"col-md-3 image-card\">\n",
            "         <img alt=\"Foto\" height=\"155\" src=\"https://caelum-online-public.s3.amazonaws.com/1381-scraping/01/img-cars/toyota/toyota-3245397__340.jpg\" width=\"220\"/>\n",
            "        </div>\n",
            "        <div class=\"col-md-6 body-card\">\n",
            "         <p class=\"txt-name inline\">\n",
            "          TOYOTA\n",
            "         </p>\n",
            "         <p class=\"txt-category badge badge-secondary inline\">\n",
            "          USADO\n",
            "         </p>\n",
            "         <p class=\"txt-opportunity badge badge-danger inline\">\n",
            "          OPORTUNIDADE\n",
            "         </p>\n",
            "         <p class=\"txt-motor\">\n",
            "          Motor 4.0 Turbo\n",
            "         </p>\n",
            "         <p class=\"txt-description\">\n",
            "          Ano 1999 - 12.536 km\n",
            "         </p>\n",
            "         <ul class=\"lst-items\">\n",
            "          <li class=\"txt-items\">\n",
            "           ► Bancos de couro\n",
            "          </li>\n",
            "          <li class=\"txt-items\">\n",
            "           ► Freios ABS\n",
            "          </li>\n",
            "          <li class=\"txt-items\">\n",
            "           ► Piloto automático\n",
            "          </li>\n",
            "          <li class=\"txt-items\">\n",
            "           ► Controle de estabilidade\n",
            "          </li>\n",
            "          <li class=\"txt-items\">\n",
            "           ...\n",
            "          </li>\n",
            "         </ul>\n",
            "         <p class=\"txt-location\">\n",
            "          São Paulo - SP\n",
            "         </p>\n",
            "        </div>\n",
            "        <div class=\"col-md-3 value-card\">\n",
            "         <div class=\"value\">\n",
            "          <p class=\"txt-value\">\n",
            "           R$ 117.000\n",
            "          </p>\n",
            "         </div>\n",
            "        </div>\n",
            "       </div>\n",
            "      </div>\n",
            "      <div class=\"type-select\">\n",
            "       246 veículos encontrados\n",
            "      </div>\n",
            "      <div class=\"container-pagination\" style=\"float: right\">\n",
            "       <span class=\"info-pages\">\n",
            "        Página 1 de 25\n",
            "       </span>\n",
            "      </div>\n",
            "     </div>\n",
            "    </div>\n",
            "   </div>\n",
            "  </div>\n",
            " </body>\n",
            "</html>\n",
            "<footer>\n",
            " <nav class=\"navbar navbar-inverse\">\n",
            "  <div class=\"container\" style=\"margin-bottom: 10px;\">\n",
            "   <div class=\"navbar\">\n",
            "    <a class=\"navbar-brand\" href=\"./index.php\" title=\"Alura Motors\">\n",
            "     <img alt=\"Alura\" class=\"d-inline-block align-top\" src=\"img/alura-logo.svg\"/>\n",
            "     Motors\n",
            "    </a>\n",
            "    <p style=\"color: #fff; text-align: center; margin-top: 40px;\">\n",
            "     Aplicação para treinamento de web scraping\n",
            "    </p>\n",
            "   </div>\n",
            "  </div>\n",
            " </nav>\n",
            "</footer>\n"
          ]
        }
      ]
    },
    {
      "cell_type": "code",
      "source": [
        "type(soup)"
      ],
      "metadata": {
        "colab": {
          "base_uri": "https://localhost:8080/"
        },
        "id": "VVfOc4xp3-iM",
        "outputId": "b9fe0089-6df8-4d06-f4a9-493b2d4616fb"
      },
      "execution_count": 17,
      "outputs": [
        {
          "output_type": "execute_result",
          "data": {
            "text/plain": [
              "bs4.BeautifulSoup"
            ]
          },
          "metadata": {},
          "execution_count": 17
        }
      ]
    },
    {
      "cell_type": "markdown",
      "source": [
        "## **3.3. Acessando as TAGS**"
      ],
      "metadata": {
        "id": "FzLcvSo33-I8"
      }
    },
    {
      "cell_type": "code",
      "source": [
        "soup.title"
      ],
      "metadata": {
        "colab": {
          "base_uri": "https://localhost:8080/"
        },
        "id": "ZZ5rU1nJ5Esl",
        "outputId": "73329513-f07c-40d8-813b-06e1dfe81ea6"
      },
      "execution_count": 18,
      "outputs": [
        {
          "output_type": "execute_result",
          "data": {
            "text/plain": [
              "<title>Alura Motors</title>"
            ]
          },
          "metadata": {},
          "execution_count": 18
        }
      ]
    },
    {
      "cell_type": "code",
      "source": [
        "soup.div.div.div.div.h5"
      ],
      "metadata": {
        "colab": {
          "base_uri": "https://localhost:8080/"
        },
        "id": "nep5xIWl51iy",
        "outputId": "a3fb4219-31d9-408f-d179-4378cc5f4621"
      },
      "execution_count": 19,
      "outputs": [
        {
          "output_type": "execute_result",
          "data": {
            "text/plain": [
              "<h5 class=\"modal-title\" id=\"loadingModal_label\"><span class=\"glyphicon glyphicon-refresh\"></span>Aguarde... </h5>"
            ]
          },
          "metadata": {},
          "execution_count": 19
        }
      ]
    },
    {
      "cell_type": "markdown",
      "source": [
        "## **3.4. Acessando o conteúdo das TAGS**"
      ],
      "metadata": {
        "id": "hSVlU4tA6gLj"
      }
    },
    {
      "cell_type": "code",
      "source": [
        "soup.title.get_text()"
      ],
      "metadata": {
        "colab": {
          "base_uri": "https://localhost:8080/",
          "height": 35
        },
        "id": "XpE548Qc6qsa",
        "outputId": "c580df8b-e324-40d0-c85a-e0ae85e43344"
      },
      "execution_count": 20,
      "outputs": [
        {
          "output_type": "execute_result",
          "data": {
            "application/vnd.google.colaboratory.intrinsic+json": {
              "type": "string"
            },
            "text/plain": [
              "'Alura Motors'"
            ]
          },
          "metadata": {},
          "execution_count": 20
        }
      ]
    },
    {
      "cell_type": "code",
      "source": [
        "soup.h5.get_text()"
      ],
      "metadata": {
        "colab": {
          "base_uri": "https://localhost:8080/",
          "height": 35
        },
        "id": "NTTlPZjx62KT",
        "outputId": "02c804ae-ae22-4360-fa83-d2e7bd9bfaee"
      },
      "execution_count": 21,
      "outputs": [
        {
          "output_type": "execute_result",
          "data": {
            "application/vnd.google.colaboratory.intrinsic+json": {
              "type": "string"
            },
            "text/plain": [
              "'Aguarde... '"
            ]
          },
          "metadata": {},
          "execution_count": 21
        }
      ]
    },
    {
      "cell_type": "code",
      "source": [
        "soup.get_text()"
      ],
      "metadata": {
        "colab": {
          "base_uri": "https://localhost:8080/",
          "height": 122
        },
        "id": "G4GmAuH-7PA6",
        "outputId": "42448be5-674b-4e1e-edd6-46d96d330733"
      },
      "execution_count": 22,
      "outputs": [
        {
          "output_type": "execute_result",
          "data": {
            "application/vnd.google.colaboratory.intrinsic+json": {
              "type": "string"
            },
            "text/plain": [
              "'Alura Motors /*Regra para a animacao*/ @keyframes spin { 0% { transform: rotate(0deg); } 100% { transform: rotate(360deg); } } /*Mudando o tamanho do icone de resposta*/ div.glyphicon { color:#6B8E23; font-size: 38px; } /*Classe que mostra a animacao \\'spin\\'*/ .loader { border: 16px solid #f3f3f3; border-radius: 50%; border-top: 16px solid #3498db; width: 80px; height: 80px; -webkit-animation: spin 2s linear infinite; animation: spin 2s linear infinite; }  requisitar(\"https://alura-scraping.herokuapp.com/produtos?_page=\"+1+\"&_limit=10\") You need to enable JavaScript to run this app.Aguarde... Motors Hello WorldAnúnciosVeículos de Luxo Novos e Usados - Todas as Marcas246 veículos encontradosPágina 1 de 25LAMBORGHINI AVENTADORUSADOMotor 1.8 16vAno 1993 - 55.286 km► 4 X 4► Câmera de estacionamento► Controle de tração► Sensor de estacionamento...Belo Horizonte - MGR$ 338.000BMW M2USADOMotor 3.0 32vAno 2018 - 83.447 km► Câmera de estacionamento► Controle de estabilidade► Travas elétricas► Freios ABS...Belo Horizonte - MGR$ 346.000ALFAUSADOMotor 1.8 16vAno 2004 - 19.722 km► Central multimídia► Bancos de couro► Rodas de liga► Câmera de estacionamento...Rio de Janeiro - RJR$ 480.000PUECHUSADOMotor Diesel V8Ano 1992 - 34.335 km► Bancos de couro► Freios ABS► Rodas de liga► Câmbio automático...São Paulo - SPR$ 133.000LAMBORGHINI MURCIELAGOUSADOMotor 1.0 8vAno 1991 - 464 km► Central multimídia► Teto panorâmico► Sensor crepuscular► Piloto automático...Belo Horizonte - MGR$ 175.000ASTON MARTINUSADOOPORTUNIDADEMotor Diesel V6Ano 2004 - 50.189 km► Painel digital► Controle de tração► Teto panorâmico► Central multimídia...Belo Horizonte - MGR$ 239.000TVRUSADOMotor 4.0 TurboAno 2014 - 17.778 km► 4 X 4► Teto panorâmico► Central multimídia► Controle de estabilidade...Belo Horizonte - MGR$ 115.000EXCALIBURUSADOMotor 3.0 32vAno 2009 - 81.251 km► Painel digital► Câmbio automático► Sensor de chuva► Travas elétricas...Rio de Janeiro - RJR$ 114.000MCLARENNOVOMotor DieselAno 2019 - 0 km► Central multimídia► Câmera de estacionamento► Câmbio automático► Ar condicionado...São Paulo - SPR$ 75.000TOYOTAUSADOOPORTUNIDADEMotor 4.0 TurboAno 1999 - 12.536 km► Bancos de couro► Freios ABS► Piloto automático► Controle de estabilidade...São Paulo - SPR$ 117.000246 veículos encontradosPágina 1 de 25Motors Aplicação para treinamento de web scraping'"
            ]
          },
          "metadata": {},
          "execution_count": 22
        }
      ]
    },
    {
      "cell_type": "markdown",
      "source": [
        "## **3.5. Acessando os atributos de uma TAG**"
      ],
      "metadata": {
        "id": "wTiUeuQr7WN7"
      }
    },
    {
      "cell_type": "code",
      "source": [
        "soup.img"
      ],
      "metadata": {
        "colab": {
          "base_uri": "https://localhost:8080/"
        },
        "id": "abSNb3yT7izR",
        "outputId": "b3a9a45e-e104-445d-8be3-3d7f6942e264"
      },
      "execution_count": 23,
      "outputs": [
        {
          "output_type": "execute_result",
          "data": {
            "text/plain": [
              "<img alt=\"Alura\" class=\"d-inline-block align-top\" src=\"img/alura-logo.svg\"/>"
            ]
          },
          "metadata": {},
          "execution_count": 23
        }
      ]
    },
    {
      "cell_type": "code",
      "source": [
        "soup.img.attrs"
      ],
      "metadata": {
        "colab": {
          "base_uri": "https://localhost:8080/"
        },
        "id": "b9e3Ybx89RxI",
        "outputId": "cf095203-9db4-4d5f-8dc3-91f09a311466"
      },
      "execution_count": 24,
      "outputs": [
        {
          "output_type": "execute_result",
          "data": {
            "text/plain": [
              "{'alt': 'Alura',\n",
              " 'class': ['d-inline-block', 'align-top'],\n",
              " 'src': 'img/alura-logo.svg'}"
            ]
          },
          "metadata": {},
          "execution_count": 24
        }
      ]
    },
    {
      "cell_type": "code",
      "source": [
        "soup.img.attrs.keys()"
      ],
      "metadata": {
        "colab": {
          "base_uri": "https://localhost:8080/"
        },
        "id": "MsxCxfmh9c9o",
        "outputId": "e3b95a18-3feb-40c7-8733-41b0186aee72"
      },
      "execution_count": 25,
      "outputs": [
        {
          "output_type": "execute_result",
          "data": {
            "text/plain": [
              "dict_keys(['src', 'class', 'alt'])"
            ]
          },
          "metadata": {},
          "execution_count": 25
        }
      ]
    },
    {
      "cell_type": "code",
      "source": [
        "soup.img.attrs.values()"
      ],
      "metadata": {
        "colab": {
          "base_uri": "https://localhost:8080/"
        },
        "id": "Chc55JRB9cvg",
        "outputId": "c1202850-4eb3-40c0-9ee5-55af4e7a4b2f"
      },
      "execution_count": 26,
      "outputs": [
        {
          "output_type": "execute_result",
          "data": {
            "text/plain": [
              "dict_values(['img/alura-logo.svg', ['d-inline-block', 'align-top'], 'Alura'])"
            ]
          },
          "metadata": {},
          "execution_count": 26
        }
      ]
    },
    {
      "cell_type": "code",
      "source": [
        "soup.img['class']"
      ],
      "metadata": {
        "colab": {
          "base_uri": "https://localhost:8080/"
        },
        "id": "kmm1hxJm9rEx",
        "outputId": "71addc7d-df05-46a0-b654-fc5f818aedec"
      },
      "execution_count": 27,
      "outputs": [
        {
          "output_type": "execute_result",
          "data": {
            "text/plain": [
              "['d-inline-block', 'align-top']"
            ]
          },
          "metadata": {},
          "execution_count": 27
        }
      ]
    },
    {
      "cell_type": "code",
      "source": [
        "soup.img.get('class')"
      ],
      "metadata": {
        "colab": {
          "base_uri": "https://localhost:8080/"
        },
        "id": "n0ZNalND9yjh",
        "outputId": "3be22a0e-f6f8-45cc-9619-fb4d9de1aaef"
      },
      "execution_count": 28,
      "outputs": [
        {
          "output_type": "execute_result",
          "data": {
            "text/plain": [
              "['d-inline-block', 'align-top']"
            ]
          },
          "metadata": {},
          "execution_count": 28
        }
      ]
    },
    {
      "cell_type": "code",
      "source": [
        "soup.img.get('alt')"
      ],
      "metadata": {
        "colab": {
          "base_uri": "https://localhost:8080/",
          "height": 35
        },
        "id": "yDQTKTToh_Zc",
        "outputId": "81f9057b-6d73-46ec-9f84-2f8a496818d0"
      },
      "execution_count": 29,
      "outputs": [
        {
          "output_type": "execute_result",
          "data": {
            "application/vnd.google.colaboratory.intrinsic+json": {
              "type": "string"
            },
            "text/plain": [
              "'Alura'"
            ]
          },
          "metadata": {},
          "execution_count": 29
        }
      ]
    },
    {
      "cell_type": "code",
      "source": [
        "soup.img.get('class')"
      ],
      "metadata": {
        "colab": {
          "base_uri": "https://localhost:8080/"
        },
        "id": "OBXUAt-h9_oP",
        "outputId": "db9c7fdc-748c-4031-8757-f5c9441c695c"
      },
      "execution_count": 30,
      "outputs": [
        {
          "output_type": "execute_result",
          "data": {
            "text/plain": [
              "['d-inline-block', 'align-top']"
            ]
          },
          "metadata": {},
          "execution_count": 30
        }
      ]
    },
    {
      "cell_type": "markdown",
      "source": [
        "## **4. Pesquisando com o BEAUTIFULSOUP**"
      ],
      "metadata": {
        "id": "wErt_tBX-IHR"
      }
    },
    {
      "cell_type": "markdown",
      "source": [
        "***Método find()***"
      ],
      "metadata": {
        "id": "aPJ0qFUY-QAx"
      }
    },
    {
      "cell_type": "code",
      "source": [
        "soup.find('img') "
      ],
      "metadata": {
        "colab": {
          "base_uri": "https://localhost:8080/"
        },
        "id": "TSKYLKBU3dSa",
        "outputId": "e99f45d1-f7ca-47be-f53d-e77ff0228e86"
      },
      "execution_count": 31,
      "outputs": [
        {
          "output_type": "execute_result",
          "data": {
            "text/plain": [
              "<img alt=\"Alura\" class=\"d-inline-block align-top\" src=\"img/alura-logo.svg\"/>"
            ]
          },
          "metadata": {},
          "execution_count": 31
        }
      ]
    },
    {
      "cell_type": "markdown",
      "source": [
        "***Método findAll()***"
      ],
      "metadata": {
        "id": "Twxj-V0o3nlU"
      }
    },
    {
      "cell_type": "code",
      "source": [
        "soup.findAll('img')"
      ],
      "metadata": {
        "colab": {
          "base_uri": "https://localhost:8080/"
        },
        "id": "H-QAX3QO3trc",
        "outputId": "1424f52d-dab0-4568-e1fb-f9176b888c3f"
      },
      "execution_count": 32,
      "outputs": [
        {
          "output_type": "execute_result",
          "data": {
            "text/plain": [
              "[<img alt=\"Alura\" class=\"d-inline-block align-top\" src=\"img/alura-logo.svg\"/>,\n",
              " <img alt=\"Foto\" height=\"155\" src=\"https://caelum-online-public.s3.amazonaws.com/1381-scraping/01/img-cars/lamborghini-aventador/lamborghini-aventador-2932196__340.jpg\" width=\"220\"/>,\n",
              " <img alt=\"Foto\" height=\"155\" src=\"https://caelum-online-public.s3.amazonaws.com/1381-scraping/01/img-cars/bmw-m2/bmw-m2-2970882__340.jpg\" width=\"220\"/>,\n",
              " <img alt=\"Foto\" height=\"155\" src=\"https://caelum-online-public.s3.amazonaws.com/1381-scraping/01/img-cars/alfa/alfa-1823056__340.jpg\" width=\"220\"/>,\n",
              " <img alt=\"Foto\" height=\"155\" src=\"https://caelum-online-public.s3.amazonaws.com/1381-scraping/01/img-cars/puech/puech-4055386__340.jpg\" width=\"220\"/>,\n",
              " <img alt=\"Foto\" height=\"155\" src=\"https://caelum-online-public.s3.amazonaws.com/1381-scraping/01/img-cars/lamborghini-murcielago/lamborghini-murcielago-2872974__340.jpg\" width=\"220\"/>,\n",
              " <img alt=\"Foto\" height=\"155\" src=\"https://caelum-online-public.s3.amazonaws.com/1381-scraping/01/img-cars/aston-martin/aston-martin-2977916__340.jpg\" width=\"220\"/>,\n",
              " <img alt=\"Foto\" height=\"155\" src=\"https://caelum-online-public.s3.amazonaws.com/1381-scraping/01/img-cars/tvr/tvr-2943925__340.jpg\" width=\"220\"/>,\n",
              " <img alt=\"Foto\" height=\"155\" src=\"https://caelum-online-public.s3.amazonaws.com/1381-scraping/01/img-cars/excalibur/excalibur-2916730__340.jpg\" width=\"220\"/>,\n",
              " <img alt=\"Foto\" height=\"155\" src=\"https://caelum-online-public.s3.amazonaws.com/1381-scraping/01/img-cars/mclaren/mclaren-2855240__340.jpg\" width=\"220\"/>,\n",
              " <img alt=\"Foto\" height=\"155\" src=\"https://caelum-online-public.s3.amazonaws.com/1381-scraping/01/img-cars/toyota/toyota-3245397__340.jpg\" width=\"220\"/>,\n",
              " <img alt=\"Alura\" class=\"d-inline-block align-top\" src=\"img/alura-logo.svg\"/>]"
            ]
          },
          "metadata": {},
          "execution_count": 32
        }
      ]
    },
    {
      "cell_type": "markdown",
      "source": [
        "**Comando equivalente ao método *find()*** "
      ],
      "metadata": {
        "id": "MytafqOE4IL6"
      }
    },
    {
      "cell_type": "code",
      "source": [
        "soup.findAll('img', limit = 2)[0]"
      ],
      "metadata": {
        "colab": {
          "base_uri": "https://localhost:8080/"
        },
        "id": "oiyT_sDz4IDa",
        "outputId": "a14fd43f-70d3-43e5-fb4a-d6a5ada16074"
      },
      "execution_count": 33,
      "outputs": [
        {
          "output_type": "execute_result",
          "data": {
            "text/plain": [
              "<img alt=\"Alura\" class=\"d-inline-block align-top\" src=\"img/alura-logo.svg\"/>"
            ]
          },
          "metadata": {},
          "execution_count": 33
        }
      ]
    },
    {
      "cell_type": "markdown",
      "source": [
        "**Atalho para o método *findAll()***\n",
        "\n"
      ],
      "metadata": {
        "id": "Z2yXdc825F4J"
      }
    },
    {
      "cell_type": "code",
      "source": [
        "soup('img')"
      ],
      "metadata": {
        "colab": {
          "base_uri": "https://localhost:8080/"
        },
        "id": "hfaDKvE95FsR",
        "outputId": "b99e9071-daa9-4c18-a133-e4fea29870f8"
      },
      "execution_count": 34,
      "outputs": [
        {
          "output_type": "execute_result",
          "data": {
            "text/plain": [
              "[<img alt=\"Alura\" class=\"d-inline-block align-top\" src=\"img/alura-logo.svg\"/>,\n",
              " <img alt=\"Foto\" height=\"155\" src=\"https://caelum-online-public.s3.amazonaws.com/1381-scraping/01/img-cars/lamborghini-aventador/lamborghini-aventador-2932196__340.jpg\" width=\"220\"/>,\n",
              " <img alt=\"Foto\" height=\"155\" src=\"https://caelum-online-public.s3.amazonaws.com/1381-scraping/01/img-cars/bmw-m2/bmw-m2-2970882__340.jpg\" width=\"220\"/>,\n",
              " <img alt=\"Foto\" height=\"155\" src=\"https://caelum-online-public.s3.amazonaws.com/1381-scraping/01/img-cars/alfa/alfa-1823056__340.jpg\" width=\"220\"/>,\n",
              " <img alt=\"Foto\" height=\"155\" src=\"https://caelum-online-public.s3.amazonaws.com/1381-scraping/01/img-cars/puech/puech-4055386__340.jpg\" width=\"220\"/>,\n",
              " <img alt=\"Foto\" height=\"155\" src=\"https://caelum-online-public.s3.amazonaws.com/1381-scraping/01/img-cars/lamborghini-murcielago/lamborghini-murcielago-2872974__340.jpg\" width=\"220\"/>,\n",
              " <img alt=\"Foto\" height=\"155\" src=\"https://caelum-online-public.s3.amazonaws.com/1381-scraping/01/img-cars/aston-martin/aston-martin-2977916__340.jpg\" width=\"220\"/>,\n",
              " <img alt=\"Foto\" height=\"155\" src=\"https://caelum-online-public.s3.amazonaws.com/1381-scraping/01/img-cars/tvr/tvr-2943925__340.jpg\" width=\"220\"/>,\n",
              " <img alt=\"Foto\" height=\"155\" src=\"https://caelum-online-public.s3.amazonaws.com/1381-scraping/01/img-cars/excalibur/excalibur-2916730__340.jpg\" width=\"220\"/>,\n",
              " <img alt=\"Foto\" height=\"155\" src=\"https://caelum-online-public.s3.amazonaws.com/1381-scraping/01/img-cars/mclaren/mclaren-2855240__340.jpg\" width=\"220\"/>,\n",
              " <img alt=\"Foto\" height=\"155\" src=\"https://caelum-online-public.s3.amazonaws.com/1381-scraping/01/img-cars/toyota/toyota-3245397__340.jpg\" width=\"220\"/>,\n",
              " <img alt=\"Alura\" class=\"d-inline-block align-top\" src=\"img/alura-logo.svg\"/>]"
            ]
          },
          "metadata": {},
          "execution_count": 34
        }
      ]
    },
    {
      "cell_type": "markdown",
      "source": [
        "**Passando listas de TAGS**"
      ],
      "metadata": {
        "id": "sRY2as2h5vXY"
      }
    },
    {
      "cell_type": "code",
      "source": [
        "soup.findAll(['h1', 'h2', 'h3', 'h4', 'h5', 'h6'])"
      ],
      "metadata": {
        "colab": {
          "base_uri": "https://localhost:8080/"
        },
        "id": "q2sUpIsf5vQI",
        "outputId": "27506320-0e16-4ce6-cf34-df0f6f42b346"
      },
      "execution_count": 35,
      "outputs": [
        {
          "output_type": "execute_result",
          "data": {
            "text/plain": [
              "[<h5 class=\"modal-title\" id=\"loadingModal_label\"><span class=\"glyphicon glyphicon-refresh\"></span>Aguarde... </h5>,\n",
              " <h4><b id=\"loadingModal_content\"></b></h4>,\n",
              " <h1 class=\"sub-header\">Veículos de Luxo Novos e Usados - Todas as Marcas</h1>]"
            ]
          },
          "metadata": {},
          "execution_count": 35
        }
      ]
    },
    {
      "cell_type": "markdown",
      "source": [
        "**Utilizando o argumento *attributes***"
      ],
      "metadata": {
        "id": "rZR_wFlC52mr"
      }
    },
    {
      "cell_type": "code",
      "source": [
        "soup.findAll('p')"
      ],
      "metadata": {
        "colab": {
          "base_uri": "https://localhost:8080/"
        },
        "id": "Zbx39xtq52f6",
        "outputId": "935707d5-4a46-49d7-debb-d5cec206c287"
      },
      "execution_count": 36,
      "outputs": [
        {
          "output_type": "execute_result",
          "data": {
            "text/plain": [
              "[<p class=\"txt-name inline\">LAMBORGHINI AVENTADOR</p>,\n",
              " <p class=\"txt-category badge badge-secondary inline\">USADO</p>,\n",
              " <p class=\"txt-motor\">Motor 1.8 16v</p>,\n",
              " <p class=\"txt-description\">Ano 1993 - 55.286 km</p>,\n",
              " <p class=\"txt-location\">Belo Horizonte - MG</p>,\n",
              " <p class=\"txt-value\">R$ 338.000</p>,\n",
              " <p class=\"txt-name inline\">BMW M2</p>,\n",
              " <p class=\"txt-category badge badge-secondary inline\">USADO</p>,\n",
              " <p class=\"txt-motor\">Motor 3.0 32v</p>,\n",
              " <p class=\"txt-description\">Ano 2018 - 83.447 km</p>,\n",
              " <p class=\"txt-location\">Belo Horizonte - MG</p>,\n",
              " <p class=\"txt-value\">R$ 346.000</p>,\n",
              " <p class=\"txt-name inline\">ALFA</p>,\n",
              " <p class=\"txt-category badge badge-secondary inline\">USADO</p>,\n",
              " <p class=\"txt-motor\">Motor 1.8 16v</p>,\n",
              " <p class=\"txt-description\">Ano 2004 - 19.722 km</p>,\n",
              " <p class=\"txt-location\">Rio de Janeiro - RJ</p>,\n",
              " <p class=\"txt-value\">R$ 480.000</p>,\n",
              " <p class=\"txt-name inline\">PUECH</p>,\n",
              " <p class=\"txt-category badge badge-secondary inline\">USADO</p>,\n",
              " <p class=\"txt-motor\">Motor Diesel V8</p>,\n",
              " <p class=\"txt-description\">Ano 1992 - 34.335 km</p>,\n",
              " <p class=\"txt-location\">São Paulo - SP</p>,\n",
              " <p class=\"txt-value\">R$ 133.000</p>,\n",
              " <p class=\"txt-name inline\">LAMBORGHINI MURCIELAGO</p>,\n",
              " <p class=\"txt-category badge badge-secondary inline\">USADO</p>,\n",
              " <p class=\"txt-motor\">Motor 1.0 8v</p>,\n",
              " <p class=\"txt-description\">Ano 1991 - 464 km</p>,\n",
              " <p class=\"txt-location\">Belo Horizonte - MG</p>,\n",
              " <p class=\"txt-value\">R$ 175.000</p>,\n",
              " <p class=\"txt-name inline\">ASTON MARTIN</p>,\n",
              " <p class=\"txt-category badge badge-secondary inline\">USADO</p>,\n",
              " <p class=\"txt-opportunity badge badge-danger inline\">OPORTUNIDADE</p>,\n",
              " <p class=\"txt-motor\">Motor Diesel V6</p>,\n",
              " <p class=\"txt-description\">Ano 2004 - 50.189 km</p>,\n",
              " <p class=\"txt-location\">Belo Horizonte - MG</p>,\n",
              " <p class=\"txt-value\">R$ 239.000</p>,\n",
              " <p class=\"txt-name inline\">TVR</p>,\n",
              " <p class=\"txt-category badge badge-secondary inline\">USADO</p>,\n",
              " <p class=\"txt-motor\">Motor 4.0 Turbo</p>,\n",
              " <p class=\"txt-description\">Ano 2014 - 17.778 km</p>,\n",
              " <p class=\"txt-location\">Belo Horizonte - MG</p>,\n",
              " <p class=\"txt-value\">R$ 115.000</p>,\n",
              " <p class=\"txt-name inline\">EXCALIBUR</p>,\n",
              " <p class=\"txt-category badge badge-secondary inline\">USADO</p>,\n",
              " <p class=\"txt-motor\">Motor 3.0 32v</p>,\n",
              " <p class=\"txt-description\">Ano 2009 - 81.251 km</p>,\n",
              " <p class=\"txt-location\">Rio de Janeiro - RJ</p>,\n",
              " <p class=\"txt-value\">R$ 114.000</p>,\n",
              " <p class=\"txt-name inline\">MCLAREN</p>,\n",
              " <p class=\"txt-category badge badge-secondary inline\">NOVO</p>,\n",
              " <p class=\"txt-motor\">Motor Diesel</p>,\n",
              " <p class=\"txt-description\">Ano 2019 - 0 km</p>,\n",
              " <p class=\"txt-location\">São Paulo - SP</p>,\n",
              " <p class=\"txt-value\">R$ 75.000</p>,\n",
              " <p class=\"txt-name inline\">TOYOTA</p>,\n",
              " <p class=\"txt-category badge badge-secondary inline\">USADO</p>,\n",
              " <p class=\"txt-opportunity badge badge-danger inline\">OPORTUNIDADE</p>,\n",
              " <p class=\"txt-motor\">Motor 4.0 Turbo</p>,\n",
              " <p class=\"txt-description\">Ano 1999 - 12.536 km</p>,\n",
              " <p class=\"txt-location\">São Paulo - SP</p>,\n",
              " <p class=\"txt-value\">R$ 117.000</p>,\n",
              " <p style=\"color: #fff; text-align: center; margin-top: 40px;\">Aplicação para treinamento de web scraping</p>]"
            ]
          },
          "metadata": {},
          "execution_count": 36
        }
      ]
    },
    {
      "cell_type": "markdown",
      "source": [
        "**Buscando por conteúdo de uma TAG - Por nome ou por valor** "
      ],
      "metadata": {
        "id": "RB6eXtPg6Gay"
      }
    },
    {
      "cell_type": "code",
      "source": [
        "soup.findAll('p', {'class':'txt-name'})"
      ],
      "metadata": {
        "colab": {
          "base_uri": "https://localhost:8080/"
        },
        "id": "t4O3QdOp6GM4",
        "outputId": "2403fabe-d26d-4a74-d02a-a710bb4990bc"
      },
      "execution_count": 37,
      "outputs": [
        {
          "output_type": "execute_result",
          "data": {
            "text/plain": [
              "[<p class=\"txt-name inline\">LAMBORGHINI AVENTADOR</p>,\n",
              " <p class=\"txt-name inline\">BMW M2</p>,\n",
              " <p class=\"txt-name inline\">ALFA</p>,\n",
              " <p class=\"txt-name inline\">PUECH</p>,\n",
              " <p class=\"txt-name inline\">LAMBORGHINI MURCIELAGO</p>,\n",
              " <p class=\"txt-name inline\">ASTON MARTIN</p>,\n",
              " <p class=\"txt-name inline\">TVR</p>,\n",
              " <p class=\"txt-name inline\">EXCALIBUR</p>,\n",
              " <p class=\"txt-name inline\">MCLAREN</p>,\n",
              " <p class=\"txt-name inline\">TOYOTA</p>]"
            ]
          },
          "metadata": {},
          "execution_count": 37
        }
      ]
    },
    {
      "cell_type": "code",
      "source": [
        "soup.findAll('p', {'class':'txt-value'})"
      ],
      "metadata": {
        "colab": {
          "base_uri": "https://localhost:8080/"
        },
        "id": "Lpfw4hqY7xep",
        "outputId": "e83ba3d3-9062-4c9d-90ef-c79e617dc818"
      },
      "execution_count": 38,
      "outputs": [
        {
          "output_type": "execute_result",
          "data": {
            "text/plain": [
              "[<p class=\"txt-value\">R$ 338.000</p>,\n",
              " <p class=\"txt-value\">R$ 346.000</p>,\n",
              " <p class=\"txt-value\">R$ 480.000</p>,\n",
              " <p class=\"txt-value\">R$ 133.000</p>,\n",
              " <p class=\"txt-value\">R$ 175.000</p>,\n",
              " <p class=\"txt-value\">R$ 239.000</p>,\n",
              " <p class=\"txt-value\">R$ 115.000</p>,\n",
              " <p class=\"txt-value\">R$ 114.000</p>,\n",
              " <p class=\"txt-value\">R$ 75.000</p>,\n",
              " <p class=\"txt-value\">R$ 117.000</p>]"
            ]
          },
          "metadata": {},
          "execution_count": 38
        }
      ]
    },
    {
      "cell_type": "markdown",
      "source": [
        "** texto em itálicoPesquisando o conteúdo de uma TAG - Por nome** \n",
        "\n",
        "---\n",
        "\n"
      ],
      "metadata": {
        "id": "SKxNpiZZ8ih4"
      }
    },
    {
      "cell_type": "code",
      "source": [
        "soup.findAll('p', text = \"São Paulo - SP\")"
      ],
      "metadata": {
        "colab": {
          "base_uri": "https://localhost:8080/"
        },
        "id": "8onrhdzT8iau",
        "outputId": "85ced128-7704-413b-c9b2-382ab057c7e2"
      },
      "execution_count": 39,
      "outputs": [
        {
          "output_type": "execute_result",
          "data": {
            "text/plain": [
              "[<p class=\"txt-location\">São Paulo - SP</p>,\n",
              " <p class=\"txt-location\">São Paulo - SP</p>,\n",
              " <p class=\"txt-location\">São Paulo - SP</p>]"
            ]
          },
          "metadata": {},
          "execution_count": 39
        }
      ]
    },
    {
      "cell_type": "markdown",
      "source": [
        "**Utilizando diretamente os atributos** "
      ],
      "metadata": {
        "id": "pqmHlwAD9uB_"
      }
    },
    {
      "cell_type": "code",
      "source": [
        "soup.findAll('img', alt = \"Foto\")"
      ],
      "metadata": {
        "colab": {
          "base_uri": "https://localhost:8080/"
        },
        "id": "UXSyXiGv9t4W",
        "outputId": "29fbe7ea-ad43-496c-8c95-49cffea2e1ca"
      },
      "execution_count": 40,
      "outputs": [
        {
          "output_type": "execute_result",
          "data": {
            "text/plain": [
              "[<img alt=\"Foto\" height=\"155\" src=\"https://caelum-online-public.s3.amazonaws.com/1381-scraping/01/img-cars/lamborghini-aventador/lamborghini-aventador-2932196__340.jpg\" width=\"220\"/>,\n",
              " <img alt=\"Foto\" height=\"155\" src=\"https://caelum-online-public.s3.amazonaws.com/1381-scraping/01/img-cars/bmw-m2/bmw-m2-2970882__340.jpg\" width=\"220\"/>,\n",
              " <img alt=\"Foto\" height=\"155\" src=\"https://caelum-online-public.s3.amazonaws.com/1381-scraping/01/img-cars/alfa/alfa-1823056__340.jpg\" width=\"220\"/>,\n",
              " <img alt=\"Foto\" height=\"155\" src=\"https://caelum-online-public.s3.amazonaws.com/1381-scraping/01/img-cars/puech/puech-4055386__340.jpg\" width=\"220\"/>,\n",
              " <img alt=\"Foto\" height=\"155\" src=\"https://caelum-online-public.s3.amazonaws.com/1381-scraping/01/img-cars/lamborghini-murcielago/lamborghini-murcielago-2872974__340.jpg\" width=\"220\"/>,\n",
              " <img alt=\"Foto\" height=\"155\" src=\"https://caelum-online-public.s3.amazonaws.com/1381-scraping/01/img-cars/aston-martin/aston-martin-2977916__340.jpg\" width=\"220\"/>,\n",
              " <img alt=\"Foto\" height=\"155\" src=\"https://caelum-online-public.s3.amazonaws.com/1381-scraping/01/img-cars/tvr/tvr-2943925__340.jpg\" width=\"220\"/>,\n",
              " <img alt=\"Foto\" height=\"155\" src=\"https://caelum-online-public.s3.amazonaws.com/1381-scraping/01/img-cars/excalibur/excalibur-2916730__340.jpg\" width=\"220\"/>,\n",
              " <img alt=\"Foto\" height=\"155\" src=\"https://caelum-online-public.s3.amazonaws.com/1381-scraping/01/img-cars/mclaren/mclaren-2855240__340.jpg\" width=\"220\"/>,\n",
              " <img alt=\"Foto\" height=\"155\" src=\"https://caelum-online-public.s3.amazonaws.com/1381-scraping/01/img-cars/toyota/toyota-3245397__340.jpg\" width=\"220\"/>]"
            ]
          },
          "metadata": {},
          "execution_count": 40
        }
      ]
    },
    {
      "cell_type": "code",
      "source": [
        "for item in soup.findAll('img', alt = \"Foto\"):\n",
        "  print(item.get('src'))\n"
      ],
      "metadata": {
        "colab": {
          "base_uri": "https://localhost:8080/"
        },
        "id": "TQr1Vy_L-s2N",
        "outputId": "ae37327d-4424-4852-8450-b30190034e13"
      },
      "execution_count": 41,
      "outputs": [
        {
          "output_type": "stream",
          "name": "stdout",
          "text": [
            "https://caelum-online-public.s3.amazonaws.com/1381-scraping/01/img-cars/lamborghini-aventador/lamborghini-aventador-2932196__340.jpg\n",
            "https://caelum-online-public.s3.amazonaws.com/1381-scraping/01/img-cars/bmw-m2/bmw-m2-2970882__340.jpg\n",
            "https://caelum-online-public.s3.amazonaws.com/1381-scraping/01/img-cars/alfa/alfa-1823056__340.jpg\n",
            "https://caelum-online-public.s3.amazonaws.com/1381-scraping/01/img-cars/puech/puech-4055386__340.jpg\n",
            "https://caelum-online-public.s3.amazonaws.com/1381-scraping/01/img-cars/lamborghini-murcielago/lamborghini-murcielago-2872974__340.jpg\n",
            "https://caelum-online-public.s3.amazonaws.com/1381-scraping/01/img-cars/aston-martin/aston-martin-2977916__340.jpg\n",
            "https://caelum-online-public.s3.amazonaws.com/1381-scraping/01/img-cars/tvr/tvr-2943925__340.jpg\n",
            "https://caelum-online-public.s3.amazonaws.com/1381-scraping/01/img-cars/excalibur/excalibur-2916730__340.jpg\n",
            "https://caelum-online-public.s3.amazonaws.com/1381-scraping/01/img-cars/mclaren/mclaren-2855240__340.jpg\n",
            "https://caelum-online-public.s3.amazonaws.com/1381-scraping/01/img-cars/toyota/toyota-3245397__340.jpg\n"
          ]
        }
      ]
    },
    {
      "cell_type": "markdown",
      "source": [
        "**Cuidado com o atributo \"class\"**"
      ],
      "metadata": {
        "id": "5gC_JXNl_Z2W"
      }
    },
    {
      "cell_type": "code",
      "source": [
        "soup.findAll('p', class_='txt-value')"
      ],
      "metadata": {
        "colab": {
          "base_uri": "https://localhost:8080/"
        },
        "id": "yisyovTW_Zug",
        "outputId": "578d300d-9b4e-47c1-c207-fbff4fc9cac4"
      },
      "execution_count": 42,
      "outputs": [
        {
          "output_type": "execute_result",
          "data": {
            "text/plain": [
              "[<p class=\"txt-value\">R$ 338.000</p>,\n",
              " <p class=\"txt-value\">R$ 346.000</p>,\n",
              " <p class=\"txt-value\">R$ 480.000</p>,\n",
              " <p class=\"txt-value\">R$ 133.000</p>,\n",
              " <p class=\"txt-value\">R$ 175.000</p>,\n",
              " <p class=\"txt-value\">R$ 239.000</p>,\n",
              " <p class=\"txt-value\">R$ 115.000</p>,\n",
              " <p class=\"txt-value\">R$ 114.000</p>,\n",
              " <p class=\"txt-value\">R$ 75.000</p>,\n",
              " <p class=\"txt-value\">R$ 117.000</p>]"
            ]
          },
          "metadata": {},
          "execution_count": 42
        }
      ]
    },
    {
      "cell_type": "markdown",
      "source": [
        "**Obtendo todo o conteúdo de texto de uma página**"
      ],
      "metadata": {
        "id": "ZkVkTWD3_xn3"
      }
    },
    {
      "cell_type": "code",
      "source": [
        "soup.findAll(text = True)"
      ],
      "metadata": {
        "colab": {
          "base_uri": "https://localhost:8080/"
        },
        "id": "oYRBtWR8_xNk",
        "outputId": "f36b48a7-d0e0-467d-b7d9-5b1946302114"
      },
      "execution_count": 43,
      "outputs": [
        {
          "output_type": "execute_result",
          "data": {
            "text/plain": [
              "['html',\n",
              " 'Alura Motors',\n",
              " \" /*Regra para a animacao*/ @keyframes spin { 0% { transform: rotate(0deg); } 100% { transform: rotate(360deg); } } /*Mudando o tamanho do icone de resposta*/ div.glyphicon { color:#6B8E23; font-size: 38px; } /*Classe que mostra a animacao 'spin'*/ .loader { border: 16px solid #f3f3f3; border-radius: 50%; border-top: 16px solid #3498db; width: 80px; height: 80px; -webkit-animation: spin 2s linear infinite; animation: spin 2s linear infinite; } \",\n",
              " ' requisitar(\"https://alura-scraping.herokuapp.com/produtos?_page=\"+1+\"&_limit=10\") ',\n",
              " 'You need to enable JavaScript to run this app.',\n",
              " 'Aguarde... ',\n",
              " 'Motors ',\n",
              " 'Hello World',\n",
              " 'Anúncios',\n",
              " 'Veículos de Luxo Novos e Usados - Todas as Marcas',\n",
              " '246 veículos encontrados',\n",
              " 'Página 1 de 25',\n",
              " 'LAMBORGHINI AVENTADOR',\n",
              " 'USADO',\n",
              " 'Motor 1.8 16v',\n",
              " 'Ano 1993 - 55.286 km',\n",
              " '► 4 X 4',\n",
              " '► Câmera de estacionamento',\n",
              " '► Controle de tração',\n",
              " '► Sensor de estacionamento',\n",
              " '...',\n",
              " 'Belo Horizonte - MG',\n",
              " 'R$ 338.000',\n",
              " 'BMW M2',\n",
              " 'USADO',\n",
              " 'Motor 3.0 32v',\n",
              " 'Ano 2018 - 83.447 km',\n",
              " '► Câmera de estacionamento',\n",
              " '► Controle de estabilidade',\n",
              " '► Travas elétricas',\n",
              " '► Freios ABS',\n",
              " '...',\n",
              " 'Belo Horizonte - MG',\n",
              " 'R$ 346.000',\n",
              " 'ALFA',\n",
              " 'USADO',\n",
              " 'Motor 1.8 16v',\n",
              " 'Ano 2004 - 19.722 km',\n",
              " '► Central multimídia',\n",
              " '► Bancos de couro',\n",
              " '► Rodas de liga',\n",
              " '► Câmera de estacionamento',\n",
              " '...',\n",
              " 'Rio de Janeiro - RJ',\n",
              " 'R$ 480.000',\n",
              " 'PUECH',\n",
              " 'USADO',\n",
              " 'Motor Diesel V8',\n",
              " 'Ano 1992 - 34.335 km',\n",
              " '► Bancos de couro',\n",
              " '► Freios ABS',\n",
              " '► Rodas de liga',\n",
              " '► Câmbio automático',\n",
              " '...',\n",
              " 'São Paulo - SP',\n",
              " 'R$ 133.000',\n",
              " 'LAMBORGHINI MURCIELAGO',\n",
              " 'USADO',\n",
              " 'Motor 1.0 8v',\n",
              " 'Ano 1991 - 464 km',\n",
              " '► Central multimídia',\n",
              " '► Teto panorâmico',\n",
              " '► Sensor crepuscular',\n",
              " '► Piloto automático',\n",
              " '...',\n",
              " 'Belo Horizonte - MG',\n",
              " 'R$ 175.000',\n",
              " 'ASTON MARTIN',\n",
              " 'USADO',\n",
              " 'OPORTUNIDADE',\n",
              " 'Motor Diesel V6',\n",
              " 'Ano 2004 - 50.189 km',\n",
              " '► Painel digital',\n",
              " '► Controle de tração',\n",
              " '► Teto panorâmico',\n",
              " '► Central multimídia',\n",
              " '...',\n",
              " 'Belo Horizonte - MG',\n",
              " 'R$ 239.000',\n",
              " 'TVR',\n",
              " 'USADO',\n",
              " 'Motor 4.0 Turbo',\n",
              " 'Ano 2014 - 17.778 km',\n",
              " '► 4 X 4',\n",
              " '► Teto panorâmico',\n",
              " '► Central multimídia',\n",
              " '► Controle de estabilidade',\n",
              " '...',\n",
              " 'Belo Horizonte - MG',\n",
              " 'R$ 115.000',\n",
              " 'EXCALIBUR',\n",
              " 'USADO',\n",
              " 'Motor 3.0 32v',\n",
              " 'Ano 2009 - 81.251 km',\n",
              " '► Painel digital',\n",
              " '► Câmbio automático',\n",
              " '► Sensor de chuva',\n",
              " '► Travas elétricas',\n",
              " '...',\n",
              " 'Rio de Janeiro - RJ',\n",
              " 'R$ 114.000',\n",
              " 'MCLAREN',\n",
              " 'NOVO',\n",
              " 'Motor Diesel',\n",
              " 'Ano 2019 - 0 km',\n",
              " '► Central multimídia',\n",
              " '► Câmera de estacionamento',\n",
              " '► Câmbio automático',\n",
              " '► Ar condicionado',\n",
              " '...',\n",
              " 'São Paulo - SP',\n",
              " 'R$ 75.000',\n",
              " 'TOYOTA',\n",
              " 'USADO',\n",
              " 'OPORTUNIDADE',\n",
              " 'Motor 4.0 Turbo',\n",
              " 'Ano 1999 - 12.536 km',\n",
              " '► Bancos de couro',\n",
              " '► Freios ABS',\n",
              " '► Piloto automático',\n",
              " '► Controle de estabilidade',\n",
              " '...',\n",
              " 'São Paulo - SP',\n",
              " 'R$ 117.000',\n",
              " '246 veículos encontrados',\n",
              " 'Página 1 de 25',\n",
              " 'Motors ',\n",
              " 'Aplicação para treinamento de web scraping']"
            ]
          },
          "metadata": {},
          "execution_count": 43
        }
      ]
    },
    {
      "cell_type": "markdown",
      "source": [
        "4.2. Outros métodos de pesquisa"
      ],
      "metadata": {
        "id": "7NTwrkBO29uI"
      }
    },
    {
      "cell_type": "code",
      "source": [
        "html_teste = '''\n",
        "    <html>\n",
        "    <body>\n",
        "        <div id=\"container-a\">\n",
        "            <h1>Título A</h1>\n",
        "            <h2 class=\"ref-a\">Sub título A</h2>\n",
        "            <p>Texto de conteúdo A</p>\n",
        "        </div>\n",
        "        <div id=\"container-b\">\n",
        "            <h1>Título B</h1>\n",
        "            <h2 class=\"ref-b\">Sub título B</h2>\n",
        "            <p>Texto de conteúdo B</p>\n",
        "        </div>\n",
        "    </body>\n",
        "</html>\n",
        "'''"
      ],
      "metadata": {
        "id": "pslMdSed3uTv"
      },
      "execution_count": 44,
      "outputs": []
    },
    {
      "cell_type": "markdown",
      "source": [
        "Tratamentos para a string HTML"
      ],
      "metadata": {
        "id": "1P6hDKEH3_QA"
      }
    },
    {
      "cell_type": "code",
      "source": [
        "html_teste\n"
      ],
      "metadata": {
        "colab": {
          "base_uri": "https://localhost:8080/",
          "height": 70
        },
        "id": "h4gxCkUT3_IA",
        "outputId": "e58b3951-cf38-452e-dfa8-e63caa9d39f2"
      },
      "execution_count": 45,
      "outputs": [
        {
          "output_type": "execute_result",
          "data": {
            "application/vnd.google.colaboratory.intrinsic+json": {
              "type": "string"
            },
            "text/plain": [
              "'\\n    <html>\\n    <body>\\n        <div id=\"container-a\">\\n            <h1>Título A</h1>\\n            <h2 class=\"ref-a\">Sub título A</h2>\\n            <p>Texto de conteúdo A</p>\\n        </div>\\n        <div id=\"container-b\">\\n            <h1>Título B</h1>\\n            <h2 class=\"ref-b\">Sub título B</h2>\\n            <p>Texto de conteúdo B</p>\\n        </div>\\n    </body>\\n</html>\\n'"
            ]
          },
          "metadata": {},
          "execution_count": 45
        }
      ]
    },
    {
      "cell_type": "code",
      "source": [
        "html_teste = trata_html(html_teste)\n",
        "html_teste"
      ],
      "metadata": {
        "colab": {
          "base_uri": "https://localhost:8080/",
          "height": 53
        },
        "id": "u6pNdwBf4Qbx",
        "outputId": "822643db-cee2-46a6-f09f-6e57e5fe354d"
      },
      "execution_count": 46,
      "outputs": [
        {
          "output_type": "execute_result",
          "data": {
            "application/vnd.google.colaboratory.intrinsic+json": {
              "type": "string"
            },
            "text/plain": [
              "'<html><body><div id=\"container-a\"><h1>Título A</h1><h2 class=\"ref-a\">Sub título A</h2><p>Texto de conteúdo A</p></div><div id=\"container-b\"><h1>Título B</h1><h2 class=\"ref-b\">Sub título B</h2><p>Texto de conteúdo B</p></div></body></html>'"
            ]
          },
          "metadata": {},
          "execution_count": 46
        }
      ]
    },
    {
      "cell_type": "markdown",
      "source": [
        "Criando o objeto BeautifulSoup\n"
      ],
      "metadata": {
        "id": "BEhcaS9j4gr5"
      }
    },
    {
      "cell_type": "code",
      "source": [
        "soup = BeautifulSoup(html_teste, 'html.parser')\n",
        "soup"
      ],
      "metadata": {
        "colab": {
          "base_uri": "https://localhost:8080/"
        },
        "id": "fW1wFrm-4giX",
        "outputId": "b2e417fa-6cad-4220-fdf2-611aafc33e29"
      },
      "execution_count": 47,
      "outputs": [
        {
          "output_type": "execute_result",
          "data": {
            "text/plain": [
              "<html><body><div id=\"container-a\"><h1>Título A</h1><h2 class=\"ref-a\">Sub título A</h2><p>Texto de conteúdo A</p></div><div id=\"container-b\"><h1>Título B</h1><h2 class=\"ref-b\">Sub título B</h2><p>Texto de conteúdo B</p></div></body></html>"
            ]
          },
          "metadata": {},
          "execution_count": 47
        }
      ]
    },
    {
      "cell_type": "markdown",
      "source": [
        "Parents"
      ],
      "metadata": {
        "id": "SGMch_0B4p-m"
      }
    },
    {
      "cell_type": "code",
      "source": [
        "soup.find('h2')"
      ],
      "metadata": {
        "colab": {
          "base_uri": "https://localhost:8080/"
        },
        "id": "5Ebihk-R4p1n",
        "outputId": "adc08f89-cc37-4a35-da35-a1156be571e1"
      },
      "execution_count": 48,
      "outputs": [
        {
          "output_type": "execute_result",
          "data": {
            "text/plain": [
              "<h2 class=\"ref-a\">Sub título A</h2>"
            ]
          },
          "metadata": {},
          "execution_count": 48
        }
      ]
    },
    {
      "cell_type": "code",
      "source": [
        "soup.find('h2').find_parent('div')"
      ],
      "metadata": {
        "colab": {
          "base_uri": "https://localhost:8080/"
        },
        "id": "_gauN71g4zUu",
        "outputId": "af42a6b9-62b5-4ae6-c8c3-e437e6af0e23"
      },
      "execution_count": 49,
      "outputs": [
        {
          "output_type": "execute_result",
          "data": {
            "text/plain": [
              "<div id=\"container-a\"><h1>Título A</h1><h2 class=\"ref-a\">Sub título A</h2><p>Texto de conteúdo A</p></div>"
            ]
          },
          "metadata": {},
          "execution_count": 49
        }
      ]
    },
    {
      "cell_type": "code",
      "source": [
        "soup.find('h2').find_parents()"
      ],
      "metadata": {
        "colab": {
          "base_uri": "https://localhost:8080/"
        },
        "id": "UcbbL9AH4_c_",
        "outputId": "119dac92-277c-4675-e931-cd83201bcf42"
      },
      "execution_count": 50,
      "outputs": [
        {
          "output_type": "execute_result",
          "data": {
            "text/plain": [
              "[<div id=\"container-a\"><h1>Título A</h1><h2 class=\"ref-a\">Sub título A</h2><p>Texto de conteúdo A</p></div>,\n",
              " <body><div id=\"container-a\"><h1>Título A</h1><h2 class=\"ref-a\">Sub título A</h2><p>Texto de conteúdo A</p></div><div id=\"container-b\"><h1>Título B</h1><h2 class=\"ref-b\">Sub título B</h2><p>Texto de conteúdo B</p></div></body>,\n",
              " <html><body><div id=\"container-a\"><h1>Título A</h1><h2 class=\"ref-a\">Sub título A</h2><p>Texto de conteúdo A</p></div><div id=\"container-b\"><h1>Título B</h1><h2 class=\"ref-b\">Sub título B</h2><p>Texto de conteúdo B</p></div></body></html>,\n",
              " <html><body><div id=\"container-a\"><h1>Título A</h1><h2 class=\"ref-a\">Sub título A</h2><p>Texto de conteúdo A</p></div><div id=\"container-b\"><h1>Título B</h1><h2 class=\"ref-b\">Sub título B</h2><p>Texto de conteúdo B</p></div></body></html>]"
            ]
          },
          "metadata": {},
          "execution_count": 50
        }
      ]
    },
    {
      "cell_type": "code",
      "source": [
        "for item in soup.findAll('h2'):\n",
        "    print(item.find_parent('div'))"
      ],
      "metadata": {
        "colab": {
          "base_uri": "https://localhost:8080/"
        },
        "id": "0i8GXDU75En6",
        "outputId": "2e4fb323-40d8-4532-c459-519cea1f42f4"
      },
      "execution_count": 51,
      "outputs": [
        {
          "output_type": "stream",
          "name": "stdout",
          "text": [
            "<div id=\"container-a\"><h1>Título A</h1><h2 class=\"ref-a\">Sub título A</h2><p>Texto de conteúdo A</p></div>\n",
            "<div id=\"container-b\"><h1>Título B</h1><h2 class=\"ref-b\">Sub título B</h2><p>Texto de conteúdo B</p></div>\n"
          ]
        }
      ]
    },
    {
      "cell_type": "markdown",
      "source": [
        "## **Siblings**"
      ],
      "metadata": {
        "id": "Xal5Dhb35iYX"
      }
    },
    {
      "cell_type": "code",
      "source": [
        "soup.find('h2').findNextSibling()"
      ],
      "metadata": {
        "colab": {
          "base_uri": "https://localhost:8080/"
        },
        "id": "na3teqnn5iM5",
        "outputId": "d4452716-d75d-45ba-f86d-52289f276c9e"
      },
      "execution_count": 52,
      "outputs": [
        {
          "output_type": "execute_result",
          "data": {
            "text/plain": [
              "<p>Texto de conteúdo A</p>"
            ]
          },
          "metadata": {},
          "execution_count": 52
        }
      ]
    },
    {
      "cell_type": "code",
      "source": [
        "soup.find('h2').findPreviousSibling()"
      ],
      "metadata": {
        "colab": {
          "base_uri": "https://localhost:8080/"
        },
        "id": "tC16O_bk52lm",
        "outputId": "2127f78c-6592-4738-c8f4-7c0a37d5c5d5"
      },
      "execution_count": 53,
      "outputs": [
        {
          "output_type": "execute_result",
          "data": {
            "text/plain": [
              "<h1>Título A</h1>"
            ]
          },
          "metadata": {},
          "execution_count": 53
        }
      ]
    },
    {
      "cell_type": "code",
      "source": [
        "soup.find('p').findPreviousSiblings()"
      ],
      "metadata": {
        "colab": {
          "base_uri": "https://localhost:8080/"
        },
        "id": "p6Jk8zu556_X",
        "outputId": "40371934-f96b-46f6-c76b-e381883e3857"
      },
      "execution_count": 54,
      "outputs": [
        {
          "output_type": "execute_result",
          "data": {
            "text/plain": [
              "[<h2 class=\"ref-a\">Sub título A</h2>, <h1>Título A</h1>]"
            ]
          },
          "metadata": {},
          "execution_count": 54
        }
      ]
    },
    {
      "cell_type": "markdown",
      "source": [
        "## **Next e Previous**"
      ],
      "metadata": {
        "id": "bXF3WPMsAlma"
      }
    },
    {
      "cell_type": "code",
      "source": [
        "soup.find('h2').findNext()"
      ],
      "metadata": {
        "colab": {
          "base_uri": "https://localhost:8080/"
        },
        "id": "odl4UmDpAlgh",
        "outputId": "1ca9b1ef-bbf5-4c55-b3a3-d9dca6a650e0"
      },
      "execution_count": 55,
      "outputs": [
        {
          "output_type": "execute_result",
          "data": {
            "text/plain": [
              "<p>Texto de conteúdo A</p>"
            ]
          },
          "metadata": {},
          "execution_count": 55
        }
      ]
    },
    {
      "cell_type": "code",
      "source": [
        "soup.find('h2').findPrevious()"
      ],
      "metadata": {
        "colab": {
          "base_uri": "https://localhost:8080/"
        },
        "id": "KN0DpiF5AsZB",
        "outputId": "b9167ee1-2920-4a71-c96d-24583dcfcc05"
      },
      "execution_count": 56,
      "outputs": [
        {
          "output_type": "execute_result",
          "data": {
            "text/plain": [
              "<h1>Título A</h1>"
            ]
          },
          "metadata": {},
          "execution_count": 56
        }
      ]
    },
    {
      "cell_type": "code",
      "source": [
        "soup.find('h2').findAllNext()"
      ],
      "metadata": {
        "colab": {
          "base_uri": "https://localhost:8080/"
        },
        "id": "H07Nk9RqAwq4",
        "outputId": "406a0aef-8415-4cb6-8549-ed8dc2ddad24"
      },
      "execution_count": 57,
      "outputs": [
        {
          "output_type": "execute_result",
          "data": {
            "text/plain": [
              "[<p>Texto de conteúdo A</p>,\n",
              " <div id=\"container-b\"><h1>Título B</h1><h2 class=\"ref-b\">Sub título B</h2><p>Texto de conteúdo B</p></div>,\n",
              " <h1>Título B</h1>,\n",
              " <h2 class=\"ref-b\">Sub título B</h2>,\n",
              " <p>Texto de conteúdo B</p>]"
            ]
          },
          "metadata": {},
          "execution_count": 57
        }
      ]
    },
    {
      "cell_type": "markdown",
      "source": [
        "## **5. WEB SCRAPING DO SITE ALURA MOTORS - OBTENDO OS DADOS DE UM ANÚNCIO**"
      ],
      "metadata": {
        "id": "msbksgCfA-pP"
      }
    },
    {
      "cell_type": "markdown",
      "source": [
        "### **5.1. Identificando e selecionando os dados no HTML Obtendo o HTML e criando o objeto BeautifulSoup**"
      ],
      "metadata": {
        "id": "CQZmuHbbQOcT"
      }
    },
    {
      "cell_type": "markdown",
      "source": [
        "#### **Obtendo o HTML e criando o objeto BeautifulSoup**"
      ],
      "metadata": {
        "id": "iw_OLpwOQbTa"
      }
    },
    {
      "cell_type": "code",
      "source": [
        "response = urlopen('https://alura-site-scraping.herokuapp.com/index.php')\n",
        "html = response.read().decode('utf-8')\n",
        "soup = BeautifulSoup(html, 'html.parser')\n",
        "soup"
      ],
      "metadata": {
        "colab": {
          "base_uri": "https://localhost:8080/"
        },
        "id": "MMPRJZdSA-hR",
        "outputId": "a8591506-be65-4d3e-ce79-b467ccbe9003"
      },
      "execution_count": 58,
      "outputs": [
        {
          "output_type": "execute_result",
          "data": {
            "text/plain": [
              "<!DOCTYPE html>\n",
              "\n",
              "<html lang=\"pt-br\">\n",
              "<head>\n",
              "<meta charset=\"utf-8\"/>\n",
              "<meta content=\"width=device-width, initial-scale=1, shrink-to-fit=no\" name=\"viewport\"/>\n",
              "<title>Alura Motors</title>\n",
              "<style>\n",
              "\t\t/*Regra para a animacao*/\n",
              "\t\t@keyframes spin {\n",
              "\t\t\t0% { transform: rotate(0deg); }\n",
              "\t\t\t100% { transform: rotate(360deg); }\n",
              "\t\t}\n",
              "\t\t/*Mudando o tamanho do icone de resposta*/\n",
              "\t\tdiv.glyphicon {\n",
              "\t\t\tcolor:#6B8E23;\n",
              "\t\t\tfont-size: 38px;\n",
              "\t\t}\n",
              "\t\t/*Classe que mostra a animacao 'spin'*/\n",
              "\t\t.loader {\n",
              "\t\t\tborder: 16px solid #f3f3f3;\n",
              "\t\t\tborder-radius: 50%;\n",
              "\t\t\tborder-top: 16px solid #3498db;\n",
              "\t\t\twidth: 80px;\n",
              "\t\t\theight: 80px;\n",
              "\t\t\t-webkit-animation: spin 2s linear infinite;\n",
              "\t\t\tanimation: spin 2s linear infinite;\n",
              "\t\t}\n",
              "\t</style>\n",
              "<link crossorigin=\"anonymous\" href=\"https://maxcdn.bootstrapcdn.com/bootstrap/3.3.7/css/bootstrap.min.css\" integrity=\"sha384-BVYiiSIFeK1dGmJRAkycuHAHRg32OmUcww7on3RYdg4Va+PmSTsz/K68vbdEjh4u\" rel=\"stylesheet\"/>\n",
              "<link href=\"css/styles.css\" media=\"all\" rel=\"stylesheet\"/>\n",
              "<script src=\"https://code.jquery.com/jquery-1.12.4.js\"></script>\n",
              "<script crossorigin=\"anonymous\" integrity=\"sha384-Tc5IQib027qvyjSMfHjOMaLkfuWVxZxUPnCJA7l2mCWNIpG9mGCD8wGNIcPD7Txa\" src=\"https://maxcdn.bootstrapcdn.com/bootstrap/3.3.7/js/bootstrap.min.js\"></script>\n",
              "<script src=\"js/index.js\" type=\"text/javascript\"></script>\n",
              "<script>\n",
              "\t\trequisitar(\"https://alura-scraping.herokuapp.com/produtos?_page=\"+1+\"&_limit=10\")\n",
              "\t</script>\n",
              "</head>\n",
              "<body cz-shortcut-listen=\"true\">\n",
              "<noscript>You need to enable JavaScript to run this app.</noscript>\n",
              "<div aria-labelledby=\"loadingModal_label\" class=\"modal fade\" data-backdrop=\"static\" id=\"loadingModal\" role=\"dialog\" tabindex=\"-1\">\n",
              "<div class=\"modal-dialog\" role=\"document\">\n",
              "<div class=\"modal-content\">\n",
              "<div class=\"modal-header\">\n",
              "<h5 class=\"modal-title\" id=\"loadingModal_label\">\n",
              "<span class=\"glyphicon glyphicon-refresh\"></span>Aguarde...\n",
              "\t\t\t\t\t</h5>\n",
              "</div>\n",
              "<div class=\"modal-body\">\n",
              "<div class=\"alert\" role=\"alert\">\n",
              "<center>\n",
              "<div class=\"loader\" id=\"loader\"></div><br/>\n",
              "<h4><b id=\"loadingModal_content\"></b></h4>\n",
              "</center>\n",
              "</div>\n",
              "</div>\n",
              "</div>\n",
              "</div>\n",
              "</div>\n",
              "<div id=\"root\">\n",
              "<header>\n",
              "<nav class=\"navbar navbar-inverse\" style=\"margin-bottom: 0;\">\n",
              "<div class=\"container\" style=\"margin-bottom: -20px;\">\n",
              "<div class=\"navbar\">\n",
              "<a class=\"navbar-brand\" href=\"./index.php\" title=\"Alura Motors\">\n",
              "<img alt=\"Alura\" class=\"d-inline-block align-top\" src=\"img/alura-logo.svg\"/>Motors\n",
              "\t\t\t\t\t\t</a>\n",
              "<ul class=\"nav navbar-nav\" style=\"margin-top: 35px;\">\n",
              "<li><a href=\"./hello-world.php\">Hello World</a></li>\n",
              "<li><a href=\"./index.php\">Anúncios</a></li>\n",
              "</ul>\n",
              "</div>\n",
              "</div>\n",
              "</nav>\n",
              "</header>\n",
              "<div class=\"container\">\n",
              "<h1 class=\"sub-header\">Veículos de Luxo Novos e Usados - Todas as Marcas</h1>\n",
              "<div class=\"row\">\n",
              "<div class=\"col-md-12\">\n",
              "<div class=\"container\" style=\"width: 100%\">\n",
              "<div class=\"type-select\">246 veículos encontrados</div>\n",
              "<div class=\"container-pagination\" style=\"float: right\">\n",
              "<span class=\"info-pages\">Página 1 de 25</span>\n",
              "</div>\n",
              "</div>\n",
              "<div id=\"container-cards\" style=\"height: 100%\">\n",
              "<div class=\"well card\">\n",
              "<div class=\"col-md-3 image-card\">\n",
              "<img alt=\"Foto\" height=\"155\" src=\"https://caelum-online-public.s3.amazonaws.com/1381-scraping/01/img-cars/lamborghini-aventador/lamborghini-aventador-2932196__340.jpg\" width=\"220\"/>\n",
              "</div>\n",
              "<div class=\"col-md-6 body-card\">\n",
              "<p class=\"txt-name inline\">LAMBORGHINI AVENTADOR</p>\n",
              "<p class=\"txt-category badge badge-secondary inline\">USADO</p>\n",
              "<p class=\"txt-motor\">Motor 1.8 16v</p>\n",
              "<p class=\"txt-description\">Ano 1993 - 55.286 km</p>\n",
              "<ul class=\"lst-items\">\n",
              "<li class=\"txt-items\">► 4 X 4</li>\n",
              "<li class=\"txt-items\">► Câmera de estacionamento</li>\n",
              "<li class=\"txt-items\">► Controle de tração</li>\n",
              "<li class=\"txt-items\">► Sensor de estacionamento</li>\n",
              "<li class=\"txt-items\">...</li>\n",
              "</ul>\n",
              "<p class=\"txt-location\">Belo Horizonte - MG</p>\n",
              "</div>\n",
              "<div class=\"col-md-3 value-card\">\n",
              "<div class=\"value\">\n",
              "<p class=\"txt-value\">R$ 338.000</p>\n",
              "</div>\n",
              "</div>\n",
              "</div>\n",
              "<div class=\"well card\">\n",
              "<div class=\"col-md-3 image-card\">\n",
              "<img alt=\"Foto\" height=\"155\" src=\"https://caelum-online-public.s3.amazonaws.com/1381-scraping/01/img-cars/bmw-m2/bmw-m2-2970882__340.jpg\" width=\"220\"/>\n",
              "</div>\n",
              "<div class=\"col-md-6 body-card\">\n",
              "<p class=\"txt-name inline\">BMW M2</p>\n",
              "<p class=\"txt-category badge badge-secondary inline\">USADO</p>\n",
              "<p class=\"txt-motor\">Motor 3.0 32v</p>\n",
              "<p class=\"txt-description\">Ano 2018 - 83.447 km</p>\n",
              "<ul class=\"lst-items\">\n",
              "<li class=\"txt-items\">► Câmera de estacionamento</li>\n",
              "<li class=\"txt-items\">► Controle de estabilidade</li>\n",
              "<li class=\"txt-items\">► Travas elétricas</li>\n",
              "<li class=\"txt-items\">► Freios ABS</li>\n",
              "<li class=\"txt-items\">...</li>\n",
              "</ul>\n",
              "<p class=\"txt-location\">Belo Horizonte - MG</p>\n",
              "</div>\n",
              "<div class=\"col-md-3 value-card\">\n",
              "<div class=\"value\">\n",
              "<p class=\"txt-value\">R$ 346.000</p>\n",
              "</div>\n",
              "</div>\n",
              "</div>\n",
              "<div class=\"well card\">\n",
              "<div class=\"col-md-3 image-card\">\n",
              "<img alt=\"Foto\" height=\"155\" src=\"https://caelum-online-public.s3.amazonaws.com/1381-scraping/01/img-cars/alfa/alfa-1823056__340.jpg\" width=\"220\"/>\n",
              "</div>\n",
              "<div class=\"col-md-6 body-card\">\n",
              "<p class=\"txt-name inline\">ALFA</p>\n",
              "<p class=\"txt-category badge badge-secondary inline\">USADO</p>\n",
              "<p class=\"txt-motor\">Motor 1.8 16v</p>\n",
              "<p class=\"txt-description\">Ano 2004 - 19.722 km</p>\n",
              "<ul class=\"lst-items\">\n",
              "<li class=\"txt-items\">► Central multimídia</li>\n",
              "<li class=\"txt-items\">► Bancos de couro</li>\n",
              "<li class=\"txt-items\">► Rodas de liga</li>\n",
              "<li class=\"txt-items\">► Câmera de estacionamento</li>\n",
              "<li class=\"txt-items\">...</li>\n",
              "</ul>\n",
              "<p class=\"txt-location\">Rio de Janeiro - RJ</p>\n",
              "</div>\n",
              "<div class=\"col-md-3 value-card\">\n",
              "<div class=\"value\">\n",
              "<p class=\"txt-value\">R$ 480.000</p>\n",
              "</div>\n",
              "</div>\n",
              "</div>\n",
              "<div class=\"well card\">\n",
              "<div class=\"col-md-3 image-card\">\n",
              "<img alt=\"Foto\" height=\"155\" src=\"https://caelum-online-public.s3.amazonaws.com/1381-scraping/01/img-cars/puech/puech-4055386__340.jpg\" width=\"220\"/>\n",
              "</div>\n",
              "<div class=\"col-md-6 body-card\">\n",
              "<p class=\"txt-name inline\">PUECH</p>\n",
              "<p class=\"txt-category badge badge-secondary inline\">USADO</p>\n",
              "<p class=\"txt-motor\">Motor Diesel V8</p>\n",
              "<p class=\"txt-description\">Ano 1992 - 34.335 km</p>\n",
              "<ul class=\"lst-items\">\n",
              "<li class=\"txt-items\">► Bancos de couro</li>\n",
              "<li class=\"txt-items\">► Freios ABS</li>\n",
              "<li class=\"txt-items\">► Rodas de liga</li>\n",
              "<li class=\"txt-items\">► Câmbio automático</li>\n",
              "<li class=\"txt-items\">...</li>\n",
              "</ul>\n",
              "<p class=\"txt-location\">São Paulo - SP</p>\n",
              "</div>\n",
              "<div class=\"col-md-3 value-card\">\n",
              "<div class=\"value\">\n",
              "<p class=\"txt-value\">R$ 133.000</p>\n",
              "</div>\n",
              "</div>\n",
              "</div>\n",
              "<div class=\"well card\">\n",
              "<div class=\"col-md-3 image-card\">\n",
              "<img alt=\"Foto\" height=\"155\" src=\"https://caelum-online-public.s3.amazonaws.com/1381-scraping/01/img-cars/lamborghini-murcielago/lamborghini-murcielago-2872974__340.jpg\" width=\"220\"/>\n",
              "</div>\n",
              "<div class=\"col-md-6 body-card\">\n",
              "<p class=\"txt-name inline\">LAMBORGHINI MURCIELAGO</p>\n",
              "<p class=\"txt-category badge badge-secondary inline\">USADO</p>\n",
              "<p class=\"txt-motor\">Motor 1.0 8v</p>\n",
              "<p class=\"txt-description\">Ano 1991 - 464 km</p>\n",
              "<ul class=\"lst-items\">\n",
              "<li class=\"txt-items\">► Central multimídia</li>\n",
              "<li class=\"txt-items\">► Teto panorâmico</li>\n",
              "<li class=\"txt-items\">► Sensor crepuscular</li>\n",
              "<li class=\"txt-items\">► Piloto automático</li>\n",
              "<li class=\"txt-items\">...</li>\n",
              "</ul>\n",
              "<p class=\"txt-location\">Belo Horizonte - MG</p>\n",
              "</div>\n",
              "<div class=\"col-md-3 value-card\">\n",
              "<div class=\"value\">\n",
              "<p class=\"txt-value\">R$ 175.000</p>\n",
              "</div>\n",
              "</div>\n",
              "</div>\n",
              "<div class=\"well card\">\n",
              "<div class=\"col-md-3 image-card\">\n",
              "<img alt=\"Foto\" height=\"155\" src=\"https://caelum-online-public.s3.amazonaws.com/1381-scraping/01/img-cars/aston-martin/aston-martin-2977916__340.jpg\" width=\"220\"/>\n",
              "</div>\n",
              "<div class=\"col-md-6 body-card\">\n",
              "<p class=\"txt-name inline\">ASTON MARTIN</p>\n",
              "<p class=\"txt-category badge badge-secondary inline\">USADO</p>\n",
              "<p class=\"txt-opportunity badge badge-danger inline\">OPORTUNIDADE</p>\n",
              "<p class=\"txt-motor\">Motor Diesel V6</p>\n",
              "<p class=\"txt-description\">Ano 2004 - 50.189 km</p>\n",
              "<ul class=\"lst-items\">\n",
              "<li class=\"txt-items\">► Painel digital</li>\n",
              "<li class=\"txt-items\">► Controle de tração</li>\n",
              "<li class=\"txt-items\">► Teto panorâmico</li>\n",
              "<li class=\"txt-items\">► Central multimídia</li>\n",
              "<li class=\"txt-items\">...</li>\n",
              "</ul>\n",
              "<p class=\"txt-location\">Belo Horizonte - MG</p>\n",
              "</div>\n",
              "<div class=\"col-md-3 value-card\">\n",
              "<div class=\"value\">\n",
              "<p class=\"txt-value\">R$ 239.000</p>\n",
              "</div>\n",
              "</div>\n",
              "</div>\n",
              "<div class=\"well card\">\n",
              "<div class=\"col-md-3 image-card\">\n",
              "<img alt=\"Foto\" height=\"155\" src=\"https://caelum-online-public.s3.amazonaws.com/1381-scraping/01/img-cars/tvr/tvr-2943925__340.jpg\" width=\"220\"/>\n",
              "</div>\n",
              "<div class=\"col-md-6 body-card\">\n",
              "<p class=\"txt-name inline\">TVR</p>\n",
              "<p class=\"txt-category badge badge-secondary inline\">USADO</p>\n",
              "<p class=\"txt-motor\">Motor 4.0 Turbo</p>\n",
              "<p class=\"txt-description\">Ano 2014 - 17.778 km</p>\n",
              "<ul class=\"lst-items\">\n",
              "<li class=\"txt-items\">► 4 X 4</li>\n",
              "<li class=\"txt-items\">► Teto panorâmico</li>\n",
              "<li class=\"txt-items\">► Central multimídia</li>\n",
              "<li class=\"txt-items\">► Controle de estabilidade</li>\n",
              "<li class=\"txt-items\">...</li>\n",
              "</ul>\n",
              "<p class=\"txt-location\">Belo Horizonte - MG</p>\n",
              "</div>\n",
              "<div class=\"col-md-3 value-card\">\n",
              "<div class=\"value\">\n",
              "<p class=\"txt-value\">R$ 115.000</p>\n",
              "</div>\n",
              "</div>\n",
              "</div>\n",
              "<div class=\"well card\">\n",
              "<div class=\"col-md-3 image-card\">\n",
              "<img alt=\"Foto\" height=\"155\" src=\"https://caelum-online-public.s3.amazonaws.com/1381-scraping/01/img-cars/excalibur/excalibur-2916730__340.jpg\" width=\"220\"/>\n",
              "</div>\n",
              "<div class=\"col-md-6 body-card\">\n",
              "<p class=\"txt-name inline\">EXCALIBUR</p>\n",
              "<p class=\"txt-category badge badge-secondary inline\">USADO</p>\n",
              "<p class=\"txt-motor\">Motor 3.0 32v</p>\n",
              "<p class=\"txt-description\">Ano 2009 - 81.251 km</p>\n",
              "<ul class=\"lst-items\">\n",
              "<li class=\"txt-items\">► Painel digital</li>\n",
              "<li class=\"txt-items\">► Câmbio automático</li>\n",
              "<li class=\"txt-items\">► Sensor de chuva</li>\n",
              "<li class=\"txt-items\">► Travas elétricas</li>\n",
              "<li class=\"txt-items\">...</li>\n",
              "</ul>\n",
              "<p class=\"txt-location\">Rio de Janeiro - RJ</p>\n",
              "</div>\n",
              "<div class=\"col-md-3 value-card\">\n",
              "<div class=\"value\">\n",
              "<p class=\"txt-value\">R$ 114.000</p>\n",
              "</div>\n",
              "</div>\n",
              "</div>\n",
              "<div class=\"well card\">\n",
              "<div class=\"col-md-3 image-card\">\n",
              "<img alt=\"Foto\" height=\"155\" src=\"https://caelum-online-public.s3.amazonaws.com/1381-scraping/01/img-cars/mclaren/mclaren-2855240__340.jpg\" width=\"220\"/>\n",
              "</div>\n",
              "<div class=\"col-md-6 body-card\">\n",
              "<p class=\"txt-name inline\">MCLAREN</p>\n",
              "<p class=\"txt-category badge badge-secondary inline\">NOVO</p>\n",
              "<p class=\"txt-motor\">Motor Diesel</p>\n",
              "<p class=\"txt-description\">Ano 2019 - 0 km</p>\n",
              "<ul class=\"lst-items\">\n",
              "<li class=\"txt-items\">► Central multimídia</li>\n",
              "<li class=\"txt-items\">► Câmera de estacionamento</li>\n",
              "<li class=\"txt-items\">► Câmbio automático</li>\n",
              "<li class=\"txt-items\">► Ar condicionado</li>\n",
              "<li class=\"txt-items\">...</li>\n",
              "</ul>\n",
              "<p class=\"txt-location\">São Paulo - SP</p>\n",
              "</div>\n",
              "<div class=\"col-md-3 value-card\">\n",
              "<div class=\"value\">\n",
              "<p class=\"txt-value\">R$ 75.000</p>\n",
              "</div>\n",
              "</div>\n",
              "</div>\n",
              "<div class=\"well card\">\n",
              "<div class=\"col-md-3 image-card\">\n",
              "<img alt=\"Foto\" height=\"155\" src=\"https://caelum-online-public.s3.amazonaws.com/1381-scraping/01/img-cars/toyota/toyota-3245397__340.jpg\" width=\"220\"/>\n",
              "</div>\n",
              "<div class=\"col-md-6 body-card\">\n",
              "<p class=\"txt-name inline\">TOYOTA</p>\n",
              "<p class=\"txt-category badge badge-secondary inline\">USADO</p>\n",
              "<p class=\"txt-opportunity badge badge-danger inline\">OPORTUNIDADE</p>\n",
              "<p class=\"txt-motor\">Motor 4.0 Turbo</p>\n",
              "<p class=\"txt-description\">Ano 1999 - 12.536 km</p>\n",
              "<ul class=\"lst-items\">\n",
              "<li class=\"txt-items\">► Bancos de couro</li>\n",
              "<li class=\"txt-items\">► Freios ABS</li>\n",
              "<li class=\"txt-items\">► Piloto automático</li>\n",
              "<li class=\"txt-items\">► Controle de estabilidade</li>\n",
              "<li class=\"txt-items\">...</li>\n",
              "</ul>\n",
              "<p class=\"txt-location\">São Paulo - SP</p>\n",
              "</div>\n",
              "<div class=\"col-md-3 value-card\">\n",
              "<div class=\"value\">\n",
              "<p class=\"txt-value\">R$ 117.000</p>\n",
              "</div>\n",
              "</div>\n",
              "</div> </div>\n",
              "<div class=\"type-select\">246 veículos encontrados</div>\n",
              "<div class=\"container-pagination\" style=\"float: right\">\n",
              "<span class=\"info-pages\">Página 1 de 25</span>\n",
              "</div>\n",
              "</div>\n",
              "</div>\n",
              "</div>\n",
              "</div>\n",
              "</body></html>\n",
              "<footer>\n",
              "<nav class=\"navbar navbar-inverse\">\n",
              "<div class=\"container\" style=\"margin-bottom: 10px;\">\n",
              "<div class=\"navbar\">\n",
              "<a class=\"navbar-brand\" href=\"./index.php\" title=\"Alura Motors\">\n",
              "<img alt=\"Alura\" class=\"d-inline-block align-top\" src=\"img/alura-logo.svg\"/>Motors\n",
              "\t\t\t\t\t\t</a>\n",
              "<p style=\"color: #fff; text-align: center; margin-top: 40px;\">Aplicação para treinamento de web scraping</p>\n",
              "</div>\n",
              "</div>\n",
              "</nav>\n",
              "</footer>\n",
              "\n",
              "\n"
            ]
          },
          "metadata": {},
          "execution_count": 58
        }
      ]
    },
    {
      "cell_type": "markdown",
      "source": [
        "### **Criando variávels para armazenar informações**"
      ],
      "metadata": {
        "id": "wTPWCeQvQtmK"
      }
    },
    {
      "cell_type": "code",
      "source": [
        "cards = []\n",
        "card = {}"
      ],
      "metadata": {
        "id": "kv6JslpbQz-L"
      },
      "execution_count": 59,
      "outputs": []
    },
    {
      "cell_type": "markdown",
      "source": [
        "### **Obtendo os dados do primeiro CARD**"
      ],
      "metadata": {
        "id": "M60uQAENRBOi"
      }
    },
    {
      "cell_type": "code",
      "source": [
        "anuncio = soup.find('div', {'class':'well card'})\n",
        "anuncio"
      ],
      "metadata": {
        "colab": {
          "base_uri": "https://localhost:8080/"
        },
        "id": "j-bAzXeURBHK",
        "outputId": "80d59502-e72a-4988-e2f0-e5f218bca122"
      },
      "execution_count": 60,
      "outputs": [
        {
          "output_type": "execute_result",
          "data": {
            "text/plain": [
              "<div class=\"well card\">\n",
              "<div class=\"col-md-3 image-card\">\n",
              "<img alt=\"Foto\" height=\"155\" src=\"https://caelum-online-public.s3.amazonaws.com/1381-scraping/01/img-cars/lamborghini-aventador/lamborghini-aventador-2932196__340.jpg\" width=\"220\"/>\n",
              "</div>\n",
              "<div class=\"col-md-6 body-card\">\n",
              "<p class=\"txt-name inline\">LAMBORGHINI AVENTADOR</p>\n",
              "<p class=\"txt-category badge badge-secondary inline\">USADO</p>\n",
              "<p class=\"txt-motor\">Motor 1.8 16v</p>\n",
              "<p class=\"txt-description\">Ano 1993 - 55.286 km</p>\n",
              "<ul class=\"lst-items\">\n",
              "<li class=\"txt-items\">► 4 X 4</li>\n",
              "<li class=\"txt-items\">► Câmera de estacionamento</li>\n",
              "<li class=\"txt-items\">► Controle de tração</li>\n",
              "<li class=\"txt-items\">► Sensor de estacionamento</li>\n",
              "<li class=\"txt-items\">...</li>\n",
              "</ul>\n",
              "<p class=\"txt-location\">Belo Horizonte - MG</p>\n",
              "</div>\n",
              "<div class=\"col-md-3 value-card\">\n",
              "<div class=\"value\">\n",
              "<p class=\"txt-value\">R$ 338.000</p>\n",
              "</div>\n",
              "</div>\n",
              "</div>"
            ]
          },
          "metadata": {},
          "execution_count": 60
        }
      ]
    },
    {
      "cell_type": "markdown",
      "source": [
        "## **5.2. Obtendo o VALOR do veículo anunciado**"
      ],
      "metadata": {
        "id": "ZEOBsJp3S73J"
      }
    },
    {
      "cell_type": "code",
      "source": [
        "anuncio.find('div', {'class':'col-md-3 value-card'})"
      ],
      "metadata": {
        "colab": {
          "base_uri": "https://localhost:8080/"
        },
        "id": "BLwPRGguS7m5",
        "outputId": "182dddd2-91ee-42d9-9aa6-5274b1a9545b"
      },
      "execution_count": 91,
      "outputs": [
        {
          "output_type": "execute_result",
          "data": {
            "text/plain": [
              "<div class=\"col-md-3 value-card\">\n",
              "<div class=\"value\">\n",
              "<p class=\"txt-value\">R$ 338.000</p>\n",
              "</div>\n",
              "</div>"
            ]
          },
          "metadata": {},
          "execution_count": 91
        }
      ]
    },
    {
      "cell_type": "code",
      "source": [
        "anuncio.find('div', {'class': 'value-card'})"
      ],
      "metadata": {
        "colab": {
          "base_uri": "https://localhost:8080/"
        },
        "id": "WjJfGYXdTcVQ",
        "outputId": "d75ba460-5b57-47b3-e35d-f64acbb336b7"
      },
      "execution_count": 62,
      "outputs": [
        {
          "output_type": "execute_result",
          "data": {
            "text/plain": [
              "<div class=\"col-md-3 value-card\">\n",
              "<div class=\"value\">\n",
              "<p class=\"txt-value\">R$ 338.000</p>\n",
              "</div>\n",
              "</div>"
            ]
          },
          "metadata": {},
          "execution_count": 62
        }
      ]
    },
    {
      "cell_type": "code",
      "source": [
        "anuncio.find('p', {'class':'txt-value'})"
      ],
      "metadata": {
        "colab": {
          "base_uri": "https://localhost:8080/"
        },
        "id": "bgSoGW_PU03W",
        "outputId": "aed5d042-a74d-4fc1-d492-161682d6a42c"
      },
      "execution_count": 63,
      "outputs": [
        {
          "output_type": "execute_result",
          "data": {
            "text/plain": [
              "<p class=\"txt-value\">R$ 338.000</p>"
            ]
          },
          "metadata": {},
          "execution_count": 63
        }
      ]
    },
    {
      "cell_type": "code",
      "source": [
        "anuncio.find('p', {'class':'txt-value'}).get_text()"
      ],
      "metadata": {
        "colab": {
          "base_uri": "https://localhost:8080/",
          "height": 35
        },
        "id": "_jU7OozQU4-3",
        "outputId": "2c4d72e9-6d3b-473c-91a2-eb5681b0de25"
      },
      "execution_count": 64,
      "outputs": [
        {
          "output_type": "execute_result",
          "data": {
            "application/vnd.google.colaboratory.intrinsic+json": {
              "type": "string"
            },
            "text/plain": [
              "'R$ 338.000'"
            ]
          },
          "metadata": {},
          "execution_count": 64
        }
      ]
    },
    {
      "cell_type": "code",
      "source": [
        "#Jogando a informação pra dentro do card\n",
        "card['value'] = anuncio.find('p', {'class':'txt-value'}).get_text()"
      ],
      "metadata": {
        "id": "gqWdIm2kU9Qr"
      },
      "execution_count": 65,
      "outputs": []
    },
    {
      "cell_type": "code",
      "source": [
        "card"
      ],
      "metadata": {
        "colab": {
          "base_uri": "https://localhost:8080/"
        },
        "id": "Bsf0lXhiVVag",
        "outputId": "6308d2a5-0d91-4626-c590-2ef5790d034b"
      },
      "execution_count": 66,
      "outputs": [
        {
          "output_type": "execute_result",
          "data": {
            "text/plain": [
              "{'value': 'R$ 338.000'}"
            ]
          },
          "metadata": {},
          "execution_count": 66
        }
      ]
    },
    {
      "cell_type": "markdown",
      "source": [
        "### **Resumo**"
      ],
      "metadata": {
        "id": "V9pcXIN0Wim_"
      }
    },
    {
      "cell_type": "code",
      "source": [
        "# Valor\n",
        "card['value'] = anuncio.find('p', {'class':'txt-value'}).get_text()\n",
        "card"
      ],
      "metadata": {
        "colab": {
          "base_uri": "https://localhost:8080/"
        },
        "id": "WYdKMAXEWibl",
        "outputId": "e9603e9c-2cc5-4c6d-9726-f187d41efd8b"
      },
      "execution_count": 67,
      "outputs": [
        {
          "output_type": "execute_result",
          "data": {
            "text/plain": [
              "{'value': 'R$ 338.000'}"
            ]
          },
          "metadata": {},
          "execution_count": 67
        }
      ]
    },
    {
      "cell_type": "markdown",
      "source": [
        "## **5.3. Obtendo as INFORMAÇÕES sobre o veículo anunciado**"
      ],
      "metadata": {
        "id": "4dA93jCKYHN7"
      }
    },
    {
      "cell_type": "code",
      "source": [
        "info = anuncio.find('div', {'class':'body-card'}).findAll('p')\n",
        "info"
      ],
      "metadata": {
        "colab": {
          "base_uri": "https://localhost:8080/"
        },
        "id": "Zc5YagYJYHD1",
        "outputId": "caba6800-bae5-4ac8-a12f-d63c8e47d302"
      },
      "execution_count": 68,
      "outputs": [
        {
          "output_type": "execute_result",
          "data": {
            "text/plain": [
              "[<p class=\"txt-name inline\">LAMBORGHINI AVENTADOR</p>,\n",
              " <p class=\"txt-category badge badge-secondary inline\">USADO</p>,\n",
              " <p class=\"txt-motor\">Motor 1.8 16v</p>,\n",
              " <p class=\"txt-description\">Ano 1993 - 55.286 km</p>,\n",
              " <p class=\"txt-location\">Belo Horizonte - MG</p>]"
            ]
          },
          "metadata": {},
          "execution_count": 68
        }
      ]
    },
    {
      "cell_type": "code",
      "source": [
        "infos = anuncio.find('div', {'class':'body-card'}).findAll('p')"
      ],
      "metadata": {
        "id": "oVAXNPokZ_6y"
      },
      "execution_count": 92,
      "outputs": []
    },
    {
      "cell_type": "code",
      "source": [
        "for info in infos:\n",
        "  print(info.get('class'), ' - ', info.get_text())"
      ],
      "metadata": {
        "colab": {
          "base_uri": "https://localhost:8080/"
        },
        "id": "G2DHv7I_aGaP",
        "outputId": "99ed402b-fdc1-42bd-b7e2-a649f4011ba9"
      },
      "execution_count": 93,
      "outputs": [
        {
          "output_type": "stream",
          "name": "stdout",
          "text": [
            "['txt-name', 'inline']  -  LAMBORGHINI AVENTADOR\n",
            "['txt-category', 'badge', 'badge-secondary', 'inline']  -  USADO\n",
            "['txt-motor']  -  Motor 1.8 16v\n",
            "['txt-description']  -  Ano 1993 - 55.286 km\n",
            "['txt-location']  -  Belo Horizonte - MG\n"
          ]
        }
      ]
    },
    {
      "cell_type": "markdown",
      "source": [
        "### **Resumo**"
      ],
      "metadata": {
        "id": "FJ0h9lfRdYHm"
      }
    },
    {
      "cell_type": "code",
      "source": [
        "for info in infos:\n",
        "  print(info.get('class')[0], ' - ', info.get_text())"
      ],
      "metadata": {
        "colab": {
          "base_uri": "https://localhost:8080/"
        },
        "id": "IcPUByiZaZo6",
        "outputId": "98224f0e-4976-4615-f7de-23b5c8a7e032"
      },
      "execution_count": 71,
      "outputs": [
        {
          "output_type": "stream",
          "name": "stdout",
          "text": [
            "txt-name  -  LAMBORGHINI AVENTADOR\n",
            "txt-category  -  USADO\n",
            "txt-motor  -  Motor 1.8 16v\n",
            "txt-description  -  Ano 1993 - 55.286 km\n",
            "txt-location  -  Belo Horizonte - MG\n"
          ]
        }
      ]
    },
    {
      "cell_type": "code",
      "source": [
        "for info in infos:\n",
        "  print(info.get('class')[0].split('-'), ' - ', info.get_text())"
      ],
      "metadata": {
        "colab": {
          "base_uri": "https://localhost:8080/"
        },
        "id": "pKBAJDmNaZgy",
        "outputId": "fd973722-7159-4167-ac74-91dac69fbf0d"
      },
      "execution_count": 72,
      "outputs": [
        {
          "output_type": "stream",
          "name": "stdout",
          "text": [
            "['txt', 'name']  -  LAMBORGHINI AVENTADOR\n",
            "['txt', 'category']  -  USADO\n",
            "['txt', 'motor']  -  Motor 1.8 16v\n",
            "['txt', 'description']  -  Ano 1993 - 55.286 km\n",
            "['txt', 'location']  -  Belo Horizonte - MG\n"
          ]
        }
      ]
    },
    {
      "cell_type": "code",
      "source": [
        "for info in infos:\n",
        "  print(info.get('class')[0].split('-')[-1], ' - ', info.get_text())"
      ],
      "metadata": {
        "colab": {
          "base_uri": "https://localhost:8080/"
        },
        "id": "xggDcDQKaZWj",
        "outputId": "aa920838-a877-4b1d-b34e-a88ca131d771"
      },
      "execution_count": 73,
      "outputs": [
        {
          "output_type": "stream",
          "name": "stdout",
          "text": [
            "name  -  LAMBORGHINI AVENTADOR\n",
            "category  -  USADO\n",
            "motor  -  Motor 1.8 16v\n",
            "description  -  Ano 1993 - 55.286 km\n",
            "location  -  Belo Horizonte - MG\n"
          ]
        }
      ]
    },
    {
      "cell_type": "code",
      "source": [
        "for info in infos:\n",
        "    card[info.get('class')[0].split('-')[-1]] = info.get_text()\n",
        "\n",
        "card"
      ],
      "metadata": {
        "colab": {
          "base_uri": "https://localhost:8080/"
        },
        "id": "5U6pUP-jceQi",
        "outputId": "0c9f7039-f5ec-4b6e-e378-46bfdc9e002b"
      },
      "execution_count": 74,
      "outputs": [
        {
          "output_type": "execute_result",
          "data": {
            "text/plain": [
              "{'category': 'USADO',\n",
              " 'description': 'Ano 1993 - 55.286 km',\n",
              " 'location': 'Belo Horizonte - MG',\n",
              " 'motor': 'Motor 1.8 16v',\n",
              " 'name': 'LAMBORGHINI AVENTADOR',\n",
              " 'value': 'R$ 338.000'}"
            ]
          },
          "metadata": {},
          "execution_count": 74
        }
      ]
    },
    {
      "cell_type": "markdown",
      "source": [
        "### **Resumo**"
      ],
      "metadata": {
        "id": "8eVpwDiigmfO"
      }
    },
    {
      "cell_type": "code",
      "source": [
        "#Todos os passos anteriores poderiam ser resumido a esse abaixo:\n",
        "\n",
        "infos = anuncio.find('div', {'class':'body-card'}).findAll('p')\n",
        "for info in infos:\n",
        "    card[info.get('class')[0].split('-')[-1]] = info.get_text()\n",
        "\n",
        "card"
      ],
      "metadata": {
        "colab": {
          "base_uri": "https://localhost:8080/"
        },
        "id": "weqDd35MgmF1",
        "outputId": "16c78e30-944a-4220-d155-09ce2603f894"
      },
      "execution_count": 75,
      "outputs": [
        {
          "output_type": "execute_result",
          "data": {
            "text/plain": [
              "{'category': 'USADO',\n",
              " 'description': 'Ano 1993 - 55.286 km',\n",
              " 'location': 'Belo Horizonte - MG',\n",
              " 'motor': 'Motor 1.8 16v',\n",
              " 'name': 'LAMBORGHINI AVENTADOR',\n",
              " 'value': 'R$ 338.000'}"
            ]
          },
          "metadata": {},
          "execution_count": 75
        }
      ]
    },
    {
      "cell_type": "markdown",
      "source": [
        "## **5.4. Obtendo os ACESSÓRIOS do veículo anunciado**"
      ],
      "metadata": {
        "id": "Y7ZnVYqjjS-J"
      }
    },
    {
      "cell_type": "code",
      "source": [
        "anuncio.find('div', {'class': 'body-card'}).ul.findAll('li')"
      ],
      "metadata": {
        "colab": {
          "base_uri": "https://localhost:8080/"
        },
        "id": "j-kJ_Ze_jS2C",
        "outputId": "68f7a4db-9490-48a6-b947-c3a0e55aa81c"
      },
      "execution_count": 76,
      "outputs": [
        {
          "output_type": "execute_result",
          "data": {
            "text/plain": [
              "[<li class=\"txt-items\">► 4 X 4</li>,\n",
              " <li class=\"txt-items\">► Câmera de estacionamento</li>,\n",
              " <li class=\"txt-items\">► Controle de tração</li>,\n",
              " <li class=\"txt-items\">► Sensor de estacionamento</li>,\n",
              " <li class=\"txt-items\">...</li>]"
            ]
          },
          "metadata": {},
          "execution_count": 76
        }
      ]
    },
    {
      "cell_type": "code",
      "source": [
        "items = anuncio.find('div', {'class': 'body-card'}).ul.findAll('li')\n",
        "items"
      ],
      "metadata": {
        "colab": {
          "base_uri": "https://localhost:8080/"
        },
        "id": "eIGf8sKgkoty",
        "outputId": "7dfdef58-c8da-47be-c7b0-c02b3014b990"
      },
      "execution_count": 77,
      "outputs": [
        {
          "output_type": "execute_result",
          "data": {
            "text/plain": [
              "[<li class=\"txt-items\">► 4 X 4</li>,\n",
              " <li class=\"txt-items\">► Câmera de estacionamento</li>,\n",
              " <li class=\"txt-items\">► Controle de tração</li>,\n",
              " <li class=\"txt-items\">► Sensor de estacionamento</li>,\n",
              " <li class=\"txt-items\">...</li>]"
            ]
          },
          "metadata": {},
          "execution_count": 77
        }
      ]
    },
    {
      "cell_type": "code",
      "source": [
        "#Removendo o último item da lista\n",
        "items.pop()"
      ],
      "metadata": {
        "colab": {
          "base_uri": "https://localhost:8080/"
        },
        "id": "721jV5dLkwkZ",
        "outputId": "f3367b1b-ac0d-4b80-99d9-5ee61450e9c0"
      },
      "execution_count": 78,
      "outputs": [
        {
          "output_type": "execute_result",
          "data": {
            "text/plain": [
              "<li class=\"txt-items\">...</li>"
            ]
          },
          "metadata": {},
          "execution_count": 78
        }
      ]
    },
    {
      "cell_type": "code",
      "source": [
        "items"
      ],
      "metadata": {
        "colab": {
          "base_uri": "https://localhost:8080/"
        },
        "id": "d0G1a1M0k8Sf",
        "outputId": "b09641fb-b904-454c-eaf9-5e03a9940bfe"
      },
      "execution_count": 79,
      "outputs": [
        {
          "output_type": "execute_result",
          "data": {
            "text/plain": [
              "[<li class=\"txt-items\">► 4 X 4</li>,\n",
              " <li class=\"txt-items\">► Câmera de estacionamento</li>,\n",
              " <li class=\"txt-items\">► Controle de tração</li>,\n",
              " <li class=\"txt-items\">► Sensor de estacionamento</li>]"
            ]
          },
          "metadata": {},
          "execution_count": 79
        }
      ]
    },
    {
      "cell_type": "code",
      "source": [
        "for item in items:\n",
        "  print(item.getText().replace('►', ''))"
      ],
      "metadata": {
        "colab": {
          "base_uri": "https://localhost:8080/"
        },
        "id": "PxCnNQUqlJOW",
        "outputId": "e92af91c-4c6f-43b7-cae0-e4b91044aaee"
      },
      "execution_count": 80,
      "outputs": [
        {
          "output_type": "stream",
          "name": "stdout",
          "text": [
            " 4 X 4\n",
            " Câmera de estacionamento\n",
            " Controle de tração\n",
            " Sensor de estacionamento\n"
          ]
        }
      ]
    },
    {
      "cell_type": "code",
      "source": [
        "#Criando uma lista chamada \"acessorios\" e adicionando os items para dentro dela\n",
        "acessorios = []\n",
        "for item in items:\n",
        "  acessorios.append(item.getText().replace('►', ''))\n",
        "acessorios  "
      ],
      "metadata": {
        "colab": {
          "base_uri": "https://localhost:8080/"
        },
        "id": "3ryJ5n_xlsPH",
        "outputId": "b98edd55-5673-45cc-ea8d-3d7c117f88b7"
      },
      "execution_count": 81,
      "outputs": [
        {
          "output_type": "execute_result",
          "data": {
            "text/plain": [
              "[' 4 X 4',\n",
              " ' Câmera de estacionamento',\n",
              " ' Controle de tração',\n",
              " ' Sensor de estacionamento']"
            ]
          },
          "metadata": {},
          "execution_count": 81
        }
      ]
    },
    {
      "cell_type": "code",
      "source": [
        "card['items'] = acessorios\n",
        "card"
      ],
      "metadata": {
        "colab": {
          "base_uri": "https://localhost:8080/"
        },
        "id": "LVy-a0pRmLw5",
        "outputId": "4918df7c-5c7a-4f2f-fad5-f08558e6d193"
      },
      "execution_count": 82,
      "outputs": [
        {
          "output_type": "execute_result",
          "data": {
            "text/plain": [
              "{'category': 'USADO',\n",
              " 'description': 'Ano 1993 - 55.286 km',\n",
              " 'items': [' 4 X 4',\n",
              "  ' Câmera de estacionamento',\n",
              "  ' Controle de tração',\n",
              "  ' Sensor de estacionamento'],\n",
              " 'location': 'Belo Horizonte - MG',\n",
              " 'motor': 'Motor 1.8 16v',\n",
              " 'name': 'LAMBORGHINI AVENTADOR',\n",
              " 'value': 'R$ 338.000'}"
            ]
          },
          "metadata": {},
          "execution_count": 82
        }
      ]
    },
    {
      "cell_type": "markdown",
      "source": [
        "### **Resumo**"
      ],
      "metadata": {
        "id": "N-kKx1iDmnLu"
      }
    },
    {
      "cell_type": "code",
      "source": [
        "# Acessórios\n",
        "itens = anuncio.find('div', {'class':'body-card'}).ul.findAll('li')\n",
        "itens.pop()\n",
        "\n",
        "acessorios = []\n",
        "for item in itens:\n",
        "    acessorios.append(item.get_text().replace('► ', ''))\n",
        "card['items'] = acessorios\n",
        "card"
      ],
      "metadata": {
        "colab": {
          "base_uri": "https://localhost:8080/"
        },
        "id": "OELXAL23miQ4",
        "outputId": "78f2dc9c-2586-44d7-8cb7-3839def160d0"
      },
      "execution_count": 83,
      "outputs": [
        {
          "output_type": "execute_result",
          "data": {
            "text/plain": [
              "{'category': 'USADO',\n",
              " 'description': 'Ano 1993 - 55.286 km',\n",
              " 'items': ['4 X 4',\n",
              "  'Câmera de estacionamento',\n",
              "  'Controle de tração',\n",
              "  'Sensor de estacionamento'],\n",
              " 'location': 'Belo Horizonte - MG',\n",
              " 'motor': 'Motor 1.8 16v',\n",
              " 'name': 'LAMBORGHINI AVENTADOR',\n",
              " 'value': 'R$ 338.000'}"
            ]
          },
          "metadata": {},
          "execution_count": 83
        }
      ]
    },
    {
      "cell_type": "markdown",
      "source": [
        "## **5.5 Criando um DataFrame com os dados coletados do Alura Motors**"
      ],
      "metadata": {
        "id": "p-be9QdCnHhC"
      }
    },
    {
      "cell_type": "code",
      "source": [
        "import pandas as pd"
      ],
      "metadata": {
        "id": "bL6Ggj-EnK01"
      },
      "execution_count": 84,
      "outputs": []
    },
    {
      "cell_type": "code",
      "source": [
        "dataset = pd.DataFrame(card)\n",
        "dataset"
      ],
      "metadata": {
        "colab": {
          "base_uri": "https://localhost:8080/",
          "height": 175
        },
        "id": "fcRSbV1hnTzG",
        "outputId": "872395a5-40d6-4911-8437-5d7720d0f441"
      },
      "execution_count": 85,
      "outputs": [
        {
          "output_type": "execute_result",
          "data": {
            "text/html": [
              "\n",
              "  <div id=\"df-c691e296-f769-4a98-8d11-5927901c6468\">\n",
              "    <div class=\"colab-df-container\">\n",
              "      <div>\n",
              "<style scoped>\n",
              "    .dataframe tbody tr th:only-of-type {\n",
              "        vertical-align: middle;\n",
              "    }\n",
              "\n",
              "    .dataframe tbody tr th {\n",
              "        vertical-align: top;\n",
              "    }\n",
              "\n",
              "    .dataframe thead th {\n",
              "        text-align: right;\n",
              "    }\n",
              "</style>\n",
              "<table border=\"1\" class=\"dataframe\">\n",
              "  <thead>\n",
              "    <tr style=\"text-align: right;\">\n",
              "      <th></th>\n",
              "      <th>value</th>\n",
              "      <th>name</th>\n",
              "      <th>category</th>\n",
              "      <th>motor</th>\n",
              "      <th>description</th>\n",
              "      <th>location</th>\n",
              "      <th>items</th>\n",
              "    </tr>\n",
              "  </thead>\n",
              "  <tbody>\n",
              "    <tr>\n",
              "      <th>0</th>\n",
              "      <td>R$ 338.000</td>\n",
              "      <td>LAMBORGHINI AVENTADOR</td>\n",
              "      <td>USADO</td>\n",
              "      <td>Motor 1.8 16v</td>\n",
              "      <td>Ano 1993 - 55.286 km</td>\n",
              "      <td>Belo Horizonte - MG</td>\n",
              "      <td>4 X 4</td>\n",
              "    </tr>\n",
              "    <tr>\n",
              "      <th>1</th>\n",
              "      <td>R$ 338.000</td>\n",
              "      <td>LAMBORGHINI AVENTADOR</td>\n",
              "      <td>USADO</td>\n",
              "      <td>Motor 1.8 16v</td>\n",
              "      <td>Ano 1993 - 55.286 km</td>\n",
              "      <td>Belo Horizonte - MG</td>\n",
              "      <td>Câmera de estacionamento</td>\n",
              "    </tr>\n",
              "    <tr>\n",
              "      <th>2</th>\n",
              "      <td>R$ 338.000</td>\n",
              "      <td>LAMBORGHINI AVENTADOR</td>\n",
              "      <td>USADO</td>\n",
              "      <td>Motor 1.8 16v</td>\n",
              "      <td>Ano 1993 - 55.286 km</td>\n",
              "      <td>Belo Horizonte - MG</td>\n",
              "      <td>Controle de tração</td>\n",
              "    </tr>\n",
              "    <tr>\n",
              "      <th>3</th>\n",
              "      <td>R$ 338.000</td>\n",
              "      <td>LAMBORGHINI AVENTADOR</td>\n",
              "      <td>USADO</td>\n",
              "      <td>Motor 1.8 16v</td>\n",
              "      <td>Ano 1993 - 55.286 km</td>\n",
              "      <td>Belo Horizonte - MG</td>\n",
              "      <td>Sensor de estacionamento</td>\n",
              "    </tr>\n",
              "  </tbody>\n",
              "</table>\n",
              "</div>\n",
              "      <button class=\"colab-df-convert\" onclick=\"convertToInteractive('df-c691e296-f769-4a98-8d11-5927901c6468')\"\n",
              "              title=\"Convert this dataframe to an interactive table.\"\n",
              "              style=\"display:none;\">\n",
              "        \n",
              "  <svg xmlns=\"http://www.w3.org/2000/svg\" height=\"24px\"viewBox=\"0 0 24 24\"\n",
              "       width=\"24px\">\n",
              "    <path d=\"M0 0h24v24H0V0z\" fill=\"none\"/>\n",
              "    <path d=\"M18.56 5.44l.94 2.06.94-2.06 2.06-.94-2.06-.94-.94-2.06-.94 2.06-2.06.94zm-11 1L8.5 8.5l.94-2.06 2.06-.94-2.06-.94L8.5 2.5l-.94 2.06-2.06.94zm10 10l.94 2.06.94-2.06 2.06-.94-2.06-.94-.94-2.06-.94 2.06-2.06.94z\"/><path d=\"M17.41 7.96l-1.37-1.37c-.4-.4-.92-.59-1.43-.59-.52 0-1.04.2-1.43.59L10.3 9.45l-7.72 7.72c-.78.78-.78 2.05 0 2.83L4 21.41c.39.39.9.59 1.41.59.51 0 1.02-.2 1.41-.59l7.78-7.78 2.81-2.81c.8-.78.8-2.07 0-2.86zM5.41 20L4 18.59l7.72-7.72 1.47 1.35L5.41 20z\"/>\n",
              "  </svg>\n",
              "      </button>\n",
              "      \n",
              "  <style>\n",
              "    .colab-df-container {\n",
              "      display:flex;\n",
              "      flex-wrap:wrap;\n",
              "      gap: 12px;\n",
              "    }\n",
              "\n",
              "    .colab-df-convert {\n",
              "      background-color: #E8F0FE;\n",
              "      border: none;\n",
              "      border-radius: 50%;\n",
              "      cursor: pointer;\n",
              "      display: none;\n",
              "      fill: #1967D2;\n",
              "      height: 32px;\n",
              "      padding: 0 0 0 0;\n",
              "      width: 32px;\n",
              "    }\n",
              "\n",
              "    .colab-df-convert:hover {\n",
              "      background-color: #E2EBFA;\n",
              "      box-shadow: 0px 1px 2px rgba(60, 64, 67, 0.3), 0px 1px 3px 1px rgba(60, 64, 67, 0.15);\n",
              "      fill: #174EA6;\n",
              "    }\n",
              "\n",
              "    [theme=dark] .colab-df-convert {\n",
              "      background-color: #3B4455;\n",
              "      fill: #D2E3FC;\n",
              "    }\n",
              "\n",
              "    [theme=dark] .colab-df-convert:hover {\n",
              "      background-color: #434B5C;\n",
              "      box-shadow: 0px 1px 3px 1px rgba(0, 0, 0, 0.15);\n",
              "      filter: drop-shadow(0px 1px 2px rgba(0, 0, 0, 0.3));\n",
              "      fill: #FFFFFF;\n",
              "    }\n",
              "  </style>\n",
              "\n",
              "      <script>\n",
              "        const buttonEl =\n",
              "          document.querySelector('#df-c691e296-f769-4a98-8d11-5927901c6468 button.colab-df-convert');\n",
              "        buttonEl.style.display =\n",
              "          google.colab.kernel.accessAllowed ? 'block' : 'none';\n",
              "\n",
              "        async function convertToInteractive(key) {\n",
              "          const element = document.querySelector('#df-c691e296-f769-4a98-8d11-5927901c6468');\n",
              "          const dataTable =\n",
              "            await google.colab.kernel.invokeFunction('convertToInteractive',\n",
              "                                                     [key], {});\n",
              "          if (!dataTable) return;\n",
              "\n",
              "          const docLinkHtml = 'Like what you see? Visit the ' +\n",
              "            '<a target=\"_blank\" href=https://colab.research.google.com/notebooks/data_table.ipynb>data table notebook</a>'\n",
              "            + ' to learn more about interactive tables.';\n",
              "          element.innerHTML = '';\n",
              "          dataTable['output_type'] = 'display_data';\n",
              "          await google.colab.output.renderOutput(dataTable, element);\n",
              "          const docLink = document.createElement('div');\n",
              "          docLink.innerHTML = docLinkHtml;\n",
              "          element.appendChild(docLink);\n",
              "        }\n",
              "      </script>\n",
              "    </div>\n",
              "  </div>\n",
              "  "
            ],
            "text/plain": [
              "        value  ...                     items\n",
              "0  R$ 338.000  ...                     4 X 4\n",
              "1  R$ 338.000  ...  Câmera de estacionamento\n",
              "2  R$ 338.000  ...        Controle de tração\n",
              "3  R$ 338.000  ...  Sensor de estacionamento\n",
              "\n",
              "[4 rows x 7 columns]"
            ]
          },
          "metadata": {},
          "execution_count": 85
        }
      ]
    },
    {
      "cell_type": "code",
      "source": [
        "dataset = pd.DataFrame.from_dict(card, orient='index').T\n",
        "dataset"
      ],
      "metadata": {
        "colab": {
          "base_uri": "https://localhost:8080/",
          "height": 81
        },
        "id": "_x6wR95HnsPe",
        "outputId": "846d6929-d149-4bad-c8d7-825c96816198"
      },
      "execution_count": 86,
      "outputs": [
        {
          "output_type": "execute_result",
          "data": {
            "text/html": [
              "\n",
              "  <div id=\"df-206fa370-edbf-4c9f-940e-aa84701bd27e\">\n",
              "    <div class=\"colab-df-container\">\n",
              "      <div>\n",
              "<style scoped>\n",
              "    .dataframe tbody tr th:only-of-type {\n",
              "        vertical-align: middle;\n",
              "    }\n",
              "\n",
              "    .dataframe tbody tr th {\n",
              "        vertical-align: top;\n",
              "    }\n",
              "\n",
              "    .dataframe thead th {\n",
              "        text-align: right;\n",
              "    }\n",
              "</style>\n",
              "<table border=\"1\" class=\"dataframe\">\n",
              "  <thead>\n",
              "    <tr style=\"text-align: right;\">\n",
              "      <th></th>\n",
              "      <th>value</th>\n",
              "      <th>name</th>\n",
              "      <th>category</th>\n",
              "      <th>motor</th>\n",
              "      <th>description</th>\n",
              "      <th>location</th>\n",
              "      <th>items</th>\n",
              "    </tr>\n",
              "  </thead>\n",
              "  <tbody>\n",
              "    <tr>\n",
              "      <th>0</th>\n",
              "      <td>R$ 338.000</td>\n",
              "      <td>LAMBORGHINI AVENTADOR</td>\n",
              "      <td>USADO</td>\n",
              "      <td>Motor 1.8 16v</td>\n",
              "      <td>Ano 1993 - 55.286 km</td>\n",
              "      <td>Belo Horizonte - MG</td>\n",
              "      <td>[4 X 4, Câmera de estacionamento, Controle de ...</td>\n",
              "    </tr>\n",
              "  </tbody>\n",
              "</table>\n",
              "</div>\n",
              "      <button class=\"colab-df-convert\" onclick=\"convertToInteractive('df-206fa370-edbf-4c9f-940e-aa84701bd27e')\"\n",
              "              title=\"Convert this dataframe to an interactive table.\"\n",
              "              style=\"display:none;\">\n",
              "        \n",
              "  <svg xmlns=\"http://www.w3.org/2000/svg\" height=\"24px\"viewBox=\"0 0 24 24\"\n",
              "       width=\"24px\">\n",
              "    <path d=\"M0 0h24v24H0V0z\" fill=\"none\"/>\n",
              "    <path d=\"M18.56 5.44l.94 2.06.94-2.06 2.06-.94-2.06-.94-.94-2.06-.94 2.06-2.06.94zm-11 1L8.5 8.5l.94-2.06 2.06-.94-2.06-.94L8.5 2.5l-.94 2.06-2.06.94zm10 10l.94 2.06.94-2.06 2.06-.94-2.06-.94-.94-2.06-.94 2.06-2.06.94z\"/><path d=\"M17.41 7.96l-1.37-1.37c-.4-.4-.92-.59-1.43-.59-.52 0-1.04.2-1.43.59L10.3 9.45l-7.72 7.72c-.78.78-.78 2.05 0 2.83L4 21.41c.39.39.9.59 1.41.59.51 0 1.02-.2 1.41-.59l7.78-7.78 2.81-2.81c.8-.78.8-2.07 0-2.86zM5.41 20L4 18.59l7.72-7.72 1.47 1.35L5.41 20z\"/>\n",
              "  </svg>\n",
              "      </button>\n",
              "      \n",
              "  <style>\n",
              "    .colab-df-container {\n",
              "      display:flex;\n",
              "      flex-wrap:wrap;\n",
              "      gap: 12px;\n",
              "    }\n",
              "\n",
              "    .colab-df-convert {\n",
              "      background-color: #E8F0FE;\n",
              "      border: none;\n",
              "      border-radius: 50%;\n",
              "      cursor: pointer;\n",
              "      display: none;\n",
              "      fill: #1967D2;\n",
              "      height: 32px;\n",
              "      padding: 0 0 0 0;\n",
              "      width: 32px;\n",
              "    }\n",
              "\n",
              "    .colab-df-convert:hover {\n",
              "      background-color: #E2EBFA;\n",
              "      box-shadow: 0px 1px 2px rgba(60, 64, 67, 0.3), 0px 1px 3px 1px rgba(60, 64, 67, 0.15);\n",
              "      fill: #174EA6;\n",
              "    }\n",
              "\n",
              "    [theme=dark] .colab-df-convert {\n",
              "      background-color: #3B4455;\n",
              "      fill: #D2E3FC;\n",
              "    }\n",
              "\n",
              "    [theme=dark] .colab-df-convert:hover {\n",
              "      background-color: #434B5C;\n",
              "      box-shadow: 0px 1px 3px 1px rgba(0, 0, 0, 0.15);\n",
              "      filter: drop-shadow(0px 1px 2px rgba(0, 0, 0, 0.3));\n",
              "      fill: #FFFFFF;\n",
              "    }\n",
              "  </style>\n",
              "\n",
              "      <script>\n",
              "        const buttonEl =\n",
              "          document.querySelector('#df-206fa370-edbf-4c9f-940e-aa84701bd27e button.colab-df-convert');\n",
              "        buttonEl.style.display =\n",
              "          google.colab.kernel.accessAllowed ? 'block' : 'none';\n",
              "\n",
              "        async function convertToInteractive(key) {\n",
              "          const element = document.querySelector('#df-206fa370-edbf-4c9f-940e-aa84701bd27e');\n",
              "          const dataTable =\n",
              "            await google.colab.kernel.invokeFunction('convertToInteractive',\n",
              "                                                     [key], {});\n",
              "          if (!dataTable) return;\n",
              "\n",
              "          const docLinkHtml = 'Like what you see? Visit the ' +\n",
              "            '<a target=\"_blank\" href=https://colab.research.google.com/notebooks/data_table.ipynb>data table notebook</a>'\n",
              "            + ' to learn more about interactive tables.';\n",
              "          element.innerHTML = '';\n",
              "          dataTable['output_type'] = 'display_data';\n",
              "          await google.colab.output.renderOutput(dataTable, element);\n",
              "          const docLink = document.createElement('div');\n",
              "          docLink.innerHTML = docLinkHtml;\n",
              "          element.appendChild(docLink);\n",
              "        }\n",
              "      </script>\n",
              "    </div>\n",
              "  </div>\n",
              "  "
            ],
            "text/plain": [
              "        value  ...                                              items\n",
              "0  R$ 338.000  ...  [4 X 4, Câmera de estacionamento, Controle de ...\n",
              "\n",
              "[1 rows x 7 columns]"
            ]
          },
          "metadata": {},
          "execution_count": 86
        }
      ]
    },
    {
      "cell_type": "code",
      "source": [
        "dataset.to_csv('./output/data/card-dataset.csv', sep=';', index = False, encoding='utf-8-sig')"
      ],
      "metadata": {
        "id": "hpX-dheaW0TL"
      },
      "execution_count": 129,
      "outputs": []
    },
    {
      "cell_type": "markdown",
      "source": [
        "## **5.6. Obtendo a FOTO do anúncio**"
      ],
      "metadata": {
        "id": "9simAtgOJkoa"
      }
    },
    {
      "cell_type": "code",
      "source": [
        "image = anuncio.find('div', {'class':'image-card'}).img\n",
        "image"
      ],
      "metadata": {
        "id": "l7eGtfU9Jc7q",
        "colab": {
          "base_uri": "https://localhost:8080/"
        },
        "outputId": "f393a783-2eb5-4b54-8161-aad6ddcc41f1"
      },
      "execution_count": 98,
      "outputs": [
        {
          "output_type": "execute_result",
          "data": {
            "text/plain": [
              "<img alt=\"Foto\" height=\"155\" src=\"https://caelum-online-public.s3.amazonaws.com/1381-scraping/01/img-cars/lamborghini-aventador/lamborghini-aventador-2932196__340.jpg\" width=\"220\"/>"
            ]
          },
          "metadata": {},
          "execution_count": 98
        }
      ]
    },
    {
      "cell_type": "code",
      "source": [
        "# Obter o valor de um atributo\n",
        "image.get('src')"
      ],
      "metadata": {
        "colab": {
          "base_uri": "https://localhost:8080/",
          "height": 35
        },
        "id": "pIVz8SJF12D-",
        "outputId": "da8e91cd-a013-428e-8332-a41a285764f9"
      },
      "execution_count": 99,
      "outputs": [
        {
          "output_type": "execute_result",
          "data": {
            "application/vnd.google.colaboratory.intrinsic+json": {
              "type": "string"
            },
            "text/plain": [
              "'https://caelum-online-public.s3.amazonaws.com/1381-scraping/01/img-cars/lamborghini-aventador/lamborghini-aventador-2932196__340.jpg'"
            ]
          },
          "metadata": {},
          "execution_count": 99
        }
      ]
    },
    {
      "cell_type": "code",
      "source": [
        "#Exibindo um link clicável\n",
        "print(image.get('src'))"
      ],
      "metadata": {
        "colab": {
          "base_uri": "https://localhost:8080/"
        },
        "id": "iO1a_FRb2JEf",
        "outputId": "2c276a4d-181d-43ae-872a-8c4141c0d1da"
      },
      "execution_count": 100,
      "outputs": [
        {
          "output_type": "stream",
          "name": "stdout",
          "text": [
            "https://caelum-online-public.s3.amazonaws.com/1381-scraping/01/img-cars/lamborghini-aventador/lamborghini-aventador-2932196__340.jpg\n"
          ]
        }
      ]
    },
    {
      "cell_type": "markdown",
      "source": [
        "#### **Visualizando a FOTO no notebook (extra)**"
      ],
      "metadata": {
        "id": "gpE54BFIJ8Xp"
      }
    },
    {
      "cell_type": "code",
      "source": [
        "from IPython.core.display import display, HTML\n",
        "\n",
        "display(HTML(str(anuncio.find('div', {'class': 'image-card'}).img)))"
      ],
      "metadata": {
        "id": "RtfMZgO5J8NZ",
        "colab": {
          "base_uri": "https://localhost:8080/",
          "height": 176
        },
        "outputId": "5968d734-f356-45bb-d422-bc4fb992ea73"
      },
      "execution_count": 102,
      "outputs": [
        {
          "output_type": "execute_result",
          "data": {
            "text/html": [
              "<img alt=\"Foto\" height=\"155\" src=\"https://caelum-online-public.s3.amazonaws.com/1381-scraping/01/img-cars/lamborghini-aventador/lamborghini-aventador-2932196__340.jpg\" width=\"220\"/>"
            ],
            "text/plain": [
              "<IPython.core.display.HTML object>"
            ]
          },
          "metadata": {},
          "execution_count": 102
        }
      ]
    },
    {
      "cell_type": "code",
      "source": [
        "display(HTML(\"<img src=\" + anuncio.find('div', {'class': 'image-card'}).img.get('src') + \">\"))"
      ],
      "metadata": {
        "id": "eyMvTKvGKKWB",
        "colab": {
          "base_uri": "https://localhost:8080/",
          "height": 361
        },
        "outputId": "62890d22-4499-40ca-c296-379aae5e0826"
      },
      "execution_count": 103,
      "outputs": [
        {
          "output_type": "display_data",
          "data": {
            "text/html": [
              "<img src=https://caelum-online-public.s3.amazonaws.com/1381-scraping/01/img-cars/lamborghini-aventador/lamborghini-aventador-2932196__340.jpg>"
            ],
            "text/plain": [
              "<IPython.core.display.HTML object>"
            ]
          },
          "metadata": {}
        }
      ]
    },
    {
      "cell_type": "markdown",
      "source": [
        "### **Rotina para acessar e salvar a FOTO do anúncio**"
      ],
      "metadata": {
        "id": "hZY7qbK825K4"
      }
    },
    {
      "cell_type": "markdown",
      "source": [
        "https://docs.python.org/3/library/urllib.request.html#urllib.request.urlretrieve"
      ],
      "metadata": {
        "id": "nI5ZgP_n3H0t"
      }
    },
    {
      "cell_type": "code",
      "source": [
        "#Pegando o nome da imagem\n",
        "image.get('src').split('/')[-1] #pegando o endereço da imagem"
      ],
      "metadata": {
        "colab": {
          "base_uri": "https://localhost:8080/",
          "height": 35
        },
        "id": "2RDLYGQG3FXA",
        "outputId": "53b2e7c4-c55e-4456-e1ab-f5e811292365"
      },
      "execution_count": 105,
      "outputs": [
        {
          "output_type": "execute_result",
          "data": {
            "application/vnd.google.colaboratory.intrinsic+json": {
              "type": "string"
            },
            "text/plain": [
              "'lamborghini-aventador-2932196__340.jpg'"
            ]
          },
          "metadata": {},
          "execution_count": 105
        }
      ]
    },
    {
      "cell_type": "code",
      "source": [
        "#A função urlretrieve(url, filename) é utilizada para copiar um objeto de rede, indicado por uma URL, para um arquivo local. \n",
        "#A função urlretrieve(url, filename) precisa de dois argumentos para copiar os dados para um arquivo local.\n",
        "from urllib.request import urlretrieve\n",
        "\n",
        "urlretrieve(image.get('src'), './output/img' + image.get('src').split('/')[-1])"
      ],
      "metadata": {
        "colab": {
          "base_uri": "https://localhost:8080/"
        },
        "id": "4DKtFhpo3iTW",
        "outputId": "da3c74be-b688-4815-bd37-87a05249472d"
      },
      "execution_count": 112,
      "outputs": [
        {
          "output_type": "execute_result",
          "data": {
            "text/plain": [
              "('./output/imglamborghini-aventador-2932196__340.jpg',\n",
              " <http.client.HTTPMessage at 0x7fced2c5ed10>)"
            ]
          },
          "metadata": {},
          "execution_count": 112
        }
      ]
    },
    {
      "cell_type": "markdown",
      "source": [
        "#### **Resumo**"
      ],
      "metadata": {
        "id": "3Rx_fOf-4YBD"
      }
    },
    {
      "cell_type": "code",
      "source": [
        "image = anuncio.find('div', 'image-card').img\n",
        "from urllib.request import urlretrieve\n",
        "\n",
        "urlretrieve(image.get('src'), './output/img/' + image.get('src').split('/')[-1])"
      ],
      "metadata": {
        "colab": {
          "base_uri": "https://localhost:8080/"
        },
        "id": "n2XOl8a54X1G",
        "outputId": "1758a090-473a-4b4d-e309-dada3d59366f"
      },
      "execution_count": 110,
      "outputs": [
        {
          "output_type": "execute_result",
          "data": {
            "text/plain": [
              "('./output/img/lamborghini-aventador-2932196__340.jpg',\n",
              " <http.client.HTTPMessage at 0x7fced2c5e250>)"
            ]
          },
          "metadata": {},
          "execution_count": 110
        }
      ]
    },
    {
      "cell_type": "markdown",
      "source": [
        "#### **6. WEB SCRAPING DO SITE ALURA MOTORS - OBTENDO OS DADOS DE TODOS OS ANÚNCIOS DE UMA PÁGINA**"
      ],
      "metadata": {
        "id": "zjFbMpGS5o5Q"
      }
    },
    {
      "cell_type": "markdown",
      "source": [
        "### **6.1. Identificando as informações no HTML**"
      ],
      "metadata": {
        "id": "tLFLMqt45z97"
      }
    },
    {
      "cell_type": "code",
      "source": [
        "len(soup.find('div', {'id':'container-cards'}).findAll('div', class_='card'))"
      ],
      "metadata": {
        "colab": {
          "base_uri": "https://localhost:8080/"
        },
        "id": "PBPJJDQy5ovr",
        "outputId": "974332cf-12b3-4d59-a298-08794c31589b"
      },
      "execution_count": 130,
      "outputs": [
        {
          "output_type": "execute_result",
          "data": {
            "text/plain": [
              "10"
            ]
          },
          "metadata": {},
          "execution_count": 130
        }
      ]
    },
    {
      "cell_type": "code",
      "source": [
        "anuncios = soup.find('div', {'id':'container-cards'}).findAll('div', class_='card')\n"
      ],
      "metadata": {
        "id": "RSkSiOrs6Ykd"
      },
      "execution_count": 131,
      "outputs": []
    },
    {
      "cell_type": "code",
      "source": [
        "# Buscando todos os cards\n",
        "for item in anuncios:\n",
        "  # com o str converte de Beatifulsoup para string e com isso posso fazer a concatenação\n",
        "  print(str(item) + '\\n\\n')"
      ],
      "metadata": {
        "colab": {
          "base_uri": "https://localhost:8080/"
        },
        "id": "WqQVWNYm6fw6",
        "outputId": "8c96f5cf-5330-4147-b610-ad660ee278ce"
      },
      "execution_count": 132,
      "outputs": [
        {
          "output_type": "stream",
          "name": "stdout",
          "text": [
            "<div class=\"well card\">\n",
            "<div class=\"col-md-3 image-card\">\n",
            "<img alt=\"Foto\" height=\"155\" src=\"https://caelum-online-public.s3.amazonaws.com/1381-scraping/01/img-cars/lamborghini-aventador/lamborghini-aventador-2932196__340.jpg\" width=\"220\"/>\n",
            "</div>\n",
            "<div class=\"col-md-6 body-card\">\n",
            "<p class=\"txt-name inline\">LAMBORGHINI AVENTADOR</p>\n",
            "<p class=\"txt-category badge badge-secondary inline\">USADO</p>\n",
            "<p class=\"txt-motor\">Motor 1.8 16v</p>\n",
            "<p class=\"txt-description\">Ano 1993 - 55.286 km</p>\n",
            "<ul class=\"lst-items\">\n",
            "<li class=\"txt-items\">► 4 X 4</li>\n",
            "<li class=\"txt-items\">► Câmera de estacionamento</li>\n",
            "<li class=\"txt-items\">► Controle de tração</li>\n",
            "<li class=\"txt-items\">► Sensor de estacionamento</li>\n",
            "<li class=\"txt-items\">...</li>\n",
            "</ul>\n",
            "<p class=\"txt-location\">Belo Horizonte - MG</p>\n",
            "</div>\n",
            "<div class=\"col-md-3 value-card\">\n",
            "<div class=\"value\">\n",
            "<p class=\"txt-value\">R$ 338.000</p>\n",
            "</div>\n",
            "</div>\n",
            "</div>\n",
            "\n",
            "\n",
            "<div class=\"well card\">\n",
            "<div class=\"col-md-3 image-card\">\n",
            "<img alt=\"Foto\" height=\"155\" src=\"https://caelum-online-public.s3.amazonaws.com/1381-scraping/01/img-cars/bmw-m2/bmw-m2-2970882__340.jpg\" width=\"220\"/>\n",
            "</div>\n",
            "<div class=\"col-md-6 body-card\">\n",
            "<p class=\"txt-name inline\">BMW M2</p>\n",
            "<p class=\"txt-category badge badge-secondary inline\">USADO</p>\n",
            "<p class=\"txt-motor\">Motor 3.0 32v</p>\n",
            "<p class=\"txt-description\">Ano 2018 - 83.447 km</p>\n",
            "<ul class=\"lst-items\">\n",
            "<li class=\"txt-items\">► Câmera de estacionamento</li>\n",
            "<li class=\"txt-items\">► Controle de estabilidade</li>\n",
            "<li class=\"txt-items\">► Travas elétricas</li>\n",
            "<li class=\"txt-items\">► Freios ABS</li>\n",
            "<li class=\"txt-items\">...</li>\n",
            "</ul>\n",
            "<p class=\"txt-location\">Belo Horizonte - MG</p>\n",
            "</div>\n",
            "<div class=\"col-md-3 value-card\">\n",
            "<div class=\"value\">\n",
            "<p class=\"txt-value\">R$ 346.000</p>\n",
            "</div>\n",
            "</div>\n",
            "</div>\n",
            "\n",
            "\n",
            "<div class=\"well card\">\n",
            "<div class=\"col-md-3 image-card\">\n",
            "<img alt=\"Foto\" height=\"155\" src=\"https://caelum-online-public.s3.amazonaws.com/1381-scraping/01/img-cars/alfa/alfa-1823056__340.jpg\" width=\"220\"/>\n",
            "</div>\n",
            "<div class=\"col-md-6 body-card\">\n",
            "<p class=\"txt-name inline\">ALFA</p>\n",
            "<p class=\"txt-category badge badge-secondary inline\">USADO</p>\n",
            "<p class=\"txt-motor\">Motor 1.8 16v</p>\n",
            "<p class=\"txt-description\">Ano 2004 - 19.722 km</p>\n",
            "<ul class=\"lst-items\">\n",
            "<li class=\"txt-items\">► Central multimídia</li>\n",
            "<li class=\"txt-items\">► Bancos de couro</li>\n",
            "<li class=\"txt-items\">► Rodas de liga</li>\n",
            "<li class=\"txt-items\">► Câmera de estacionamento</li>\n",
            "<li class=\"txt-items\">...</li>\n",
            "</ul>\n",
            "<p class=\"txt-location\">Rio de Janeiro - RJ</p>\n",
            "</div>\n",
            "<div class=\"col-md-3 value-card\">\n",
            "<div class=\"value\">\n",
            "<p class=\"txt-value\">R$ 480.000</p>\n",
            "</div>\n",
            "</div>\n",
            "</div>\n",
            "\n",
            "\n",
            "<div class=\"well card\">\n",
            "<div class=\"col-md-3 image-card\">\n",
            "<img alt=\"Foto\" height=\"155\" src=\"https://caelum-online-public.s3.amazonaws.com/1381-scraping/01/img-cars/puech/puech-4055386__340.jpg\" width=\"220\"/>\n",
            "</div>\n",
            "<div class=\"col-md-6 body-card\">\n",
            "<p class=\"txt-name inline\">PUECH</p>\n",
            "<p class=\"txt-category badge badge-secondary inline\">USADO</p>\n",
            "<p class=\"txt-motor\">Motor Diesel V8</p>\n",
            "<p class=\"txt-description\">Ano 1992 - 34.335 km</p>\n",
            "<ul class=\"lst-items\">\n",
            "<li class=\"txt-items\">► Bancos de couro</li>\n",
            "<li class=\"txt-items\">► Freios ABS</li>\n",
            "<li class=\"txt-items\">► Rodas de liga</li>\n",
            "<li class=\"txt-items\">► Câmbio automático</li>\n",
            "<li class=\"txt-items\">...</li>\n",
            "</ul>\n",
            "<p class=\"txt-location\">São Paulo - SP</p>\n",
            "</div>\n",
            "<div class=\"col-md-3 value-card\">\n",
            "<div class=\"value\">\n",
            "<p class=\"txt-value\">R$ 133.000</p>\n",
            "</div>\n",
            "</div>\n",
            "</div>\n",
            "\n",
            "\n",
            "<div class=\"well card\">\n",
            "<div class=\"col-md-3 image-card\">\n",
            "<img alt=\"Foto\" height=\"155\" src=\"https://caelum-online-public.s3.amazonaws.com/1381-scraping/01/img-cars/lamborghini-murcielago/lamborghini-murcielago-2872974__340.jpg\" width=\"220\"/>\n",
            "</div>\n",
            "<div class=\"col-md-6 body-card\">\n",
            "<p class=\"txt-name inline\">LAMBORGHINI MURCIELAGO</p>\n",
            "<p class=\"txt-category badge badge-secondary inline\">USADO</p>\n",
            "<p class=\"txt-motor\">Motor 1.0 8v</p>\n",
            "<p class=\"txt-description\">Ano 1991 - 464 km</p>\n",
            "<ul class=\"lst-items\">\n",
            "<li class=\"txt-items\">► Central multimídia</li>\n",
            "<li class=\"txt-items\">► Teto panorâmico</li>\n",
            "<li class=\"txt-items\">► Sensor crepuscular</li>\n",
            "<li class=\"txt-items\">► Piloto automático</li>\n",
            "<li class=\"txt-items\">...</li>\n",
            "</ul>\n",
            "<p class=\"txt-location\">Belo Horizonte - MG</p>\n",
            "</div>\n",
            "<div class=\"col-md-3 value-card\">\n",
            "<div class=\"value\">\n",
            "<p class=\"txt-value\">R$ 175.000</p>\n",
            "</div>\n",
            "</div>\n",
            "</div>\n",
            "\n",
            "\n",
            "<div class=\"well card\">\n",
            "<div class=\"col-md-3 image-card\">\n",
            "<img alt=\"Foto\" height=\"155\" src=\"https://caelum-online-public.s3.amazonaws.com/1381-scraping/01/img-cars/aston-martin/aston-martin-2977916__340.jpg\" width=\"220\"/>\n",
            "</div>\n",
            "<div class=\"col-md-6 body-card\">\n",
            "<p class=\"txt-name inline\">ASTON MARTIN</p>\n",
            "<p class=\"txt-category badge badge-secondary inline\">USADO</p>\n",
            "<p class=\"txt-opportunity badge badge-danger inline\">OPORTUNIDADE</p>\n",
            "<p class=\"txt-motor\">Motor Diesel V6</p>\n",
            "<p class=\"txt-description\">Ano 2004 - 50.189 km</p>\n",
            "<ul class=\"lst-items\">\n",
            "<li class=\"txt-items\">► Painel digital</li>\n",
            "<li class=\"txt-items\">► Controle de tração</li>\n",
            "<li class=\"txt-items\">► Teto panorâmico</li>\n",
            "<li class=\"txt-items\">► Central multimídia</li>\n",
            "<li class=\"txt-items\">...</li>\n",
            "</ul>\n",
            "<p class=\"txt-location\">Belo Horizonte - MG</p>\n",
            "</div>\n",
            "<div class=\"col-md-3 value-card\">\n",
            "<div class=\"value\">\n",
            "<p class=\"txt-value\">R$ 239.000</p>\n",
            "</div>\n",
            "</div>\n",
            "</div>\n",
            "\n",
            "\n",
            "<div class=\"well card\">\n",
            "<div class=\"col-md-3 image-card\">\n",
            "<img alt=\"Foto\" height=\"155\" src=\"https://caelum-online-public.s3.amazonaws.com/1381-scraping/01/img-cars/tvr/tvr-2943925__340.jpg\" width=\"220\"/>\n",
            "</div>\n",
            "<div class=\"col-md-6 body-card\">\n",
            "<p class=\"txt-name inline\">TVR</p>\n",
            "<p class=\"txt-category badge badge-secondary inline\">USADO</p>\n",
            "<p class=\"txt-motor\">Motor 4.0 Turbo</p>\n",
            "<p class=\"txt-description\">Ano 2014 - 17.778 km</p>\n",
            "<ul class=\"lst-items\">\n",
            "<li class=\"txt-items\">► 4 X 4</li>\n",
            "<li class=\"txt-items\">► Teto panorâmico</li>\n",
            "<li class=\"txt-items\">► Central multimídia</li>\n",
            "<li class=\"txt-items\">► Controle de estabilidade</li>\n",
            "<li class=\"txt-items\">...</li>\n",
            "</ul>\n",
            "<p class=\"txt-location\">Belo Horizonte - MG</p>\n",
            "</div>\n",
            "<div class=\"col-md-3 value-card\">\n",
            "<div class=\"value\">\n",
            "<p class=\"txt-value\">R$ 115.000</p>\n",
            "</div>\n",
            "</div>\n",
            "</div>\n",
            "\n",
            "\n",
            "<div class=\"well card\">\n",
            "<div class=\"col-md-3 image-card\">\n",
            "<img alt=\"Foto\" height=\"155\" src=\"https://caelum-online-public.s3.amazonaws.com/1381-scraping/01/img-cars/excalibur/excalibur-2916730__340.jpg\" width=\"220\"/>\n",
            "</div>\n",
            "<div class=\"col-md-6 body-card\">\n",
            "<p class=\"txt-name inline\">EXCALIBUR</p>\n",
            "<p class=\"txt-category badge badge-secondary inline\">USADO</p>\n",
            "<p class=\"txt-motor\">Motor 3.0 32v</p>\n",
            "<p class=\"txt-description\">Ano 2009 - 81.251 km</p>\n",
            "<ul class=\"lst-items\">\n",
            "<li class=\"txt-items\">► Painel digital</li>\n",
            "<li class=\"txt-items\">► Câmbio automático</li>\n",
            "<li class=\"txt-items\">► Sensor de chuva</li>\n",
            "<li class=\"txt-items\">► Travas elétricas</li>\n",
            "<li class=\"txt-items\">...</li>\n",
            "</ul>\n",
            "<p class=\"txt-location\">Rio de Janeiro - RJ</p>\n",
            "</div>\n",
            "<div class=\"col-md-3 value-card\">\n",
            "<div class=\"value\">\n",
            "<p class=\"txt-value\">R$ 114.000</p>\n",
            "</div>\n",
            "</div>\n",
            "</div>\n",
            "\n",
            "\n",
            "<div class=\"well card\">\n",
            "<div class=\"col-md-3 image-card\">\n",
            "<img alt=\"Foto\" height=\"155\" src=\"https://caelum-online-public.s3.amazonaws.com/1381-scraping/01/img-cars/mclaren/mclaren-2855240__340.jpg\" width=\"220\"/>\n",
            "</div>\n",
            "<div class=\"col-md-6 body-card\">\n",
            "<p class=\"txt-name inline\">MCLAREN</p>\n",
            "<p class=\"txt-category badge badge-secondary inline\">NOVO</p>\n",
            "<p class=\"txt-motor\">Motor Diesel</p>\n",
            "<p class=\"txt-description\">Ano 2019 - 0 km</p>\n",
            "<ul class=\"lst-items\">\n",
            "<li class=\"txt-items\">► Central multimídia</li>\n",
            "<li class=\"txt-items\">► Câmera de estacionamento</li>\n",
            "<li class=\"txt-items\">► Câmbio automático</li>\n",
            "<li class=\"txt-items\">► Ar condicionado</li>\n",
            "<li class=\"txt-items\">...</li>\n",
            "</ul>\n",
            "<p class=\"txt-location\">São Paulo - SP</p>\n",
            "</div>\n",
            "<div class=\"col-md-3 value-card\">\n",
            "<div class=\"value\">\n",
            "<p class=\"txt-value\">R$ 75.000</p>\n",
            "</div>\n",
            "</div>\n",
            "</div>\n",
            "\n",
            "\n",
            "<div class=\"well card\">\n",
            "<div class=\"col-md-3 image-card\">\n",
            "<img alt=\"Foto\" height=\"155\" src=\"https://caelum-online-public.s3.amazonaws.com/1381-scraping/01/img-cars/toyota/toyota-3245397__340.jpg\" width=\"220\"/>\n",
            "</div>\n",
            "<div class=\"col-md-6 body-card\">\n",
            "<p class=\"txt-name inline\">TOYOTA</p>\n",
            "<p class=\"txt-category badge badge-secondary inline\">USADO</p>\n",
            "<p class=\"txt-opportunity badge badge-danger inline\">OPORTUNIDADE</p>\n",
            "<p class=\"txt-motor\">Motor 4.0 Turbo</p>\n",
            "<p class=\"txt-description\">Ano 1999 - 12.536 km</p>\n",
            "<ul class=\"lst-items\">\n",
            "<li class=\"txt-items\">► Bancos de couro</li>\n",
            "<li class=\"txt-items\">► Freios ABS</li>\n",
            "<li class=\"txt-items\">► Piloto automático</li>\n",
            "<li class=\"txt-items\">► Controle de estabilidade</li>\n",
            "<li class=\"txt-items\">...</li>\n",
            "</ul>\n",
            "<p class=\"txt-location\">São Paulo - SP</p>\n",
            "</div>\n",
            "<div class=\"col-md-3 value-card\">\n",
            "<div class=\"value\">\n",
            "<p class=\"txt-value\">R$ 117.000</p>\n",
            "</div>\n",
            "</div>\n",
            "</div>\n",
            "\n",
            "\n"
          ]
        }
      ]
    },
    {
      "cell_type": "markdown",
      "source": [
        "## **6.2. Criando uma rotina de scraping**"
      ],
      "metadata": {
        "id": "IA0ht1nw8V5S"
      }
    },
    {
      "cell_type": "markdown",
      "source": [
        "### **6.2.1 Importações**"
      ],
      "metadata": {
        "id": "iiLIxkHY9MBB"
      }
    },
    {
      "cell_type": "code",
      "source": [
        "Importando as bibliotecas\n",
        "from urllib.request import urlopen, urlretrieve\n",
        "from bs4 import BeautifulSoup\n",
        "import pandas as pd"
      ],
      "metadata": {
        "id": "7sFXjKju8VwC"
      },
      "execution_count": 121,
      "outputs": []
    },
    {
      "cell_type": "markdown",
      "source": [
        "### **6.2.2 Declarando variável \"cards\"**"
      ],
      "metadata": {
        "id": "6O43OSpo9VPQ"
      }
    },
    {
      "cell_type": "code",
      "source": [
        "cards = []"
      ],
      "metadata": {
        "id": "2VStkl6C9VHB"
      },
      "execution_count": null,
      "outputs": []
    },
    {
      "cell_type": "markdown",
      "source": [
        "### **6.2.3 Obtendo a HTML**"
      ],
      "metadata": {
        "id": "EqkhVk2n9aV_"
      }
    },
    {
      "cell_type": "code",
      "source": [
        "response = urlopen('https://alura-site-scraping.herokuapp.com/index.php')\n",
        "html = response.read().decode('utf-8')\n",
        "soup = BeautifulSoup(html, 'html.parser')"
      ],
      "metadata": {
        "id": "vt7kOTO59aM3"
      },
      "execution_count": 122,
      "outputs": []
    },
    {
      "cell_type": "markdown",
      "source": [
        "### **6.2.4 Obtendo as Tags de interesse**"
      ],
      "metadata": {
        "id": "JBCI_EVI9vig"
      }
    },
    {
      "cell_type": "code",
      "source": [
        "#Uma lista com os cards\n",
        "anuncios = soup.find('div', {'id':'container-cards'}).findAll('div', class_='card')"
      ],
      "metadata": {
        "id": "yvs4i2UF9vgN"
      },
      "execution_count": 123,
      "outputs": []
    },
    {
      "cell_type": "markdown",
      "source": [
        "### **6.2.5 Coletando informações dos Cards**"
      ],
      "metadata": {
        "id": "l8Q_8sEf97fh"
      }
    },
    {
      "cell_type": "code",
      "source": [
        "for anuncio in anuncios:\n",
        "    card = {}\n",
        "    \n",
        "    # Valor ------------------------------------------------------------\n",
        "    card['value'] = anuncio.find('p', {'class':'txt-value'}).get_text()\n",
        "    \n",
        "    # Informações ------------------------------------------------------\n",
        "    # coletando todas as tag's <P> da div *body-card*\n",
        "    info = anuncio.find('div', {'class':'body-card'}).findAll('p')\n",
        "\n",
        "    # para cada item na lista *info* adiciona-se no dicionário *card* a key \n",
        "    #(nome da class) e o value (conteudo da class)\n",
        "\n",
        "    for item in info:\n",
        "        card[item.get('class')[0].split('-')[-1]] = item.get_text()\n",
        "        \n",
        "    # Acessórios -------------------------------------------------------\n",
        "    itens = anuncio.find('div', {'class':'body-card'}).ul.findAll('li')\n",
        "    itens.pop()\n",
        "\n",
        "    acessorios = []\n",
        "    for item in itens:\n",
        "        acessorios.append(item.get_text().replace('► ', ''))\n",
        "    card['items'] = acessorios\n",
        "    \n",
        "    # Adicionando resultados à lista \"cards\" ---------------------------\n",
        "    \n",
        "    cards.append(card)\n",
        "    \n",
        "    # Imagens ----------------------------------------------------------\n",
        "    image = anuncio.find('div', 'image-card').img\n",
        "    urlretrieve(image.get('src'), './output/img/' + image.get('src').split('/')[-1])"
      ],
      "metadata": {
        "id": "DbuQLXGf97Si"
      },
      "execution_count": 127,
      "outputs": []
    },
    {
      "cell_type": "markdown",
      "source": [
        "### **6.2.6 Criando DataFrame**"
      ],
      "metadata": {
        "id": "0S_-KBmg-GV3"
      }
    },
    {
      "cell_type": "code",
      "source": [
        "# Criando um DataFrame com os resultados\n",
        "dataset = pd.DataFrame(cards)\n",
        "dataset.to_csv('./output/data/dataset.csv', sep=';', index=False, encoding='utf-8-sig')\n",
        "dataset"
      ],
      "metadata": {
        "colab": {
          "base_uri": "https://localhost:8080/",
          "height": 677
        },
        "id": "NmsANpz3-GKI",
        "outputId": "d405a919-1f5d-48e1-b049-e20a7ffb7a89"
      },
      "execution_count": 128,
      "outputs": [
        {
          "output_type": "execute_result",
          "data": {
            "text/html": [
              "\n",
              "  <div id=\"df-473f110c-3d1d-483d-b7dc-0a14a81546ce\">\n",
              "    <div class=\"colab-df-container\">\n",
              "      <div>\n",
              "<style scoped>\n",
              "    .dataframe tbody tr th:only-of-type {\n",
              "        vertical-align: middle;\n",
              "    }\n",
              "\n",
              "    .dataframe tbody tr th {\n",
              "        vertical-align: top;\n",
              "    }\n",
              "\n",
              "    .dataframe thead th {\n",
              "        text-align: right;\n",
              "    }\n",
              "</style>\n",
              "<table border=\"1\" class=\"dataframe\">\n",
              "  <thead>\n",
              "    <tr style=\"text-align: right;\">\n",
              "      <th></th>\n",
              "      <th>value</th>\n",
              "      <th>name</th>\n",
              "      <th>category</th>\n",
              "      <th>motor</th>\n",
              "      <th>description</th>\n",
              "      <th>location</th>\n",
              "      <th>items</th>\n",
              "      <th>opportunity</th>\n",
              "    </tr>\n",
              "  </thead>\n",
              "  <tbody>\n",
              "    <tr>\n",
              "      <th>0</th>\n",
              "      <td>R$ 338.000</td>\n",
              "      <td>LAMBORGHINI AVENTADOR</td>\n",
              "      <td>USADO</td>\n",
              "      <td>Motor 1.8 16v</td>\n",
              "      <td>Ano 1993 - 55.286 km</td>\n",
              "      <td>Belo Horizonte - MG</td>\n",
              "      <td>[4 X 4, Câmera de estacionamento, Controle de ...</td>\n",
              "      <td>NaN</td>\n",
              "    </tr>\n",
              "    <tr>\n",
              "      <th>1</th>\n",
              "      <td>R$ 346.000</td>\n",
              "      <td>BMW M2</td>\n",
              "      <td>USADO</td>\n",
              "      <td>Motor 3.0 32v</td>\n",
              "      <td>Ano 2018 - 83.447 km</td>\n",
              "      <td>Belo Horizonte - MG</td>\n",
              "      <td>[Câmera de estacionamento, Controle de estabil...</td>\n",
              "      <td>NaN</td>\n",
              "    </tr>\n",
              "    <tr>\n",
              "      <th>2</th>\n",
              "      <td>R$ 480.000</td>\n",
              "      <td>ALFA</td>\n",
              "      <td>USADO</td>\n",
              "      <td>Motor 1.8 16v</td>\n",
              "      <td>Ano 2004 - 19.722 km</td>\n",
              "      <td>Rio de Janeiro - RJ</td>\n",
              "      <td>[Central multimídia, Bancos de couro, Rodas de...</td>\n",
              "      <td>NaN</td>\n",
              "    </tr>\n",
              "    <tr>\n",
              "      <th>3</th>\n",
              "      <td>R$ 133.000</td>\n",
              "      <td>PUECH</td>\n",
              "      <td>USADO</td>\n",
              "      <td>Motor Diesel V8</td>\n",
              "      <td>Ano 1992 - 34.335 km</td>\n",
              "      <td>São Paulo - SP</td>\n",
              "      <td>[Bancos de couro, Freios ABS, Rodas de liga, C...</td>\n",
              "      <td>NaN</td>\n",
              "    </tr>\n",
              "    <tr>\n",
              "      <th>4</th>\n",
              "      <td>R$ 175.000</td>\n",
              "      <td>LAMBORGHINI MURCIELAGO</td>\n",
              "      <td>USADO</td>\n",
              "      <td>Motor 1.0 8v</td>\n",
              "      <td>Ano 1991 - 464 km</td>\n",
              "      <td>Belo Horizonte - MG</td>\n",
              "      <td>[Central multimídia, Teto panorâmico, Sensor c...</td>\n",
              "      <td>NaN</td>\n",
              "    </tr>\n",
              "    <tr>\n",
              "      <th>5</th>\n",
              "      <td>R$ 239.000</td>\n",
              "      <td>ASTON MARTIN</td>\n",
              "      <td>USADO</td>\n",
              "      <td>Motor Diesel V6</td>\n",
              "      <td>Ano 2004 - 50.189 km</td>\n",
              "      <td>Belo Horizonte - MG</td>\n",
              "      <td>[Painel digital, Controle de tração, Teto pano...</td>\n",
              "      <td>OPORTUNIDADE</td>\n",
              "    </tr>\n",
              "    <tr>\n",
              "      <th>6</th>\n",
              "      <td>R$ 115.000</td>\n",
              "      <td>TVR</td>\n",
              "      <td>USADO</td>\n",
              "      <td>Motor 4.0 Turbo</td>\n",
              "      <td>Ano 2014 - 17.778 km</td>\n",
              "      <td>Belo Horizonte - MG</td>\n",
              "      <td>[4 X 4, Teto panorâmico, Central multimídia, C...</td>\n",
              "      <td>NaN</td>\n",
              "    </tr>\n",
              "    <tr>\n",
              "      <th>7</th>\n",
              "      <td>R$ 114.000</td>\n",
              "      <td>EXCALIBUR</td>\n",
              "      <td>USADO</td>\n",
              "      <td>Motor 3.0 32v</td>\n",
              "      <td>Ano 2009 - 81.251 km</td>\n",
              "      <td>Rio de Janeiro - RJ</td>\n",
              "      <td>[Painel digital, Câmbio automático, Sensor de ...</td>\n",
              "      <td>NaN</td>\n",
              "    </tr>\n",
              "    <tr>\n",
              "      <th>8</th>\n",
              "      <td>R$ 75.000</td>\n",
              "      <td>MCLAREN</td>\n",
              "      <td>NOVO</td>\n",
              "      <td>Motor Diesel</td>\n",
              "      <td>Ano 2019 - 0 km</td>\n",
              "      <td>São Paulo - SP</td>\n",
              "      <td>[Central multimídia, Câmera de estacionamento,...</td>\n",
              "      <td>NaN</td>\n",
              "    </tr>\n",
              "    <tr>\n",
              "      <th>9</th>\n",
              "      <td>R$ 117.000</td>\n",
              "      <td>TOYOTA</td>\n",
              "      <td>USADO</td>\n",
              "      <td>Motor 4.0 Turbo</td>\n",
              "      <td>Ano 1999 - 12.536 km</td>\n",
              "      <td>São Paulo - SP</td>\n",
              "      <td>[Bancos de couro, Freios ABS, Piloto automátic...</td>\n",
              "      <td>OPORTUNIDADE</td>\n",
              "    </tr>\n",
              "    <tr>\n",
              "      <th>10</th>\n",
              "      <td>R$ 338.000</td>\n",
              "      <td>LAMBORGHINI AVENTADOR</td>\n",
              "      <td>USADO</td>\n",
              "      <td>Motor 1.8 16v</td>\n",
              "      <td>Ano 1993 - 55.286 km</td>\n",
              "      <td>Belo Horizonte - MG</td>\n",
              "      <td>[4 X 4, Câmera de estacionamento, Controle de ...</td>\n",
              "      <td>NaN</td>\n",
              "    </tr>\n",
              "    <tr>\n",
              "      <th>11</th>\n",
              "      <td>R$ 346.000</td>\n",
              "      <td>BMW M2</td>\n",
              "      <td>USADO</td>\n",
              "      <td>Motor 3.0 32v</td>\n",
              "      <td>Ano 2018 - 83.447 km</td>\n",
              "      <td>Belo Horizonte - MG</td>\n",
              "      <td>[Câmera de estacionamento, Controle de estabil...</td>\n",
              "      <td>NaN</td>\n",
              "    </tr>\n",
              "    <tr>\n",
              "      <th>12</th>\n",
              "      <td>R$ 480.000</td>\n",
              "      <td>ALFA</td>\n",
              "      <td>USADO</td>\n",
              "      <td>Motor 1.8 16v</td>\n",
              "      <td>Ano 2004 - 19.722 km</td>\n",
              "      <td>Rio de Janeiro - RJ</td>\n",
              "      <td>[Central multimídia, Bancos de couro, Rodas de...</td>\n",
              "      <td>NaN</td>\n",
              "    </tr>\n",
              "    <tr>\n",
              "      <th>13</th>\n",
              "      <td>R$ 133.000</td>\n",
              "      <td>PUECH</td>\n",
              "      <td>USADO</td>\n",
              "      <td>Motor Diesel V8</td>\n",
              "      <td>Ano 1992 - 34.335 km</td>\n",
              "      <td>São Paulo - SP</td>\n",
              "      <td>[Bancos de couro, Freios ABS, Rodas de liga, C...</td>\n",
              "      <td>NaN</td>\n",
              "    </tr>\n",
              "    <tr>\n",
              "      <th>14</th>\n",
              "      <td>R$ 175.000</td>\n",
              "      <td>LAMBORGHINI MURCIELAGO</td>\n",
              "      <td>USADO</td>\n",
              "      <td>Motor 1.0 8v</td>\n",
              "      <td>Ano 1991 - 464 km</td>\n",
              "      <td>Belo Horizonte - MG</td>\n",
              "      <td>[Central multimídia, Teto panorâmico, Sensor c...</td>\n",
              "      <td>NaN</td>\n",
              "    </tr>\n",
              "    <tr>\n",
              "      <th>15</th>\n",
              "      <td>R$ 239.000</td>\n",
              "      <td>ASTON MARTIN</td>\n",
              "      <td>USADO</td>\n",
              "      <td>Motor Diesel V6</td>\n",
              "      <td>Ano 2004 - 50.189 km</td>\n",
              "      <td>Belo Horizonte - MG</td>\n",
              "      <td>[Painel digital, Controle de tração, Teto pano...</td>\n",
              "      <td>OPORTUNIDADE</td>\n",
              "    </tr>\n",
              "    <tr>\n",
              "      <th>16</th>\n",
              "      <td>R$ 115.000</td>\n",
              "      <td>TVR</td>\n",
              "      <td>USADO</td>\n",
              "      <td>Motor 4.0 Turbo</td>\n",
              "      <td>Ano 2014 - 17.778 km</td>\n",
              "      <td>Belo Horizonte - MG</td>\n",
              "      <td>[4 X 4, Teto panorâmico, Central multimídia, C...</td>\n",
              "      <td>NaN</td>\n",
              "    </tr>\n",
              "    <tr>\n",
              "      <th>17</th>\n",
              "      <td>R$ 114.000</td>\n",
              "      <td>EXCALIBUR</td>\n",
              "      <td>USADO</td>\n",
              "      <td>Motor 3.0 32v</td>\n",
              "      <td>Ano 2009 - 81.251 km</td>\n",
              "      <td>Rio de Janeiro - RJ</td>\n",
              "      <td>[Painel digital, Câmbio automático, Sensor de ...</td>\n",
              "      <td>NaN</td>\n",
              "    </tr>\n",
              "    <tr>\n",
              "      <th>18</th>\n",
              "      <td>R$ 75.000</td>\n",
              "      <td>MCLAREN</td>\n",
              "      <td>NOVO</td>\n",
              "      <td>Motor Diesel</td>\n",
              "      <td>Ano 2019 - 0 km</td>\n",
              "      <td>São Paulo - SP</td>\n",
              "      <td>[Central multimídia, Câmera de estacionamento,...</td>\n",
              "      <td>NaN</td>\n",
              "    </tr>\n",
              "    <tr>\n",
              "      <th>19</th>\n",
              "      <td>R$ 117.000</td>\n",
              "      <td>TOYOTA</td>\n",
              "      <td>USADO</td>\n",
              "      <td>Motor 4.0 Turbo</td>\n",
              "      <td>Ano 1999 - 12.536 km</td>\n",
              "      <td>São Paulo - SP</td>\n",
              "      <td>[Bancos de couro, Freios ABS, Piloto automátic...</td>\n",
              "      <td>OPORTUNIDADE</td>\n",
              "    </tr>\n",
              "  </tbody>\n",
              "</table>\n",
              "</div>\n",
              "      <button class=\"colab-df-convert\" onclick=\"convertToInteractive('df-473f110c-3d1d-483d-b7dc-0a14a81546ce')\"\n",
              "              title=\"Convert this dataframe to an interactive table.\"\n",
              "              style=\"display:none;\">\n",
              "        \n",
              "  <svg xmlns=\"http://www.w3.org/2000/svg\" height=\"24px\"viewBox=\"0 0 24 24\"\n",
              "       width=\"24px\">\n",
              "    <path d=\"M0 0h24v24H0V0z\" fill=\"none\"/>\n",
              "    <path d=\"M18.56 5.44l.94 2.06.94-2.06 2.06-.94-2.06-.94-.94-2.06-.94 2.06-2.06.94zm-11 1L8.5 8.5l.94-2.06 2.06-.94-2.06-.94L8.5 2.5l-.94 2.06-2.06.94zm10 10l.94 2.06.94-2.06 2.06-.94-2.06-.94-.94-2.06-.94 2.06-2.06.94z\"/><path d=\"M17.41 7.96l-1.37-1.37c-.4-.4-.92-.59-1.43-.59-.52 0-1.04.2-1.43.59L10.3 9.45l-7.72 7.72c-.78.78-.78 2.05 0 2.83L4 21.41c.39.39.9.59 1.41.59.51 0 1.02-.2 1.41-.59l7.78-7.78 2.81-2.81c.8-.78.8-2.07 0-2.86zM5.41 20L4 18.59l7.72-7.72 1.47 1.35L5.41 20z\"/>\n",
              "  </svg>\n",
              "      </button>\n",
              "      \n",
              "  <style>\n",
              "    .colab-df-container {\n",
              "      display:flex;\n",
              "      flex-wrap:wrap;\n",
              "      gap: 12px;\n",
              "    }\n",
              "\n",
              "    .colab-df-convert {\n",
              "      background-color: #E8F0FE;\n",
              "      border: none;\n",
              "      border-radius: 50%;\n",
              "      cursor: pointer;\n",
              "      display: none;\n",
              "      fill: #1967D2;\n",
              "      height: 32px;\n",
              "      padding: 0 0 0 0;\n",
              "      width: 32px;\n",
              "    }\n",
              "\n",
              "    .colab-df-convert:hover {\n",
              "      background-color: #E2EBFA;\n",
              "      box-shadow: 0px 1px 2px rgba(60, 64, 67, 0.3), 0px 1px 3px 1px rgba(60, 64, 67, 0.15);\n",
              "      fill: #174EA6;\n",
              "    }\n",
              "\n",
              "    [theme=dark] .colab-df-convert {\n",
              "      background-color: #3B4455;\n",
              "      fill: #D2E3FC;\n",
              "    }\n",
              "\n",
              "    [theme=dark] .colab-df-convert:hover {\n",
              "      background-color: #434B5C;\n",
              "      box-shadow: 0px 1px 3px 1px rgba(0, 0, 0, 0.15);\n",
              "      filter: drop-shadow(0px 1px 2px rgba(0, 0, 0, 0.3));\n",
              "      fill: #FFFFFF;\n",
              "    }\n",
              "  </style>\n",
              "\n",
              "      <script>\n",
              "        const buttonEl =\n",
              "          document.querySelector('#df-473f110c-3d1d-483d-b7dc-0a14a81546ce button.colab-df-convert');\n",
              "        buttonEl.style.display =\n",
              "          google.colab.kernel.accessAllowed ? 'block' : 'none';\n",
              "\n",
              "        async function convertToInteractive(key) {\n",
              "          const element = document.querySelector('#df-473f110c-3d1d-483d-b7dc-0a14a81546ce');\n",
              "          const dataTable =\n",
              "            await google.colab.kernel.invokeFunction('convertToInteractive',\n",
              "                                                     [key], {});\n",
              "          if (!dataTable) return;\n",
              "\n",
              "          const docLinkHtml = 'Like what you see? Visit the ' +\n",
              "            '<a target=\"_blank\" href=https://colab.research.google.com/notebooks/data_table.ipynb>data table notebook</a>'\n",
              "            + ' to learn more about interactive tables.';\n",
              "          element.innerHTML = '';\n",
              "          dataTable['output_type'] = 'display_data';\n",
              "          await google.colab.output.renderOutput(dataTable, element);\n",
              "          const docLink = document.createElement('div');\n",
              "          docLink.innerHTML = docLinkHtml;\n",
              "          element.appendChild(docLink);\n",
              "        }\n",
              "      </script>\n",
              "    </div>\n",
              "  </div>\n",
              "  "
            ],
            "text/plain": [
              "         value  ...   opportunity\n",
              "0   R$ 338.000  ...           NaN\n",
              "1   R$ 346.000  ...           NaN\n",
              "2   R$ 480.000  ...           NaN\n",
              "3   R$ 133.000  ...           NaN\n",
              "4   R$ 175.000  ...           NaN\n",
              "5   R$ 239.000  ...  OPORTUNIDADE\n",
              "6   R$ 115.000  ...           NaN\n",
              "7   R$ 114.000  ...           NaN\n",
              "8    R$ 75.000  ...           NaN\n",
              "9   R$ 117.000  ...  OPORTUNIDADE\n",
              "10  R$ 338.000  ...           NaN\n",
              "11  R$ 346.000  ...           NaN\n",
              "12  R$ 480.000  ...           NaN\n",
              "13  R$ 133.000  ...           NaN\n",
              "14  R$ 175.000  ...           NaN\n",
              "15  R$ 239.000  ...  OPORTUNIDADE\n",
              "16  R$ 115.000  ...           NaN\n",
              "17  R$ 114.000  ...           NaN\n",
              "18   R$ 75.000  ...           NaN\n",
              "19  R$ 117.000  ...  OPORTUNIDADE\n",
              "\n",
              "[20 rows x 8 columns]"
            ]
          },
          "metadata": {},
          "execution_count": 128
        }
      ]
    },
    {
      "cell_type": "markdown",
      "source": [
        "## **7. WEB SCRAPING DO SITE ALURA MOTORS - OBTENDO OS DADOS DE TODOS OS ANÚNCIOS DO SITE**"
      ],
      "metadata": {
        "id": "hHTqkbtuBuq-"
      }
    },
    {
      "cell_type": "markdown",
      "source": [
        "### **7.1. Identificando as informações no HTML**"
      ],
      "metadata": {
        "id": "X7UIwn2hB1fU"
      }
    },
    {
      "cell_type": "code",
      "source": [
        "# Busca o número de itens por página e converte para inteiro\n",
        "int(soup.find('span', {'class':'info-pages'}).get_text().split()[-1])"
      ],
      "metadata": {
        "colab": {
          "base_uri": "https://localhost:8080/"
        },
        "id": "hxRyOMOdB6ln",
        "outputId": "d81076d1-5c2f-455a-8bcf-3223593c2ad2"
      },
      "execution_count": 133,
      "outputs": [
        {
          "output_type": "execute_result",
          "data": {
            "text/plain": [
              "25"
            ]
          },
          "metadata": {},
          "execution_count": 133
        }
      ]
    },
    {
      "cell_type": "markdown",
      "source": [
        "### **7.2. Criando uma rotina de scraping**"
      ],
      "metadata": {
        "id": "Ax4m81_QC_Wd"
      }
    },
    {
      "cell_type": "code",
      "source": [
        "from urllib.request import urlopen, urlretrieve\n",
        "from bs4 import BeautifulSoup\n",
        "import pandas as pd"
      ],
      "metadata": {
        "id": "HNnTnA6jC_Mm"
      },
      "execution_count": 134,
      "outputs": []
    },
    {
      "cell_type": "code",
      "source": [
        "# criando a lista *cards*\n",
        "cards = []\n",
        "\n",
        "# obtendo a HTML e a quantidade de páginas atuais\n",
        "response = urlopen('https://alura-site-scraping.herokuapp.com/index.php')\n",
        "html = response.read().decode('utf-8')\n",
        "soup = BeautifulSoup(html, 'html.parser')\n",
        "pages = int(soup.find('span', {'class':'info-pages'}).get_text().split()[-1])\n",
        "\n",
        "# iteração de páginas\n",
        "\n",
        "for item in range(pages):\n",
        "    \n",
        "    #obtendo a HTML\n",
        "    response = urlopen('https://alura-site-scraping.herokuapp.com/index.php?page=' + str(item + 1))\n",
        "    html = response.read().decode('utf-8')\n",
        "    soup = BeautifulSoup(html, 'html.parser')\n",
        "    \n",
        "    #tag de interesse\n",
        "    anuncios = soup.find('div', {'id':'container-cards'}).findAll('div', class_='card')\n",
        "    \n",
        "    for anuncio in anuncios:\n",
        "        card = {}\n",
        "\n",
        "        # Valor ------------------------------------------------------------\n",
        "        card['value'] = anuncio.find('p', {'class':'txt-value'}).get_text()\n",
        "\n",
        "        # Informações ------------------------------------------------------\n",
        "        # coletando todas as tag's <P> da div *body-card*\n",
        "        info = anuncio.find('div', {'class':'body-card'}).findAll('p')\n",
        "\n",
        "        # para cada item na lista *info* adiciona-se no dicionário *card* a key \n",
        "        #(nome da class) e o value (conteudo da class)\n",
        "\n",
        "        for item in info:\n",
        "            card[item.get('class')[0].split('-')[-1]] = item.get_text()\n",
        "\n",
        "        # Acessórios -------------------------------------------------------\n",
        "        itens = anuncio.find('div', {'class':'body-card'}).ul.findAll('li')\n",
        "        itens.pop()\n",
        "\n",
        "        acessorios = []\n",
        "        for item in itens:\n",
        "            acessorios.append(item.get_text().replace('► ', ''))\n",
        "        card['items'] = acessorios\n",
        "\n",
        "        # Adicionando resultados à lista \"cards\" ---------------------------\n",
        "\n",
        "        cards.append(card)\n",
        "\n",
        "        # Imagens ----------------------------------------------------------\n",
        "        image = anuncio.find('div', 'image-card').img\n",
        "        from urllib.request import urlretrieve\n",
        "\n",
        "        urlretrieve(image.get('src'), './output/img/' + image.get('src').split('/')[-1])"
      ],
      "metadata": {
        "id": "2d8z5HPGDO5a"
      },
      "execution_count": 135,
      "outputs": []
    },
    {
      "cell_type": "code",
      "source": [
        "cards"
      ],
      "metadata": {
        "colab": {
          "base_uri": "https://localhost:8080/"
        },
        "id": "b6-cd8rPE41q",
        "outputId": "e95eb50a-9021-4388-c49f-6236ef93d768"
      },
      "execution_count": 138,
      "outputs": [
        {
          "output_type": "execute_result",
          "data": {
            "text/plain": [
              "[{'category': 'USADO',\n",
              "  'description': 'Ano 1993 - 55.286 km',\n",
              "  'items': ['4 X 4',\n",
              "   'Câmera de estacionamento',\n",
              "   'Controle de tração',\n",
              "   'Sensor de estacionamento'],\n",
              "  'location': 'Belo Horizonte - MG',\n",
              "  'motor': 'Motor 1.8 16v',\n",
              "  'name': 'LAMBORGHINI AVENTADOR',\n",
              "  'value': 'R$ 338.000'},\n",
              " {'category': 'USADO',\n",
              "  'description': 'Ano 2018 - 83.447 km',\n",
              "  'items': ['Câmera de estacionamento',\n",
              "   'Controle de estabilidade',\n",
              "   'Travas elétricas',\n",
              "   'Freios ABS'],\n",
              "  'location': 'Belo Horizonte - MG',\n",
              "  'motor': 'Motor 3.0 32v',\n",
              "  'name': 'BMW M2',\n",
              "  'value': 'R$ 346.000'},\n",
              " {'category': 'USADO',\n",
              "  'description': 'Ano 2004 - 19.722 km',\n",
              "  'items': ['Central multimídia',\n",
              "   'Bancos de couro',\n",
              "   'Rodas de liga',\n",
              "   'Câmera de estacionamento'],\n",
              "  'location': 'Rio de Janeiro - RJ',\n",
              "  'motor': 'Motor 1.8 16v',\n",
              "  'name': 'ALFA',\n",
              "  'value': 'R$ 480.000'},\n",
              " {'category': 'USADO',\n",
              "  'description': 'Ano 1992 - 34.335 km',\n",
              "  'items': ['Bancos de couro',\n",
              "   'Freios ABS',\n",
              "   'Rodas de liga',\n",
              "   'Câmbio automático'],\n",
              "  'location': 'São Paulo - SP',\n",
              "  'motor': 'Motor Diesel V8',\n",
              "  'name': 'PUECH',\n",
              "  'value': 'R$ 133.000'},\n",
              " {'category': 'USADO',\n",
              "  'description': 'Ano 1991 - 464 km',\n",
              "  'items': ['Central multimídia',\n",
              "   'Teto panorâmico',\n",
              "   'Sensor crepuscular',\n",
              "   'Piloto automático'],\n",
              "  'location': 'Belo Horizonte - MG',\n",
              "  'motor': 'Motor 1.0 8v',\n",
              "  'name': 'LAMBORGHINI MURCIELAGO',\n",
              "  'value': 'R$ 175.000'},\n",
              " {'category': 'USADO',\n",
              "  'description': 'Ano 2004 - 50.189 km',\n",
              "  'items': ['Painel digital',\n",
              "   'Controle de tração',\n",
              "   'Teto panorâmico',\n",
              "   'Central multimídia'],\n",
              "  'location': 'Belo Horizonte - MG',\n",
              "  'motor': 'Motor Diesel V6',\n",
              "  'name': 'ASTON MARTIN',\n",
              "  'opportunity': 'OPORTUNIDADE',\n",
              "  'value': 'R$ 239.000'},\n",
              " {'category': 'USADO',\n",
              "  'description': 'Ano 2014 - 17.778 km',\n",
              "  'items': ['4 X 4',\n",
              "   'Teto panorâmico',\n",
              "   'Central multimídia',\n",
              "   'Controle de estabilidade'],\n",
              "  'location': 'Belo Horizonte - MG',\n",
              "  'motor': 'Motor 4.0 Turbo',\n",
              "  'name': 'TVR',\n",
              "  'value': 'R$ 115.000'},\n",
              " {'category': 'USADO',\n",
              "  'description': 'Ano 2009 - 81.251 km',\n",
              "  'items': ['Painel digital',\n",
              "   'Câmbio automático',\n",
              "   'Sensor de chuva',\n",
              "   'Travas elétricas'],\n",
              "  'location': 'Rio de Janeiro - RJ',\n",
              "  'motor': 'Motor 3.0 32v',\n",
              "  'name': 'EXCALIBUR',\n",
              "  'value': 'R$ 114.000'},\n",
              " {'category': 'NOVO',\n",
              "  'description': 'Ano 2019 - 0 km',\n",
              "  'items': ['Central multimídia',\n",
              "   'Câmera de estacionamento',\n",
              "   'Câmbio automático',\n",
              "   'Ar condicionado'],\n",
              "  'location': 'São Paulo - SP',\n",
              "  'motor': 'Motor Diesel',\n",
              "  'name': 'MCLAREN',\n",
              "  'value': 'R$ 75.000'},\n",
              " {'category': 'USADO',\n",
              "  'description': 'Ano 1999 - 12.536 km',\n",
              "  'items': ['Bancos de couro',\n",
              "   'Freios ABS',\n",
              "   'Piloto automático',\n",
              "   'Controle de estabilidade'],\n",
              "  'location': 'São Paulo - SP',\n",
              "  'motor': 'Motor 4.0 Turbo',\n",
              "  'name': 'TOYOTA',\n",
              "  'opportunity': 'OPORTUNIDADE',\n",
              "  'value': 'R$ 117.000'},\n",
              " {'category': 'NOVO',\n",
              "  'description': 'Ano 2019 - 0 km',\n",
              "  'items': ['Teto panorâmico',\n",
              "   'Controle de tração',\n",
              "   'Sensor crepuscular',\n",
              "   '4 X 4'],\n",
              "  'location': 'Rio de Janeiro - RJ',\n",
              "  'motor': 'Motor 1.0 8v',\n",
              "  'name': 'VOLKSWAGEN BEETLE',\n",
              "  'value': 'R$ 177.000'},\n",
              " {'category': 'USADO',\n",
              "  'description': 'Ano 2011 - 107.484 km',\n",
              "  'items': ['Ar condicionado',\n",
              "   'Travas elétricas',\n",
              "   'Rodas de liga',\n",
              "   'Bancos de couro'],\n",
              "  'location': 'Belo Horizonte - MG',\n",
              "  'motor': 'Motor 3.0 32v',\n",
              "  'name': 'SPIRIT OF ECSTASY',\n",
              "  'value': 'R$ 322.000'},\n",
              " {'category': 'USADO',\n",
              "  'description': 'Ano 1992 - 908 km',\n",
              "  'items': ['Piloto automático',\n",
              "   'Painel digital',\n",
              "   'Ar condicionado',\n",
              "   'Vidros elétricos'],\n",
              "  'location': 'Rio de Janeiro - RJ',\n",
              "  'motor': 'Motor 3.0 32v',\n",
              "  'name': 'PORSCHE 911 GT2RS',\n",
              "  'value': 'R$ 194.000'},\n",
              " {'category': 'USADO',\n",
              "  'description': 'Ano 2015 - 22.485 km',\n",
              "  'items': ['Sensor crepuscular',\n",
              "   'Painel digital',\n",
              "   'Teto panorâmico',\n",
              "   'Vidros elétricos'],\n",
              "  'location': 'São Paulo - SP',\n",
              "  'motor': 'Motor 2.4 Turbo',\n",
              "  'name': 'KOENIGSEGG',\n",
              "  'value': 'R$ 469.000'},\n",
              " {'category': 'USADO',\n",
              "  'description': 'Ano 1996 - 23.007 km',\n",
              "  'items': ['4 X 4',\n",
              "   'Câmera de estacionamento',\n",
              "   'Painel digital',\n",
              "   'Controle de tração'],\n",
              "  'location': 'Belo Horizonte - MG',\n",
              "  'motor': 'Motor Diesel V6',\n",
              "  'name': 'LIMOUSINE',\n",
              "  'opportunity': 'OPORTUNIDADE',\n",
              "  'value': 'R$ 424.000'},\n",
              " {'category': 'USADO',\n",
              "  'description': 'Ano 2002 - 106.389 km',\n",
              "  'items': ['Rodas de liga',\n",
              "   'Bancos de couro',\n",
              "   'Freios ABS',\n",
              "   'Travas elétricas'],\n",
              "  'location': 'Belo Horizonte - MG',\n",
              "  'motor': 'Motor 4.0 Turbo',\n",
              "  'name': 'FERRARI FF',\n",
              "  'value': 'R$ 291.000'},\n",
              " {'category': 'USADO',\n",
              "  'description': 'Ano 1990 - 78.181 km',\n",
              "  'items': ['Freios ABS',\n",
              "   'Piloto automático',\n",
              "   'Controle de estabilidade',\n",
              "   'Vidros elétricos'],\n",
              "  'location': 'Rio de Janeiro - RJ',\n",
              "  'motor': 'Motor 5.0 V8 Bi-Turbo',\n",
              "  'name': 'OFFENBURG',\n",
              "  'value': 'R$ 96.000'},\n",
              " {'category': 'USADO',\n",
              "  'description': 'Ano 1998 - 86.001 km',\n",
              "  'items': ['Sensor de estacionamento',\n",
              "   'Ar condicionado',\n",
              "   'Central multimídia',\n",
              "   'Travas elétricas'],\n",
              "  'location': 'São Paulo - SP',\n",
              "  'motor': 'Motor Diesel V8',\n",
              "  'name': 'MUSTANG',\n",
              "  'value': 'R$ 271.000'},\n",
              " {'category': 'NOVO',\n",
              "  'description': 'Ano 2019 - 0 km',\n",
              "  'items': ['Rodas de liga',\n",
              "   'Controle de tração',\n",
              "   'Freios ABS',\n",
              "   'Sensor de estacionamento'],\n",
              "  'location': 'Rio de Janeiro - RJ',\n",
              "  'motor': 'Motor 2.4 Turbo',\n",
              "  'name': 'LUXURY',\n",
              "  'value': 'R$ 387.000'},\n",
              " {'category': 'USADO',\n",
              "  'description': 'Ano 2017 - 10.747 km',\n",
              "  'items': ['Painel digital',\n",
              "   'Central multimídia',\n",
              "   'Vidros elétricos',\n",
              "   'Ar condicionado'],\n",
              "  'location': 'Rio de Janeiro - RJ',\n",
              "  'motor': 'Motor 3.0 32v',\n",
              "  'name': 'BMW M5',\n",
              "  'value': 'R$ 483.000'},\n",
              " {'category': 'USADO',\n",
              "  'description': 'Ano 1991 - 28.617 km',\n",
              "  'items': ['Painel digital',\n",
              "   'Controle de estabilidade',\n",
              "   '4 X 4',\n",
              "   'Sensor de chuva'],\n",
              "  'location': 'Belo Horizonte - MG',\n",
              "  'motor': 'Motor Diesel',\n",
              "  'name': 'PORSCHE 911 GT3RS',\n",
              "  'value': 'R$ 285.000'},\n",
              " {'category': 'NOVO',\n",
              "  'description': 'Ano 2019 - 0 km',\n",
              "  'items': ['Ar condicionado',\n",
              "   'Travas elétricas',\n",
              "   'Sensor de chuva',\n",
              "   'Bancos de couro'],\n",
              "  'location': 'Belo Horizonte - MG',\n",
              "  'motor': 'Motor V8',\n",
              "  'name': 'GOLD',\n",
              "  'value': 'R$ 357.000'},\n",
              " {'category': 'NOVO',\n",
              "  'description': 'Ano 2019 - 0 km',\n",
              "  'items': ['Sensor de estacionamento',\n",
              "   'Teto panorâmico',\n",
              "   'Sensor crepuscular',\n",
              "   'Ar condicionado'],\n",
              "  'location': 'Belo Horizonte - MG',\n",
              "  'motor': 'Motor Diesel V6',\n",
              "  'name': 'CABRIOLET',\n",
              "  'opportunity': 'OPORTUNIDADE',\n",
              "  'value': 'R$ 106.000'},\n",
              " {'category': 'USADO',\n",
              "  'description': 'Ano 2009 - 67.480 km',\n",
              "  'items': ['Rodas de liga',\n",
              "   'Câmera de estacionamento',\n",
              "   'Sensor crepuscular',\n",
              "   'Travas elétricas'],\n",
              "  'location': 'Rio de Janeiro - RJ',\n",
              "  'motor': 'Motor 2.0 16v',\n",
              "  'name': 'CHRYSLER 300',\n",
              "  'value': 'R$ 439.000'},\n",
              " {'category': 'NOVO',\n",
              "  'description': 'Ano 2019 - 0 km',\n",
              "  'items': ['Painel digital',\n",
              "   'Teto panorâmico',\n",
              "   'Travas elétricas',\n",
              "   'Sensor de estacionamento'],\n",
              "  'location': 'Rio de Janeiro - RJ',\n",
              "  'motor': 'Motor 4.0 Turbo',\n",
              "  'name': 'CLASSIC',\n",
              "  'value': 'R$ 143.000'},\n",
              " {'category': 'USADO',\n",
              "  'description': 'Ano 1999 - 85.451 km',\n",
              "  'items': ['Freios ABS', '4 X 4', 'Sensor de chuva', 'Rodas de liga'],\n",
              "  'location': 'Belo Horizonte - MG',\n",
              "  'motor': 'Motor 2.0 16v',\n",
              "  'name': 'DODGE',\n",
              "  'value': 'R$ 155.000'},\n",
              " {'category': 'NOVO',\n",
              "  'description': 'Ano 2019 - 0 km',\n",
              "  'items': ['Travas elétricas',\n",
              "   'Câmbio automático',\n",
              "   'Bancos de couro',\n",
              "   'Teto panorâmico'],\n",
              "  'location': 'São Paulo - SP',\n",
              "  'motor': 'Motor 5.0 V8 Bi-Turbo',\n",
              "  'name': 'VINTAGE AUTOMOBILE',\n",
              "  'value': 'R$ 337.000'},\n",
              " {'category': 'USADO',\n",
              "  'description': 'Ano 1996 - 107.305 km',\n",
              "  'items': ['Piloto automático',\n",
              "   'Controle de estabilidade',\n",
              "   'Freios ABS',\n",
              "   'Ar condicionado'],\n",
              "  'location': 'Belo Horizonte - MG',\n",
              "  'motor': 'Motor 1.8 16v',\n",
              "  'name': 'CORVETTE',\n",
              "  'value': 'R$ 89.000'},\n",
              " {'category': 'USADO',\n",
              "  'description': 'Ano 1997 - 119.942 km',\n",
              "  'items': ['Central multimídia',\n",
              "   'Piloto automático',\n",
              "   'Sensor de estacionamento',\n",
              "   'Ar condicionado'],\n",
              "  'location': 'Rio de Janeiro - RJ',\n",
              "  'motor': 'Motor 4.0 Turbo',\n",
              "  'name': 'OPEL',\n",
              "  'value': 'R$ 193.000'},\n",
              " {'category': 'USADO',\n",
              "  'description': 'Ano 1993 - 86.338 km',\n",
              "  'items': ['Painel digital', 'Travas elétricas', 'Vidros elétricos', '4 X 4'],\n",
              "  'location': 'Belo Horizonte - MG',\n",
              "  'motor': 'Motor 1.8 16v',\n",
              "  'name': 'AUDI R8',\n",
              "  'value': 'R$ 356.000'},\n",
              " {'category': 'NOVO',\n",
              "  'description': 'Ano 2019 - 0 km',\n",
              "  'items': ['Câmbio automático',\n",
              "   'Sensor de chuva',\n",
              "   'Controle de tração',\n",
              "   'Teto panorâmico'],\n",
              "  'location': 'Rio de Janeiro - RJ',\n",
              "  'motor': 'Motor Diesel',\n",
              "  'name': 'ASTON MARTIN VULCAN',\n",
              "  'value': 'R$ 141.000'},\n",
              " {'category': 'NOVO',\n",
              "  'description': 'Ano 2019 - 0 km',\n",
              "  'items': ['Central multimídia',\n",
              "   'Ar condicionado',\n",
              "   'Bancos de couro',\n",
              "   'Câmera de estacionamento'],\n",
              "  'location': 'Rio de Janeiro - RJ',\n",
              "  'motor': 'Motor V6',\n",
              "  'name': 'TRIUMPH MOTOR COMPANY',\n",
              "  'opportunity': 'OPORTUNIDADE',\n",
              "  'value': 'R$ 176.000'},\n",
              " {'category': 'USADO',\n",
              "  'description': 'Ano 2003 - 59.288 km',\n",
              "  'items': ['Freios ABS',\n",
              "   'Piloto automático',\n",
              "   'Sensor de chuva',\n",
              "   'Vidros elétricos'],\n",
              "  'location': 'Rio de Janeiro - RJ',\n",
              "  'motor': 'Motor V8',\n",
              "  'name': 'VINTAGE CAR',\n",
              "  'value': 'R$ 65.000'},\n",
              " {'category': 'NOVO',\n",
              "  'description': 'Ano 2019 - 0 km',\n",
              "  'items': ['Câmera de estacionamento',\n",
              "   'Câmbio automático',\n",
              "   'Piloto automático',\n",
              "   'Central multimídia'],\n",
              "  'location': 'Belo Horizonte - MG',\n",
              "  'motor': 'Motor V6',\n",
              "  'name': 'ACURA HEADLAMP',\n",
              "  'value': 'R$ 449.000'},\n",
              " {'category': 'USADO',\n",
              "  'description': 'Ano 2014 - 37.738 km',\n",
              "  'items': ['Rodas de liga',\n",
              "   'Painel digital',\n",
              "   'Sensor de estacionamento',\n",
              "   'Teto panorâmico'],\n",
              "  'location': 'Rio de Janeiro - RJ',\n",
              "  'motor': 'Motor Diesel V8',\n",
              "  'name': 'LUXURY CARS',\n",
              "  'opportunity': 'OPORTUNIDADE',\n",
              "  'value': 'R$ 379.000'},\n",
              " {'category': 'USADO',\n",
              "  'description': 'Ano 1993 - 24.316 km',\n",
              "  'items': ['Central multimídia',\n",
              "   'Controle de estabilidade',\n",
              "   'Piloto automático',\n",
              "   'Sensor de chuva'],\n",
              "  'location': 'Belo Horizonte - MG',\n",
              "  'motor': 'Motor V6',\n",
              "  'name': 'FERRARI 458 SPIDER',\n",
              "  'value': 'R$ 262.000'},\n",
              " {'category': 'USADO',\n",
              "  'description': 'Ano 2016 - 35.762 km',\n",
              "  'items': ['Câmbio automático',\n",
              "   'Sensor de estacionamento',\n",
              "   'Bancos de couro',\n",
              "   'Câmera de estacionamento'],\n",
              "  'location': 'Rio de Janeiro - RJ',\n",
              "  'motor': 'Motor 3.0 32v',\n",
              "  'name': 'CLASSIC AUTOMOBILE',\n",
              "  'value': 'R$ 356.000'},\n",
              " {'category': 'USADO',\n",
              "  'description': 'Ano 1990 - 51.693 km',\n",
              "  'items': ['Câmera de estacionamento',\n",
              "   'Piloto automático',\n",
              "   'Ar condicionado',\n",
              "   'Painel digital'],\n",
              "  'location': 'Rio de Janeiro - RJ',\n",
              "  'motor': 'Motor 2.4 Turbo',\n",
              "  'name': 'INFINITY',\n",
              "  'value': 'R$ 459.000'},\n",
              " {'category': 'NOVO',\n",
              "  'description': 'Ano 2019 - 0 km',\n",
              "  'items': ['Painel digital',\n",
              "   'Piloto automático',\n",
              "   'Sensor de estacionamento',\n",
              "   'Sensor crepuscular'],\n",
              "  'location': 'São Paulo - SP',\n",
              "  'motor': 'Motor 4.0 Turbo',\n",
              "  'name': 'ASTON MARTIN VANQUISH',\n",
              "  'opportunity': 'OPORTUNIDADE',\n",
              "  'value': 'R$ 183.000'},\n",
              " {'category': 'USADO',\n",
              "  'description': 'Ano 1994 - 111.906 km',\n",
              "  'items': ['Câmbio automático',\n",
              "   'Freios ABS',\n",
              "   'Sensor crepuscular',\n",
              "   'Controle de estabilidade'],\n",
              "  'location': 'Belo Horizonte - MG',\n",
              "  'motor': 'Motor 3.0 32v',\n",
              "  'name': 'MERCEDES BENZ 190 SL',\n",
              "  'opportunity': 'OPORTUNIDADE',\n",
              "  'value': 'R$ 61.000'},\n",
              " {'category': 'USADO',\n",
              "  'description': 'Ano 2008 - 82.711 km',\n",
              "  'items': ['Sensor de chuva',\n",
              "   'Rodas de liga',\n",
              "   'Câmera de estacionamento',\n",
              "   'Travas elétricas'],\n",
              "  'location': 'São Paulo - SP',\n",
              "  'motor': 'Motor Diesel V6',\n",
              "  'name': 'AUDI TT',\n",
              "  'value': 'R$ 225.000'},\n",
              " {'category': 'USADO',\n",
              "  'description': 'Ano 1995 - 36.215 km',\n",
              "  'items': ['Sensor de chuva', 'Rodas de liga', 'Piloto automático', '4 X 4'],\n",
              "  'location': 'São Paulo - SP',\n",
              "  'motor': 'Motor Diesel V6',\n",
              "  'name': 'DISTRICT',\n",
              "  'value': 'R$ 181.000'},\n",
              " {'category': 'USADO',\n",
              "  'description': 'Ano 2005 - 63.879 km',\n",
              "  'items': ['4 X 4',\n",
              "   'Ar condicionado',\n",
              "   'Câmbio automático',\n",
              "   'Controle de estabilidade'],\n",
              "  'location': 'Rio de Janeiro - RJ',\n",
              "  'motor': 'Motor 4.0 Turbo',\n",
              "  'name': 'VINTAGE',\n",
              "  'value': 'R$ 460.000'},\n",
              " {'category': 'NOVO',\n",
              "  'description': 'Ano 2019 - 0 km',\n",
              "  'items': ['Piloto automático',\n",
              "   'Bancos de couro',\n",
              "   'Painel digital',\n",
              "   'Controle de tração'],\n",
              "  'location': 'São Paulo - SP',\n",
              "  'motor': 'Motor Diesel V6',\n",
              "  'name': 'AUDI',\n",
              "  'value': 'R$ 161.000'},\n",
              " {'category': 'USADO',\n",
              "  'description': 'Ano 1999 - 26.215 km',\n",
              "  'items': ['Travas elétricas',\n",
              "   'Central multimídia',\n",
              "   'Vidros elétricos',\n",
              "   'Ar condicionado'],\n",
              "  'location': 'Belo Horizonte - MG',\n",
              "  'motor': 'Motor Diesel V6',\n",
              "  'name': 'AUDI RS6',\n",
              "  'opportunity': 'OPORTUNIDADE',\n",
              "  'value': 'R$ 188.000'},\n",
              " {'category': 'USADO',\n",
              "  'description': 'Ano 2018 - 1 km',\n",
              "  'items': ['Freios ABS',\n",
              "   'Controle de estabilidade',\n",
              "   'Painel digital',\n",
              "   'Ar condicionado'],\n",
              "  'location': 'São Paulo - SP',\n",
              "  'motor': 'Motor Diesel V6',\n",
              "  'name': 'FERRARI 458 SPECIALE',\n",
              "  'value': 'R$ 97.000'},\n",
              " {'category': 'USADO',\n",
              "  'description': 'Ano 2001 - 68.038 km',\n",
              "  'items': ['Rodas de liga',\n",
              "   'Sensor de estacionamento',\n",
              "   'Vidros elétricos',\n",
              "   'Câmbio automático'],\n",
              "  'location': 'Belo Horizonte - MG',\n",
              "  'motor': 'Motor 4.0 Turbo',\n",
              "  'name': 'TRUCK',\n",
              "  'value': 'R$ 415.000'},\n",
              " {'category': 'USADO',\n",
              "  'description': 'Ano 1996 - 86.477 km',\n",
              "  'items': ['Câmbio automático',\n",
              "   'Controle de estabilidade',\n",
              "   'Sensor de estacionamento',\n",
              "   'Ar condicionado'],\n",
              "  'location': 'São Paulo - SP',\n",
              "  'motor': 'Motor 1.8 16v',\n",
              "  'name': 'CORVETTE STINGRAY',\n",
              "  'value': 'R$ 172.000'},\n",
              " {'category': 'USADO',\n",
              "  'description': 'Ano 2004 - 103.570 km',\n",
              "  'items': ['Vidros elétricos',\n",
              "   'Câmbio automático',\n",
              "   'Piloto automático',\n",
              "   'Teto panorâmico'],\n",
              "  'location': 'Rio de Janeiro - RJ',\n",
              "  'motor': 'Motor 3.0 32v',\n",
              "  'name': 'LAMBORGHINI',\n",
              "  'value': 'R$ 281.000'},\n",
              " {'category': 'NOVO',\n",
              "  'description': 'Ano 2019 - 0 km',\n",
              "  'items': ['4 X 4',\n",
              "   'Ar condicionado',\n",
              "   'Câmera de estacionamento',\n",
              "   'Sensor de estacionamento'],\n",
              "  'location': 'São Paulo - SP',\n",
              "  'motor': 'Motor 3.0 32v',\n",
              "  'name': 'CHRYSLER',\n",
              "  'value': 'R$ 396.000'},\n",
              " {'category': 'USADO',\n",
              "  'description': 'Ano 2014 - 85.686 km',\n",
              "  'items': ['Sensor de chuva',\n",
              "   'Ar condicionado',\n",
              "   'Painel digital',\n",
              "   'Teto panorâmico'],\n",
              "  'location': 'São Paulo - SP',\n",
              "  'motor': 'Motor V6',\n",
              "  'name': 'RANGE ROVER',\n",
              "  'value': 'R$ 450.000'},\n",
              " {'category': 'NOVO',\n",
              "  'description': 'Ano 2019 - 0 km',\n",
              "  'items': ['Bancos de couro',\n",
              "   'Travas elétricas',\n",
              "   'Sensor de estacionamento',\n",
              "   'Controle de tração'],\n",
              "  'location': 'Belo Horizonte - MG',\n",
              "  'motor': 'Motor Diesel V8',\n",
              "  'name': 'HAMMER',\n",
              "  'value': 'R$ 470.000'},\n",
              " {'category': 'USADO',\n",
              "  'description': 'Ano 1990 - 68.513 km',\n",
              "  'items': ['Central multimídia',\n",
              "   'Painel digital',\n",
              "   'Ar condicionado',\n",
              "   '4 X 4'],\n",
              "  'location': 'Belo Horizonte - MG',\n",
              "  'motor': 'Motor 2.0 16v',\n",
              "  'name': 'FELICIA',\n",
              "  'value': 'R$ 64.000'},\n",
              " {'category': 'USADO',\n",
              "  'description': 'Ano 2011 - 71.783 km',\n",
              "  'items': ['Piloto automático',\n",
              "   'Bancos de couro',\n",
              "   '4 X 4',\n",
              "   'Sensor crepuscular'],\n",
              "  'location': 'São Paulo - SP',\n",
              "  'motor': 'Motor 5.0 V8 Bi-Turbo',\n",
              "  'name': 'MASERATI GRANTURISMO',\n",
              "  'value': 'R$ 343.000'},\n",
              " {'category': 'USADO',\n",
              "  'description': 'Ano 2017 - 115.844 km',\n",
              "  'items': ['Câmera de estacionamento',\n",
              "   'Sensor de estacionamento',\n",
              "   'Central multimídia',\n",
              "   'Teto panorâmico'],\n",
              "  'location': 'São Paulo - SP',\n",
              "  'motor': 'Motor Diesel V8',\n",
              "  'name': 'LAMBORGHINI AVENTADOR S',\n",
              "  'value': 'R$ 106.000'},\n",
              " {'category': 'USADO',\n",
              "  'description': 'Ano 1994 - 46.442 km',\n",
              "  'items': ['Vidros elétricos',\n",
              "   'Piloto automático',\n",
              "   'Sensor crepuscular',\n",
              "   '4 X 4'],\n",
              "  'location': 'Belo Horizonte - MG',\n",
              "  'motor': 'Motor V6',\n",
              "  'name': 'BENTLEY',\n",
              "  'value': 'R$ 493.000'},\n",
              " {'category': 'NOVO',\n",
              "  'description': 'Ano 2019 - 0 km',\n",
              "  'items': ['Painel digital',\n",
              "   'Piloto automático',\n",
              "   'Freios ABS',\n",
              "   'Controle de estabilidade'],\n",
              "  'location': 'São Paulo - SP',\n",
              "  'motor': 'Motor 2.4 Turbo',\n",
              "  'name': 'ASTON',\n",
              "  'value': 'R$ 370.000'},\n",
              " {'category': 'USADO',\n",
              "  'description': 'Ano 1993 - 77.846 km',\n",
              "  'items': ['4 X 4',\n",
              "   'Painel digital',\n",
              "   'Travas elétricas',\n",
              "   'Sensor crepuscular'],\n",
              "  'location': 'São Paulo - SP',\n",
              "  'motor': 'Motor 5.0 V8 Bi-Turbo',\n",
              "  'name': 'LAMBORGHINI GALLARDO',\n",
              "  'value': 'R$ 474.000'},\n",
              " {'category': 'USADO',\n",
              "  'description': 'Ano 2014 - 28.833 km',\n",
              "  'items': ['Sensor crepuscular',\n",
              "   'Sensor de chuva',\n",
              "   'Piloto automático',\n",
              "   'Câmera de estacionamento'],\n",
              "  'location': 'Belo Horizonte - MG',\n",
              "  'motor': 'Motor 1.0 8v',\n",
              "  'name': 'BMW 1M',\n",
              "  'value': 'R$ 420.000'},\n",
              " {'category': 'NOVO',\n",
              "  'description': 'Ano 2019 - 0 km',\n",
              "  'items': ['Central multimídia',\n",
              "   'Câmera de estacionamento',\n",
              "   'Sensor de estacionamento',\n",
              "   'Painel digital'],\n",
              "  'location': 'São Paulo - SP',\n",
              "  'motor': 'Motor 2.4 Turbo',\n",
              "  'name': 'MERCEDES S CLASS',\n",
              "  'value': 'R$ 215.000'},\n",
              " {'category': 'USADO',\n",
              "  'description': 'Ano 2014 - 59.723 km',\n",
              "  'items': ['Freios ABS',\n",
              "   'Piloto automático',\n",
              "   'Controle de estabilidade',\n",
              "   'Sensor crepuscular'],\n",
              "  'location': 'Belo Horizonte - MG',\n",
              "  'motor': 'Motor 5.0 V8 Bi-Turbo',\n",
              "  'name': 'VINTAGE AUTO',\n",
              "  'value': 'R$ 236.000'},\n",
              " {'category': 'USADO',\n",
              "  'description': 'Ano 2001 - 74.365 km',\n",
              "  'items': ['Controle de tração',\n",
              "   '4 X 4',\n",
              "   'Câmera de estacionamento',\n",
              "   'Controle de estabilidade'],\n",
              "  'location': 'Rio de Janeiro - RJ',\n",
              "  'motor': 'Motor V6',\n",
              "  'name': 'LEATHER STEERING WHEEL',\n",
              "  'opportunity': 'OPORTUNIDADE',\n",
              "  'value': 'R$ 124.000'},\n",
              " {'category': 'USADO',\n",
              "  'description': 'Ano 1994 - 112.727 km',\n",
              "  'items': ['Controle de tração',\n",
              "   'Travas elétricas',\n",
              "   'Controle de estabilidade',\n",
              "   'Sensor crepuscular'],\n",
              "  'location': 'São Paulo - SP',\n",
              "  'motor': 'Motor 2.0 16v',\n",
              "  'name': 'DKW',\n",
              "  'value': 'R$ 125.000'},\n",
              " {'category': 'USADO',\n",
              "  'description': 'Ano 2011 - 111.255 km',\n",
              "  'items': ['4 X 4',\n",
              "   'Controle de tração',\n",
              "   'Travas elétricas',\n",
              "   'Teto panorâmico'],\n",
              "  'location': 'Rio de Janeiro - RJ',\n",
              "  'motor': 'Motor 1.8 16v',\n",
              "  'name': 'FERRARI',\n",
              "  'value': 'R$ 151.000'},\n",
              " {'category': 'USADO',\n",
              "  'description': 'Ano 2000 - 21.968 km',\n",
              "  'items': ['Teto panorâmico',\n",
              "   'Sensor de chuva',\n",
              "   'Ar condicionado',\n",
              "   'Câmera de estacionamento'],\n",
              "  'location': 'Rio de Janeiro - RJ',\n",
              "  'motor': 'Motor Diesel V8',\n",
              "  'name': 'BMW M3',\n",
              "  'value': 'R$ 351.000'},\n",
              " {'category': 'NOVO',\n",
              "  'description': 'Ano 2019 - 0 km',\n",
              "  'items': ['Câmbio automático',\n",
              "   'Ar condicionado',\n",
              "   'Bancos de couro',\n",
              "   'Controle de tração'],\n",
              "  'location': 'São Paulo - SP',\n",
              "  'motor': 'Motor Diesel V6',\n",
              "  'name': 'TUNING',\n",
              "  'value': 'R$ 223.000'},\n",
              " {'category': 'NOVO',\n",
              "  'description': 'Ano 2019 - 0 km',\n",
              "  'items': ['Bancos de couro',\n",
              "   'Sensor de chuva',\n",
              "   'Sensor de estacionamento',\n",
              "   'Freios ABS'],\n",
              "  'location': 'São Paulo - SP',\n",
              "  'motor': 'Motor Diesel V6',\n",
              "  'name': 'LINCOLN MKZ',\n",
              "  'value': 'R$ 79.000'},\n",
              " {'category': 'NOVO',\n",
              "  'description': 'Ano 2019 - 0 km',\n",
              "  'items': ['Controle de tração',\n",
              "   'Sensor de estacionamento',\n",
              "   'Freios ABS',\n",
              "   'Painel digital'],\n",
              "  'location': 'São Paulo - SP',\n",
              "  'motor': 'Motor V8',\n",
              "  'name': 'MASERATI LEVANTE',\n",
              "  'value': 'R$ 252.000'},\n",
              " {'category': 'USADO',\n",
              "  'description': 'Ano 1991 - 5.947 km',\n",
              "  'items': ['Central multimídia',\n",
              "   'Piloto automático',\n",
              "   'Controle de estabilidade',\n",
              "   'Câmbio automático'],\n",
              "  'location': 'Belo Horizonte - MG',\n",
              "  'motor': 'Motor 4.0 Turbo',\n",
              "  'name': 'ROLLSROYCE',\n",
              "  'value': 'R$ 357.000'},\n",
              " {'category': 'NOVO',\n",
              "  'description': 'Ano 2019 - 0 km',\n",
              "  'items': ['Vidros elétricos',\n",
              "   'Controle de tração',\n",
              "   'Painel digital',\n",
              "   'Rodas de liga'],\n",
              "  'location': 'São Paulo - SP',\n",
              "  'motor': 'Motor Diesel V6',\n",
              "  'name': 'MERCEDES BENZ',\n",
              "  'value': 'R$ 396.000'},\n",
              " {'category': 'USADO',\n",
              "  'description': 'Ano 1999 - 102.662 km',\n",
              "  'items': ['Ar condicionado',\n",
              "   'Travas elétricas',\n",
              "   'Controle de tração',\n",
              "   'Freios ABS'],\n",
              "  'location': 'São Paulo - SP',\n",
              "  'motor': 'Motor 2.0 16v',\n",
              "  'name': 'MORGAN ROADSTER',\n",
              "  'value': 'R$ 460.000'},\n",
              " {'category': 'USADO',\n",
              "  'description': 'Ano 1990 - 46.571 km',\n",
              "  'items': ['Rodas de liga',\n",
              "   '4 X 4',\n",
              "   'Travas elétricas',\n",
              "   'Câmera de estacionamento'],\n",
              "  'location': 'São Paulo - SP',\n",
              "  'motor': 'Motor 2.0 16v',\n",
              "  'name': 'TOYOTA LAND CRUISER',\n",
              "  'value': 'R$ 72.000'},\n",
              " {'category': 'NOVO',\n",
              "  'description': 'Ano 2019 - 0 km',\n",
              "  'items': ['Painel digital',\n",
              "   'Vidros elétricos',\n",
              "   'Teto panorâmico',\n",
              "   'Sensor crepuscular'],\n",
              "  'location': 'Rio de Janeiro - RJ',\n",
              "  'motor': 'Motor V8',\n",
              "  'name': 'MERCEDES BENZ 300 SL',\n",
              "  'value': 'R$ 422.000'},\n",
              " {'category': 'USADO',\n",
              "  'description': 'Ano 2003 - 9.912 km',\n",
              "  'items': ['Ar condicionado',\n",
              "   'Freios ABS',\n",
              "   'Câmera de estacionamento',\n",
              "   'Vidros elétricos'],\n",
              "  'location': 'Belo Horizonte - MG',\n",
              "  'motor': 'Motor 5.0 V8 Bi-Turbo',\n",
              "  'name': 'CASABLANCA',\n",
              "  'value': 'R$ 399.000'},\n",
              " {'category': 'USADO',\n",
              "  'description': 'Ano 1993 - 81.154 km',\n",
              "  'items': ['Freios ABS',\n",
              "   'Painel digital',\n",
              "   'Controle de estabilidade',\n",
              "   'Controle de tração'],\n",
              "  'location': 'Rio de Janeiro - RJ',\n",
              "  'motor': 'Motor 1.0 8v',\n",
              "  'name': 'BUGATTI',\n",
              "  'value': 'R$ 455.000'},\n",
              " {'category': 'NOVO',\n",
              "  'description': 'Ano 2019 - 0 km',\n",
              "  'items': ['Sensor de estacionamento',\n",
              "   'Vidros elétricos',\n",
              "   'Piloto automático',\n",
              "   'Painel digital'],\n",
              "  'location': 'Belo Horizonte - MG',\n",
              "  'motor': 'Motor 3.0 32v',\n",
              "  'name': 'PORSCHE CARRERA GT',\n",
              "  'value': 'R$ 173.000'},\n",
              " {'category': 'USADO',\n",
              "  'description': 'Ano 2005 - 86.899 km',\n",
              "  'items': ['Painel digital',\n",
              "   'Teto panorâmico',\n",
              "   'Sensor crepuscular',\n",
              "   'Rodas de liga'],\n",
              "  'location': 'Belo Horizonte - MG',\n",
              "  'motor': 'Motor 2.0 16v',\n",
              "  'name': 'BLACK AND WHITE',\n",
              "  'value': 'R$ 340.000'},\n",
              " {'category': 'USADO',\n",
              "  'description': 'Ano 1994 - 112.579 km',\n",
              "  'items': ['Freios ABS', 'Ar condicionado', '4 X 4', 'Teto panorâmico'],\n",
              "  'location': 'Rio de Janeiro - RJ',\n",
              "  'motor': 'Motor 3.0 32v',\n",
              "  'name': 'BMW I8',\n",
              "  'value': 'R$ 443.000'},\n",
              " {'category': 'USADO',\n",
              "  'description': 'Ano 1995 - 48.416 km',\n",
              "  'items': ['Sensor de chuva', 'Freios ABS', '4 X 4', 'Teto panorâmico'],\n",
              "  'location': 'São Paulo - SP',\n",
              "  'motor': 'Motor Diesel',\n",
              "  'name': 'SUBARU',\n",
              "  'value': 'R$ 383.000'},\n",
              " {'category': 'USADO',\n",
              "  'description': 'Ano 2015 - 111.613 km',\n",
              "  'items': ['Controle de estabilidade',\n",
              "   'Central multimídia',\n",
              "   'Câmera de estacionamento',\n",
              "   'Câmbio automático'],\n",
              "  'location': 'Rio de Janeiro - RJ',\n",
              "  'motor': 'Motor 4.0 Turbo',\n",
              "  'name': 'AMAZING',\n",
              "  'value': 'R$ 287.000'},\n",
              " {'category': 'USADO',\n",
              "  'description': 'Ano 2003 - 15.810 km',\n",
              "  'items': ['Sensor de estacionamento',\n",
              "   'Teto panorâmico',\n",
              "   'Controle de estabilidade',\n",
              "   'Câmbio automático'],\n",
              "  'location': 'Belo Horizonte - MG',\n",
              "  'motor': 'Motor Diesel',\n",
              "  'name': 'AUSTIN HEALEY',\n",
              "  'opportunity': 'OPORTUNIDADE',\n",
              "  'value': 'R$ 350.000'},\n",
              " {'category': 'USADO',\n",
              "  'description': 'Ano 1995 - 115.874 km',\n",
              "  'items': ['Travas elétricas',\n",
              "   'Câmbio automático',\n",
              "   'Central multimídia',\n",
              "   '4 X 4'],\n",
              "  'location': 'São Paulo - SP',\n",
              "  'motor': 'Motor V8',\n",
              "  'name': 'FORD',\n",
              "  'value': 'R$ 276.000'},\n",
              " {'category': 'USADO',\n",
              "  'description': 'Ano 2010 - 99.918 km',\n",
              "  'items': ['Freios ABS',\n",
              "   'Controle de estabilidade',\n",
              "   'Painel digital',\n",
              "   'Câmbio automático'],\n",
              "  'location': 'São Paulo - SP',\n",
              "  'motor': 'Motor Diesel',\n",
              "  'name': 'ROLLS ROYCE WRAITH',\n",
              "  'value': 'R$ 163.000'},\n",
              " {'category': 'NOVO',\n",
              "  'description': 'Ano 2019 - 0 km',\n",
              "  'items': ['Sensor de chuva',\n",
              "   'Central multimídia',\n",
              "   'Ar condicionado',\n",
              "   'Controle de estabilidade'],\n",
              "  'location': 'Rio de Janeiro - RJ',\n",
              "  'motor': 'Motor 5.0 V8 Bi-Turbo',\n",
              "  'name': 'MERCEDES E63',\n",
              "  'opportunity': 'OPORTUNIDADE',\n",
              "  'value': 'R$ 107.000'},\n",
              " {'category': 'NOVO',\n",
              "  'description': 'Ano 2019 - 0 km',\n",
              "  'items': ['Sensor de estacionamento',\n",
              "   'Central multimídia',\n",
              "   'Sensor crepuscular',\n",
              "   'Piloto automático'],\n",
              "  'location': 'Belo Horizonte - MG',\n",
              "  'motor': 'Motor Diesel V6',\n",
              "  'name': 'MCLAREN MP4 12C',\n",
              "  'opportunity': 'OPORTUNIDADE',\n",
              "  'value': 'R$ 173.000'},\n",
              " {'category': 'USADO',\n",
              "  'description': 'Ano 1992 - 108.055 km',\n",
              "  'items': ['4 X 4',\n",
              "   'Teto panorâmico',\n",
              "   'Travas elétricas',\n",
              "   'Câmbio automático'],\n",
              "  'location': 'Rio de Janeiro - RJ',\n",
              "  'motor': 'Motor Diesel V8',\n",
              "  'name': 'VWBEETLE',\n",
              "  'value': 'R$ 150.000'},\n",
              " {'category': 'USADO',\n",
              "  'description': 'Ano 1991 - 106.251 km',\n",
              "  'items': ['Vidros elétricos',\n",
              "   'Rodas de liga',\n",
              "   'Travas elétricas',\n",
              "   'Sensor de chuva'],\n",
              "  'location': 'Belo Horizonte - MG',\n",
              "  'motor': 'Motor 5.0 V8 Bi-Turbo',\n",
              "  'name': 'FERRARI 360',\n",
              "  'value': 'R$ 305.000'},\n",
              " {'category': 'USADO',\n",
              "  'description': 'Ano 1995 - 13.433 km',\n",
              "  'items': ['Piloto automático',\n",
              "   'Central multimídia',\n",
              "   'Câmera de estacionamento',\n",
              "   'Travas elétricas'],\n",
              "  'location': 'São Paulo - SP',\n",
              "  'motor': 'Motor 1.8 16v',\n",
              "  'name': 'CITROEN',\n",
              "  'value': 'R$ 220.000'},\n",
              " {'category': 'USADO',\n",
              "  'description': 'Ano 2000 - 75.458 km',\n",
              "  'items': ['Controle de estabilidade',\n",
              "   'Câmbio automático',\n",
              "   'Painel digital',\n",
              "   'Bancos de couro'],\n",
              "  'location': 'Belo Horizonte - MG',\n",
              "  'motor': 'Motor 3.0 32v',\n",
              "  'name': 'FERRARI 458',\n",
              "  'value': 'R$ 176.000'},\n",
              " {'category': 'USADO',\n",
              "  'description': 'Ano 2015 - 41.735 km',\n",
              "  'items': ['Vidros elétricos',\n",
              "   'Ar condicionado',\n",
              "   'Controle de estabilidade',\n",
              "   'Sensor crepuscular'],\n",
              "  'location': 'Belo Horizonte - MG',\n",
              "  'motor': 'Motor Diesel',\n",
              "  'name': 'OLDTIMERS',\n",
              "  'value': 'R$ 201.000'},\n",
              " {'category': 'USADO',\n",
              "  'description': 'Ano 2003 - 51.348 km',\n",
              "  'items': ['Controle de estabilidade',\n",
              "   'Câmera de estacionamento',\n",
              "   'Câmbio automático',\n",
              "   'Ar condicionado'],\n",
              "  'location': 'Rio de Janeiro - RJ',\n",
              "  'motor': 'Motor 1.8 16v',\n",
              "  'name': 'CAR PARTS WHITE',\n",
              "  'value': 'R$ 384.000'},\n",
              " {'category': 'NOVO',\n",
              "  'description': 'Ano 2019 - 0 km',\n",
              "  'items': ['Freios ABS',\n",
              "   'Controle de tração',\n",
              "   'Teto panorâmico',\n",
              "   'Controle de estabilidade'],\n",
              "  'location': 'Rio de Janeiro - RJ',\n",
              "  'motor': 'Motor 5.0 V8 Bi-Turbo',\n",
              "  'name': 'GOODYEAR',\n",
              "  'value': 'R$ 111.000'},\n",
              " {'category': 'USADO',\n",
              "  'description': 'Ano 2017 - 68.014 km',\n",
              "  'items': ['Controle de tração',\n",
              "   'Travas elétricas',\n",
              "   '4 X 4',\n",
              "   'Vidros elétricos'],\n",
              "  'location': 'São Paulo - SP',\n",
              "  'motor': 'Motor Diesel',\n",
              "  'name': 'AFTERFX CUSTOM JEEP',\n",
              "  'value': 'R$ 146.000'},\n",
              " {'category': 'USADO',\n",
              "  'description': 'Ano 1993 - 52.282 km',\n",
              "  'items': ['Controle de tração',\n",
              "   'Ar condicionado',\n",
              "   'Freios ABS',\n",
              "   'Câmbio automático'],\n",
              "  'location': 'Rio de Janeiro - RJ',\n",
              "  'motor': 'Motor 2.4 Turbo',\n",
              "  'name': 'WHITE LUXURY CAR',\n",
              "  'value': 'R$ 319.000'},\n",
              " {'category': 'USADO',\n",
              "  'description': 'Ano 2016 - 100.617 km',\n",
              "  'items': ['Rodas de liga',\n",
              "   'Freios ABS',\n",
              "   'Câmera de estacionamento',\n",
              "   '4 X 4'],\n",
              "  'location': 'São Paulo - SP',\n",
              "  'motor': 'Motor 2.4 Turbo',\n",
              "  'name': 'LEXUS BREAK LIGHT',\n",
              "  'value': 'R$ 86.000'},\n",
              " {'category': 'NOVO',\n",
              "  'description': 'Ano 2019 - 0 km',\n",
              "  'items': ['Câmera de estacionamento',\n",
              "   'Rodas de liga',\n",
              "   'Controle de estabilidade',\n",
              "   'Sensor de estacionamento'],\n",
              "  'location': 'Rio de Janeiro - RJ',\n",
              "  'motor': 'Motor V6',\n",
              "  'name': 'FERRARI CALIFORNIA',\n",
              "  'value': 'R$ 188.000'},\n",
              " {'category': 'NOVO',\n",
              "  'description': 'Ano 2019 - 0 km',\n",
              "  'items': ['Ar condicionado', '4 X 4', 'Painel digital', 'Piloto automático'],\n",
              "  'location': 'Rio de Janeiro - RJ',\n",
              "  'motor': 'Motor V6',\n",
              "  'name': 'MERC',\n",
              "  'value': 'R$ 467.000'},\n",
              " {'category': 'USADO',\n",
              "  'description': 'Ano 2013 - 79.881 km',\n",
              "  'items': ['Teto panorâmico', '4 X 4', 'Travas elétricas', 'Sensor de chuva'],\n",
              "  'location': 'São Paulo - SP',\n",
              "  'motor': 'Motor V8',\n",
              "  'name': 'LEXUS IS F',\n",
              "  'opportunity': 'OPORTUNIDADE',\n",
              "  'value': 'R$ 69.000'},\n",
              " {'category': 'NOVO',\n",
              "  'description': 'Ano 2019 - 0 km',\n",
              "  'items': ['Controle de tração',\n",
              "   '4 X 4',\n",
              "   'Vidros elétricos',\n",
              "   'Ar condicionado'],\n",
              "  'location': 'Rio de Janeiro - RJ',\n",
              "  'motor': 'Motor 1.0 8v',\n",
              "  'name': 'FORD MUSTANG',\n",
              "  'opportunity': 'OPORTUNIDADE',\n",
              "  'value': 'R$ 230.000'},\n",
              " {'category': 'NOVO',\n",
              "  'description': 'Ano 2019 - 0 km',\n",
              "  'items': ['Câmbio automático',\n",
              "   'Freios ABS',\n",
              "   'Sensor de chuva',\n",
              "   'Sensor crepuscular'],\n",
              "  'location': 'São Paulo - SP',\n",
              "  'motor': 'Motor Diesel V8',\n",
              "  'name': 'PAGANI HUAYRA',\n",
              "  'value': 'R$ 463.000'},\n",
              " {'category': 'USADO',\n",
              "  'description': 'Ano 2003 - 90.354 km',\n",
              "  'items': ['Sensor crepuscular',\n",
              "   'Piloto automático',\n",
              "   'Câmera de estacionamento',\n",
              "   'Painel digital'],\n",
              "  'location': 'São Paulo - SP',\n",
              "  'motor': 'Motor V6',\n",
              "  'name': 'FIAT',\n",
              "  'value': 'R$ 440.000'},\n",
              " {'category': 'USADO',\n",
              "  'description': 'Ano 1995 - 48.876 km',\n",
              "  'items': ['4 X 4', 'Rodas de liga', 'Teto panorâmico', 'Controle de tração'],\n",
              "  'location': 'Rio de Janeiro - RJ',\n",
              "  'motor': 'Motor V8',\n",
              "  'name': 'HOUSTON',\n",
              "  'value': 'R$ 58.000'},\n",
              " {'category': 'USADO',\n",
              "  'description': 'Ano 2006 - 43.186 km',\n",
              "  'items': ['Sensor crepuscular',\n",
              "   'Bancos de couro',\n",
              "   'Piloto automático',\n",
              "   'Freios ABS'],\n",
              "  'location': 'Belo Horizonte - MG',\n",
              "  'motor': 'Motor Diesel V6',\n",
              "  'name': 'LEXUS',\n",
              "  'opportunity': 'OPORTUNIDADE',\n",
              "  'value': 'R$ 475.000'},\n",
              " {'category': 'USADO',\n",
              "  'description': 'Ano 2007 - 66.296 km',\n",
              "  'items': ['Central multimídia',\n",
              "   'Freios ABS',\n",
              "   'Sensor de chuva',\n",
              "   'Controle de estabilidade'],\n",
              "  'location': 'São Paulo - SP',\n",
              "  'motor': 'Motor 1.0 8v',\n",
              "  'name': 'SPAIN',\n",
              "  'opportunity': 'OPORTUNIDADE',\n",
              "  'value': 'R$ 133.000'},\n",
              " {'category': 'NOVO',\n",
              "  'description': 'Ano 2019 - 0 km',\n",
              "  'items': ['Vidros elétricos',\n",
              "   'Controle de estabilidade',\n",
              "   'Piloto automático',\n",
              "   'Sensor crepuscular'],\n",
              "  'location': 'São Paulo - SP',\n",
              "  'motor': 'Motor 5.0 V8 Bi-Turbo',\n",
              "  'name': 'BORGWARD',\n",
              "  'value': 'R$ 322.000'},\n",
              " {'category': 'USADO',\n",
              "  'description': 'Ano 2016 - 72.469 km',\n",
              "  'items': ['Câmbio automático',\n",
              "   'Freios ABS',\n",
              "   'Travas elétricas',\n",
              "   'Controle de tração'],\n",
              "  'location': 'Belo Horizonte - MG',\n",
              "  'motor': 'Motor 4.0 Turbo',\n",
              "  'name': 'SPOKES',\n",
              "  'value': 'R$ 138.000'},\n",
              " {'category': 'USADO',\n",
              "  'description': 'Ano 1991 - 107.498 km',\n",
              "  'items': ['Sensor de chuva',\n",
              "   'Teto panorâmico',\n",
              "   'Freios ABS',\n",
              "   'Controle de estabilidade'],\n",
              "  'location': 'São Paulo - SP',\n",
              "  'motor': 'Motor Diesel V8',\n",
              "  'name': 'MUSCLE CAR',\n",
              "  'value': 'R$ 413.000'},\n",
              " {'category': 'USADO',\n",
              "  'description': 'Ano 1996 - 76.244 km',\n",
              "  'items': ['Rodas de liga',\n",
              "   'Freios ABS',\n",
              "   'Controle de tração',\n",
              "   'Sensor de estacionamento'],\n",
              "  'location': 'Rio de Janeiro - RJ',\n",
              "  'motor': 'Motor 4.0 Turbo',\n",
              "  'name': 'MCLAREN 650S',\n",
              "  'value': 'R$ 483.000'},\n",
              " {'category': 'USADO',\n",
              "  'description': 'Ano 2001 - 22.527 km',\n",
              "  'items': ['Bancos de couro',\n",
              "   'Câmbio automático',\n",
              "   'Travas elétricas',\n",
              "   'Teto panorâmico'],\n",
              "  'location': 'São Paulo - SP',\n",
              "  'motor': 'Motor 2.4 Turbo',\n",
              "  'name': 'SPYKER C8',\n",
              "  'value': 'R$ 223.000'},\n",
              " {'category': 'USADO',\n",
              "  'description': 'Ano 2005 - 66.836 km',\n",
              "  'items': ['4 X 4',\n",
              "   'Câmbio automático',\n",
              "   'Painel digital',\n",
              "   'Piloto automático'],\n",
              "  'location': 'São Paulo - SP',\n",
              "  'motor': 'Motor Diesel V6',\n",
              "  'name': 'BOXSTER',\n",
              "  'value': 'R$ 126.000'},\n",
              " {'category': 'USADO',\n",
              "  'description': 'Ano 2007 - 22.225 km',\n",
              "  'items': ['Teto panorâmico',\n",
              "   'Controle de estabilidade',\n",
              "   'Sensor de chuva',\n",
              "   'Sensor crepuscular'],\n",
              "  'location': 'Belo Horizonte - MG',\n",
              "  'motor': 'Motor Diesel V8',\n",
              "  'name': 'ASTON MARTIN SHOOTING BRAKE ZAGATO',\n",
              "  'value': 'R$ 354.000'},\n",
              " {'category': 'USADO',\n",
              "  'description': 'Ano 2007 - 97.778 km',\n",
              "  'items': ['Central multimídia',\n",
              "   '4 X 4',\n",
              "   'Bancos de couro',\n",
              "   'Controle de estabilidade'],\n",
              "  'location': 'Rio de Janeiro - RJ',\n",
              "  'motor': 'Motor V8',\n",
              "  'name': 'PORSCHE 911',\n",
              "  'value': 'R$ 132.000'},\n",
              " {'category': 'USADO',\n",
              "  'description': 'Ano 1995 - 95.124 km',\n",
              "  'items': ['Central multimídia',\n",
              "   'Bancos de couro',\n",
              "   'Sensor crepuscular',\n",
              "   'Sensor de estacionamento'],\n",
              "  'location': 'São Paulo - SP',\n",
              "  'motor': 'Motor 1.0 8v',\n",
              "  'name': 'ASTON MARTIN DB11',\n",
              "  'value': 'R$ 201.000'},\n",
              " {'category': 'NOVO',\n",
              "  'description': 'Ano 2019 - 0 km',\n",
              "  'items': ['Rodas de liga',\n",
              "   'Teto panorâmico',\n",
              "   'Sensor de chuva',\n",
              "   'Painel digital'],\n",
              "  'location': 'São Paulo - SP',\n",
              "  'motor': 'Motor V8',\n",
              "  'name': 'KAHULUI',\n",
              "  'value': 'R$ 58.000'},\n",
              " {'category': 'USADO',\n",
              "  'description': 'Ano 1997 - 76.354 km',\n",
              "  'items': ['Piloto automático',\n",
              "   'Câmera de estacionamento',\n",
              "   'Câmbio automático',\n",
              "   'Sensor crepuscular'],\n",
              "  'location': 'Belo Horizonte - MG',\n",
              "  'motor': 'Motor Diesel',\n",
              "  'name': 'DAIMLER',\n",
              "  'value': 'R$ 159.000'},\n",
              " {'category': 'USADO',\n",
              "  'description': 'Ano 1993 - 11.015 km',\n",
              "  'items': ['Sensor de estacionamento',\n",
              "   'Bancos de couro',\n",
              "   'Sensor de chuva',\n",
              "   'Teto panorâmico'],\n",
              "  'location': 'Rio de Janeiro - RJ',\n",
              "  'motor': 'Motor 1.0 8v',\n",
              "  'name': 'RED CAR',\n",
              "  'value': 'R$ 167.000'},\n",
              " {'category': 'USADO',\n",
              "  'description': 'Ano 1990 - 9.856 km',\n",
              "  'items': ['Controle de estabilidade',\n",
              "   'Teto panorâmico',\n",
              "   'Freios ABS',\n",
              "   '4 X 4'],\n",
              "  'location': 'Belo Horizonte - MG',\n",
              "  'motor': 'Motor 3.0 32v',\n",
              "  'name': 'PORSCHE',\n",
              "  'value': 'R$ 249.000'},\n",
              " {'category': 'NOVO',\n",
              "  'description': 'Ano 2019 - 0 km',\n",
              "  'items': ['Rodas de liga',\n",
              "   'Freios ABS',\n",
              "   'Controle de tração',\n",
              "   'Bancos de couro'],\n",
              "  'location': 'Rio de Janeiro - RJ',\n",
              "  'motor': 'Motor 2.0 16v',\n",
              "  'name': 'ASPHALT',\n",
              "  'value': 'R$ 402.000'},\n",
              " {'category': 'USADO',\n",
              "  'description': 'Ano 2018 - 76.558 km',\n",
              "  'items': ['Painel digital',\n",
              "   'Freios ABS',\n",
              "   'Controle de estabilidade',\n",
              "   'Sensor de chuva'],\n",
              "  'location': 'Rio de Janeiro - RJ',\n",
              "  'motor': 'Motor 1.8 16v',\n",
              "  'name': 'ASTON MARTIN VANTAGE',\n",
              "  'opportunity': 'OPORTUNIDADE',\n",
              "  'value': 'R$ 393.000'},\n",
              " {'category': 'USADO',\n",
              "  'description': 'Ano 1993 - 23.418 km',\n",
              "  'items': ['Travas elétricas',\n",
              "   'Sensor de chuva',\n",
              "   'Piloto automático',\n",
              "   '4 X 4'],\n",
              "  'location': 'Rio de Janeiro - RJ',\n",
              "  'motor': 'Motor 1.0 8v',\n",
              "  'name': 'PORSCHE TURBO',\n",
              "  'value': 'R$ 332.000'},\n",
              " {'category': 'NOVO',\n",
              "  'description': 'Ano 2019 - 0 km',\n",
              "  'items': ['Sensor de estacionamento',\n",
              "   'Painel digital',\n",
              "   'Bancos de couro',\n",
              "   'Sensor de chuva'],\n",
              "  'location': 'Belo Horizonte - MG',\n",
              "  'motor': 'Motor 1.8 16v',\n",
              "  'name': 'REO',\n",
              "  'value': 'R$ 472.000'},\n",
              " {'category': 'NOVO',\n",
              "  'description': 'Ano 2019 - 0 km',\n",
              "  'items': ['Teto panorâmico',\n",
              "   'Sensor de chuva',\n",
              "   'Câmbio automático',\n",
              "   'Piloto automático'],\n",
              "  'location': 'São Paulo - SP',\n",
              "  'motor': 'Motor 2.4 Turbo',\n",
              "  'name': 'COBRA',\n",
              "  'value': 'R$ 442.000'},\n",
              " {'category': 'NOVO',\n",
              "  'description': 'Ano 2019 - 0 km',\n",
              "  'items': ['Freios ABS',\n",
              "   'Bancos de couro',\n",
              "   'Sensor de estacionamento',\n",
              "   'Controle de tração'],\n",
              "  'location': 'Belo Horizonte - MG',\n",
              "  'motor': 'Motor 1.0 8v',\n",
              "  'name': 'SUV',\n",
              "  'value': 'R$ 108.000'},\n",
              " {'category': 'USADO',\n",
              "  'description': 'Ano 1990 - 68.534 km',\n",
              "  'items': ['Controle de estabilidade',\n",
              "   '4 X 4',\n",
              "   'Central multimídia',\n",
              "   'Controle de tração'],\n",
              "  'location': 'Rio de Janeiro - RJ',\n",
              "  'motor': 'Motor 2.4 Turbo',\n",
              "  'name': 'JEEP',\n",
              "  'value': 'R$ 471.000'},\n",
              " {'category': 'NOVO',\n",
              "  'description': 'Ano 2019 - 0 km',\n",
              "  'items': ['Câmbio automático',\n",
              "   '4 X 4',\n",
              "   'Sensor de estacionamento',\n",
              "   'Ar condicionado'],\n",
              "  'location': 'Belo Horizonte - MG',\n",
              "  'motor': 'Motor Diesel V8',\n",
              "  'name': 'CLASSIC CAR',\n",
              "  'value': 'R$ 210.000'},\n",
              " {'category': 'USADO',\n",
              "  'description': 'Ano 2014 - 115.936 km',\n",
              "  'items': ['Câmera de estacionamento',\n",
              "   'Vidros elétricos',\n",
              "   'Painel digital',\n",
              "   'Central multimídia'],\n",
              "  'location': 'Belo Horizonte - MG',\n",
              "  'motor': 'Motor 2.4 Turbo',\n",
              "  'name': 'TEA',\n",
              "  'value': 'R$ 332.000'},\n",
              " {'category': 'NOVO',\n",
              "  'description': 'Ano 2019 - 0 km',\n",
              "  'items': ['Controle de tração',\n",
              "   'Vidros elétricos',\n",
              "   'Bancos de couro',\n",
              "   'Painel digital'],\n",
              "  'location': 'Rio de Janeiro - RJ',\n",
              "  'motor': 'Motor 3.0 32v',\n",
              "  'name': 'TRAFFIC',\n",
              "  'value': 'R$ 113.000'},\n",
              " {'category': 'USADO',\n",
              "  'description': 'Ano 1997 - 80.168 km',\n",
              "  'items': ['Sensor de estacionamento',\n",
              "   'Freios ABS',\n",
              "   'Teto panorâmico',\n",
              "   'Sensor de chuva'],\n",
              "  'location': 'Belo Horizonte - MG',\n",
              "  'motor': 'Motor 2.0 16v',\n",
              "  'name': 'MERCEDES BENZ 600SE LUXURY SEDAN',\n",
              "  'value': 'R$ 172.000'},\n",
              " {'category': 'NOVO',\n",
              "  'description': 'Ano 2019 - 0 km',\n",
              "  'items': ['Travas elétricas',\n",
              "   'Teto panorâmico',\n",
              "   'Rodas de liga',\n",
              "   'Ar condicionado'],\n",
              "  'location': 'São Paulo - SP',\n",
              "  'motor': 'Motor Diesel',\n",
              "  'name': 'PKW',\n",
              "  'value': 'R$ 180.000'},\n",
              " {'category': 'NOVO',\n",
              "  'description': 'Ano 2019 - 0 km',\n",
              "  'items': ['Rodas de liga',\n",
              "   'Câmera de estacionamento',\n",
              "   '4 X 4',\n",
              "   'Piloto automático'],\n",
              "  'location': 'Rio de Janeiro - RJ',\n",
              "  'motor': 'Motor Diesel V6',\n",
              "  'name': 'MERCEDES SLK55',\n",
              "  'value': 'R$ 498.000'},\n",
              " {'category': 'USADO',\n",
              "  'description': 'Ano 2015 - 72.680 km',\n",
              "  'items': ['4 X 4',\n",
              "   'Sensor de estacionamento',\n",
              "   'Vidros elétricos',\n",
              "   'Teto panorâmico'],\n",
              "  'location': 'Rio de Janeiro - RJ',\n",
              "  'motor': 'Motor Diesel',\n",
              "  'name': 'LUXURY CAR',\n",
              "  'value': 'R$ 142.000'},\n",
              " {'category': 'USADO',\n",
              "  'description': 'Ano 1994 - 16.192 km',\n",
              "  'items': ['Freios ABS',\n",
              "   'Câmbio automático',\n",
              "   'Sensor de chuva',\n",
              "   'Câmera de estacionamento'],\n",
              "  'location': 'São Paulo - SP',\n",
              "  'motor': 'Motor 2.4 Turbo',\n",
              "  'name': 'MERCEDES SL300',\n",
              "  'opportunity': 'OPORTUNIDADE',\n",
              "  'value': 'R$ 121.000'},\n",
              " {'category': 'USADO',\n",
              "  'description': 'Ano 1992 - 85.309 km',\n",
              "  'items': ['Piloto automático',\n",
              "   'Controle de tração',\n",
              "   'Central multimídia',\n",
              "   'Ar condicionado'],\n",
              "  'location': 'São Paulo - SP',\n",
              "  'motor': 'Motor 2.0 16v',\n",
              "  'name': 'REDJAWA',\n",
              "  'value': 'R$ 432.000'},\n",
              " {'category': 'USADO',\n",
              "  'description': 'Ano 2000 - 86.019 km',\n",
              "  'items': ['Rodas de liga',\n",
              "   'Câmera de estacionamento',\n",
              "   'Central multimídia',\n",
              "   'Controle de estabilidade'],\n",
              "  'location': 'Belo Horizonte - MG',\n",
              "  'motor': 'Motor V8',\n",
              "  'name': 'MINI',\n",
              "  'value': 'R$ 297.000'},\n",
              " {'category': 'USADO',\n",
              "  'description': 'Ano 2010 - 64.634 km',\n",
              "  'items': ['Ar condicionado',\n",
              "   'Sensor de chuva',\n",
              "   'Sensor de estacionamento',\n",
              "   'Câmbio automático'],\n",
              "  'location': 'Belo Horizonte - MG',\n",
              "  'motor': 'Motor 1.0 8v',\n",
              "  'name': 'HUMMER',\n",
              "  'value': 'R$ 160.000'},\n",
              " {'category': 'NOVO',\n",
              "  'description': 'Ano 2019 - 0 km',\n",
              "  'items': ['Travas elétricas',\n",
              "   'Vidros elétricos',\n",
              "   'Rodas de liga',\n",
              "   'Sensor crepuscular'],\n",
              "  'location': 'São Paulo - SP',\n",
              "  'motor': 'Motor Diesel V6',\n",
              "  'name': 'FIRE',\n",
              "  'opportunity': 'OPORTUNIDADE',\n",
              "  'value': 'R$ 191.000'},\n",
              " {'category': 'USADO',\n",
              "  'description': 'Ano 2013 - 44.072 km',\n",
              "  'items': ['Teto panorâmico',\n",
              "   'Sensor de estacionamento',\n",
              "   '4 X 4',\n",
              "   'Rodas de liga'],\n",
              "  'location': 'Belo Horizonte - MG',\n",
              "  'motor': 'Motor 5.0 V8 Bi-Turbo',\n",
              "  'name': 'FERRARI 348',\n",
              "  'value': 'R$ 321.000'},\n",
              " {'category': 'USADO',\n",
              "  'description': 'Ano 1994 - 111.311 km',\n",
              "  'items': ['Sensor crepuscular',\n",
              "   'Câmbio automático',\n",
              "   'Sensor de estacionamento',\n",
              "   'Freios ABS'],\n",
              "  'location': 'Rio de Janeiro - RJ',\n",
              "  'motor': 'Motor V8',\n",
              "  'name': 'FERRARI ENZO',\n",
              "  'opportunity': 'OPORTUNIDADE',\n",
              "  'value': 'R$ 342.000'},\n",
              " {'category': 'USADO',\n",
              "  'description': 'Ano 1995 - 58.944 km',\n",
              "  'items': ['Rodas de liga',\n",
              "   'Painel digital',\n",
              "   'Central multimídia',\n",
              "   'Freios ABS'],\n",
              "  'location': 'São Paulo - SP',\n",
              "  'motor': 'Motor 1.8 16v',\n",
              "  'name': 'ALLOY',\n",
              "  'value': 'R$ 131.000'},\n",
              " {'category': 'NOVO',\n",
              "  'description': 'Ano 2019 - 0 km',\n",
              "  'items': ['Ar condicionado',\n",
              "   'Central multimídia',\n",
              "   'Sensor de chuva',\n",
              "   'Teto panorâmico'],\n",
              "  'location': 'São Paulo - SP',\n",
              "  'motor': 'Motor V8',\n",
              "  'name': 'SPORT CAR',\n",
              "  'value': 'R$ 102.000'},\n",
              " {'category': 'USADO',\n",
              "  'description': 'Ano 1992 - 62.255 km',\n",
              "  'items': ['Vidros elétricos',\n",
              "   'Controle de tração',\n",
              "   'Piloto automático',\n",
              "   'Teto panorâmico'],\n",
              "  'location': 'Rio de Janeiro - RJ',\n",
              "  'motor': 'Motor Diesel',\n",
              "  'name': 'CUBA',\n",
              "  'value': 'R$ 422.000'},\n",
              " {'category': 'USADO',\n",
              "  'description': 'Ano 2008 - 65.143 km',\n",
              "  'items': ['Freios ABS',\n",
              "   'Rodas de liga',\n",
              "   'Travas elétricas',\n",
              "   'Sensor de chuva'],\n",
              "  'location': 'São Paulo - SP',\n",
              "  'motor': 'Motor Diesel V6',\n",
              "  'name': 'FERRARI F12',\n",
              "  'value': 'R$ 482.000'},\n",
              " {'category': 'USADO',\n",
              "  'description': 'Ano 2007 - 33.343 km',\n",
              "  'items': ['Teto panorâmico',\n",
              "   'Painel digital',\n",
              "   'Travas elétricas',\n",
              "   'Controle de estabilidade'],\n",
              "  'location': 'Belo Horizonte - MG',\n",
              "  'motor': 'Motor 2.0 16v',\n",
              "  'name': 'ACURA REAR',\n",
              "  'value': 'R$ 229.000'},\n",
              " {'category': 'USADO',\n",
              "  'description': 'Ano 1998 - 66.074 km',\n",
              "  'items': ['Controle de tração',\n",
              "   'Câmera de estacionamento',\n",
              "   'Central multimídia',\n",
              "   'Travas elétricas'],\n",
              "  'location': 'São Paulo - SP',\n",
              "  'motor': 'Motor Diesel V8',\n",
              "  'name': 'MERCEDES BENZ SLR',\n",
              "  'value': 'R$ 61.000'},\n",
              " {'category': 'USADO',\n",
              "  'description': 'Ano 2001 - 90.123 km',\n",
              "  'items': ['Central multimídia',\n",
              "   '4 X 4',\n",
              "   'Piloto automático',\n",
              "   'Vidros elétricos'],\n",
              "  'location': 'Belo Horizonte - MG',\n",
              "  'motor': 'Motor V8',\n",
              "  'name': 'CADILLAC',\n",
              "  'value': 'R$ 491.000'},\n",
              " {'category': 'USADO',\n",
              "  'description': 'Ano 2009 - 118.844 km',\n",
              "  'items': ['Central multimídia',\n",
              "   'Teto panorâmico',\n",
              "   'Painel digital',\n",
              "   'Bancos de couro'],\n",
              "  'location': 'São Paulo - SP',\n",
              "  'motor': 'Motor 2.4 Turbo',\n",
              "  'name': 'FORD GT40',\n",
              "  'value': 'R$ 340.000'},\n",
              " {'category': 'USADO',\n",
              "  'description': 'Ano 2018 - 73.321 km',\n",
              "  'items': ['Ar condicionado',\n",
              "   'Rodas de liga',\n",
              "   'Painel digital',\n",
              "   'Controle de estabilidade'],\n",
              "  'location': 'São Paulo - SP',\n",
              "  'motor': 'Motor V6',\n",
              "  'name': 'HOTROD TRUCK',\n",
              "  'value': 'R$ 384.000'},\n",
              " {'category': 'USADO',\n",
              "  'description': 'Ano 2006 - 7.306 km',\n",
              "  'items': ['Travas elétricas',\n",
              "   'Central multimídia',\n",
              "   '4 X 4',\n",
              "   'Rodas de liga'],\n",
              "  'location': 'Belo Horizonte - MG',\n",
              "  'motor': 'Motor 1.0 8v',\n",
              "  'name': 'CLASSIC CARS',\n",
              "  'value': 'R$ 81.000'},\n",
              " {'category': 'USADO',\n",
              "  'description': 'Ano 1991 - 85.498 km',\n",
              "  'items': ['Travas elétricas',\n",
              "   'Ar condicionado',\n",
              "   'Piloto automático',\n",
              "   'Central multimídia'],\n",
              "  'location': 'Belo Horizonte - MG',\n",
              "  'motor': 'Motor Diesel',\n",
              "  'name': 'BMW GLAS V8 COUPE',\n",
              "  'value': 'R$ 429.000'},\n",
              " {'category': 'USADO',\n",
              "  'description': 'Ano 2017 - 17.022 km',\n",
              "  'items': ['Rodas de liga',\n",
              "   'Teto panorâmico',\n",
              "   'Câmera de estacionamento',\n",
              "   'Painel digital'],\n",
              "  'location': 'Belo Horizonte - MG',\n",
              "  'motor': 'Motor 2.0 16v',\n",
              "  'name': 'PEUGEOT',\n",
              "  'value': 'R$ 384.000'},\n",
              " {'category': 'NOVO',\n",
              "  'description': 'Ano 2019 - 0 km',\n",
              "  'items': ['Piloto automático', '4 X 4', 'Freios ABS', 'Travas elétricas'],\n",
              "  'location': 'Rio de Janeiro - RJ',\n",
              "  'motor': 'Motor 3.0 32v',\n",
              "  'name': 'JAGUAR CAR',\n",
              "  'value': 'R$ 318.000'},\n",
              " {'category': 'USADO',\n",
              "  'description': 'Ano 2008 - 112.215 km',\n",
              "  'items': ['Travas elétricas',\n",
              "   'Painel digital',\n",
              "   'Teto panorâmico',\n",
              "   'Central multimídia'],\n",
              "  'location': 'Belo Horizonte - MG',\n",
              "  'motor': 'Motor 2.4 Turbo',\n",
              "  'name': 'COBRA SPORTS CAR',\n",
              "  'value': 'R$ 326.000'},\n",
              " {'category': 'USADO',\n",
              "  'description': 'Ano 2009 - 53.225 km',\n",
              "  'items': ['Controle de estabilidade',\n",
              "   'Teto panorâmico',\n",
              "   'Bancos de couro',\n",
              "   'Ar condicionado'],\n",
              "  'location': 'Rio de Janeiro - RJ',\n",
              "  'motor': 'Motor Diesel',\n",
              "  'name': 'STRETCH LIMOUSINE',\n",
              "  'value': 'R$ 447.000'},\n",
              " {'category': 'USADO',\n",
              "  'description': 'Ano 2002 - 86.124 km',\n",
              "  'items': ['Teto panorâmico',\n",
              "   'Câmbio automático',\n",
              "   'Central multimídia',\n",
              "   'Travas elétricas'],\n",
              "  'location': 'São Paulo - SP',\n",
              "  'motor': 'Motor Diesel',\n",
              "  'name': 'FERRARI CAR',\n",
              "  'value': 'R$ 87.000'},\n",
              " {'category': 'USADO',\n",
              "  'description': 'Ano 1997 - 108.631 km',\n",
              "  'items': ['Sensor de estacionamento',\n",
              "   'Freios ABS',\n",
              "   'Controle de tração',\n",
              "   'Câmera de estacionamento'],\n",
              "  'location': 'Belo Horizonte - MG',\n",
              "  'motor': 'Motor Diesel V8',\n",
              "  'name': 'MERCURYDL',\n",
              "  'value': 'R$ 182.000'},\n",
              " {'category': 'NOVO',\n",
              "  'description': 'Ano 2019 - 0 km',\n",
              "  'items': ['Câmbio automático',\n",
              "   'Sensor crepuscular',\n",
              "   'Central multimídia',\n",
              "   'Vidros elétricos'],\n",
              "  'location': 'Belo Horizonte - MG',\n",
              "  'motor': 'Motor 1.0 8v',\n",
              "  'name': 'MASERATI',\n",
              "  'value': 'R$ 212.000'},\n",
              " {'category': 'USADO',\n",
              "  'description': 'Ano 1995 - 89.724 km',\n",
              "  'items': ['Vidros elétricos',\n",
              "   'Câmera de estacionamento',\n",
              "   'Sensor de chuva',\n",
              "   'Teto panorâmico'],\n",
              "  'location': 'São Paulo - SP',\n",
              "  'motor': 'Motor V6',\n",
              "  'name': 'MERCEDES C63 ENGINE',\n",
              "  'opportunity': 'OPORTUNIDADE',\n",
              "  'value': 'R$ 253.000'},\n",
              " {'category': 'USADO',\n",
              "  'description': 'Ano 2001 - 116.767 km',\n",
              "  'items': ['Sensor de chuva',\n",
              "   'Câmera de estacionamento',\n",
              "   'Teto panorâmico',\n",
              "   'Vidros elétricos'],\n",
              "  'location': 'São Paulo - SP',\n",
              "  'motor': 'Motor 3.0 32v',\n",
              "  'name': 'COUPE',\n",
              "  'value': 'R$ 246.000'},\n",
              " {'category': 'USADO',\n",
              "  'description': 'Ano 2016 - 38.803 km',\n",
              "  'items': ['Vidros elétricos',\n",
              "   'Sensor crepuscular',\n",
              "   'Freios ABS',\n",
              "   'Ar condicionado'],\n",
              "  'location': 'São Paulo - SP',\n",
              "  'motor': 'Motor 4.0 Turbo',\n",
              "  'name': 'GT',\n",
              "  'value': 'R$ 364.000'},\n",
              " {'category': 'USADO',\n",
              "  'description': 'Ano 1991 - 101.983 km',\n",
              "  'items': ['Câmbio automático',\n",
              "   'Sensor crepuscular',\n",
              "   'Rodas de liga',\n",
              "   'Sensor de chuva'],\n",
              "  'location': 'São Paulo - SP',\n",
              "  'motor': 'Motor 5.0 V8 Bi-Turbo',\n",
              "  'name': 'RENAULT',\n",
              "  'value': 'R$ 434.000'},\n",
              " {'category': 'USADO',\n",
              "  'description': 'Ano 2010 - 11.257 km',\n",
              "  'items': ['Sensor crepuscular',\n",
              "   'Travas elétricas',\n",
              "   'Central multimídia',\n",
              "   '4 X 4'],\n",
              "  'location': 'Rio de Janeiro - RJ',\n",
              "  'motor': 'Motor 5.0 V8 Bi-Turbo',\n",
              "  'name': 'FIAT 130',\n",
              "  'opportunity': 'OPORTUNIDADE',\n",
              "  'value': 'R$ 493.000'},\n",
              " {'category': 'USADO',\n",
              "  'description': 'Ano 2004 - 47.972 km',\n",
              "  'items': ['Câmera de estacionamento',\n",
              "   'Ar condicionado',\n",
              "   'Freios ABS',\n",
              "   'Piloto automático'],\n",
              "  'location': 'São Paulo - SP',\n",
              "  'motor': 'Motor 1.8 16v',\n",
              "  'name': 'VINTAGE CARS',\n",
              "  'value': 'R$ 303.000'},\n",
              " {'category': 'USADO',\n",
              "  'description': 'Ano 1995 - 61.740 km',\n",
              "  'items': ['Freios ABS',\n",
              "   'Sensor de estacionamento',\n",
              "   'Sensor de chuva',\n",
              "   'Piloto automático'],\n",
              "  'location': 'Rio de Janeiro - RJ',\n",
              "  'motor': 'Motor Diesel',\n",
              "  'name': 'NISSAN GTR',\n",
              "  'value': 'R$ 363.000'},\n",
              " {'category': 'USADO',\n",
              "  'description': 'Ano 2004 - 41.278 km',\n",
              "  'items': ['Freios ABS',\n",
              "   'Sensor de estacionamento',\n",
              "   'Controle de tração',\n",
              "   'Sensor de chuva'],\n",
              "  'location': 'Rio de Janeiro - RJ',\n",
              "  'motor': 'Motor 3.0 32v',\n",
              "  'name': 'MERCEDES SLS',\n",
              "  'value': 'R$ 180.000'},\n",
              " {'category': 'NOVO',\n",
              "  'description': 'Ano 2019 - 0 km',\n",
              "  'items': ['Teto panorâmico',\n",
              "   'Central multimídia',\n",
              "   'Ar condicionado',\n",
              "   'Sensor de estacionamento'],\n",
              "  'location': 'Belo Horizonte - MG',\n",
              "  'motor': 'Motor V8',\n",
              "  'name': 'LUXURY AUTOMOBILE',\n",
              "  'value': 'R$ 175.000'},\n",
              " {'category': 'USADO',\n",
              "  'description': 'Ano 2017 - 95.496 km',\n",
              "  'items': ['Controle de tração',\n",
              "   'Painel digital',\n",
              "   'Teto panorâmico',\n",
              "   'Freios ABS'],\n",
              "  'location': 'Rio de Janeiro - RJ',\n",
              "  'motor': 'Motor 4.0 Turbo',\n",
              "  'name': 'KIA CAR',\n",
              "  'opportunity': 'OPORTUNIDADE',\n",
              "  'value': 'R$ 455.000'},\n",
              " {'category': 'USADO',\n",
              "  'description': 'Ano 2003 - 100.107 km',\n",
              "  'items': ['Câmera de estacionamento',\n",
              "   'Freios ABS',\n",
              "   'Painel digital',\n",
              "   'Câmbio automático'],\n",
              "  'location': 'São Paulo - SP',\n",
              "  'motor': 'Motor V8',\n",
              "  'name': 'TANGERINE LAMBORGHINI',\n",
              "  'value': 'R$ 296.000'},\n",
              " {'category': 'USADO',\n",
              "  'description': 'Ano 2015 - 39.240 km',\n",
              "  'items': ['Vidros elétricos',\n",
              "   'Painel digital',\n",
              "   'Freios ABS',\n",
              "   'Sensor crepuscular'],\n",
              "  'location': 'Belo Horizonte - MG',\n",
              "  'motor': 'Motor 4.0 Turbo',\n",
              "  'name': 'CLASSIC TAILLIGHT',\n",
              "  'value': 'R$ 363.000'},\n",
              " {'category': 'USADO',\n",
              "  'description': 'Ano 1994 - 82.228 km',\n",
              "  'items': ['Câmera de estacionamento',\n",
              "   'Freios ABS',\n",
              "   'Controle de estabilidade',\n",
              "   'Painel digital'],\n",
              "  'location': 'Rio de Janeiro - RJ',\n",
              "  'motor': 'Motor 2.0 16v',\n",
              "  'name': 'WIESMANN GT MF4',\n",
              "  'value': 'R$ 217.000'},\n",
              " {'category': 'USADO',\n",
              "  'description': 'Ano 2017 - 24.757 km',\n",
              "  'items': ['Sensor de estacionamento',\n",
              "   'Rodas de liga',\n",
              "   'Câmera de estacionamento',\n",
              "   'Central multimídia'],\n",
              "  'location': 'São Paulo - SP',\n",
              "  'motor': 'Motor 5.0 V8 Bi-Turbo',\n",
              "  'name': 'GMC YUKON',\n",
              "  'value': 'R$ 51.000'},\n",
              " {'category': 'USADO',\n",
              "  'description': 'Ano 2015 - 70.486 km',\n",
              "  'items': ['Travas elétricas',\n",
              "   'Painel digital',\n",
              "   'Rodas de liga',\n",
              "   'Câmera de estacionamento'],\n",
              "  'location': 'São Paulo - SP',\n",
              "  'motor': 'Motor Diesel V6',\n",
              "  'name': 'PORSCHE 918 SPYDER',\n",
              "  'value': 'R$ 109.000'},\n",
              " {'category': 'NOVO',\n",
              "  'description': 'Ano 2019 - 0 km',\n",
              "  'items': ['Sensor de estacionamento',\n",
              "   'Painel digital',\n",
              "   'Controle de tração',\n",
              "   'Rodas de liga'],\n",
              "  'location': 'São Paulo - SP',\n",
              "  'motor': 'Motor 1.0 8v',\n",
              "  'name': 'T1',\n",
              "  'value': 'R$ 189.000'},\n",
              " {'category': 'USADO',\n",
              "  'description': 'Ano 2000 - 108.914 km',\n",
              "  'items': ['Ar condicionado',\n",
              "   'Câmera de estacionamento',\n",
              "   'Painel digital',\n",
              "   'Travas elétricas'],\n",
              "  'location': 'São Paulo - SP',\n",
              "  'motor': 'Motor 2.4 Turbo',\n",
              "  'name': 'MERCEDES BENZ 280S',\n",
              "  'value': 'R$ 110.000'},\n",
              " {'category': 'USADO',\n",
              "  'description': 'Ano 2004 - 90.412 km',\n",
              "  'items': ['Controle de tração',\n",
              "   'Sensor de estacionamento',\n",
              "   'Ar condicionado',\n",
              "   'Painel digital'],\n",
              "  'location': 'Rio de Janeiro - RJ',\n",
              "  'motor': 'Motor 1.8 16v',\n",
              "  'name': 'LINCOLN',\n",
              "  'value': 'R$ 321.000'},\n",
              " {'category': 'NOVO',\n",
              "  'description': 'Ano 2019 - 0 km',\n",
              "  'items': ['Câmbio automático',\n",
              "   'Travas elétricas',\n",
              "   'Vidros elétricos',\n",
              "   '4 X 4'],\n",
              "  'location': 'Rio de Janeiro - RJ',\n",
              "  'motor': 'Motor Diesel V8',\n",
              "  'name': 'BLACK SUV',\n",
              "  'opportunity': 'OPORTUNIDADE',\n",
              "  'value': 'R$ 275.000'},\n",
              " {'category': 'USADO',\n",
              "  'description': 'Ano 2015 - 4.561 km',\n",
              "  'items': ['4 X 4',\n",
              "   'Controle de tração',\n",
              "   'Controle de estabilidade',\n",
              "   'Câmbio automático'],\n",
              "  'location': 'São Paulo - SP',\n",
              "  'motor': 'Motor Diesel',\n",
              "  'name': 'DESOTO',\n",
              "  'value': 'R$ 261.000'},\n",
              " {'category': 'USADO',\n",
              "  'description': 'Ano 1992 - 108.884 km',\n",
              "  'items': ['Central multimídia',\n",
              "   '4 X 4',\n",
              "   'Painel digital',\n",
              "   'Sensor de estacionamento'],\n",
              "  'location': 'Rio de Janeiro - RJ',\n",
              "  'motor': 'Motor 2.4 Turbo',\n",
              "  'name': 'CHEVROLET',\n",
              "  'value': 'R$ 173.000'},\n",
              " {'category': 'NOVO',\n",
              "  'description': 'Ano 2019 - 0 km',\n",
              "  'items': ['Central multimídia',\n",
              "   'Piloto automático',\n",
              "   'Rodas de liga',\n",
              "   'Controle de estabilidade'],\n",
              "  'location': 'Rio de Janeiro - RJ',\n",
              "  'motor': 'Motor V6',\n",
              "  'name': 'VOLVO',\n",
              "  'opportunity': 'OPORTUNIDADE',\n",
              "  'value': 'R$ 303.000'},\n",
              " {'category': 'USADO',\n",
              "  'description': 'Ano 1993 - 47.501 km',\n",
              "  'items': ['Sensor de estacionamento',\n",
              "   'Ar condicionado',\n",
              "   'Teto panorâmico',\n",
              "   'Sensor crepuscular'],\n",
              "  'location': 'Rio de Janeiro - RJ',\n",
              "  'motor': 'Motor V8',\n",
              "  'name': 'KOENIGSEGG CCR',\n",
              "  'value': 'R$ 264.000'},\n",
              " {'category': 'USADO',\n",
              "  'description': 'Ano 2005 - 96.423 km',\n",
              "  'items': ['Câmbio automático',\n",
              "   'Freios ABS',\n",
              "   'Bancos de couro',\n",
              "   'Painel digital'],\n",
              "  'location': 'São Paulo - SP',\n",
              "  'motor': 'Motor Diesel V6',\n",
              "  'name': 'LAMBORGHINI MURCIELAGO SV',\n",
              "  'value': 'R$ 323.000'},\n",
              " {'category': 'USADO',\n",
              "  'description': 'Ano 1992 - 50.436 km',\n",
              "  'items': ['Controle de tração',\n",
              "   'Vidros elétricos',\n",
              "   'Rodas de liga',\n",
              "   'Sensor de estacionamento'],\n",
              "  'location': 'Rio de Janeiro - RJ',\n",
              "  'motor': 'Motor Diesel V8',\n",
              "  'name': 'OPEL DIPLOMAT',\n",
              "  'value': 'R$ 244.000'},\n",
              " {'category': 'NOVO',\n",
              "  'description': 'Ano 2019 - 0 km',\n",
              "  'items': ['Controle de estabilidade',\n",
              "   'Controle de tração',\n",
              "   'Sensor de chuva',\n",
              "   'Vidros elétricos'],\n",
              "  'location': 'Belo Horizonte - MG',\n",
              "  'motor': 'Motor Diesel V6',\n",
              "  'name': 'ROLLS ROYCE',\n",
              "  'value': 'R$ 350.000'},\n",
              " {'category': 'USADO',\n",
              "  'description': 'Ano 1993 - 9.245 km',\n",
              "  'items': ['Painel digital',\n",
              "   'Bancos de couro',\n",
              "   'Freios ABS',\n",
              "   'Controle de tração'],\n",
              "  'location': 'São Paulo - SP',\n",
              "  'motor': 'Motor V8',\n",
              "  'name': 'FERRARI F430 SPIDER',\n",
              "  'value': 'R$ 316.000'},\n",
              " {'category': 'USADO',\n",
              "  'description': 'Ano 1997 - 16.528 km',\n",
              "  'items': ['Teto panorâmico', '4 X 4', 'Painel digital', 'Sensor de chuva'],\n",
              "  'location': 'Belo Horizonte - MG',\n",
              "  'motor': 'Motor V6',\n",
              "  'name': 'SHEAVY',\n",
              "  'opportunity': 'OPORTUNIDADE',\n",
              "  'value': 'R$ 352.000'},\n",
              " {'category': 'USADO',\n",
              "  'description': 'Ano 2011 - 119.240 km',\n",
              "  'items': ['4 X 4',\n",
              "   'Controle de estabilidade',\n",
              "   'Câmera de estacionamento',\n",
              "   'Travas elétricas'],\n",
              "  'location': 'São Paulo - SP',\n",
              "  'motor': 'Motor 4.0 Turbo',\n",
              "  'name': 'AUTO DETAIL',\n",
              "  'value': 'R$ 291.000'},\n",
              " {'category': 'NOVO',\n",
              "  'description': 'Ano 2019 - 0 km',\n",
              "  'items': ['Câmbio automático',\n",
              "   'Bancos de couro',\n",
              "   'Controle de tração',\n",
              "   'Painel digital'],\n",
              "  'location': 'Belo Horizonte - MG',\n",
              "  'motor': 'Motor 2.0 16v',\n",
              "  'name': 'ALFA ROMEO',\n",
              "  'opportunity': 'OPORTUNIDADE',\n",
              "  'value': 'R$ 98.000'},\n",
              " {'category': 'USADO',\n",
              "  'description': 'Ano 1991 - 80.719 km',\n",
              "  'items': ['Sensor crepuscular',\n",
              "   'Câmbio automático',\n",
              "   'Controle de tração',\n",
              "   'Central multimídia'],\n",
              "  'location': 'São Paulo - SP',\n",
              "  'motor': 'Motor Diesel V8',\n",
              "  'name': 'LAMBORGHINI HURACAN',\n",
              "  'value': 'R$ 218.000'},\n",
              " {'category': 'USADO',\n",
              "  'description': 'Ano 2010 - 113.873 km',\n",
              "  'items': ['Central multimídia',\n",
              "   'Painel digital',\n",
              "   'Controle de estabilidade',\n",
              "   'Travas elétricas'],\n",
              "  'location': 'São Paulo - SP',\n",
              "  'motor': 'Motor Diesel',\n",
              "  'name': 'MORGAN PLUS 8',\n",
              "  'value': 'R$ 218.000'},\n",
              " {'category': 'USADO',\n",
              "  'description': 'Ano 1995 - 91.022 km',\n",
              "  'items': ['Sensor de estacionamento',\n",
              "   'Vidros elétricos',\n",
              "   'Controle de estabilidade',\n",
              "   'Ar condicionado'],\n",
              "  'location': 'Belo Horizonte - MG',\n",
              "  'motor': 'Motor Diesel V6',\n",
              "  'name': 'BMW M4',\n",
              "  'value': 'R$ 387.000'},\n",
              " {'category': 'USADO',\n",
              "  'description': 'Ano 2002 - 50.166 km',\n",
              "  'items': ['Câmbio automático',\n",
              "   'Vidros elétricos',\n",
              "   'Câmera de estacionamento',\n",
              "   'Controle de tração'],\n",
              "  'location': 'Belo Horizonte - MG',\n",
              "  'motor': 'Motor 1.0 8v',\n",
              "  'name': 'COLD',\n",
              "  'opportunity': 'OPORTUNIDADE',\n",
              "  'value': 'R$ 105.000'},\n",
              " {'category': 'USADO',\n",
              "  'description': 'Ano 1994 - 59.885 km',\n",
              "  'items': ['Sensor de chuva',\n",
              "   'Controle de tração',\n",
              "   'Sensor de estacionamento',\n",
              "   'Câmbio automático'],\n",
              "  'location': 'Belo Horizonte - MG',\n",
              "  'motor': 'Motor 2.0 16v',\n",
              "  'name': 'C63',\n",
              "  'value': 'R$ 170.000'},\n",
              " {'category': 'USADO',\n",
              "  'description': 'Ano 1994 - 15.292 km',\n",
              "  'items': ['Controle de tração',\n",
              "   '4 X 4',\n",
              "   'Vidros elétricos',\n",
              "   'Sensor de chuva'],\n",
              "  'location': 'Belo Horizonte - MG',\n",
              "  'motor': 'Motor 4.0 Turbo',\n",
              "  'name': 'CUSTOM RIMS',\n",
              "  'value': 'R$ 490.000'},\n",
              " {'category': 'USADO',\n",
              "  'description': 'Ano 2003 - 23.426 km',\n",
              "  'items': ['Controle de tração',\n",
              "   'Sensor crepuscular',\n",
              "   'Piloto automático',\n",
              "   'Sensor de estacionamento'],\n",
              "  'location': 'Rio de Janeiro - RJ',\n",
              "  'motor': 'Motor 2.0 16v',\n",
              "  'name': 'MERCEDES BENZ S CLASS',\n",
              "  'value': 'R$ 152.000'},\n",
              " {'category': 'NOVO',\n",
              "  'description': 'Ano 2019 - 0 km',\n",
              "  'items': ['Sensor crepuscular',\n",
              "   'Sensor de estacionamento',\n",
              "   'Travas elétricas',\n",
              "   'Sensor de chuva'],\n",
              "  'location': 'São Paulo - SP',\n",
              "  'motor': 'Motor 1.0 8v',\n",
              "  'name': 'ADAM OPEL AG',\n",
              "  'value': 'R$ 480.000'},\n",
              " {'category': 'USADO',\n",
              "  'description': 'Ano 2000 - 81.779 km',\n",
              "  'items': ['Rodas de liga',\n",
              "   'Controle de tração',\n",
              "   'Bancos de couro',\n",
              "   'Vidros elétricos'],\n",
              "  'location': 'Rio de Janeiro - RJ',\n",
              "  'motor': 'Motor 4.0 Turbo',\n",
              "  'name': 'SPOTLIGHT',\n",
              "  'value': 'R$ 381.000'},\n",
              " {'category': 'USADO',\n",
              "  'description': 'Ano 1995 - 45.004 km',\n",
              "  'items': ['Travas elétricas',\n",
              "   'Freios ABS',\n",
              "   'Bancos de couro',\n",
              "   'Câmbio automático'],\n",
              "  'location': 'São Paulo - SP',\n",
              "  'motor': 'Motor Diesel V6',\n",
              "  'name': 'LOTUS',\n",
              "  'opportunity': 'OPORTUNIDADE',\n",
              "  'value': 'R$ 468.000'},\n",
              " {'category': 'NOVO',\n",
              "  'description': 'Ano 2019 - 0 km',\n",
              "  'items': ['Travas elétricas',\n",
              "   'Rodas de liga',\n",
              "   'Bancos de couro',\n",
              "   'Central multimídia'],\n",
              "  'location': 'Rio de Janeiro - RJ',\n",
              "  'motor': 'Motor 1.8 16v',\n",
              "  'name': 'SPORTS CAR',\n",
              "  'value': 'R$ 54.000'},\n",
              " {'category': 'USADO',\n",
              "  'description': 'Ano 2002 - 84.771 km',\n",
              "  'items': ['Teto panorâmico',\n",
              "   'Câmbio automático',\n",
              "   'Controle de estabilidade',\n",
              "   'Vidros elétricos'],\n",
              "  'location': 'São Paulo - SP',\n",
              "  'motor': 'Motor 5.0 V8 Bi-Turbo',\n",
              "  'name': 'RESTORED',\n",
              "  'value': 'R$ 304.000'},\n",
              " {'category': 'USADO',\n",
              "  'description': 'Ano 2005 - 57.973 km',\n",
              "  'items': ['Sensor de chuva',\n",
              "   'Rodas de liga',\n",
              "   'Controle de tração',\n",
              "   'Ar condicionado'],\n",
              "  'location': 'Rio de Janeiro - RJ',\n",
              "  'motor': 'Motor 1.0 8v',\n",
              "  'name': 'FERRARI F430',\n",
              "  'value': 'R$ 372.000'},\n",
              " {'category': 'USADO',\n",
              "  'description': 'Ano 2014 - 86.577 km',\n",
              "  'items': ['Vidros elétricos',\n",
              "   'Bancos de couro',\n",
              "   'Controle de estabilidade',\n",
              "   'Freios ABS'],\n",
              "  'location': 'Belo Horizonte - MG',\n",
              "  'motor': 'Motor 1.0 8v',\n",
              "  'name': 'CLASSIC MERCEDES',\n",
              "  'value': 'R$ 357.000'},\n",
              " {'category': 'USADO',\n",
              "  'description': 'Ano 2002 - 25.150 km',\n",
              "  'items': ['Central multimídia',\n",
              "   'Ar condicionado',\n",
              "   'Vidros elétricos',\n",
              "   'Painel digital'],\n",
              "  'location': 'Rio de Janeiro - RJ',\n",
              "  'motor': 'Motor V6',\n",
              "  'name': 'MERCEDES',\n",
              "  'value': 'R$ 333.000'},\n",
              " {'category': 'USADO',\n",
              "  'description': 'Ano 2010 - 44.165 km',\n",
              "  'items': ['Vidros elétricos',\n",
              "   'Sensor de chuva',\n",
              "   'Sensor crepuscular',\n",
              "   'Ar condicionado'],\n",
              "  'location': 'Belo Horizonte - MG',\n",
              "  'motor': 'Motor 1.0 8v',\n",
              "  'name': 'SPEEDO',\n",
              "  'value': 'R$ 153.000'},\n",
              " {'category': 'USADO',\n",
              "  'description': 'Ano 2005 - 102.500 km',\n",
              "  'items': ['Teto panorâmico',\n",
              "   'Câmbio automático',\n",
              "   'Sensor crepuscular',\n",
              "   'Controle de estabilidade'],\n",
              "  'location': 'Belo Horizonte - MG',\n",
              "  'motor': 'Motor 1.8 16v',\n",
              "  'name': 'PORSCHE TARGA',\n",
              "  'value': 'R$ 318.000'},\n",
              " {'category': 'USADO',\n",
              "  'description': 'Ano 1999 - 90.403 km',\n",
              "  'items': ['Bancos de couro',\n",
              "   'Ar condicionado',\n",
              "   'Travas elétricas',\n",
              "   'Controle de tração'],\n",
              "  'location': 'Belo Horizonte - MG',\n",
              "  'motor': 'Motor 4.0 Turbo',\n",
              "  'name': 'FERRARI 308 GT4',\n",
              "  'value': 'R$ 125.000'},\n",
              " {'category': 'USADO',\n",
              "  'description': 'Ano 2015 - 69.171 km',\n",
              "  'items': ['Piloto automático',\n",
              "   'Central multimídia',\n",
              "   'Painel digital',\n",
              "   'Rodas de liga'],\n",
              "  'location': 'Rio de Janeiro - RJ',\n",
              "  'motor': 'Motor Diesel',\n",
              "  'name': 'MERCEDES BENZ 600',\n",
              "  'value': 'R$ 373.000'},\n",
              " {'category': 'USADO',\n",
              "  'description': 'Ano 2004 - 4.476 km',\n",
              "  'items': ['Rodas de liga',\n",
              "   'Teto panorâmico',\n",
              "   'Câmbio automático',\n",
              "   'Bancos de couro'],\n",
              "  'location': 'Belo Horizonte - MG',\n",
              "  'motor': 'Motor Diesel V6',\n",
              "  'name': 'PACKARD SUPER 8',\n",
              "  'value': 'R$ 81.000'},\n",
              " {'category': 'USADO',\n",
              "  'description': 'Ano 2004 - 61.712 km',\n",
              "  'items': ['4 X 4',\n",
              "   'Central multimídia',\n",
              "   'Travas elétricas',\n",
              "   'Painel digital'],\n",
              "  'location': 'Belo Horizonte - MG',\n",
              "  'motor': 'Motor Diesel V6',\n",
              "  'name': 'BENTLEY MULSANNE',\n",
              "  'opportunity': 'OPORTUNIDADE',\n",
              "  'value': 'R$ 464.000'},\n",
              " {'category': 'NOVO',\n",
              "  'description': 'Ano 2019 - 0 km',\n",
              "  'items': ['4 X 4',\n",
              "   'Teto panorâmico',\n",
              "   'Sensor de chuva',\n",
              "   'Controle de tração'],\n",
              "  'location': 'Belo Horizonte - MG',\n",
              "  'motor': 'Motor 5.0 V8 Bi-Turbo',\n",
              "  'name': 'JAGUAR XK',\n",
              "  'value': 'R$ 201.000'},\n",
              " {'category': 'USADO',\n",
              "  'description': 'Ano 1999 - 2.388 km',\n",
              "  'items': ['4 X 4',\n",
              "   'Controle de estabilidade',\n",
              "   'Freios ABS',\n",
              "   'Sensor de estacionamento'],\n",
              "  'location': 'São Paulo - SP',\n",
              "  'motor': 'Motor V6',\n",
              "  'name': 'PLYMOUTH',\n",
              "  'opportunity': 'OPORTUNIDADE',\n",
              "  'value': 'R$ 222.000'},\n",
              " {'category': 'USADO',\n",
              "  'description': 'Ano 2009 - 86.538 km',\n",
              "  'items': ['4 X 4', 'Sensor de chuva', 'Rodas de liga', 'Central multimídia'],\n",
              "  'location': 'Rio de Janeiro - RJ',\n",
              "  'motor': 'Motor Diesel V6',\n",
              "  'name': 'PORSCHE 911 GT3',\n",
              "  'value': 'R$ 376.000'},\n",
              " {'category': 'USADO',\n",
              "  'description': 'Ano 2014 - 11.328 km',\n",
              "  'items': ['Travas elétricas',\n",
              "   'Freios ABS',\n",
              "   'Controle de tração',\n",
              "   'Controle de estabilidade'],\n",
              "  'location': 'São Paulo - SP',\n",
              "  'motor': 'Motor V8',\n",
              "  'name': 'MERCES',\n",
              "  'value': 'R$ 112.000'},\n",
              " {'category': 'USADO',\n",
              "  'description': 'Ano 2006 - 93.564 km',\n",
              "  'items': ['Sensor de estacionamento',\n",
              "   'Câmbio automático',\n",
              "   'Piloto automático',\n",
              "   'Ar condicionado'],\n",
              "  'location': 'Rio de Janeiro - RJ',\n",
              "  'motor': 'Motor Diesel',\n",
              "  'name': 'THIRTIES',\n",
              "  'value': 'R$ 338.000'},\n",
              " {'category': 'USADO',\n",
              "  'description': 'Ano 1996 - 106.598 km',\n",
              "  'items': ['Controle de tração',\n",
              "   'Sensor crepuscular',\n",
              "   'Vidros elétricos',\n",
              "   'Painel digital'],\n",
              "  'location': 'São Paulo - SP',\n",
              "  'motor': 'Motor 1.8 16v',\n",
              "  'name': 'PORSCHE 911 TURBO',\n",
              "  'value': 'R$ 338.000'},\n",
              " {'category': 'USADO',\n",
              "  'description': 'Ano 1994 - 77.208 km',\n",
              "  'items': ['Controle de estabilidade',\n",
              "   'Rodas de liga',\n",
              "   'Ar condicionado',\n",
              "   'Câmbio automático'],\n",
              "  'location': 'Belo Horizonte - MG',\n",
              "  'motor': 'Motor V8',\n",
              "  'name': 'SKODA',\n",
              "  'value': 'R$ 198.000'},\n",
              " {'category': 'USADO',\n",
              "  'description': 'Ano 2017 - 64.852 km',\n",
              "  'items': ['Câmera de estacionamento',\n",
              "   'Central multimídia',\n",
              "   'Travas elétricas',\n",
              "   'Câmbio automático'],\n",
              "  'location': 'Belo Horizonte - MG',\n",
              "  'motor': 'Motor Diesel V8',\n",
              "  'name': 'VOLKSWAGEN',\n",
              "  'opportunity': 'OPORTUNIDADE',\n",
              "  'value': 'R$ 155.000'},\n",
              " {'category': 'USADO',\n",
              "  'description': 'Ano 2001 - 70.878 km',\n",
              "  'items': ['Sensor de estacionamento',\n",
              "   'Ar condicionado',\n",
              "   'Vidros elétricos',\n",
              "   'Câmbio automático'],\n",
              "  'location': 'Rio de Janeiro - RJ',\n",
              "  'motor': 'Motor 1.0 8v',\n",
              "  'name': 'GMC YUKON TRUCK WHEEL',\n",
              "  'value': 'R$ 273.000'},\n",
              " {'category': 'NOVO',\n",
              "  'description': 'Ano 2019 - 0 km',\n",
              "  'items': ['Freios ABS',\n",
              "   'Controle de estabilidade',\n",
              "   'Travas elétricas',\n",
              "   'Câmera de estacionamento'],\n",
              "  'location': 'São Paulo - SP',\n",
              "  'motor': 'Motor Diesel',\n",
              "  'name': 'PANTERA',\n",
              "  'value': 'R$ 63.000'},\n",
              " {'category': 'USADO',\n",
              "  'description': 'Ano 2009 - 64.735 km',\n",
              "  'items': ['Câmbio automático',\n",
              "   'Vidros elétricos',\n",
              "   'Sensor de estacionamento',\n",
              "   '4 X 4'],\n",
              "  'location': 'São Paulo - SP',\n",
              "  'motor': 'Motor Diesel V8',\n",
              "  'name': 'HONDA',\n",
              "  'value': 'R$ 448.000'},\n",
              " {'category': 'USADO',\n",
              "  'description': 'Ano 2009 - 59.305 km',\n",
              "  'items': ['Freios ABS',\n",
              "   'Sensor de estacionamento',\n",
              "   'Rodas de liga',\n",
              "   'Câmera de estacionamento'],\n",
              "  'location': 'Belo Horizonte - MG',\n",
              "  'motor': 'Motor Diesel V6',\n",
              "  'name': 'MERCEDES AMG GTS',\n",
              "  'value': 'R$ 376.000'},\n",
              " {'category': 'USADO',\n",
              "  'description': 'Ano 1990 - 92.448 km',\n",
              "  'items': ['Controle de estabilidade',\n",
              "   'Câmbio automático',\n",
              "   'Ar condicionado',\n",
              "   'Central multimídia'],\n",
              "  'location': 'Belo Horizonte - MG',\n",
              "  'motor': 'Motor V6',\n",
              "  'name': 'LIMO',\n",
              "  'value': 'R$ 353.000'},\n",
              " {'category': 'USADO',\n",
              "  'description': 'Ano 2015 - 21.275 km',\n",
              "  'items': ['Controle de tração',\n",
              "   'Travas elétricas',\n",
              "   'Rodas de liga',\n",
              "   'Central multimídia'],\n",
              "  'location': 'Belo Horizonte - MG',\n",
              "  'motor': 'Motor Diesel V6',\n",
              "  'name': 'BMW',\n",
              "  'value': 'R$ 90.000'},\n",
              " {'category': 'USADO',\n",
              "  'description': 'Ano 1994 - 86.170 km',\n",
              "  'items': ['Piloto automático',\n",
              "   'Sensor de estacionamento',\n",
              "   'Sensor crepuscular',\n",
              "   'Rodas de liga'],\n",
              "  'location': 'Rio de Janeiro - RJ',\n",
              "  'motor': 'Motor V6',\n",
              "  'name': 'FERRARI 288 GTO',\n",
              "  'value': 'R$ 468.000'},\n",
              " {'category': 'USADO',\n",
              "  'description': 'Ano 2014 - 117.197 km',\n",
              "  'items': ['Piloto automático',\n",
              "   'Controle de estabilidade',\n",
              "   'Sensor de estacionamento',\n",
              "   'Sensor de chuva'],\n",
              "  'location': 'São Paulo - SP',\n",
              "  'motor': 'Motor 3.0 32v',\n",
              "  'name': 'AUDI RS7',\n",
              "  'value': 'R$ 415.000'},\n",
              " {'category': 'USADO',\n",
              "  'description': 'Ano 1995 - 30.961 km',\n",
              "  'items': ['Sensor de chuva', 'Câmbio automático', 'Freios ABS', '4 X 4'],\n",
              "  'location': 'Belo Horizonte - MG',\n",
              "  'motor': 'Motor 2.0 16v',\n",
              "  'name': 'SEAT LEON',\n",
              "  'opportunity': 'OPORTUNIDADE',\n",
              "  'value': 'R$ 331.000'},\n",
              " {'category': 'USADO',\n",
              "  'description': 'Ano 1991 - 97.949 km',\n",
              "  'items': ['Freios ABS',\n",
              "   'Rodas de liga',\n",
              "   'Câmbio automático',\n",
              "   'Painel digital'],\n",
              "  'location': 'Rio de Janeiro - RJ',\n",
              "  'motor': 'Motor Diesel V8',\n",
              "  'name': 'MERCEDES BENZ SLS',\n",
              "  'opportunity': 'OPORTUNIDADE',\n",
              "  'value': 'R$ 237.000'},\n",
              " {'category': 'USADO',\n",
              "  'description': 'Ano 2016 - 18.870 km',\n",
              "  'items': ['Câmera de estacionamento',\n",
              "   'Rodas de liga',\n",
              "   'Painel digital',\n",
              "   'Sensor de estacionamento'],\n",
              "  'location': 'Rio de Janeiro - RJ',\n",
              "  'motor': 'Motor 2.0 16v',\n",
              "  'name': 'LAGONDA',\n",
              "  'value': 'R$ 88.000'},\n",
              " {'category': 'USADO',\n",
              "  'description': 'Ano 2014 - 114.136 km',\n",
              "  'items': ['Central multimídia',\n",
              "   'Sensor de estacionamento',\n",
              "   'Controle de tração',\n",
              "   'Câmbio automático'],\n",
              "  'location': 'Belo Horizonte - MG',\n",
              "  'motor': 'Motor Diesel',\n",
              "  'name': 'ANTIQUE CAR',\n",
              "  'value': 'R$ 312.000'},\n",
              " {'category': 'NOVO',\n",
              "  'description': 'Ano 2019 - 0 km',\n",
              "  'items': ['Câmera de estacionamento',\n",
              "   'Sensor de chuva',\n",
              "   'Vidros elétricos',\n",
              "   'Sensor de estacionamento'],\n",
              "  'location': 'Rio de Janeiro - RJ',\n",
              "  'motor': 'Motor V6',\n",
              "  'name': 'AUDI A5',\n",
              "  'value': 'R$ 240.000'},\n",
              " {'category': 'NOVO',\n",
              "  'description': 'Ano 2019 - 0 km',\n",
              "  'items': ['Sensor crepuscular',\n",
              "   'Controle de estabilidade',\n",
              "   'Rodas de liga',\n",
              "   'Teto panorâmico'],\n",
              "  'location': 'São Paulo - SP',\n",
              "  'motor': 'Motor 1.8 16v',\n",
              "  'name': 'COUGAR XR',\n",
              "  'opportunity': 'OPORTUNIDADE',\n",
              "  'value': 'R$ 215.000'},\n",
              " {'category': 'USADO',\n",
              "  'description': 'Ano 1991 - 117.377 km',\n",
              "  'items': ['Teto panorâmico',\n",
              "   'Ar condicionado',\n",
              "   'Vidros elétricos',\n",
              "   'Bancos de couro'],\n",
              "  'location': 'Belo Horizonte - MG',\n",
              "  'motor': 'Motor V6',\n",
              "  'name': 'JAGUAR',\n",
              "  'value': 'R$ 492.000'},\n",
              " {'category': 'NOVO',\n",
              "  'description': 'Ano 2019 - 0 km',\n",
              "  'items': ['Controle de tração',\n",
              "   'Câmbio automático',\n",
              "   'Câmera de estacionamento',\n",
              "   'Sensor de estacionamento'],\n",
              "  'location': 'São Paulo - SP',\n",
              "  'motor': 'Motor Diesel',\n",
              "  'name': 'WHITE LAMBORGHINI',\n",
              "  'opportunity': 'OPORTUNIDADE',\n",
              "  'value': 'R$ 172.000'},\n",
              " {'category': 'NOVO',\n",
              "  'description': 'Ano 2019 - 0 km',\n",
              "  'items': ['Bancos de couro',\n",
              "   'Rodas de liga',\n",
              "   'Sensor de chuva',\n",
              "   'Central multimídia'],\n",
              "  'location': 'São Paulo - SP',\n",
              "  'motor': 'Motor 5.0 V8 Bi-Turbo',\n",
              "  'name': 'CORVETTE YELLOW',\n",
              "  'value': 'R$ 496.000'},\n",
              " {'category': 'USADO',\n",
              "  'description': 'Ano 2010 - 112.389 km',\n",
              "  'items': ['Ar condicionado',\n",
              "   'Travas elétricas',\n",
              "   'Controle de tração',\n",
              "   '4 X 4'],\n",
              "  'location': 'Rio de Janeiro - RJ',\n",
              "  'motor': 'Motor 5.0 V8 Bi-Turbo',\n",
              "  'name': 'HOUSTON FIRE DEPARTMENT',\n",
              "  'value': 'R$ 334.000'},\n",
              " {'category': 'USADO',\n",
              "  'description': 'Ano 2010 - 15.193 km',\n",
              "  'items': ['Ar condicionado',\n",
              "   'Vidros elétricos',\n",
              "   'Câmbio automático',\n",
              "   'Sensor de estacionamento'],\n",
              "  'location': 'Belo Horizonte - MG',\n",
              "  'motor': 'Motor V8',\n",
              "  'name': 'ASTON MARTIN DBS',\n",
              "  'value': 'R$ 331.000'},\n",
              " {'category': 'NOVO',\n",
              "  'description': 'Ano 2019 - 0 km',\n",
              "  'items': ['Freios ABS',\n",
              "   'Piloto automático',\n",
              "   'Sensor crepuscular',\n",
              "   'Vidros elétricos'],\n",
              "  'location': 'São Paulo - SP',\n",
              "  'motor': 'Motor 4.0 Turbo',\n",
              "  'name': 'AMG',\n",
              "  'value': 'R$ 381.000'},\n",
              " {'category': 'NOVO',\n",
              "  'description': 'Ano 2019 - 0 km',\n",
              "  'items': ['Ar condicionado',\n",
              "   'Sensor de estacionamento',\n",
              "   'Controle de estabilidade',\n",
              "   'Painel digital'],\n",
              "  'location': 'São Paulo - SP',\n",
              "  'motor': 'Motor 2.4 Turbo',\n",
              "  'name': 'LAMBORGHINI DIABLO',\n",
              "  'value': 'R$ 362.000'},\n",
              " {'category': 'NOVO',\n",
              "  'description': 'Ano 2019 - 0 km',\n",
              "  'items': ['Sensor de chuva',\n",
              "   'Ar condicionado',\n",
              "   'Teto panorâmico',\n",
              "   'Sensor de estacionamento'],\n",
              "  'location': 'Rio de Janeiro - RJ',\n",
              "  'motor': 'Motor 2.0 16v',\n",
              "  'name': 'TRIPPELWAGEN',\n",
              "  'value': 'R$ 281.000'},\n",
              " {'category': 'NOVO',\n",
              "  'description': 'Ano 2019 - 0 km',\n",
              "  'items': ['Freios ABS',\n",
              "   'Ar condicionado',\n",
              "   'Travas elétricas',\n",
              "   'Câmbio automático'],\n",
              "  'location': 'São Paulo - SP',\n",
              "  'motor': 'Motor 2.4 Turbo',\n",
              "  'name': 'BENTZ',\n",
              "  'value': 'R$ 308.000'},\n",
              " {'category': 'NOVO',\n",
              "  'description': 'Ano 2019 - 0 km',\n",
              "  'items': ['Piloto automático',\n",
              "   'Controle de estabilidade',\n",
              "   'Câmera de estacionamento',\n",
              "   '4 X 4'],\n",
              "  'location': 'Rio de Janeiro - RJ',\n",
              "  'motor': 'Motor 3.0 32v',\n",
              "  'name': 'LUXURY SPORTS CAR',\n",
              "  'value': 'R$ 268.000'},\n",
              " {'category': 'USADO',\n",
              "  'description': 'Ano 2008 - 42.427 km',\n",
              "  'items': ['Rodas de liga',\n",
              "   'Freios ABS',\n",
              "   'Câmera de estacionamento',\n",
              "   'Travas elétricas'],\n",
              "  'location': 'Rio de Janeiro - RJ',\n",
              "  'motor': 'Motor V8',\n",
              "  'name': 'CONVERTIBLE',\n",
              "  'opportunity': 'OPORTUNIDADE',\n",
              "  'value': 'R$ 192.000'},\n",
              " {'category': 'USADO',\n",
              "  'description': 'Ano 2006 - 15.128 km',\n",
              "  'items': ['Painel digital',\n",
              "   'Câmbio automático',\n",
              "   'Sensor crepuscular',\n",
              "   'Rodas de liga'],\n",
              "  'location': 'São Paulo - SP',\n",
              "  'motor': 'Motor 1.8 16v',\n",
              "  'name': 'ROLLAND PILAIN',\n",
              "  'value': 'R$ 432.000'},\n",
              " {'category': 'USADO',\n",
              "  'description': 'Ano 1998 - 74.292 km',\n",
              "  'items': ['Câmera de estacionamento',\n",
              "   'Rodas de liga',\n",
              "   'Sensor de estacionamento',\n",
              "   'Vidros elétricos'],\n",
              "  'location': 'São Paulo - SP',\n",
              "  'motor': 'Motor 3.0 32v',\n",
              "  'name': 'SUV REAR TIRE',\n",
              "  'value': 'R$ 489.000'},\n",
              " {'category': 'NOVO',\n",
              "  'description': 'Ano 2019 - 0 km',\n",
              "  'items': ['Bancos de couro',\n",
              "   'Freios ABS',\n",
              "   'Sensor de estacionamento',\n",
              "   'Teto panorâmico'],\n",
              "  'location': 'Belo Horizonte - MG',\n",
              "  'motor': 'Motor 2.0 16v',\n",
              "  'name': 'ANTIQUE',\n",
              "  'value': 'R$ 427.000'},\n",
              " {'category': 'USADO',\n",
              "  'description': 'Ano 2001 - 102.776 km',\n",
              "  'items': ['Sensor crepuscular',\n",
              "   'Sensor de chuva',\n",
              "   'Vidros elétricos',\n",
              "   'Travas elétricas'],\n",
              "  'location': 'Belo Horizonte - MG',\n",
              "  'motor': 'Motor 2.0 16v',\n",
              "  'name': 'SPORT',\n",
              "  'value': 'R$ 203.000'},\n",
              " {'category': 'USADO',\n",
              "  'description': 'Ano 2011 - 101.787 km',\n",
              "  'items': ['Painel digital',\n",
              "   'Travas elétricas',\n",
              "   'Sensor de chuva',\n",
              "   'Ar condicionado'],\n",
              "  'location': 'Belo Horizonte - MG',\n",
              "  'motor': 'Motor 1.8 16v',\n",
              "  'name': 'IMPERIAL',\n",
              "  'opportunity': 'OPORTUNIDADE',\n",
              "  'value': 'R$ 474.000'},\n",
              " {'category': 'USADO',\n",
              "  'description': 'Ano 2001 - 88.564 km',\n",
              "  'items': ['Sensor crepuscular',\n",
              "   'Bancos de couro',\n",
              "   'Sensor de estacionamento',\n",
              "   'Travas elétricas'],\n",
              "  'location': 'Belo Horizonte - MG',\n",
              "  'motor': 'Motor 3.0 32v',\n",
              "  'name': 'KIA SPORTS CAR',\n",
              "  'value': 'R$ 366.000'}]"
            ]
          },
          "metadata": {},
          "execution_count": 138
        }
      ]
    },
    {
      "cell_type": "code",
      "source": [
        "dataset = pd.DataFrame(cards)\n",
        "dataset.to_csv('./output/data/dataset.csv', sep=';', index=False, encoding='utf-8-sig')\n",
        "dataset.head()"
      ],
      "metadata": {
        "colab": {
          "base_uri": "https://localhost:8080/",
          "height": 424
        },
        "id": "vgf63bFtEUEw",
        "outputId": "605b0c6c-fdc2-4d46-f734-7b07d549a17d"
      },
      "execution_count": 137,
      "outputs": [
        {
          "output_type": "execute_result",
          "data": {
            "text/html": [
              "\n",
              "  <div id=\"df-06ada23a-8f02-412c-afc9-1214252b7bdd\">\n",
              "    <div class=\"colab-df-container\">\n",
              "      <div>\n",
              "<style scoped>\n",
              "    .dataframe tbody tr th:only-of-type {\n",
              "        vertical-align: middle;\n",
              "    }\n",
              "\n",
              "    .dataframe tbody tr th {\n",
              "        vertical-align: top;\n",
              "    }\n",
              "\n",
              "    .dataframe thead th {\n",
              "        text-align: right;\n",
              "    }\n",
              "</style>\n",
              "<table border=\"1\" class=\"dataframe\">\n",
              "  <thead>\n",
              "    <tr style=\"text-align: right;\">\n",
              "      <th></th>\n",
              "      <th>value</th>\n",
              "      <th>name</th>\n",
              "      <th>category</th>\n",
              "      <th>motor</th>\n",
              "      <th>description</th>\n",
              "      <th>location</th>\n",
              "      <th>items</th>\n",
              "      <th>opportunity</th>\n",
              "    </tr>\n",
              "  </thead>\n",
              "  <tbody>\n",
              "    <tr>\n",
              "      <th>0</th>\n",
              "      <td>R$ 338.000</td>\n",
              "      <td>LAMBORGHINI AVENTADOR</td>\n",
              "      <td>USADO</td>\n",
              "      <td>Motor 1.8 16v</td>\n",
              "      <td>Ano 1993 - 55.286 km</td>\n",
              "      <td>Belo Horizonte - MG</td>\n",
              "      <td>[4 X 4, Câmera de estacionamento, Controle de ...</td>\n",
              "      <td>NaN</td>\n",
              "    </tr>\n",
              "    <tr>\n",
              "      <th>1</th>\n",
              "      <td>R$ 346.000</td>\n",
              "      <td>BMW M2</td>\n",
              "      <td>USADO</td>\n",
              "      <td>Motor 3.0 32v</td>\n",
              "      <td>Ano 2018 - 83.447 km</td>\n",
              "      <td>Belo Horizonte - MG</td>\n",
              "      <td>[Câmera de estacionamento, Controle de estabil...</td>\n",
              "      <td>NaN</td>\n",
              "    </tr>\n",
              "    <tr>\n",
              "      <th>2</th>\n",
              "      <td>R$ 480.000</td>\n",
              "      <td>ALFA</td>\n",
              "      <td>USADO</td>\n",
              "      <td>Motor 1.8 16v</td>\n",
              "      <td>Ano 2004 - 19.722 km</td>\n",
              "      <td>Rio de Janeiro - RJ</td>\n",
              "      <td>[Central multimídia, Bancos de couro, Rodas de...</td>\n",
              "      <td>NaN</td>\n",
              "    </tr>\n",
              "    <tr>\n",
              "      <th>3</th>\n",
              "      <td>R$ 133.000</td>\n",
              "      <td>PUECH</td>\n",
              "      <td>USADO</td>\n",
              "      <td>Motor Diesel V8</td>\n",
              "      <td>Ano 1992 - 34.335 km</td>\n",
              "      <td>São Paulo - SP</td>\n",
              "      <td>[Bancos de couro, Freios ABS, Rodas de liga, C...</td>\n",
              "      <td>NaN</td>\n",
              "    </tr>\n",
              "    <tr>\n",
              "      <th>4</th>\n",
              "      <td>R$ 175.000</td>\n",
              "      <td>LAMBORGHINI MURCIELAGO</td>\n",
              "      <td>USADO</td>\n",
              "      <td>Motor 1.0 8v</td>\n",
              "      <td>Ano 1991 - 464 km</td>\n",
              "      <td>Belo Horizonte - MG</td>\n",
              "      <td>[Central multimídia, Teto panorâmico, Sensor c...</td>\n",
              "      <td>NaN</td>\n",
              "    </tr>\n",
              "    <tr>\n",
              "      <th>...</th>\n",
              "      <td>...</td>\n",
              "      <td>...</td>\n",
              "      <td>...</td>\n",
              "      <td>...</td>\n",
              "      <td>...</td>\n",
              "      <td>...</td>\n",
              "      <td>...</td>\n",
              "      <td>...</td>\n",
              "    </tr>\n",
              "    <tr>\n",
              "      <th>241</th>\n",
              "      <td>R$ 489.000</td>\n",
              "      <td>SUV REAR TIRE</td>\n",
              "      <td>USADO</td>\n",
              "      <td>Motor 3.0 32v</td>\n",
              "      <td>Ano 1998 - 74.292 km</td>\n",
              "      <td>São Paulo - SP</td>\n",
              "      <td>[Câmera de estacionamento, Rodas de liga, Sens...</td>\n",
              "      <td>NaN</td>\n",
              "    </tr>\n",
              "    <tr>\n",
              "      <th>242</th>\n",
              "      <td>R$ 427.000</td>\n",
              "      <td>ANTIQUE</td>\n",
              "      <td>NOVO</td>\n",
              "      <td>Motor 2.0 16v</td>\n",
              "      <td>Ano 2019 - 0 km</td>\n",
              "      <td>Belo Horizonte - MG</td>\n",
              "      <td>[Bancos de couro, Freios ABS, Sensor de estaci...</td>\n",
              "      <td>NaN</td>\n",
              "    </tr>\n",
              "    <tr>\n",
              "      <th>243</th>\n",
              "      <td>R$ 203.000</td>\n",
              "      <td>SPORT</td>\n",
              "      <td>USADO</td>\n",
              "      <td>Motor 2.0 16v</td>\n",
              "      <td>Ano 2001 - 102.776 km</td>\n",
              "      <td>Belo Horizonte - MG</td>\n",
              "      <td>[Sensor crepuscular, Sensor de chuva, Vidros e...</td>\n",
              "      <td>NaN</td>\n",
              "    </tr>\n",
              "    <tr>\n",
              "      <th>244</th>\n",
              "      <td>R$ 474.000</td>\n",
              "      <td>IMPERIAL</td>\n",
              "      <td>USADO</td>\n",
              "      <td>Motor 1.8 16v</td>\n",
              "      <td>Ano 2011 - 101.787 km</td>\n",
              "      <td>Belo Horizonte - MG</td>\n",
              "      <td>[Painel digital, Travas elétricas, Sensor de c...</td>\n",
              "      <td>OPORTUNIDADE</td>\n",
              "    </tr>\n",
              "    <tr>\n",
              "      <th>245</th>\n",
              "      <td>R$ 366.000</td>\n",
              "      <td>KIA SPORTS CAR</td>\n",
              "      <td>USADO</td>\n",
              "      <td>Motor 3.0 32v</td>\n",
              "      <td>Ano 2001 - 88.564 km</td>\n",
              "      <td>Belo Horizonte - MG</td>\n",
              "      <td>[Sensor crepuscular, Bancos de couro, Sensor d...</td>\n",
              "      <td>NaN</td>\n",
              "    </tr>\n",
              "  </tbody>\n",
              "</table>\n",
              "<p>246 rows × 8 columns</p>\n",
              "</div>\n",
              "      <button class=\"colab-df-convert\" onclick=\"convertToInteractive('df-06ada23a-8f02-412c-afc9-1214252b7bdd')\"\n",
              "              title=\"Convert this dataframe to an interactive table.\"\n",
              "              style=\"display:none;\">\n",
              "        \n",
              "  <svg xmlns=\"http://www.w3.org/2000/svg\" height=\"24px\"viewBox=\"0 0 24 24\"\n",
              "       width=\"24px\">\n",
              "    <path d=\"M0 0h24v24H0V0z\" fill=\"none\"/>\n",
              "    <path d=\"M18.56 5.44l.94 2.06.94-2.06 2.06-.94-2.06-.94-.94-2.06-.94 2.06-2.06.94zm-11 1L8.5 8.5l.94-2.06 2.06-.94-2.06-.94L8.5 2.5l-.94 2.06-2.06.94zm10 10l.94 2.06.94-2.06 2.06-.94-2.06-.94-.94-2.06-.94 2.06-2.06.94z\"/><path d=\"M17.41 7.96l-1.37-1.37c-.4-.4-.92-.59-1.43-.59-.52 0-1.04.2-1.43.59L10.3 9.45l-7.72 7.72c-.78.78-.78 2.05 0 2.83L4 21.41c.39.39.9.59 1.41.59.51 0 1.02-.2 1.41-.59l7.78-7.78 2.81-2.81c.8-.78.8-2.07 0-2.86zM5.41 20L4 18.59l7.72-7.72 1.47 1.35L5.41 20z\"/>\n",
              "  </svg>\n",
              "      </button>\n",
              "      \n",
              "  <style>\n",
              "    .colab-df-container {\n",
              "      display:flex;\n",
              "      flex-wrap:wrap;\n",
              "      gap: 12px;\n",
              "    }\n",
              "\n",
              "    .colab-df-convert {\n",
              "      background-color: #E8F0FE;\n",
              "      border: none;\n",
              "      border-radius: 50%;\n",
              "      cursor: pointer;\n",
              "      display: none;\n",
              "      fill: #1967D2;\n",
              "      height: 32px;\n",
              "      padding: 0 0 0 0;\n",
              "      width: 32px;\n",
              "    }\n",
              "\n",
              "    .colab-df-convert:hover {\n",
              "      background-color: #E2EBFA;\n",
              "      box-shadow: 0px 1px 2px rgba(60, 64, 67, 0.3), 0px 1px 3px 1px rgba(60, 64, 67, 0.15);\n",
              "      fill: #174EA6;\n",
              "    }\n",
              "\n",
              "    [theme=dark] .colab-df-convert {\n",
              "      background-color: #3B4455;\n",
              "      fill: #D2E3FC;\n",
              "    }\n",
              "\n",
              "    [theme=dark] .colab-df-convert:hover {\n",
              "      background-color: #434B5C;\n",
              "      box-shadow: 0px 1px 3px 1px rgba(0, 0, 0, 0.15);\n",
              "      filter: drop-shadow(0px 1px 2px rgba(0, 0, 0, 0.3));\n",
              "      fill: #FFFFFF;\n",
              "    }\n",
              "  </style>\n",
              "\n",
              "      <script>\n",
              "        const buttonEl =\n",
              "          document.querySelector('#df-06ada23a-8f02-412c-afc9-1214252b7bdd button.colab-df-convert');\n",
              "        buttonEl.style.display =\n",
              "          google.colab.kernel.accessAllowed ? 'block' : 'none';\n",
              "\n",
              "        async function convertToInteractive(key) {\n",
              "          const element = document.querySelector('#df-06ada23a-8f02-412c-afc9-1214252b7bdd');\n",
              "          const dataTable =\n",
              "            await google.colab.kernel.invokeFunction('convertToInteractive',\n",
              "                                                     [key], {});\n",
              "          if (!dataTable) return;\n",
              "\n",
              "          const docLinkHtml = 'Like what you see? Visit the ' +\n",
              "            '<a target=\"_blank\" href=https://colab.research.google.com/notebooks/data_table.ipynb>data table notebook</a>'\n",
              "            + ' to learn more about interactive tables.';\n",
              "          element.innerHTML = '';\n",
              "          dataTable['output_type'] = 'display_data';\n",
              "          await google.colab.output.renderOutput(dataTable, element);\n",
              "          const docLink = document.createElement('div');\n",
              "          docLink.innerHTML = docLinkHtml;\n",
              "          element.appendChild(docLink);\n",
              "        }\n",
              "      </script>\n",
              "    </div>\n",
              "  </div>\n",
              "  "
            ],
            "text/plain": [
              "          value  ...   opportunity\n",
              "0    R$ 338.000  ...           NaN\n",
              "1    R$ 346.000  ...           NaN\n",
              "2    R$ 480.000  ...           NaN\n",
              "3    R$ 133.000  ...           NaN\n",
              "4    R$ 175.000  ...           NaN\n",
              "..          ...  ...           ...\n",
              "241  R$ 489.000  ...           NaN\n",
              "242  R$ 427.000  ...           NaN\n",
              "243  R$ 203.000  ...           NaN\n",
              "244  R$ 474.000  ...  OPORTUNIDADE\n",
              "245  R$ 366.000  ...           NaN\n",
              "\n",
              "[246 rows x 8 columns]"
            ]
          },
          "metadata": {},
          "execution_count": 137
        }
      ]
    }
  ]
}